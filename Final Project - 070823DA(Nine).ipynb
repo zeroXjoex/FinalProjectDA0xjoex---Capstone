{
 "cells": [
  {
   "cell_type": "code",
   "execution_count": 1,
   "id": "026f3bcc",
   "metadata": {},
   "outputs": [],
   "source": [
    "#pip install beautifulsoup4"
   ]
  },
  {
   "cell_type": "code",
   "execution_count": 2,
   "id": "1526ebf1",
   "metadata": {},
   "outputs": [],
   "source": [
    "#pip install requests"
   ]
  },
  {
   "cell_type": "code",
   "execution_count": 3,
   "id": "e12fc615",
   "metadata": {},
   "outputs": [
    {
     "ename": "IndentationError",
     "evalue": "unexpected indent (3872864214.py, line 7)",
     "output_type": "error",
     "traceback": [
      "\u001b[0;36m  Input \u001b[0;32mIn [3]\u001b[0;36m\u001b[0m\n\u001b[0;31m    url = \"https://www.amazon.com/s?k=Electronics\"\u001b[0m\n\u001b[0m    ^\u001b[0m\n\u001b[0;31mIndentationError\u001b[0m\u001b[0;31m:\u001b[0m unexpected indent\n"
     ]
    }
   ],
   "source": [
    "import requests\n",
    "from bs4 import BeautifulSoup\n",
    "import csv\n",
    "import time\n",
    "\n",
    "#def scrape_amazon_Electronics_reviews():\n",
    "    url = \"https://www.amazon.com/s?k=Electronics\"  \n",
    "    headers = {\n",
    "        \"User-Agent\": \"Mozilla/5.0 (Windows NT 10.0; Win64; x64) AppleWebKit/537.36 (KHTML, like Gecko) Chrome/58.0.3029.110 Safari/537.3\"}\n",
    "    \n",
    "    response = requests.get(url, headers=headers)\n",
    "    \n",
    "    #if response.status_code == 200:\n",
    "        soup = BeautifulSoup(response.content, \"html.parser\")\n",
    "        product_links = []\n",
    "        \n",
    "        #for product in soup.find_all(\"div\", class_=\"sg-col-inner\"):\n",
    "            link = product.find(\"a\", class_=\"a-link-normal\")\n",
    "            #if link:\n",
    "                product_links.append(\"https://www.amazon.com\" + link['href'])\n",
    "        \n",
    "        #with open(\"Electronics_reviews.csv\", \"w\", newline=\"\", encoding=\"utf-8\") as csvfile:\n",
    "            writer = csv.writer(csvfile)\n",
    "            writer.writerow([\"Rating\", \"Comment\"])\n",
    "            \n",
    "            #for link in product_links:\n",
    "                response = requests.get(link, headers=headers)\n",
    "                #if response.status_code == 200:\n",
    "                    soup = BeautifulSoup(response.content, \"html.parser\")\n",
    "                    product_title = soup.find(\"span\", class_=\"a-size-large product-title-word-break\").text.strip()\n",
    "                    \n",
    "                    review_section = soup.find(\"div\", {\"data-hook\": \"reviews-collapsed\"})\n",
    "                    #if review_section:\n",
    "                        reviews = review_section.find_all(\"span\", {\"data-hook\": \"review-body\"})\n",
    "                        #for review in reviews:\n",
    "                            rating = review.find_previous(\"i\").text.strip()  \n",
    "                            comment = review.text.strip()  # Get the comment text\n",
    "                            writer.writerow([rating, comment])\n",
    "                            \n",
    "                            # Introduce a delay to avoid overwhelming the server\n",
    "                            time.sleep(2)  \n",
    "                #else:\n",
    "                    print(f\"Failed to scrape {link}. Status code: {response.status_code}\")\n",
    "                    # Retry the request after waiting for a while\n",
    "                    time.sleep(10)  \n",
    "    #else:\n",
    "        print(f\"Failed to access the URL. Status code: {response.status_code}\")\n",
    "\n",
    "\n",
    "#if __name__ == \"__main__\":\n",
    "    scrape_amazon_Electronics()"
   ]
  },
  {
   "cell_type": "markdown",
   "id": "9333047d",
   "metadata": {},
   "source": [
    "The aboce code can be used to scrap data, but amazon and almost all platforms have restricted it, so i got in touch with stanford where they had amazon electronics dataset and they mailed it to me "
   ]
  },
  {
   "cell_type": "markdown",
   "id": "752ccafc",
   "metadata": {},
   "source": [
    "### Reading Json File"
   ]
  },
  {
   "cell_type": "code",
   "execution_count": null,
   "id": "cb243004",
   "metadata": {},
   "outputs": [],
   "source": [
    "#import json\n",
    "#import os\n",
    "\n",
    "\n",
    "file_path = os.path.expanduser(\"~/Desktop/Final Project/Electronics.json\")\n",
    "\n",
    "#def stream_json_data(file_path):\n",
    "    #with open(file_path, \"r\") as json_file:\n",
    "        #for line_number, line in enumerate(json_file, start=1):\n",
    "            #try:\n",
    "                data = json.loads(line)\n",
    "                #yield data\n",
    "            #except json.JSONDecodeError:\n",
    "                print(f\"Error parsing line {line_number}: {line}\")\n",
    "\n",
    "#for index, item in enumerate(stream_json_data(file_path), start=1):\n",
    "    print(f\"Row {index}: {item}\")\n",
    "    #if index == 20:\n",
    "        #break"
   ]
  },
  {
   "cell_type": "markdown",
   "id": "13ba55b8",
   "metadata": {},
   "source": [
    "### Converting it into Excel File"
   ]
  },
  {
   "cell_type": "code",
   "execution_count": null,
   "id": "d8476dd2",
   "metadata": {},
   "outputs": [],
   "source": [
    "#import os\n",
    "#import json\n",
    "#import pandas as pd\n",
    "#from itertools import islice\n",
    "\n",
    "file_path = os.path.expanduser(\"~/Desktop/Final Project/Electronics.json\")\n",
    "\n",
    "chunk_size = 1000\n",
    "\n",
    "json_directory = os.path.dirname(file_path)\n",
    "\n",
    "output_file_path = os.path.join(json_directory, \"Electronics.xlsx\")\n",
    "\n",
    "excel_writer = pd.ExcelWriter(output_file_path, engine=\"xlsxwriter\")\n",
    "\n",
    "row_counter = 0\n",
    "\n",
    "#with open(file_path, \"r\") as json_file:\n",
    "    #while True:\n",
    "        data_chunk = list(islice(json_file, chunk_size))\n",
    "        #if not data_chunk:\n",
    "            #break\n",
    "\n",
    "        df_chunk = pd.DataFrame([json.loads(line) for line in data_chunk])\n",
    "\n",
    "        df_chunk.to_excel(excel_writer, sheet_name=\"Sheet1\", index=False, startrow=row_counter)\n",
    "\n",
    "        row_counter += len(df_chunk)\n",
    "\n",
    "excel_writer.save()\n",
    "\n",
    "#print(\"Data saved to Excel file:\", output_file_path)"
   ]
  },
  {
   "cell_type": "code",
   "execution_count": 2,
   "id": "d33c45b8",
   "metadata": {},
   "outputs": [
    {
     "name": "stdout",
     "output_type": "stream",
     "text": [
      "  overall verified   reviewTime      reviewerID        asin  \\\n",
      "0       5     True  07 17, 2002  A1N070NS9CJQ2I  0060009810   \n",
      "1       5    False   07 6, 2002  A3P0KRKOBQK1KN  0060009810   \n",
      "2       5    False   07 3, 2002  A192HO2ICJ75VU  0060009810   \n",
      "3       4    False  06 30, 2002  A2T278FKFL3BLT  0060009810   \n",
      "4       5    False  06 28, 2002  A2ZUXVTW8RXBXW  0060009810   \n",
      "\n",
      "                       style reviewerName  \\\n",
      "0  {'Format:': ' Hardcover'}   Teri Adams   \n",
      "1  {'Format:': ' Hardcover'}     Willa C.   \n",
      "2  {'Format:': ' Hardcover'}          Kit   \n",
      "3  {'Format:': ' Hardcover'}       Andres   \n",
      "4  {'Format:': ' Hardcover'}         John   \n",
      "\n",
      "                                          reviewText  \\\n",
      "0  This was the first time I read Garcia-Aguilera...   \n",
      "1  As with all of Ms. Garcia-Aguilera's books, I ...   \n",
      "2  I've not read any of Ms Aguilera's works befor...   \n",
      "3  This romance novel is right up there with the ...   \n",
      "4  Carolina Garcia Aguilera has done it again.  S...   \n",
      "\n",
      "                          summary unixReviewTime vote image  \n",
      "0                   Hit The Spot!     1026864000  NaN   NaN  \n",
      "1  one hot summer is HOT HOT HOT!     1025913600  NaN   NaN  \n",
      "2                  One Hot Summer     1025654400    2   NaN  \n",
      "3               I love this book!     1025395200    3   NaN  \n",
      "4                    One Hot Book     1025222400  NaN   NaN  \n"
     ]
    }
   ],
   "source": [
    "import pandas as pd\n",
    "import os\n",
    "\n",
    "file_path = \"/home/xjoex/Desktop/Electronics.xlsx\"\n",
    "\n",
    "df = pd.read_excel(file_path)\n",
    "\n",
    "print(df.head())"
   ]
  },
  {
   "cell_type": "code",
   "execution_count": 3,
   "id": "b39974e8",
   "metadata": {},
   "outputs": [
    {
     "name": "stdout",
     "output_type": "stream",
     "text": [
      "Shape of the dataset: (1048575, 12)\n"
     ]
    }
   ],
   "source": [
    "print(\"Shape of the dataset:\", df.shape)"
   ]
  },
  {
   "cell_type": "code",
   "execution_count": 4,
   "id": "1d45590f",
   "metadata": {},
   "outputs": [
    {
     "name": "stdout",
     "output_type": "stream",
     "text": [
      "\n",
      "Basic Information:\n",
      "<class 'pandas.core.frame.DataFrame'>\n",
      "RangeIndex: 1048575 entries, 0 to 1048574\n",
      "Data columns (total 12 columns):\n",
      " #   Column          Non-Null Count    Dtype \n",
      "---  ------          --------------    ----- \n",
      " 0   overall         1035845 non-null  object\n",
      " 1   verified        887548 non-null   object\n",
      " 2   reviewTime      1042266 non-null  object\n",
      " 3   reviewerID      1048575 non-null  object\n",
      " 4   asin            1047571 non-null  object\n",
      " 5   style           902959 non-null   object\n",
      " 6   reviewerName    1013386 non-null  object\n",
      " 7   reviewText      1046804 non-null  object\n",
      " 8   summary         1048484 non-null  object\n",
      " 9   unixReviewTime  799614 non-null   object\n",
      " 10  vote            275785 non-null   object\n",
      " 11  image           72538 non-null    object\n",
      "dtypes: object(12)\n",
      "memory usage: 96.0+ MB\n",
      "None\n"
     ]
    }
   ],
   "source": [
    "print(\"\\nBasic Information:\")\n",
    "print(df.info())"
   ]
  },
  {
   "cell_type": "code",
   "execution_count": 5,
   "id": "bfd60f1e",
   "metadata": {},
   "outputs": [
    {
     "name": "stdout",
     "output_type": "stream",
     "text": [
      "\n",
      "Summary Statistics:\n",
      "        overall verified reviewTime reviewerID        asin  \\\n",
      "count   1035845   887548    1042266    1048575     1047571   \n",
      "unique    39424      977      39728     638976      267167   \n",
      "top           5     True       True       True  B000BQ7GW8   \n",
      "freq     598079   596838     161443      42032       13755   \n",
      "\n",
      "                                           style     reviewerName  reviewText  \\\n",
      "count                                     902959          1013386     1046804   \n",
      "unique                                    228626           669843      836949   \n",
      "top     {'Package Type:': ' Standard Packaging'}  Amazon Customer  Five Stars   \n",
      "freq                                       33969            26733       38232   \n",
      "\n",
      "           summary unixReviewTime    vote  \\\n",
      "count      1048484         799614  275785   \n",
      "unique      447538          72620   14412   \n",
      "top     Five Stars              2       2   \n",
      "freq         79448          16755   25023   \n",
      "\n",
      "                                           image  \n",
      "count                                      72538  \n",
      "unique                                      9546  \n",
      "top     {'Package Type:': ' Standard Packaging'}  \n",
      "freq                                        9784  \n"
     ]
    }
   ],
   "source": [
    "print(\"\\nSummary Statistics:\")\n",
    "print(df.describe())"
   ]
  },
  {
   "cell_type": "code",
   "execution_count": 6,
   "id": "3e2a9991",
   "metadata": {},
   "outputs": [
    {
     "data": {
      "text/html": [
       "<div>\n",
       "<style scoped>\n",
       "    .dataframe tbody tr th:only-of-type {\n",
       "        vertical-align: middle;\n",
       "    }\n",
       "\n",
       "    .dataframe tbody tr th {\n",
       "        vertical-align: top;\n",
       "    }\n",
       "\n",
       "    .dataframe thead th {\n",
       "        text-align: right;\n",
       "    }\n",
       "</style>\n",
       "<table border=\"1\" class=\"dataframe\">\n",
       "  <thead>\n",
       "    <tr style=\"text-align: right;\">\n",
       "      <th></th>\n",
       "      <th>overall</th>\n",
       "      <th>verified</th>\n",
       "      <th>reviewTime</th>\n",
       "      <th>reviewerID</th>\n",
       "      <th>asin</th>\n",
       "      <th>style</th>\n",
       "      <th>reviewerName</th>\n",
       "      <th>reviewText</th>\n",
       "      <th>summary</th>\n",
       "      <th>unixReviewTime</th>\n",
       "      <th>vote</th>\n",
       "      <th>image</th>\n",
       "    </tr>\n",
       "  </thead>\n",
       "  <tbody>\n",
       "    <tr>\n",
       "      <th>0</th>\n",
       "      <td>5</td>\n",
       "      <td>True</td>\n",
       "      <td>07 17, 2002</td>\n",
       "      <td>A1N070NS9CJQ2I</td>\n",
       "      <td>0060009810</td>\n",
       "      <td>{'Format:': ' Hardcover'}</td>\n",
       "      <td>Teri Adams</td>\n",
       "      <td>This was the first time I read Garcia-Aguilera...</td>\n",
       "      <td>Hit The Spot!</td>\n",
       "      <td>1026864000</td>\n",
       "      <td>NaN</td>\n",
       "      <td>NaN</td>\n",
       "    </tr>\n",
       "    <tr>\n",
       "      <th>1</th>\n",
       "      <td>5</td>\n",
       "      <td>False</td>\n",
       "      <td>07 6, 2002</td>\n",
       "      <td>A3P0KRKOBQK1KN</td>\n",
       "      <td>0060009810</td>\n",
       "      <td>{'Format:': ' Hardcover'}</td>\n",
       "      <td>Willa C.</td>\n",
       "      <td>As with all of Ms. Garcia-Aguilera's books, I ...</td>\n",
       "      <td>one hot summer is HOT HOT HOT!</td>\n",
       "      <td>1025913600</td>\n",
       "      <td>NaN</td>\n",
       "      <td>NaN</td>\n",
       "    </tr>\n",
       "    <tr>\n",
       "      <th>2</th>\n",
       "      <td>5</td>\n",
       "      <td>False</td>\n",
       "      <td>07 3, 2002</td>\n",
       "      <td>A192HO2ICJ75VU</td>\n",
       "      <td>0060009810</td>\n",
       "      <td>{'Format:': ' Hardcover'}</td>\n",
       "      <td>Kit</td>\n",
       "      <td>I've not read any of Ms Aguilera's works befor...</td>\n",
       "      <td>One Hot Summer</td>\n",
       "      <td>1025654400</td>\n",
       "      <td>2</td>\n",
       "      <td>NaN</td>\n",
       "    </tr>\n",
       "    <tr>\n",
       "      <th>3</th>\n",
       "      <td>4</td>\n",
       "      <td>False</td>\n",
       "      <td>06 30, 2002</td>\n",
       "      <td>A2T278FKFL3BLT</td>\n",
       "      <td>0060009810</td>\n",
       "      <td>{'Format:': ' Hardcover'}</td>\n",
       "      <td>Andres</td>\n",
       "      <td>This romance novel is right up there with the ...</td>\n",
       "      <td>I love this book!</td>\n",
       "      <td>1025395200</td>\n",
       "      <td>3</td>\n",
       "      <td>NaN</td>\n",
       "    </tr>\n",
       "    <tr>\n",
       "      <th>4</th>\n",
       "      <td>5</td>\n",
       "      <td>False</td>\n",
       "      <td>06 28, 2002</td>\n",
       "      <td>A2ZUXVTW8RXBXW</td>\n",
       "      <td>0060009810</td>\n",
       "      <td>{'Format:': ' Hardcover'}</td>\n",
       "      <td>John</td>\n",
       "      <td>Carolina Garcia Aguilera has done it again.  S...</td>\n",
       "      <td>One Hot Book</td>\n",
       "      <td>1025222400</td>\n",
       "      <td>NaN</td>\n",
       "      <td>NaN</td>\n",
       "    </tr>\n",
       "    <tr>\n",
       "      <th>5</th>\n",
       "      <td>4</td>\n",
       "      <td>False</td>\n",
       "      <td>06 25, 2002</td>\n",
       "      <td>A21JDG4HA6OLPF</td>\n",
       "      <td>0060009810</td>\n",
       "      <td>{'Format:': ' Hardcover'}</td>\n",
       "      <td>Mari</td>\n",
       "      <td>Not only can she write mysteries,but she sure ...</td>\n",
       "      <td>Carolina does it again!</td>\n",
       "      <td>1024963200</td>\n",
       "      <td>2</td>\n",
       "      <td>NaN</td>\n",
       "    </tr>\n",
       "    <tr>\n",
       "      <th>6</th>\n",
       "      <td>5</td>\n",
       "      <td>False</td>\n",
       "      <td>06 22, 2002</td>\n",
       "      <td>A2NCADLQY962YD</td>\n",
       "      <td>0060009810</td>\n",
       "      <td>{'Format:': ' Hardcover'}</td>\n",
       "      <td>Amazon Customer</td>\n",
       "      <td>Once again Garcia-Aguilera has written a book ...</td>\n",
       "      <td>It's no mystery, Garcia-Aguilera can do romance</td>\n",
       "      <td>1024704000</td>\n",
       "      <td>4</td>\n",
       "      <td>NaN</td>\n",
       "    </tr>\n",
       "    <tr>\n",
       "      <th>7</th>\n",
       "      <td>5</td>\n",
       "      <td>False</td>\n",
       "      <td>01 26, 2006</td>\n",
       "      <td>A2UNA438B0FRA8</td>\n",
       "      <td>0060786817</td>\n",
       "      <td>{'Format:': ' Hardcover'}</td>\n",
       "      <td>J. Belfield</td>\n",
       "      <td>The timing is just right for a good book. Actu...</td>\n",
       "      <td>A breath of fresh air for reading</td>\n",
       "      <td>1138233600</td>\n",
       "      <td>NaN</td>\n",
       "      <td>NaN</td>\n",
       "    </tr>\n",
       "    <tr>\n",
       "      <th>8</th>\n",
       "      <td>5</td>\n",
       "      <td>False</td>\n",
       "      <td>01 21, 2006</td>\n",
       "      <td>A2NQQSHSQKKGEX</td>\n",
       "      <td>0060786817</td>\n",
       "      <td>{'Format:': ' Hardcover'}</td>\n",
       "      <td>E. D. Davis</td>\n",
       "      <td>Engaging. Dark. Reading the book you could alm...</td>\n",
       "      <td>Well written page turner with fully develped c...</td>\n",
       "      <td>1137801600</td>\n",
       "      <td>4</td>\n",
       "      <td>NaN</td>\n",
       "    </tr>\n",
       "    <tr>\n",
       "      <th>9</th>\n",
       "      <td>3</td>\n",
       "      <td>False</td>\n",
       "      <td>01 18, 2006</td>\n",
       "      <td>A5EXND10WD4PM</td>\n",
       "      <td>0060786817</td>\n",
       "      <td>{'Format:': ' Hardcover'}</td>\n",
       "      <td>Mocha Girl</td>\n",
       "      <td>Set amid the backdrop of New York City's imper...</td>\n",
       "      <td>The Title Tells The Story!</td>\n",
       "      <td>1137542400</td>\n",
       "      <td>7</td>\n",
       "      <td>NaN</td>\n",
       "    </tr>\n",
       "    <tr>\n",
       "      <th>10</th>\n",
       "      <td>5</td>\n",
       "      <td>False</td>\n",
       "      <td>01 18, 2006</td>\n",
       "      <td>AVJ37XQN3ID16</td>\n",
       "      <td>0060786817</td>\n",
       "      <td>{'Format:': ' Hardcover'}</td>\n",
       "      <td>Kirsten A. Bischoff</td>\n",
       "      <td>A guilty pleasure of a book with characters so...</td>\n",
       "      <td>So much fun</td>\n",
       "      <td>1137542400</td>\n",
       "      <td>NaN</td>\n",
       "      <td>NaN</td>\n",
       "    </tr>\n",
       "    <tr>\n",
       "      <th>11</th>\n",
       "      <td>4</td>\n",
       "      <td>False</td>\n",
       "      <td>01 10, 2006</td>\n",
       "      <td>A21NVBFIEQWDSG</td>\n",
       "      <td>0060786817</td>\n",
       "      <td>{'Format:': ' Hardcover'}</td>\n",
       "      <td>Armchair Interviews</td>\n",
       "      <td>I'd never before read a Lolita Files' book, an...</td>\n",
       "      <td>Delightfully wicked!</td>\n",
       "      <td>1136851200</td>\n",
       "      <td>3</td>\n",
       "      <td>NaN</td>\n",
       "    </tr>\n",
       "    <tr>\n",
       "      <th>12</th>\n",
       "      <td>5</td>\n",
       "      <td>False</td>\n",
       "      <td>10 9, 2008</td>\n",
       "      <td>A1KWVR13XUOGQG</td>\n",
       "      <td>0060786817</td>\n",
       "      <td>{'Format:': ' Hardcover'}</td>\n",
       "      <td>Lawence A. White</td>\n",
       "      <td>Wow, I was totally blown away by this book.  J...</td>\n",
       "      <td>Lolita Files Does It Again</td>\n",
       "      <td>1223510400</td>\n",
       "      <td>NaN</td>\n",
       "      <td>NaN</td>\n",
       "    </tr>\n",
       "    <tr>\n",
       "      <th>13</th>\n",
       "      <td>4</td>\n",
       "      <td>False</td>\n",
       "      <td>04 24, 2008</td>\n",
       "      <td>A2PH70X2FVDDGH</td>\n",
       "      <td>0060786817</td>\n",
       "      <td>{'Format:': ' Hardcover'}</td>\n",
       "      <td>Book Princess</td>\n",
       "      <td>Lolita Files is one of my favorite authors. Sh...</td>\n",
       "      <td>A superb storyteller</td>\n",
       "      <td>1208995200</td>\n",
       "      <td>NaN</td>\n",
       "      <td>NaN</td>\n",
       "    </tr>\n",
       "    <tr>\n",
       "      <th>14</th>\n",
       "      <td>3</td>\n",
       "      <td>False</td>\n",
       "      <td>08 16, 2007</td>\n",
       "      <td>A25R6KND6KDDCU</td>\n",
       "      <td>0060786817</td>\n",
       "      <td>{'Format:': ' Hardcover'}</td>\n",
       "      <td>S. L. Jackson</td>\n",
       "      <td>This book is...I don't even know what to call ...</td>\n",
       "      <td>Crazy, Just Crazy</td>\n",
       "      <td>1187222400</td>\n",
       "      <td>NaN</td>\n",
       "      <td>NaN</td>\n",
       "    </tr>\n",
       "  </tbody>\n",
       "</table>\n",
       "</div>"
      ],
      "text/plain": [
       "   overall verified   reviewTime      reviewerID        asin  \\\n",
       "0        5     True  07 17, 2002  A1N070NS9CJQ2I  0060009810   \n",
       "1        5    False   07 6, 2002  A3P0KRKOBQK1KN  0060009810   \n",
       "2        5    False   07 3, 2002  A192HO2ICJ75VU  0060009810   \n",
       "3        4    False  06 30, 2002  A2T278FKFL3BLT  0060009810   \n",
       "4        5    False  06 28, 2002  A2ZUXVTW8RXBXW  0060009810   \n",
       "5        4    False  06 25, 2002  A21JDG4HA6OLPF  0060009810   \n",
       "6        5    False  06 22, 2002  A2NCADLQY962YD  0060009810   \n",
       "7        5    False  01 26, 2006  A2UNA438B0FRA8  0060786817   \n",
       "8        5    False  01 21, 2006  A2NQQSHSQKKGEX  0060786817   \n",
       "9        3    False  01 18, 2006   A5EXND10WD4PM  0060786817   \n",
       "10       5    False  01 18, 2006   AVJ37XQN3ID16  0060786817   \n",
       "11       4    False  01 10, 2006  A21NVBFIEQWDSG  0060786817   \n",
       "12       5    False   10 9, 2008  A1KWVR13XUOGQG  0060786817   \n",
       "13       4    False  04 24, 2008  A2PH70X2FVDDGH  0060786817   \n",
       "14       3    False  08 16, 2007  A25R6KND6KDDCU  0060786817   \n",
       "\n",
       "                        style         reviewerName  \\\n",
       "0   {'Format:': ' Hardcover'}           Teri Adams   \n",
       "1   {'Format:': ' Hardcover'}             Willa C.   \n",
       "2   {'Format:': ' Hardcover'}                  Kit   \n",
       "3   {'Format:': ' Hardcover'}               Andres   \n",
       "4   {'Format:': ' Hardcover'}                 John   \n",
       "5   {'Format:': ' Hardcover'}                 Mari   \n",
       "6   {'Format:': ' Hardcover'}      Amazon Customer   \n",
       "7   {'Format:': ' Hardcover'}          J. Belfield   \n",
       "8   {'Format:': ' Hardcover'}          E. D. Davis   \n",
       "9   {'Format:': ' Hardcover'}           Mocha Girl   \n",
       "10  {'Format:': ' Hardcover'}  Kirsten A. Bischoff   \n",
       "11  {'Format:': ' Hardcover'}  Armchair Interviews   \n",
       "12  {'Format:': ' Hardcover'}     Lawence A. White   \n",
       "13  {'Format:': ' Hardcover'}        Book Princess   \n",
       "14  {'Format:': ' Hardcover'}        S. L. Jackson   \n",
       "\n",
       "                                           reviewText  \\\n",
       "0   This was the first time I read Garcia-Aguilera...   \n",
       "1   As with all of Ms. Garcia-Aguilera's books, I ...   \n",
       "2   I've not read any of Ms Aguilera's works befor...   \n",
       "3   This romance novel is right up there with the ...   \n",
       "4   Carolina Garcia Aguilera has done it again.  S...   \n",
       "5   Not only can she write mysteries,but she sure ...   \n",
       "6   Once again Garcia-Aguilera has written a book ...   \n",
       "7   The timing is just right for a good book. Actu...   \n",
       "8   Engaging. Dark. Reading the book you could alm...   \n",
       "9   Set amid the backdrop of New York City's imper...   \n",
       "10  A guilty pleasure of a book with characters so...   \n",
       "11  I'd never before read a Lolita Files' book, an...   \n",
       "12  Wow, I was totally blown away by this book.  J...   \n",
       "13  Lolita Files is one of my favorite authors. Sh...   \n",
       "14  This book is...I don't even know what to call ...   \n",
       "\n",
       "                                              summary unixReviewTime vote  \\\n",
       "0                                       Hit The Spot!     1026864000  NaN   \n",
       "1                      one hot summer is HOT HOT HOT!     1025913600  NaN   \n",
       "2                                      One Hot Summer     1025654400    2   \n",
       "3                                   I love this book!     1025395200    3   \n",
       "4                                        One Hot Book     1025222400  NaN   \n",
       "5                             Carolina does it again!     1024963200    2   \n",
       "6     It's no mystery, Garcia-Aguilera can do romance     1024704000    4   \n",
       "7                   A breath of fresh air for reading     1138233600  NaN   \n",
       "8   Well written page turner with fully develped c...     1137801600    4   \n",
       "9                          The Title Tells The Story!     1137542400    7   \n",
       "10                                        So much fun     1137542400  NaN   \n",
       "11                               Delightfully wicked!     1136851200    3   \n",
       "12                         Lolita Files Does It Again     1223510400  NaN   \n",
       "13                               A superb storyteller     1208995200  NaN   \n",
       "14                                  Crazy, Just Crazy     1187222400  NaN   \n",
       "\n",
       "   image  \n",
       "0    NaN  \n",
       "1    NaN  \n",
       "2    NaN  \n",
       "3    NaN  \n",
       "4    NaN  \n",
       "5    NaN  \n",
       "6    NaN  \n",
       "7    NaN  \n",
       "8    NaN  \n",
       "9    NaN  \n",
       "10   NaN  \n",
       "11   NaN  \n",
       "12   NaN  \n",
       "13   NaN  \n",
       "14   NaN  "
      ]
     },
     "execution_count": 6,
     "metadata": {},
     "output_type": "execute_result"
    }
   ],
   "source": [
    "df.head(15)"
   ]
  },
  {
   "cell_type": "code",
   "execution_count": 7,
   "id": "33a3c30a",
   "metadata": {},
   "outputs": [],
   "source": [
    "df = df.drop(columns=['reviewerName', 'vote', 'image'])"
   ]
  },
  {
   "cell_type": "code",
   "execution_count": 8,
   "id": "d103289b",
   "metadata": {},
   "outputs": [
    {
     "data": {
      "text/html": [
       "<div>\n",
       "<style scoped>\n",
       "    .dataframe tbody tr th:only-of-type {\n",
       "        vertical-align: middle;\n",
       "    }\n",
       "\n",
       "    .dataframe tbody tr th {\n",
       "        vertical-align: top;\n",
       "    }\n",
       "\n",
       "    .dataframe thead th {\n",
       "        text-align: right;\n",
       "    }\n",
       "</style>\n",
       "<table border=\"1\" class=\"dataframe\">\n",
       "  <thead>\n",
       "    <tr style=\"text-align: right;\">\n",
       "      <th></th>\n",
       "      <th>overall</th>\n",
       "      <th>verified</th>\n",
       "      <th>reviewTime</th>\n",
       "      <th>reviewerID</th>\n",
       "      <th>asin</th>\n",
       "      <th>style</th>\n",
       "      <th>reviewText</th>\n",
       "      <th>summary</th>\n",
       "      <th>unixReviewTime</th>\n",
       "    </tr>\n",
       "  </thead>\n",
       "  <tbody>\n",
       "    <tr>\n",
       "      <th>0</th>\n",
       "      <td>5</td>\n",
       "      <td>True</td>\n",
       "      <td>07 17, 2002</td>\n",
       "      <td>A1N070NS9CJQ2I</td>\n",
       "      <td>0060009810</td>\n",
       "      <td>{'Format:': ' Hardcover'}</td>\n",
       "      <td>This was the first time I read Garcia-Aguilera...</td>\n",
       "      <td>Hit The Spot!</td>\n",
       "      <td>1026864000</td>\n",
       "    </tr>\n",
       "    <tr>\n",
       "      <th>1</th>\n",
       "      <td>5</td>\n",
       "      <td>False</td>\n",
       "      <td>07 6, 2002</td>\n",
       "      <td>A3P0KRKOBQK1KN</td>\n",
       "      <td>0060009810</td>\n",
       "      <td>{'Format:': ' Hardcover'}</td>\n",
       "      <td>As with all of Ms. Garcia-Aguilera's books, I ...</td>\n",
       "      <td>one hot summer is HOT HOT HOT!</td>\n",
       "      <td>1025913600</td>\n",
       "    </tr>\n",
       "    <tr>\n",
       "      <th>2</th>\n",
       "      <td>5</td>\n",
       "      <td>False</td>\n",
       "      <td>07 3, 2002</td>\n",
       "      <td>A192HO2ICJ75VU</td>\n",
       "      <td>0060009810</td>\n",
       "      <td>{'Format:': ' Hardcover'}</td>\n",
       "      <td>I've not read any of Ms Aguilera's works befor...</td>\n",
       "      <td>One Hot Summer</td>\n",
       "      <td>1025654400</td>\n",
       "    </tr>\n",
       "    <tr>\n",
       "      <th>3</th>\n",
       "      <td>4</td>\n",
       "      <td>False</td>\n",
       "      <td>06 30, 2002</td>\n",
       "      <td>A2T278FKFL3BLT</td>\n",
       "      <td>0060009810</td>\n",
       "      <td>{'Format:': ' Hardcover'}</td>\n",
       "      <td>This romance novel is right up there with the ...</td>\n",
       "      <td>I love this book!</td>\n",
       "      <td>1025395200</td>\n",
       "    </tr>\n",
       "    <tr>\n",
       "      <th>4</th>\n",
       "      <td>5</td>\n",
       "      <td>False</td>\n",
       "      <td>06 28, 2002</td>\n",
       "      <td>A2ZUXVTW8RXBXW</td>\n",
       "      <td>0060009810</td>\n",
       "      <td>{'Format:': ' Hardcover'}</td>\n",
       "      <td>Carolina Garcia Aguilera has done it again.  S...</td>\n",
       "      <td>One Hot Book</td>\n",
       "      <td>1025222400</td>\n",
       "    </tr>\n",
       "    <tr>\n",
       "      <th>5</th>\n",
       "      <td>4</td>\n",
       "      <td>False</td>\n",
       "      <td>06 25, 2002</td>\n",
       "      <td>A21JDG4HA6OLPF</td>\n",
       "      <td>0060009810</td>\n",
       "      <td>{'Format:': ' Hardcover'}</td>\n",
       "      <td>Not only can she write mysteries,but she sure ...</td>\n",
       "      <td>Carolina does it again!</td>\n",
       "      <td>1024963200</td>\n",
       "    </tr>\n",
       "    <tr>\n",
       "      <th>6</th>\n",
       "      <td>5</td>\n",
       "      <td>False</td>\n",
       "      <td>06 22, 2002</td>\n",
       "      <td>A2NCADLQY962YD</td>\n",
       "      <td>0060009810</td>\n",
       "      <td>{'Format:': ' Hardcover'}</td>\n",
       "      <td>Once again Garcia-Aguilera has written a book ...</td>\n",
       "      <td>It's no mystery, Garcia-Aguilera can do romance</td>\n",
       "      <td>1024704000</td>\n",
       "    </tr>\n",
       "    <tr>\n",
       "      <th>7</th>\n",
       "      <td>5</td>\n",
       "      <td>False</td>\n",
       "      <td>01 26, 2006</td>\n",
       "      <td>A2UNA438B0FRA8</td>\n",
       "      <td>0060786817</td>\n",
       "      <td>{'Format:': ' Hardcover'}</td>\n",
       "      <td>The timing is just right for a good book. Actu...</td>\n",
       "      <td>A breath of fresh air for reading</td>\n",
       "      <td>1138233600</td>\n",
       "    </tr>\n",
       "    <tr>\n",
       "      <th>8</th>\n",
       "      <td>5</td>\n",
       "      <td>False</td>\n",
       "      <td>01 21, 2006</td>\n",
       "      <td>A2NQQSHSQKKGEX</td>\n",
       "      <td>0060786817</td>\n",
       "      <td>{'Format:': ' Hardcover'}</td>\n",
       "      <td>Engaging. Dark. Reading the book you could alm...</td>\n",
       "      <td>Well written page turner with fully develped c...</td>\n",
       "      <td>1137801600</td>\n",
       "    </tr>\n",
       "    <tr>\n",
       "      <th>9</th>\n",
       "      <td>3</td>\n",
       "      <td>False</td>\n",
       "      <td>01 18, 2006</td>\n",
       "      <td>A5EXND10WD4PM</td>\n",
       "      <td>0060786817</td>\n",
       "      <td>{'Format:': ' Hardcover'}</td>\n",
       "      <td>Set amid the backdrop of New York City's imper...</td>\n",
       "      <td>The Title Tells The Story!</td>\n",
       "      <td>1137542400</td>\n",
       "    </tr>\n",
       "  </tbody>\n",
       "</table>\n",
       "</div>"
      ],
      "text/plain": [
       "  overall verified   reviewTime      reviewerID        asin  \\\n",
       "0       5     True  07 17, 2002  A1N070NS9CJQ2I  0060009810   \n",
       "1       5    False   07 6, 2002  A3P0KRKOBQK1KN  0060009810   \n",
       "2       5    False   07 3, 2002  A192HO2ICJ75VU  0060009810   \n",
       "3       4    False  06 30, 2002  A2T278FKFL3BLT  0060009810   \n",
       "4       5    False  06 28, 2002  A2ZUXVTW8RXBXW  0060009810   \n",
       "5       4    False  06 25, 2002  A21JDG4HA6OLPF  0060009810   \n",
       "6       5    False  06 22, 2002  A2NCADLQY962YD  0060009810   \n",
       "7       5    False  01 26, 2006  A2UNA438B0FRA8  0060786817   \n",
       "8       5    False  01 21, 2006  A2NQQSHSQKKGEX  0060786817   \n",
       "9       3    False  01 18, 2006   A5EXND10WD4PM  0060786817   \n",
       "\n",
       "                       style  \\\n",
       "0  {'Format:': ' Hardcover'}   \n",
       "1  {'Format:': ' Hardcover'}   \n",
       "2  {'Format:': ' Hardcover'}   \n",
       "3  {'Format:': ' Hardcover'}   \n",
       "4  {'Format:': ' Hardcover'}   \n",
       "5  {'Format:': ' Hardcover'}   \n",
       "6  {'Format:': ' Hardcover'}   \n",
       "7  {'Format:': ' Hardcover'}   \n",
       "8  {'Format:': ' Hardcover'}   \n",
       "9  {'Format:': ' Hardcover'}   \n",
       "\n",
       "                                          reviewText  \\\n",
       "0  This was the first time I read Garcia-Aguilera...   \n",
       "1  As with all of Ms. Garcia-Aguilera's books, I ...   \n",
       "2  I've not read any of Ms Aguilera's works befor...   \n",
       "3  This romance novel is right up there with the ...   \n",
       "4  Carolina Garcia Aguilera has done it again.  S...   \n",
       "5  Not only can she write mysteries,but she sure ...   \n",
       "6  Once again Garcia-Aguilera has written a book ...   \n",
       "7  The timing is just right for a good book. Actu...   \n",
       "8  Engaging. Dark. Reading the book you could alm...   \n",
       "9  Set amid the backdrop of New York City's imper...   \n",
       "\n",
       "                                             summary unixReviewTime  \n",
       "0                                      Hit The Spot!     1026864000  \n",
       "1                     one hot summer is HOT HOT HOT!     1025913600  \n",
       "2                                     One Hot Summer     1025654400  \n",
       "3                                  I love this book!     1025395200  \n",
       "4                                       One Hot Book     1025222400  \n",
       "5                            Carolina does it again!     1024963200  \n",
       "6    It's no mystery, Garcia-Aguilera can do romance     1024704000  \n",
       "7                  A breath of fresh air for reading     1138233600  \n",
       "8  Well written page turner with fully develped c...     1137801600  \n",
       "9                         The Title Tells The Story!     1137542400  "
      ]
     },
     "execution_count": 8,
     "metadata": {},
     "output_type": "execute_result"
    }
   ],
   "source": [
    "df.head(10)"
   ]
  },
  {
   "cell_type": "code",
   "execution_count": 9,
   "id": "f24bfaec",
   "metadata": {},
   "outputs": [],
   "source": [
    "df_review_text = df[['reviewText']]"
   ]
  },
  {
   "cell_type": "code",
   "execution_count": 10,
   "id": "fe7a94bf",
   "metadata": {},
   "outputs": [
    {
     "name": "stdout",
     "output_type": "stream",
     "text": [
      "                                           reviewText\n",
      "0   This was the first time I read Garcia-Aguilera...\n",
      "1   As with all of Ms. Garcia-Aguilera's books, I ...\n",
      "2   I've not read any of Ms Aguilera's works befor...\n",
      "3   This romance novel is right up there with the ...\n",
      "4   Carolina Garcia Aguilera has done it again.  S...\n",
      "5   Not only can she write mysteries,but she sure ...\n",
      "6   Once again Garcia-Aguilera has written a book ...\n",
      "7   The timing is just right for a good book. Actu...\n",
      "8   Engaging. Dark. Reading the book you could alm...\n",
      "9   Set amid the backdrop of New York City's imper...\n",
      "10  A guilty pleasure of a book with characters so...\n",
      "11  I'd never before read a Lolita Files' book, an...\n",
      "12  Wow, I was totally blown away by this book.  J...\n",
      "13  Lolita Files is one of my favorite authors. Sh...\n",
      "14  This book is...I don't even know what to call ...\n"
     ]
    }
   ],
   "source": [
    "print(df_review_text.head(15))"
   ]
  },
  {
   "cell_type": "code",
   "execution_count": 11,
   "id": "d356ce34",
   "metadata": {},
   "outputs": [
    {
     "name": "stdout",
     "output_type": "stream",
     "text": [
      "                                                                                                                                                                                                                                                                                                                                                                                                                                                                                                                                                                                                                                                                                                                                  reviewText\n",
      "0  This was the first time I read Garcia-Aguilera.  I came upon the name of this book on Live with Regis and Kelly. This book was exactly what I was looking for ... it hit the spot.  I really enjoyed this book because it was well written. Once I started this book it kept me coming back for more. It had culture, family, friendship and romance. I was looking for a little more romance when I picked this book but in the end it turned out to be just right.  I love the main chartachter Margarita (aka Daisy). I've never been to Miami but the way Daisy told the story I certainly felt I'd been there.\\nAlso after going through all of Daisy's perils ... I closed the book with a feeling I had grown emotionally as well.\n",
      "1                                                                                                                                                                                                                                                                                                                                                                                                                                                               As with all of Ms. Garcia-Aguilera's books, I think this is a MUST READ, impossible to put down. Successful deviation from past Lupe Solano series-captures the very essence of the excitement, local color and diverse fabric of MIAMI. Sensual and culturally enlightened!\n",
      "2                                                                                                                                                                                                                                                                                                                                                                                                                                                                         I've not read any of Ms Aguilera's works before, but after having just finished One Hot Summer I'm going to check out the Lupe Solano series I've heard so much about.  One Hot Summer is sooo steamy! Made me want to move to Miami!  Couldn't put the book down.\n",
      "3                                                                                                                                                                                                 This romance novel is right up there with the rest of her amazing mystery novels.  Being a guy, I was a little hesitant about reading a romance novel but I just had to give this book a shot because I have been such a huge fan of Garcia-Aguilera's books.  And to be honest, I absolutely loved this book.  I love the way she presents funky Miami and its crazy Cubans in not just this book but all her books.  Garcia-Aguilera did a superb job with this book, and I can't wait till her next book.  You gotta read this book!!!!\n",
      "4                                                                                                                                                                                                                                                                                                                                                                                                                                                                                         Carolina Garcia Aguilera has done it again.  She's written another highly enjoyable book and infused it with the right amount of Cuban-American tidbits.  My family and I cannot put her books down once we start and this one was not a let down.\n"
     ]
    }
   ],
   "source": [
    "pd.set_option('display.max_colwidth', None)\n",
    "print(df_review_text.head(5))"
   ]
  },
  {
   "cell_type": "code",
   "execution_count": 12,
   "id": "3b3b065c",
   "metadata": {},
   "outputs": [],
   "source": [
    "import nltk\n",
    "from nltk.corpus import stopwords\n",
    "from nltk.tokenize import word_tokenize\n",
    "import string"
   ]
  },
  {
   "cell_type": "code",
   "execution_count": 13,
   "id": "eab434a2",
   "metadata": {
    "scrolled": true
   },
   "outputs": [
    {
     "name": "stderr",
     "output_type": "stream",
     "text": [
      "[nltk_data] Downloading package punkt to /home/xjoex/nltk_data...\n",
      "[nltk_data]   Package punkt is already up-to-date!\n",
      "[nltk_data] Downloading package stopwords to /home/xjoex/nltk_data...\n",
      "[nltk_data]   Package stopwords is already up-to-date!\n"
     ]
    },
    {
     "data": {
      "text/plain": [
       "True"
      ]
     },
     "execution_count": 13,
     "metadata": {},
     "output_type": "execute_result"
    }
   ],
   "source": [
    "nltk.download('punkt')\n",
    "nltk.download('stopwords')"
   ]
  },
  {
   "cell_type": "code",
   "execution_count": 14,
   "id": "4f5b006c",
   "metadata": {},
   "outputs": [],
   "source": [
    "df_review_text = df_review_text.dropna(subset=['reviewText'])"
   ]
  },
  {
   "cell_type": "code",
   "execution_count": 15,
   "id": "3b9bb967",
   "metadata": {},
   "outputs": [],
   "source": [
    "df_review_text['reviewText'] = df_review_text['reviewText'].astype(str) #covert to string"
   ]
  },
  {
   "cell_type": "code",
   "execution_count": 16,
   "id": "299742ef",
   "metadata": {},
   "outputs": [],
   "source": [
    "df_review_text = df_review_text.applymap(str)"
   ]
  },
  {
   "cell_type": "code",
   "execution_count": 17,
   "id": "ca1f2e9a",
   "metadata": {
    "scrolled": true
   },
   "outputs": [],
   "source": [
    "# Convert text to lowercase\n",
    "df_review_text['cleaned_review'] = df_review_text['reviewText'].str.lower()"
   ]
  },
  {
   "cell_type": "code",
   "execution_count": 18,
   "id": "dbcbc6eb",
   "metadata": {},
   "outputs": [
    {
     "name": "stderr",
     "output_type": "stream",
     "text": [
      "/tmp/ipykernel_5614/2318078684.py:2: FutureWarning: The default value of regex will change from True to False in a future version.\n",
      "  df_review_text['cleaned_review'] = df_review_text['cleaned_review'].str.replace('[{}]'.format(string.punctuation), '')\n"
     ]
    }
   ],
   "source": [
    "# Remove punctuation and special characters\n",
    "df_review_text['cleaned_review'] = df_review_text['cleaned_review'].str.replace('[{}]'.format(string.punctuation), '')"
   ]
  },
  {
   "cell_type": "code",
   "execution_count": 19,
   "id": "5de01017",
   "metadata": {},
   "outputs": [
    {
     "name": "stderr",
     "output_type": "stream",
     "text": [
      "/tmp/ipykernel_5614/3379385073.py:2: FutureWarning: The default value of regex will change from True to False in a future version.\n",
      "  df_review_text['cleaned_review'] = df_review_text['cleaned_review'].str.replace(r'\\d+', '')\n"
     ]
    }
   ],
   "source": [
    "# Remove numbers\n",
    "df_review_text['cleaned_review'] = df_review_text['cleaned_review'].str.replace(r'\\d+', '')"
   ]
  },
  {
   "cell_type": "code",
   "execution_count": 20,
   "id": "199fc8f7",
   "metadata": {},
   "outputs": [],
   "source": [
    "# Remove stopwords\n",
    "stop_words = set(stopwords.words('english'))\n",
    "df_review_text['cleaned_review'] = df_review_text['cleaned_review'].apply(lambda x: ' '.join(word for word in word_tokenize(x) if word not in stop_words))"
   ]
  },
  {
   "cell_type": "code",
   "execution_count": 21,
   "id": "2e153da9",
   "metadata": {},
   "outputs": [
    {
     "data": {
      "text/html": [
       "<div>\n",
       "<style scoped>\n",
       "    .dataframe tbody tr th:only-of-type {\n",
       "        vertical-align: middle;\n",
       "    }\n",
       "\n",
       "    .dataframe tbody tr th {\n",
       "        vertical-align: top;\n",
       "    }\n",
       "\n",
       "    .dataframe thead th {\n",
       "        text-align: right;\n",
       "    }\n",
       "</style>\n",
       "<table border=\"1\" class=\"dataframe\">\n",
       "  <thead>\n",
       "    <tr style=\"text-align: right;\">\n",
       "      <th></th>\n",
       "      <th>reviewText</th>\n",
       "      <th>cleaned_review</th>\n",
       "    </tr>\n",
       "  </thead>\n",
       "  <tbody>\n",
       "    <tr>\n",
       "      <th>0</th>\n",
       "      <td>This was the first time I read Garcia-Aguilera.  I came upon the name of this book on Live with Regis and Kelly. This book was exactly what I was looking for ... it hit the spot.  I really enjoyed this book because it was well written. Once I started this book it kept me coming back for more. It had culture, family, friendship and romance. I was looking for a little more romance when I picked this book but in the end it turned out to be just right.  I love the main chartachter Margarita (aka Daisy). I've never been to Miami but the way Daisy told the story I certainly felt I'd been there.\\nAlso after going through all of Daisy's perils ... I closed the book with a feeling I had grown emotionally as well.</td>\n",
       "      <td>first time read garciaaguilera came upon name book live regis kelly book exactly looking hit spot really enjoyed book well written started book kept coming back culture family friendship romance looking little romance picked book end turned right love main chartachter margarita aka daisy ive never miami way daisy told story certainly felt id also going daisys perils closed book feeling grown emotionally well</td>\n",
       "    </tr>\n",
       "    <tr>\n",
       "      <th>1</th>\n",
       "      <td>As with all of Ms. Garcia-Aguilera's books, I think this is a MUST READ, impossible to put down. Successful deviation from past Lupe Solano series-captures the very essence of the excitement, local color and diverse fabric of MIAMI. Sensual and culturally enlightened!</td>\n",
       "      <td>ms garciaaguileras books think must read impossible put successful deviation past lupe solano seriescaptures essence excitement local color diverse fabric miami sensual culturally enlightened</td>\n",
       "    </tr>\n",
       "    <tr>\n",
       "      <th>2</th>\n",
       "      <td>I've not read any of Ms Aguilera's works before, but after having just finished One Hot Summer I'm going to check out the Lupe Solano series I've heard so much about.  One Hot Summer is sooo steamy! Made me want to move to Miami!  Couldn't put the book down.</td>\n",
       "      <td>ive read ms aguileras works finished one hot summer im going check lupe solano series ive heard much one hot summer sooo steamy made want move miami couldnt put book</td>\n",
       "    </tr>\n",
       "    <tr>\n",
       "      <th>3</th>\n",
       "      <td>This romance novel is right up there with the rest of her amazing mystery novels.  Being a guy, I was a little hesitant about reading a romance novel but I just had to give this book a shot because I have been such a huge fan of Garcia-Aguilera's books.  And to be honest, I absolutely loved this book.  I love the way she presents funky Miami and its crazy Cubans in not just this book but all her books.  Garcia-Aguilera did a superb job with this book, and I can't wait till her next book.  You gotta read this book!!!!</td>\n",
       "      <td>romance novel right rest amazing mystery novels guy little hesitant reading romance novel give book shot huge fan garciaaguileras books honest absolutely loved book love way presents funky miami crazy cubans book books garciaaguilera superb job book cant wait till next book got ta read book</td>\n",
       "    </tr>\n",
       "    <tr>\n",
       "      <th>4</th>\n",
       "      <td>Carolina Garcia Aguilera has done it again.  She's written another highly enjoyable book and infused it with the right amount of Cuban-American tidbits.  My family and I cannot put her books down once we start and this one was not a let down.</td>\n",
       "      <td>carolina garcia aguilera done shes written another highly enjoyable book infused right amount cubanamerican tidbits family put books start one let</td>\n",
       "    </tr>\n",
       "    <tr>\n",
       "      <th>5</th>\n",
       "      <td>Not only can she write mysteries,but she sure can write a love story! This was \"ONE HOT SUMMER\" read that I couldn't put down !!!</td>\n",
       "      <td>write mysteriesbut sure write love story one hot summer read couldnt put</td>\n",
       "    </tr>\n",
       "    <tr>\n",
       "      <th>6</th>\n",
       "      <td>Once again Garcia-Aguilera has written a book that I just can't put down. I have read and love all her mysteries- so I picked up this romance with eager anticipation. I was not disappointed. The main character Margarita is easily likeable, which makes the trials she faces that much more intriguing. Sometimes you want to yell at the book and tell Margarita what she should (and shouldn't) do. But the author is measured in the development of the plot and keeps you turning the pages all the way to the end. Mix that in with an interesting take on Cuban exile politics and humorous insights on the world around Margarita and the picture of wild, steamy Miami is complete. Another winner from Garcia-Aguilera.</td>\n",
       "      <td>garciaaguilera written book cant put read love mysteries picked romance eager anticipation disappointed main character margarita easily likeable makes trials faces much intriguing sometimes want yell book tell margarita shouldnt author measured development plot keeps turning pages way end mix interesting take cuban exile politics humorous insights world around margarita picture wild steamy miami complete another winner garciaaguilera</td>\n",
       "    </tr>\n",
       "    <tr>\n",
       "      <th>7</th>\n",
       "      <td>The timing is just right for a good book. Actually, it's long overdue. Therefore, I highly recommend you read this book. I promise you won't be disappointed. If this doesn't make the bestsellers list something is definitely wrong here. This well written story is so engaging, funny, almost true, etc. The character Beryl was funny and sad. Unfortunately, there are women just like her and people take advantage of them. What we won't do for love. Penn said, women can be so stupid. He told her he love her on their first night together and she belived him. That was her demise right there.</td>\n",
       "      <td>timing right good book actually long overdue therefore highly recommend read book promise wont disappointed doesnt make bestsellers list something definitely wrong well written story engaging funny almost true etc character beryl funny sad unfortunately women like people take advantage wont love penn said women stupid told love first night together belived demise right</td>\n",
       "    </tr>\n",
       "    <tr>\n",
       "      <th>8</th>\n",
       "      <td>Engaging. Dark. Reading the book you could almost feel the train wreck about to happen.  The collision of characters is painful yet stimulating.  Files show the depth of her writing in this book especially by showcasing her ethnically diverse cast.  It wasn't what I was expecting, but if you can get past the initial character introductions you'll be hooked!  The sex and graphic violence can be overwhelming and hard to stomach, but it's what makes this book...the book.  If you like tidiness this isn't the book for you...it's everything, but tidy.  Personally, I was slightly disappointed in the final direction of the book, but from a literary perspective this is close to a masterpiece.  Her books just keep getting better and better.  This one really pushes the reader mentally and educationally through her use of real literary terms and vocabulary words that may require a quick tour through Webster's.</td>\n",
       "      <td>engaging dark reading book could almost feel train wreck happen collision characters painful yet stimulating files show depth writing book especially showcasing ethnically diverse cast wasnt expecting get past initial character introductions youll hooked sex graphic violence overwhelming hard stomach makes bookthe book like tidiness isnt book youits everything tidy personally slightly disappointed final direction book literary perspective close masterpiece books keep getting better better one really pushes reader mentally educationally use real literary terms vocabulary words may require quick tour websters</td>\n",
       "    </tr>\n",
       "    <tr>\n",
       "      <th>9</th>\n",
       "      <td>Set amid the backdrop of New York City's impervious and highly competitive literary world, a disinherited, struggling writer, Penn Hamilton, plots his course to stardom.  Born with dastardly good looks and a genius I.Q., Penn seduces the top editor in the business, Beryl Unger.  Beryl is a homely, narcoleptic, obsessive-compulsive workaholic who instantly falls for Penn's charms and his manuscript.  The spin-doctors are engaged and Penn, as much as his novel, is an overnight sensation.  The money, power, respect, and women ensue.  When Beryl discovers that Penn has another lover and threatens to expose him and ruin his budding career, Penn ends the charade by committing a heinous crime.\\n\\nThis novel is a dark comedy, filled with cynicism and wit, and a touch of satire surrounding literary figures (editors, agents, etc.) and concepts (Wagner's Gesamtkunstwerk).  Files offers a credible plot behind the evolution of Penn's ascent as an artist and embodiment of himself as a \"brand\" spanning all genres - music, fashion, literature, cinema, even legal scandals - the total package.  He becomes an infamous, opportunistic, conniving, heartless protagonist - and yet, he is still fairly likeable.  Files keeps the novel fresh and hip.  Through Penn, the reader hangs with the \"in crowd\" and meets modern icons in today's entertainment arena.\\n\\nIf readers are adventurous enough to veer away from the \"Reesy and Misty\" novels and are patient enough to appreciate the rather lengthy passages dedicated to character development, the underlying ripples of black humor, and the clever infusion of actual literary works and personalities, I think File's fans may appreciate this book as an enriched departure from her traditional `girlfriend' type of novels.\\n\\nReviewed by Phyllis\\n\\nAPOOO BookClub</td>\n",
       "      <td>set amid backdrop new york citys impervious highly competitive literary world disinherited struggling writer penn hamilton plots course stardom born dastardly good looks genius iq penn seduces top editor business beryl unger beryl homely narcoleptic obsessivecompulsive workaholic instantly falls penns charms manuscript spindoctors engaged penn much novel overnight sensation money power respect women ensue beryl discovers penn another lover threatens expose ruin budding career penn ends charade committing heinous crime novel dark comedy filled cynicism wit touch satire surrounding literary figures editors agents etc concepts wagners gesamtkunstwerk files offers credible plot behind evolution penns ascent artist embodiment brand spanning genres music fashion literature cinema even legal scandals total package becomes infamous opportunistic conniving heartless protagonist yet still fairly likeable files keeps novel fresh hip penn reader hangs crowd meets modern icons todays entertainment arena readers adventurous enough veer away reesy misty novels patient enough appreciate rather lengthy passages dedicated character development underlying ripples black humor clever infusion actual literary works personalities think files fans may appreciate book enriched departure traditional girlfriend type novels reviewed phyllis apooo bookclub</td>\n",
       "    </tr>\n",
       "  </tbody>\n",
       "</table>\n",
       "</div>"
      ],
      "text/plain": [
       "                                                                                                                                                                                                                                                                                                                                                                                                                                                                                                                                                                                                                                                                                                                                                                                                                                                                                                                                                                                                                                                                                                                                                                                                                                                                                                                                                                                                                                                                                                                                                                                                                                                                                                                                                                                                                                                                    reviewText  \\\n",
       "0                                                                                                                                                                                                                                                                                                                                                                                                                                                                                                                                                                                                                                                                                                                                                                                                                                                                                                                                                                                                                                                                                                                                    This was the first time I read Garcia-Aguilera.  I came upon the name of this book on Live with Regis and Kelly. This book was exactly what I was looking for ... it hit the spot.  I really enjoyed this book because it was well written. Once I started this book it kept me coming back for more. It had culture, family, friendship and romance. I was looking for a little more romance when I picked this book but in the end it turned out to be just right.  I love the main chartachter Margarita (aka Daisy). I've never been to Miami but the way Daisy told the story I certainly felt I'd been there.\\nAlso after going through all of Daisy's perils ... I closed the book with a feeling I had grown emotionally as well.   \n",
       "1                                                                                                                                                                                                                                                                                                                                                                                                                                                                                                                                                                                                                                                                                                                                                                                                                                                                                                                                                                                                                                                                                                                                                                                                                                                                                                                                                                                                                                                                                                                                                                                                 As with all of Ms. Garcia-Aguilera's books, I think this is a MUST READ, impossible to put down. Successful deviation from past Lupe Solano series-captures the very essence of the excitement, local color and diverse fabric of MIAMI. Sensual and culturally enlightened!   \n",
       "2                                                                                                                                                                                                                                                                                                                                                                                                                                                                                                                                                                                                                                                                                                                                                                                                                                                                                                                                                                                                                                                                                                                                                                                                                                                                                                                                                                                                                                                                                                                                                                                                           I've not read any of Ms Aguilera's works before, but after having just finished One Hot Summer I'm going to check out the Lupe Solano series I've heard so much about.  One Hot Summer is sooo steamy! Made me want to move to Miami!  Couldn't put the book down.   \n",
       "3                                                                                                                                                                                                                                                                                                                                                                                                                                                                                                                                                                                                                                                                                                                                                                                                                                                                                                                                                                                                                                                                                                                                                                                                                                                                                                                                   This romance novel is right up there with the rest of her amazing mystery novels.  Being a guy, I was a little hesitant about reading a romance novel but I just had to give this book a shot because I have been such a huge fan of Garcia-Aguilera's books.  And to be honest, I absolutely loved this book.  I love the way she presents funky Miami and its crazy Cubans in not just this book but all her books.  Garcia-Aguilera did a superb job with this book, and I can't wait till her next book.  You gotta read this book!!!!   \n",
       "4                                                                                                                                                                                                                                                                                                                                                                                                                                                                                                                                                                                                                                                                                                                                                                                                                                                                                                                                                                                                                                                                                                                                                                                                                                                                                                                                                                                                                                                                                                                                                                                                                           Carolina Garcia Aguilera has done it again.  She's written another highly enjoyable book and infused it with the right amount of Cuban-American tidbits.  My family and I cannot put her books down once we start and this one was not a let down.   \n",
       "5                                                                                                                                                                                                                                                                                                                                                                                                                                                                                                                                                                                                                                                                                                                                                                                                                                                                                                                                                                                                                                                                                                                                                                                                                                                                                                                                                                                                                                                                                                                                                                                                                                                                                                                                            Not only can she write mysteries,but she sure can write a love story! This was \"ONE HOT SUMMER\" read that I couldn't put down !!!   \n",
       "6                                                                                                                                                                                                                                                                                                                                                                                                                                                                                                                                                                                                                                                                                                                                                                                                                                                                                                                                                                                                                                                                                                                                         Once again Garcia-Aguilera has written a book that I just can't put down. I have read and love all her mysteries- so I picked up this romance with eager anticipation. I was not disappointed. The main character Margarita is easily likeable, which makes the trials she faces that much more intriguing. Sometimes you want to yell at the book and tell Margarita what she should (and shouldn't) do. But the author is measured in the development of the plot and keeps you turning the pages all the way to the end. Mix that in with an interesting take on Cuban exile politics and humorous insights on the world around Margarita and the picture of wild, steamy Miami is complete. Another winner from Garcia-Aguilera.   \n",
       "7                                                                                                                                                                                                                                                                                                                                                                                                                                                                                                                                                                                                                                                                                                                                                                                                                                                                                                                                                                                                                                                                                                                                                                                                                                                                The timing is just right for a good book. Actually, it's long overdue. Therefore, I highly recommend you read this book. I promise you won't be disappointed. If this doesn't make the bestsellers list something is definitely wrong here. This well written story is so engaging, funny, almost true, etc. The character Beryl was funny and sad. Unfortunately, there are women just like her and people take advantage of them. What we won't do for love. Penn said, women can be so stupid. He told her he love her on their first night together and she belived him. That was her demise right there.   \n",
       "8                                                                                                                                                                                                                                                                                                                                                                                                                                                                                                                                                                                                                                                                                                                                                                                                                                                                                                                              Engaging. Dark. Reading the book you could almost feel the train wreck about to happen.  The collision of characters is painful yet stimulating.  Files show the depth of her writing in this book especially by showcasing her ethnically diverse cast.  It wasn't what I was expecting, but if you can get past the initial character introductions you'll be hooked!  The sex and graphic violence can be overwhelming and hard to stomach, but it's what makes this book...the book.  If you like tidiness this isn't the book for you...it's everything, but tidy.  Personally, I was slightly disappointed in the final direction of the book, but from a literary perspective this is close to a masterpiece.  Her books just keep getting better and better.  This one really pushes the reader mentally and educationally through her use of real literary terms and vocabulary words that may require a quick tour through Webster's.   \n",
       "9  Set amid the backdrop of New York City's impervious and highly competitive literary world, a disinherited, struggling writer, Penn Hamilton, plots his course to stardom.  Born with dastardly good looks and a genius I.Q., Penn seduces the top editor in the business, Beryl Unger.  Beryl is a homely, narcoleptic, obsessive-compulsive workaholic who instantly falls for Penn's charms and his manuscript.  The spin-doctors are engaged and Penn, as much as his novel, is an overnight sensation.  The money, power, respect, and women ensue.  When Beryl discovers that Penn has another lover and threatens to expose him and ruin his budding career, Penn ends the charade by committing a heinous crime.\\n\\nThis novel is a dark comedy, filled with cynicism and wit, and a touch of satire surrounding literary figures (editors, agents, etc.) and concepts (Wagner's Gesamtkunstwerk).  Files offers a credible plot behind the evolution of Penn's ascent as an artist and embodiment of himself as a \"brand\" spanning all genres - music, fashion, literature, cinema, even legal scandals - the total package.  He becomes an infamous, opportunistic, conniving, heartless protagonist - and yet, he is still fairly likeable.  Files keeps the novel fresh and hip.  Through Penn, the reader hangs with the \"in crowd\" and meets modern icons in today's entertainment arena.\\n\\nIf readers are adventurous enough to veer away from the \"Reesy and Misty\" novels and are patient enough to appreciate the rather lengthy passages dedicated to character development, the underlying ripples of black humor, and the clever infusion of actual literary works and personalities, I think File's fans may appreciate this book as an enriched departure from her traditional `girlfriend' type of novels.\\n\\nReviewed by Phyllis\\n\\nAPOOO BookClub   \n",
       "\n",
       "                                                                                                                                                                                                                                                                                                                                                                                                                                                                                                                                                                                                                                                                                                                                                                                                                                                                                                                                                                                                                                                                                                                                                                                                                                                                                                                                                                                          cleaned_review  \n",
       "0                                                                                                                                                                                                                                                                                                                                                                                                                                                                                                                                                                                                                                                                                                                                                                                                                                                                                                                                                                            first time read garciaaguilera came upon name book live regis kelly book exactly looking hit spot really enjoyed book well written started book kept coming back culture family friendship romance looking little romance picked book end turned right love main chartachter margarita aka daisy ive never miami way daisy told story certainly felt id also going daisys perils closed book feeling grown emotionally well  \n",
       "1                                                                                                                                                                                                                                                                                                                                                                                                                                                                                                                                                                                                                                                                                                                                                                                                                                                                                                                                                                                                                                                                                                                                                                                                        ms garciaaguileras books think must read impossible put successful deviation past lupe solano seriescaptures essence excitement local color diverse fabric miami sensual culturally enlightened  \n",
       "2                                                                                                                                                                                                                                                                                                                                                                                                                                                                                                                                                                                                                                                                                                                                                                                                                                                                                                                                                                                                                                                                                                                                                                                                                                  ive read ms aguileras works finished one hot summer im going check lupe solano series ive heard much one hot summer sooo steamy made want move miami couldnt put book  \n",
       "3                                                                                                                                                                                                                                                                                                                                                                                                                                                                                                                                                                                                                                                                                                                                                                                                                                                                                                                                                                                                                                                                                                    romance novel right rest amazing mystery novels guy little hesitant reading romance novel give book shot huge fan garciaaguileras books honest absolutely loved book love way presents funky miami crazy cubans book books garciaaguilera superb job book cant wait till next book got ta read book  \n",
       "4                                                                                                                                                                                                                                                                                                                                                                                                                                                                                                                                                                                                                                                                                                                                                                                                                                                                                                                                                                                                                                                                                                                                                                                                                                                     carolina garcia aguilera done shes written another highly enjoyable book infused right amount cubanamerican tidbits family put books start one let  \n",
       "5                                                                                                                                                                                                                                                                                                                                                                                                                                                                                                                                                                                                                                                                                                                                                                                                                                                                                                                                                                                                                                                                                                                                                                                                                                                                                                                               write mysteriesbut sure write love story one hot summer read couldnt put  \n",
       "6                                                                                                                                                                                                                                                                                                                                                                                                                                                                                                                                                                                                                                                                                                                                                                                                                                                                                                                                                  garciaaguilera written book cant put read love mysteries picked romance eager anticipation disappointed main character margarita easily likeable makes trials faces much intriguing sometimes want yell book tell margarita shouldnt author measured development plot keeps turning pages way end mix interesting take cuban exile politics humorous insights world around margarita picture wild steamy miami complete another winner garciaaguilera  \n",
       "7                                                                                                                                                                                                                                                                                                                                                                                                                                                                                                                                                                                                                                                                                                                                                                                                                                                                                                                                                                                                                    timing right good book actually long overdue therefore highly recommend read book promise wont disappointed doesnt make bestsellers list something definitely wrong well written story engaging funny almost true etc character beryl funny sad unfortunately women like people take advantage wont love penn said women stupid told love first night together belived demise right  \n",
       "8                                                                                                                                                                                                                                                                                                                                                                                                                                                                                                                                                                                                                                                                                                                                                                 engaging dark reading book could almost feel train wreck happen collision characters painful yet stimulating files show depth writing book especially showcasing ethnically diverse cast wasnt expecting get past initial character introductions youll hooked sex graphic violence overwhelming hard stomach makes bookthe book like tidiness isnt book youits everything tidy personally slightly disappointed final direction book literary perspective close masterpiece books keep getting better better one really pushes reader mentally educationally use real literary terms vocabulary words may require quick tour websters  \n",
       "9  set amid backdrop new york citys impervious highly competitive literary world disinherited struggling writer penn hamilton plots course stardom born dastardly good looks genius iq penn seduces top editor business beryl unger beryl homely narcoleptic obsessivecompulsive workaholic instantly falls penns charms manuscript spindoctors engaged penn much novel overnight sensation money power respect women ensue beryl discovers penn another lover threatens expose ruin budding career penn ends charade committing heinous crime novel dark comedy filled cynicism wit touch satire surrounding literary figures editors agents etc concepts wagners gesamtkunstwerk files offers credible plot behind evolution penns ascent artist embodiment brand spanning genres music fashion literature cinema even legal scandals total package becomes infamous opportunistic conniving heartless protagonist yet still fairly likeable files keeps novel fresh hip penn reader hangs crowd meets modern icons todays entertainment arena readers adventurous enough veer away reesy misty novels patient enough appreciate rather lengthy passages dedicated character development underlying ripples black humor clever infusion actual literary works personalities think files fans may appreciate book enriched departure traditional girlfriend type novels reviewed phyllis apooo bookclub  "
      ]
     },
     "execution_count": 21,
     "metadata": {},
     "output_type": "execute_result"
    }
   ],
   "source": [
    "df_review_text.head(10)"
   ]
  },
  {
   "cell_type": "markdown",
   "id": "927b8459",
   "metadata": {},
   "source": [
    "## Sentiment Analysis "
   ]
  },
  {
   "cell_type": "code",
   "execution_count": 22,
   "id": "f98f7852",
   "metadata": {},
   "outputs": [],
   "source": [
    "import nltk\n",
    "from nltk.sentiment import SentimentIntensityAnalyzer"
   ]
  },
  {
   "cell_type": "code",
   "execution_count": 23,
   "id": "38461208",
   "metadata": {},
   "outputs": [
    {
     "name": "stderr",
     "output_type": "stream",
     "text": [
      "[nltk_data] Downloading package vader_lexicon to\n",
      "[nltk_data]     /home/xjoex/nltk_data...\n",
      "[nltk_data]   Package vader_lexicon is already up-to-date!\n"
     ]
    },
    {
     "data": {
      "text/plain": [
       "True"
      ]
     },
     "execution_count": 23,
     "metadata": {},
     "output_type": "execute_result"
    }
   ],
   "source": [
    "nltk.download('vader_lexicon')"
   ]
  },
  {
   "cell_type": "code",
   "execution_count": 24,
   "id": "46430276",
   "metadata": {},
   "outputs": [],
   "source": [
    "sia = SentimentIntensityAnalyzer()"
   ]
  },
  {
   "cell_type": "code",
   "execution_count": 25,
   "id": "cf46d8df",
   "metadata": {},
   "outputs": [],
   "source": [
    "def get_sentiment(score):\n",
    "    if score >= 0.05:\n",
    "        return \"Positive\"\n",
    "    elif score <= -0.05:\n",
    "        return \"Negative\"\n",
    "    else:\n",
    "        return \"Neutral\""
   ]
  },
  {
   "cell_type": "code",
   "execution_count": 26,
   "id": "5ea90ce0",
   "metadata": {},
   "outputs": [],
   "source": [
    "df_review_text['sentiment_score'] = df_review_text['cleaned_review'].apply(lambda x: sia.polarity_scores(x)['compound'])\n",
    "df_review_text['sentiment'] = df_review_text['sentiment_score'].apply(get_sentiment)"
   ]
  },
  {
   "cell_type": "code",
   "execution_count": 27,
   "id": "a364c37b",
   "metadata": {},
   "outputs": [
    {
     "data": {
      "text/html": [
       "<div>\n",
       "<style scoped>\n",
       "    .dataframe tbody tr th:only-of-type {\n",
       "        vertical-align: middle;\n",
       "    }\n",
       "\n",
       "    .dataframe tbody tr th {\n",
       "        vertical-align: top;\n",
       "    }\n",
       "\n",
       "    .dataframe thead th {\n",
       "        text-align: right;\n",
       "    }\n",
       "</style>\n",
       "<table border=\"1\" class=\"dataframe\">\n",
       "  <thead>\n",
       "    <tr style=\"text-align: right;\">\n",
       "      <th></th>\n",
       "      <th>reviewText</th>\n",
       "      <th>cleaned_review</th>\n",
       "      <th>sentiment_score</th>\n",
       "      <th>sentiment</th>\n",
       "    </tr>\n",
       "  </thead>\n",
       "  <tbody>\n",
       "    <tr>\n",
       "      <th>0</th>\n",
       "      <td>This was the first time I read Garcia-Aguilera.  I came upon the name of this book on Live with Regis and Kelly. This book was exactly what I was looking for ... it hit the spot.  I really enjoyed this book because it was well written. Once I started this book it kept me coming back for more. It had culture, family, friendship and romance. I was looking for a little more romance when I picked this book but in the end it turned out to be just right.  I love the main chartachter Margarita (aka Daisy). I've never been to Miami but the way Daisy told the story I certainly felt I'd been there.\\nAlso after going through all of Daisy's perils ... I closed the book with a feeling I had grown emotionally as well.</td>\n",
       "      <td>first time read garciaaguilera came upon name book live regis kelly book exactly looking hit spot really enjoyed book well written started book kept coming back culture family friendship romance looking little romance picked book end turned right love main chartachter margarita aka daisy ive never miami way daisy told story certainly felt id also going daisys perils closed book feeling grown emotionally well</td>\n",
       "      <td>0.9764</td>\n",
       "      <td>Positive</td>\n",
       "    </tr>\n",
       "    <tr>\n",
       "      <th>1</th>\n",
       "      <td>As with all of Ms. Garcia-Aguilera's books, I think this is a MUST READ, impossible to put down. Successful deviation from past Lupe Solano series-captures the very essence of the excitement, local color and diverse fabric of MIAMI. Sensual and culturally enlightened!</td>\n",
       "      <td>ms garciaaguileras books think must read impossible put successful deviation past lupe solano seriescaptures essence excitement local color diverse fabric miami sensual culturally enlightened</td>\n",
       "      <td>0.8807</td>\n",
       "      <td>Positive</td>\n",
       "    </tr>\n",
       "    <tr>\n",
       "      <th>2</th>\n",
       "      <td>I've not read any of Ms Aguilera's works before, but after having just finished One Hot Summer I'm going to check out the Lupe Solano series I've heard so much about.  One Hot Summer is sooo steamy! Made me want to move to Miami!  Couldn't put the book down.</td>\n",
       "      <td>ive read ms aguileras works finished one hot summer im going check lupe solano series ive heard much one hot summer sooo steamy made want move miami couldnt put book</td>\n",
       "      <td>0.0772</td>\n",
       "      <td>Positive</td>\n",
       "    </tr>\n",
       "    <tr>\n",
       "      <th>3</th>\n",
       "      <td>This romance novel is right up there with the rest of her amazing mystery novels.  Being a guy, I was a little hesitant about reading a romance novel but I just had to give this book a shot because I have been such a huge fan of Garcia-Aguilera's books.  And to be honest, I absolutely loved this book.  I love the way she presents funky Miami and its crazy Cubans in not just this book but all her books.  Garcia-Aguilera did a superb job with this book, and I can't wait till her next book.  You gotta read this book!!!!</td>\n",
       "      <td>romance novel right rest amazing mystery novels guy little hesitant reading romance novel give book shot huge fan garciaaguileras books honest absolutely loved book love way presents funky miami crazy cubans book books garciaaguilera superb job book cant wait till next book got ta read book</td>\n",
       "      <td>0.9858</td>\n",
       "      <td>Positive</td>\n",
       "    </tr>\n",
       "    <tr>\n",
       "      <th>4</th>\n",
       "      <td>Carolina Garcia Aguilera has done it again.  She's written another highly enjoyable book and infused it with the right amount of Cuban-American tidbits.  My family and I cannot put her books down once we start and this one was not a let down.</td>\n",
       "      <td>carolina garcia aguilera done shes written another highly enjoyable book infused right amount cubanamerican tidbits family put books start one let</td>\n",
       "      <td>0.4927</td>\n",
       "      <td>Positive</td>\n",
       "    </tr>\n",
       "    <tr>\n",
       "      <th>5</th>\n",
       "      <td>Not only can she write mysteries,but she sure can write a love story! This was \"ONE HOT SUMMER\" read that I couldn't put down !!!</td>\n",
       "      <td>write mysteriesbut sure write love story one hot summer read couldnt put</td>\n",
       "      <td>0.7579</td>\n",
       "      <td>Positive</td>\n",
       "    </tr>\n",
       "    <tr>\n",
       "      <th>6</th>\n",
       "      <td>Once again Garcia-Aguilera has written a book that I just can't put down. I have read and love all her mysteries- so I picked up this romance with eager anticipation. I was not disappointed. The main character Margarita is easily likeable, which makes the trials she faces that much more intriguing. Sometimes you want to yell at the book and tell Margarita what she should (and shouldn't) do. But the author is measured in the development of the plot and keeps you turning the pages all the way to the end. Mix that in with an interesting take on Cuban exile politics and humorous insights on the world around Margarita and the picture of wild, steamy Miami is complete. Another winner from Garcia-Aguilera.</td>\n",
       "      <td>garciaaguilera written book cant put read love mysteries picked romance eager anticipation disappointed main character margarita easily likeable makes trials faces much intriguing sometimes want yell book tell margarita shouldnt author measured development plot keeps turning pages way end mix interesting take cuban exile politics humorous insights world around margarita picture wild steamy miami complete another winner garciaaguilera</td>\n",
       "      <td>0.9304</td>\n",
       "      <td>Positive</td>\n",
       "    </tr>\n",
       "    <tr>\n",
       "      <th>7</th>\n",
       "      <td>The timing is just right for a good book. Actually, it's long overdue. Therefore, I highly recommend you read this book. I promise you won't be disappointed. If this doesn't make the bestsellers list something is definitely wrong here. This well written story is so engaging, funny, almost true, etc. The character Beryl was funny and sad. Unfortunately, there are women just like her and people take advantage of them. What we won't do for love. Penn said, women can be so stupid. He told her he love her on their first night together and she belived him. That was her demise right there.</td>\n",
       "      <td>timing right good book actually long overdue therefore highly recommend read book promise wont disappointed doesnt make bestsellers list something definitely wrong well written story engaging funny almost true etc character beryl funny sad unfortunately women like people take advantage wont love penn said women stupid told love first night together belived demise right</td>\n",
       "      <td>0.8324</td>\n",
       "      <td>Positive</td>\n",
       "    </tr>\n",
       "    <tr>\n",
       "      <th>8</th>\n",
       "      <td>Engaging. Dark. Reading the book you could almost feel the train wreck about to happen.  The collision of characters is painful yet stimulating.  Files show the depth of her writing in this book especially by showcasing her ethnically diverse cast.  It wasn't what I was expecting, but if you can get past the initial character introductions you'll be hooked!  The sex and graphic violence can be overwhelming and hard to stomach, but it's what makes this book...the book.  If you like tidiness this isn't the book for you...it's everything, but tidy.  Personally, I was slightly disappointed in the final direction of the book, but from a literary perspective this is close to a masterpiece.  Her books just keep getting better and better.  This one really pushes the reader mentally and educationally through her use of real literary terms and vocabulary words that may require a quick tour through Webster's.</td>\n",
       "      <td>engaging dark reading book could almost feel train wreck happen collision characters painful yet stimulating files show depth writing book especially showcasing ethnically diverse cast wasnt expecting get past initial character introductions youll hooked sex graphic violence overwhelming hard stomach makes bookthe book like tidiness isnt book youits everything tidy personally slightly disappointed final direction book literary perspective close masterpiece books keep getting better better one really pushes reader mentally educationally use real literary terms vocabulary words may require quick tour websters</td>\n",
       "      <td>0.3306</td>\n",
       "      <td>Positive</td>\n",
       "    </tr>\n",
       "    <tr>\n",
       "      <th>9</th>\n",
       "      <td>Set amid the backdrop of New York City's impervious and highly competitive literary world, a disinherited, struggling writer, Penn Hamilton, plots his course to stardom.  Born with dastardly good looks and a genius I.Q., Penn seduces the top editor in the business, Beryl Unger.  Beryl is a homely, narcoleptic, obsessive-compulsive workaholic who instantly falls for Penn's charms and his manuscript.  The spin-doctors are engaged and Penn, as much as his novel, is an overnight sensation.  The money, power, respect, and women ensue.  When Beryl discovers that Penn has another lover and threatens to expose him and ruin his budding career, Penn ends the charade by committing a heinous crime.\\n\\nThis novel is a dark comedy, filled with cynicism and wit, and a touch of satire surrounding literary figures (editors, agents, etc.) and concepts (Wagner's Gesamtkunstwerk).  Files offers a credible plot behind the evolution of Penn's ascent as an artist and embodiment of himself as a \"brand\" spanning all genres - music, fashion, literature, cinema, even legal scandals - the total package.  He becomes an infamous, opportunistic, conniving, heartless protagonist - and yet, he is still fairly likeable.  Files keeps the novel fresh and hip.  Through Penn, the reader hangs with the \"in crowd\" and meets modern icons in today's entertainment arena.\\n\\nIf readers are adventurous enough to veer away from the \"Reesy and Misty\" novels and are patient enough to appreciate the rather lengthy passages dedicated to character development, the underlying ripples of black humor, and the clever infusion of actual literary works and personalities, I think File's fans may appreciate this book as an enriched departure from her traditional `girlfriend' type of novels.\\n\\nReviewed by Phyllis\\n\\nAPOOO BookClub</td>\n",
       "      <td>set amid backdrop new york citys impervious highly competitive literary world disinherited struggling writer penn hamilton plots course stardom born dastardly good looks genius iq penn seduces top editor business beryl unger beryl homely narcoleptic obsessivecompulsive workaholic instantly falls penns charms manuscript spindoctors engaged penn much novel overnight sensation money power respect women ensue beryl discovers penn another lover threatens expose ruin budding career penn ends charade committing heinous crime novel dark comedy filled cynicism wit touch satire surrounding literary figures editors agents etc concepts wagners gesamtkunstwerk files offers credible plot behind evolution penns ascent artist embodiment brand spanning genres music fashion literature cinema even legal scandals total package becomes infamous opportunistic conniving heartless protagonist yet still fairly likeable files keeps novel fresh hip penn reader hangs crowd meets modern icons todays entertainment arena readers adventurous enough veer away reesy misty novels patient enough appreciate rather lengthy passages dedicated character development underlying ripples black humor clever infusion actual literary works personalities think files fans may appreciate book enriched departure traditional girlfriend type novels reviewed phyllis apooo bookclub</td>\n",
       "      <td>0.9774</td>\n",
       "      <td>Positive</td>\n",
       "    </tr>\n",
       "  </tbody>\n",
       "</table>\n",
       "</div>"
      ],
      "text/plain": [
       "                                                                                                                                                                                                                                                                                                                                                                                                                                                                                                                                                                                                                                                                                                                                                                                                                                                                                                                                                                                                                                                                                                                                                                                                                                                                                                                                                                                                                                                                                                                                                                                                                                                                                                                                                                                                                                                                    reviewText  \\\n",
       "0                                                                                                                                                                                                                                                                                                                                                                                                                                                                                                                                                                                                                                                                                                                                                                                                                                                                                                                                                                                                                                                                                                                                    This was the first time I read Garcia-Aguilera.  I came upon the name of this book on Live with Regis and Kelly. This book was exactly what I was looking for ... it hit the spot.  I really enjoyed this book because it was well written. Once I started this book it kept me coming back for more. It had culture, family, friendship and romance. I was looking for a little more romance when I picked this book but in the end it turned out to be just right.  I love the main chartachter Margarita (aka Daisy). I've never been to Miami but the way Daisy told the story I certainly felt I'd been there.\\nAlso after going through all of Daisy's perils ... I closed the book with a feeling I had grown emotionally as well.   \n",
       "1                                                                                                                                                                                                                                                                                                                                                                                                                                                                                                                                                                                                                                                                                                                                                                                                                                                                                                                                                                                                                                                                                                                                                                                                                                                                                                                                                                                                                                                                                                                                                                                                 As with all of Ms. Garcia-Aguilera's books, I think this is a MUST READ, impossible to put down. Successful deviation from past Lupe Solano series-captures the very essence of the excitement, local color and diverse fabric of MIAMI. Sensual and culturally enlightened!   \n",
       "2                                                                                                                                                                                                                                                                                                                                                                                                                                                                                                                                                                                                                                                                                                                                                                                                                                                                                                                                                                                                                                                                                                                                                                                                                                                                                                                                                                                                                                                                                                                                                                                                           I've not read any of Ms Aguilera's works before, but after having just finished One Hot Summer I'm going to check out the Lupe Solano series I've heard so much about.  One Hot Summer is sooo steamy! Made me want to move to Miami!  Couldn't put the book down.   \n",
       "3                                                                                                                                                                                                                                                                                                                                                                                                                                                                                                                                                                                                                                                                                                                                                                                                                                                                                                                                                                                                                                                                                                                                                                                                                                                                                                                                   This romance novel is right up there with the rest of her amazing mystery novels.  Being a guy, I was a little hesitant about reading a romance novel but I just had to give this book a shot because I have been such a huge fan of Garcia-Aguilera's books.  And to be honest, I absolutely loved this book.  I love the way she presents funky Miami and its crazy Cubans in not just this book but all her books.  Garcia-Aguilera did a superb job with this book, and I can't wait till her next book.  You gotta read this book!!!!   \n",
       "4                                                                                                                                                                                                                                                                                                                                                                                                                                                                                                                                                                                                                                                                                                                                                                                                                                                                                                                                                                                                                                                                                                                                                                                                                                                                                                                                                                                                                                                                                                                                                                                                                           Carolina Garcia Aguilera has done it again.  She's written another highly enjoyable book and infused it with the right amount of Cuban-American tidbits.  My family and I cannot put her books down once we start and this one was not a let down.   \n",
       "5                                                                                                                                                                                                                                                                                                                                                                                                                                                                                                                                                                                                                                                                                                                                                                                                                                                                                                                                                                                                                                                                                                                                                                                                                                                                                                                                                                                                                                                                                                                                                                                                                                                                                                                                            Not only can she write mysteries,but she sure can write a love story! This was \"ONE HOT SUMMER\" read that I couldn't put down !!!   \n",
       "6                                                                                                                                                                                                                                                                                                                                                                                                                                                                                                                                                                                                                                                                                                                                                                                                                                                                                                                                                                                                                                                                                                                                         Once again Garcia-Aguilera has written a book that I just can't put down. I have read and love all her mysteries- so I picked up this romance with eager anticipation. I was not disappointed. The main character Margarita is easily likeable, which makes the trials she faces that much more intriguing. Sometimes you want to yell at the book and tell Margarita what she should (and shouldn't) do. But the author is measured in the development of the plot and keeps you turning the pages all the way to the end. Mix that in with an interesting take on Cuban exile politics and humorous insights on the world around Margarita and the picture of wild, steamy Miami is complete. Another winner from Garcia-Aguilera.   \n",
       "7                                                                                                                                                                                                                                                                                                                                                                                                                                                                                                                                                                                                                                                                                                                                                                                                                                                                                                                                                                                                                                                                                                                                                                                                                                                                The timing is just right for a good book. Actually, it's long overdue. Therefore, I highly recommend you read this book. I promise you won't be disappointed. If this doesn't make the bestsellers list something is definitely wrong here. This well written story is so engaging, funny, almost true, etc. The character Beryl was funny and sad. Unfortunately, there are women just like her and people take advantage of them. What we won't do for love. Penn said, women can be so stupid. He told her he love her on their first night together and she belived him. That was her demise right there.   \n",
       "8                                                                                                                                                                                                                                                                                                                                                                                                                                                                                                                                                                                                                                                                                                                                                                                                                                                                                                                              Engaging. Dark. Reading the book you could almost feel the train wreck about to happen.  The collision of characters is painful yet stimulating.  Files show the depth of her writing in this book especially by showcasing her ethnically diverse cast.  It wasn't what I was expecting, but if you can get past the initial character introductions you'll be hooked!  The sex and graphic violence can be overwhelming and hard to stomach, but it's what makes this book...the book.  If you like tidiness this isn't the book for you...it's everything, but tidy.  Personally, I was slightly disappointed in the final direction of the book, but from a literary perspective this is close to a masterpiece.  Her books just keep getting better and better.  This one really pushes the reader mentally and educationally through her use of real literary terms and vocabulary words that may require a quick tour through Webster's.   \n",
       "9  Set amid the backdrop of New York City's impervious and highly competitive literary world, a disinherited, struggling writer, Penn Hamilton, plots his course to stardom.  Born with dastardly good looks and a genius I.Q., Penn seduces the top editor in the business, Beryl Unger.  Beryl is a homely, narcoleptic, obsessive-compulsive workaholic who instantly falls for Penn's charms and his manuscript.  The spin-doctors are engaged and Penn, as much as his novel, is an overnight sensation.  The money, power, respect, and women ensue.  When Beryl discovers that Penn has another lover and threatens to expose him and ruin his budding career, Penn ends the charade by committing a heinous crime.\\n\\nThis novel is a dark comedy, filled with cynicism and wit, and a touch of satire surrounding literary figures (editors, agents, etc.) and concepts (Wagner's Gesamtkunstwerk).  Files offers a credible plot behind the evolution of Penn's ascent as an artist and embodiment of himself as a \"brand\" spanning all genres - music, fashion, literature, cinema, even legal scandals - the total package.  He becomes an infamous, opportunistic, conniving, heartless protagonist - and yet, he is still fairly likeable.  Files keeps the novel fresh and hip.  Through Penn, the reader hangs with the \"in crowd\" and meets modern icons in today's entertainment arena.\\n\\nIf readers are adventurous enough to veer away from the \"Reesy and Misty\" novels and are patient enough to appreciate the rather lengthy passages dedicated to character development, the underlying ripples of black humor, and the clever infusion of actual literary works and personalities, I think File's fans may appreciate this book as an enriched departure from her traditional `girlfriend' type of novels.\\n\\nReviewed by Phyllis\\n\\nAPOOO BookClub   \n",
       "\n",
       "                                                                                                                                                                                                                                                                                                                                                                                                                                                                                                                                                                                                                                                                                                                                                                                                                                                                                                                                                                                                                                                                                                                                                                                                                                                                                                                                                                                          cleaned_review  \\\n",
       "0                                                                                                                                                                                                                                                                                                                                                                                                                                                                                                                                                                                                                                                                                                                                                                                                                                                                                                                                                                            first time read garciaaguilera came upon name book live regis kelly book exactly looking hit spot really enjoyed book well written started book kept coming back culture family friendship romance looking little romance picked book end turned right love main chartachter margarita aka daisy ive never miami way daisy told story certainly felt id also going daisys perils closed book feeling grown emotionally well   \n",
       "1                                                                                                                                                                                                                                                                                                                                                                                                                                                                                                                                                                                                                                                                                                                                                                                                                                                                                                                                                                                                                                                                                                                                                                                                        ms garciaaguileras books think must read impossible put successful deviation past lupe solano seriescaptures essence excitement local color diverse fabric miami sensual culturally enlightened   \n",
       "2                                                                                                                                                                                                                                                                                                                                                                                                                                                                                                                                                                                                                                                                                                                                                                                                                                                                                                                                                                                                                                                                                                                                                                                                                                  ive read ms aguileras works finished one hot summer im going check lupe solano series ive heard much one hot summer sooo steamy made want move miami couldnt put book   \n",
       "3                                                                                                                                                                                                                                                                                                                                                                                                                                                                                                                                                                                                                                                                                                                                                                                                                                                                                                                                                                                                                                                                                                    romance novel right rest amazing mystery novels guy little hesitant reading romance novel give book shot huge fan garciaaguileras books honest absolutely loved book love way presents funky miami crazy cubans book books garciaaguilera superb job book cant wait till next book got ta read book   \n",
       "4                                                                                                                                                                                                                                                                                                                                                                                                                                                                                                                                                                                                                                                                                                                                                                                                                                                                                                                                                                                                                                                                                                                                                                                                                                                     carolina garcia aguilera done shes written another highly enjoyable book infused right amount cubanamerican tidbits family put books start one let   \n",
       "5                                                                                                                                                                                                                                                                                                                                                                                                                                                                                                                                                                                                                                                                                                                                                                                                                                                                                                                                                                                                                                                                                                                                                                                                                                                                                                                               write mysteriesbut sure write love story one hot summer read couldnt put   \n",
       "6                                                                                                                                                                                                                                                                                                                                                                                                                                                                                                                                                                                                                                                                                                                                                                                                                                                                                                                                                  garciaaguilera written book cant put read love mysteries picked romance eager anticipation disappointed main character margarita easily likeable makes trials faces much intriguing sometimes want yell book tell margarita shouldnt author measured development plot keeps turning pages way end mix interesting take cuban exile politics humorous insights world around margarita picture wild steamy miami complete another winner garciaaguilera   \n",
       "7                                                                                                                                                                                                                                                                                                                                                                                                                                                                                                                                                                                                                                                                                                                                                                                                                                                                                                                                                                                                                    timing right good book actually long overdue therefore highly recommend read book promise wont disappointed doesnt make bestsellers list something definitely wrong well written story engaging funny almost true etc character beryl funny sad unfortunately women like people take advantage wont love penn said women stupid told love first night together belived demise right   \n",
       "8                                                                                                                                                                                                                                                                                                                                                                                                                                                                                                                                                                                                                                                                                                                                                                 engaging dark reading book could almost feel train wreck happen collision characters painful yet stimulating files show depth writing book especially showcasing ethnically diverse cast wasnt expecting get past initial character introductions youll hooked sex graphic violence overwhelming hard stomach makes bookthe book like tidiness isnt book youits everything tidy personally slightly disappointed final direction book literary perspective close masterpiece books keep getting better better one really pushes reader mentally educationally use real literary terms vocabulary words may require quick tour websters   \n",
       "9  set amid backdrop new york citys impervious highly competitive literary world disinherited struggling writer penn hamilton plots course stardom born dastardly good looks genius iq penn seduces top editor business beryl unger beryl homely narcoleptic obsessivecompulsive workaholic instantly falls penns charms manuscript spindoctors engaged penn much novel overnight sensation money power respect women ensue beryl discovers penn another lover threatens expose ruin budding career penn ends charade committing heinous crime novel dark comedy filled cynicism wit touch satire surrounding literary figures editors agents etc concepts wagners gesamtkunstwerk files offers credible plot behind evolution penns ascent artist embodiment brand spanning genres music fashion literature cinema even legal scandals total package becomes infamous opportunistic conniving heartless protagonist yet still fairly likeable files keeps novel fresh hip penn reader hangs crowd meets modern icons todays entertainment arena readers adventurous enough veer away reesy misty novels patient enough appreciate rather lengthy passages dedicated character development underlying ripples black humor clever infusion actual literary works personalities think files fans may appreciate book enriched departure traditional girlfriend type novels reviewed phyllis apooo bookclub   \n",
       "\n",
       "   sentiment_score sentiment  \n",
       "0           0.9764  Positive  \n",
       "1           0.8807  Positive  \n",
       "2           0.0772  Positive  \n",
       "3           0.9858  Positive  \n",
       "4           0.4927  Positive  \n",
       "5           0.7579  Positive  \n",
       "6           0.9304  Positive  \n",
       "7           0.8324  Positive  \n",
       "8           0.3306  Positive  \n",
       "9           0.9774  Positive  "
      ]
     },
     "execution_count": 27,
     "metadata": {},
     "output_type": "execute_result"
    }
   ],
   "source": [
    "df_review_text.head(10)"
   ]
  },
  {
   "cell_type": "markdown",
   "id": "2bb52df1",
   "metadata": {},
   "source": [
    "## Classification"
   ]
  },
  {
   "cell_type": "code",
   "execution_count": 28,
   "id": "52b8cbfb",
   "metadata": {},
   "outputs": [],
   "source": [
    "general_keywords = ['review', 'read', 'book', 'enjoyed', 'written']\n",
    "care_keywords = ['complaint', 'problem', 'issue', 'unhappy', 'disappointed']\n",
    "leads_keywords = ['buy', 'purchase', 'product', 'service', 'interested']"
   ]
  },
  {
   "cell_type": "code",
   "execution_count": 29,
   "id": "1451f129",
   "metadata": {},
   "outputs": [],
   "source": [
    "def categorize_message(text):\n",
    "    text = text.lower()\n",
    "    for keyword in care_keywords:\n",
    "        if keyword in text:\n",
    "            return \"Care\"\n",
    "    for keyword in leads_keywords:\n",
    "        if keyword in text:\n",
    "            return \"Leads\"\n",
    "    return \"General\""
   ]
  },
  {
   "cell_type": "code",
   "execution_count": 30,
   "id": "8579390f",
   "metadata": {},
   "outputs": [],
   "source": [
    "df_review_text['category'] = df_review_text['cleaned_review'].apply(categorize_message)"
   ]
  },
  {
   "cell_type": "code",
   "execution_count": 31,
   "id": "16f32bc9",
   "metadata": {},
   "outputs": [
    {
     "name": "stdout",
     "output_type": "stream",
     "text": [
      "                                                                                                                                                                                                                                                                                                                                                                                                                      cleaned_review  \\\n",
      "0        first time read garciaaguilera came upon name book live regis kelly book exactly looking hit spot really enjoyed book well written started book kept coming back culture family friendship romance looking little romance picked book end turned right love main chartachter margarita aka daisy ive never miami way daisy told story certainly felt id also going daisys perils closed book feeling grown emotionally well   \n",
      "1                                                                                                                                                                                                                                    ms garciaaguileras books think must read impossible put successful deviation past lupe solano seriescaptures essence excitement local color diverse fabric miami sensual culturally enlightened   \n",
      "2                                                                                                                                                                                                                                                              ive read ms aguileras works finished one hot summer im going check lupe solano series ive heard much one hot summer sooo steamy made want move miami couldnt put book   \n",
      "3                                                                                                                                romance novel right rest amazing mystery novels guy little hesitant reading romance novel give book shot huge fan garciaaguileras books honest absolutely loved book love way presents funky miami crazy cubans book books garciaaguilera superb job book cant wait till next book got ta read book   \n",
      "4                                                                                                                                                                                                                                                                                 carolina garcia aguilera done shes written another highly enjoyable book infused right amount cubanamerican tidbits family put books start one let   \n",
      "...                                                                                                                                                                                                                                                                                                                                                                                                                              ...   \n",
      "1048570                                                                                                                                                                                                                                                                                                                                                                                    mm hiresolution pcs lens filter kit black   \n",
      "1048571                                                                                                                                                                                                                                                                                                                                                                                                      low cost filter kit job   \n",
      "1048572                                                                                                                                                                                                                                                                                                                                                                                                                    filer kit   \n",
      "1048573                                                                                                                                                                                                                                                                                                                                                                                                               best bang buck   \n",
      "1048574                                                                                                                                                                                                                                                                                                                                                                                                               great exercise   \n",
      "\n",
      "        sentiment category  \n",
      "0        Positive  General  \n",
      "1        Positive  General  \n",
      "2        Positive  General  \n",
      "3        Positive  General  \n",
      "4        Positive  General  \n",
      "...           ...      ...  \n",
      "1048570   Neutral  General  \n",
      "1048571  Negative  General  \n",
      "1048572   Neutral  General  \n",
      "1048573  Positive  General  \n",
      "1048574  Positive  General  \n",
      "\n",
      "[1046804 rows x 3 columns]\n"
     ]
    }
   ],
   "source": [
    "print(df_review_text[['cleaned_review', 'sentiment', 'category']])"
   ]
  },
  {
   "cell_type": "markdown",
   "id": "4d26ac4e",
   "metadata": {},
   "source": [
    "## Display"
   ]
  },
  {
   "cell_type": "code",
   "execution_count": 32,
   "id": "053e7aae",
   "metadata": {},
   "outputs": [],
   "source": [
    "pd.set_option('display.max_colwidth', None)"
   ]
  },
  {
   "cell_type": "code",
   "execution_count": 33,
   "id": "5aaf0e65",
   "metadata": {},
   "outputs": [],
   "source": [
    "pd.set_option('display.max_colwidth', 50)"
   ]
  },
  {
   "cell_type": "code",
   "execution_count": 34,
   "id": "95c2434a",
   "metadata": {},
   "outputs": [
    {
     "name": "stdout",
     "output_type": "stream",
     "text": [
      "                                            cleaned_review sentiment category\n",
      "0        first time read garciaaguilera came upon name ...  Positive  General\n",
      "1        ms garciaaguileras books think must read impos...  Positive  General\n",
      "2        ive read ms aguileras works finished one hot s...  Positive  General\n",
      "3        romance novel right rest amazing mystery novel...  Positive  General\n",
      "4        carolina garcia aguilera done shes written ano...  Positive  General\n",
      "...                                                    ...       ...      ...\n",
      "1048570          mm hiresolution pcs lens filter kit black   Neutral  General\n",
      "1048571                            low cost filter kit job  Negative  General\n",
      "1048572                                          filer kit   Neutral  General\n",
      "1048573                                     best bang buck  Positive  General\n",
      "1048574                                     great exercise  Positive  General\n",
      "\n",
      "[1046804 rows x 3 columns]\n"
     ]
    }
   ],
   "source": [
    "print(df_review_text[['cleaned_review', 'sentiment', 'category']])"
   ]
  },
  {
   "cell_type": "code",
   "execution_count": 35,
   "id": "d561e1a3",
   "metadata": {},
   "outputs": [
    {
     "name": "stdout",
     "output_type": "stream",
     "text": [
      "General    782626\n",
      "Leads      168344\n",
      "Care        95834\n",
      "Name: category, dtype: int64\n"
     ]
    }
   ],
   "source": [
    "category_counts = df_review_text['category'].value_counts()\n",
    "print(category_counts)"
   ]
  },
  {
   "cell_type": "code",
   "execution_count": 36,
   "id": "3df435a4",
   "metadata": {},
   "outputs": [
    {
     "name": "stdout",
     "output_type": "stream",
     "text": [
      "Total number of messages: 1046804\n"
     ]
    }
   ],
   "source": [
    "total_messages = df_review_text.shape[0]\n",
    "print(\"Total number of messages:\", total_messages)"
   ]
  },
  {
   "cell_type": "markdown",
   "id": "71c34dd1",
   "metadata": {},
   "source": [
    "#### Neural Network "
   ]
  },
  {
   "cell_type": "code",
   "execution_count": 37,
   "id": "70e07454",
   "metadata": {},
   "outputs": [
    {
     "name": "stderr",
     "output_type": "stream",
     "text": [
      "2023-08-07 10:29:10.640531: I tensorflow/tsl/cuda/cudart_stub.cc:28] Could not find cuda drivers on your machine, GPU will not be used.\n",
      "2023-08-07 10:29:13.451571: I tensorflow/tsl/cuda/cudart_stub.cc:28] Could not find cuda drivers on your machine, GPU will not be used.\n",
      "2023-08-07 10:29:13.464321: I tensorflow/core/platform/cpu_feature_guard.cc:182] This TensorFlow binary is optimized to use available CPU instructions in performance-critical operations.\n",
      "To enable the following instructions: AVX2 FMA, in other operations, rebuild TensorFlow with the appropriate compiler flags.\n",
      "2023-08-07 10:29:22.784140: W tensorflow/compiler/tf2tensorrt/utils/py_utils.cc:38] TF-TRT Warning: Could not find TensorRT\n"
     ]
    }
   ],
   "source": [
    "import pandas as pd\n",
    "from sklearn.model_selection import train_test_split\n",
    "from tensorflow.keras.preprocessing.text import Tokenizer\n",
    "from tensorflow.keras.preprocessing.sequence import pad_sequences\n",
    "from tensorflow.keras.models import Sequential\n",
    "from tensorflow.keras.layers import Embedding, Flatten, Dense"
   ]
  },
  {
   "cell_type": "code",
   "execution_count": 38,
   "id": "aae68e82",
   "metadata": {},
   "outputs": [],
   "source": [
    "X = df_review_text['cleaned_review']\n",
    "y_sentiment = df_review_text['sentiment']"
   ]
  },
  {
   "cell_type": "code",
   "execution_count": 39,
   "id": "cfdfcdae",
   "metadata": {},
   "outputs": [],
   "source": [
    "y_sentiment_binary = (y_sentiment == 'Positive').astype(int)"
   ]
  },
  {
   "cell_type": "code",
   "execution_count": 40,
   "id": "e2607a90",
   "metadata": {},
   "outputs": [],
   "source": [
    "X_train, X_test, y_train_sentiment, y_test_sentiment = train_test_split(\n",
    "    X, y_sentiment_binary, test_size=0.2, random_state=42\n",
    ")"
   ]
  },
  {
   "cell_type": "code",
   "execution_count": 41,
   "id": "610ce69b",
   "metadata": {},
   "outputs": [],
   "source": [
    "max_words = 10000\n",
    "tokenizer = Tokenizer(num_words=max_words)\n",
    "tokenizer.fit_on_texts(X_train)"
   ]
  },
  {
   "cell_type": "code",
   "execution_count": 42,
   "id": "aac72f95",
   "metadata": {},
   "outputs": [],
   "source": [
    "X_train_seq = tokenizer.texts_to_sequences(X_train)\n",
    "X_test_seq = tokenizer.texts_to_sequences(X_test)"
   ]
  },
  {
   "cell_type": "code",
   "execution_count": 43,
   "id": "399202f0",
   "metadata": {},
   "outputs": [],
   "source": [
    "max_sequence_length = 200\n",
    "X_train_padded = pad_sequences(X_train_seq, maxlen=max_sequence_length)\n",
    "X_test_padded = pad_sequences(X_test_seq, maxlen=max_sequence_length)"
   ]
  },
  {
   "cell_type": "code",
   "execution_count": 44,
   "id": "a082e65c",
   "metadata": {},
   "outputs": [],
   "source": [
    "# Build the neural network model\n",
    "embedding_dim = 100"
   ]
  },
  {
   "cell_type": "code",
   "execution_count": 45,
   "id": "62c8450c",
   "metadata": {},
   "outputs": [],
   "source": [
    "model = Sequential()\n",
    "model.add(Embedding(input_dim=max_words, output_dim=embedding_dim, input_length=max_sequence_length))\n",
    "model.add(Flatten())\n",
    "model.add(Dense(128, activation='relu'))\n",
    "model.add(Dense(1, activation='sigmoid'))  # Binary classification for sentiment\n",
    "\n",
    "model.compile(loss='binary_crossentropy', optimizer='adam', metrics=['accuracy'])"
   ]
  },
  {
   "cell_type": "code",
   "execution_count": 46,
   "id": "5279f49f",
   "metadata": {
    "scrolled": true
   },
   "outputs": [
    {
     "name": "stderr",
     "output_type": "stream",
     "text": [
      "2023-08-07 10:30:14.326747: W tensorflow/tsl/framework/cpu_allocator_impl.cc:83] Allocation of 602958400 exceeds 10% of free system memory.\n"
     ]
    },
    {
     "name": "stdout",
     "output_type": "stream",
     "text": [
      "Epoch 1/2\n",
      "23554/23554 [==============================] - ETA: 0s - loss: 0.1166 - accuracy: 0.9562"
     ]
    },
    {
     "name": "stderr",
     "output_type": "stream",
     "text": [
      "2023-08-07 11:03:28.134352: W tensorflow/tsl/framework/cpu_allocator_impl.cc:83] Allocation of 66996000 exceeds 10% of free system memory.\n"
     ]
    },
    {
     "name": "stdout",
     "output_type": "stream",
     "text": [
      "23554/23554 [==============================] - 2006s 85ms/step - loss: 0.1166 - accuracy: 0.9562 - val_loss: 0.0860 - val_accuracy: 0.9683\n",
      "Epoch 2/2\n",
      "23554/23554 [==============================] - 2110s 90ms/step - loss: 0.0650 - accuracy: 0.9770 - val_loss: 0.0857 - val_accuracy: 0.9708\n"
     ]
    },
    {
     "data": {
      "text/plain": [
       "<keras.callbacks.History at 0x7f7aa07bff40>"
      ]
     },
     "execution_count": 46,
     "metadata": {},
     "output_type": "execute_result"
    }
   ],
   "source": [
    "# Train the model\n",
    "batch_size = 32\n",
    "epochs = 2\n",
    "\n",
    "model.fit(X_train_padded, y_train_sentiment, batch_size=batch_size, epochs=epochs, validation_split=0.1)"
   ]
  },
  {
   "cell_type": "code",
   "execution_count": 47,
   "id": "20b7d2c6",
   "metadata": {},
   "outputs": [
    {
     "name": "stderr",
     "output_type": "stream",
     "text": [
      "WARNING:absl:Found untraced functions such as _update_step_xla while saving (showing 1 of 1). These functions will not be directly callable after loading.\n"
     ]
    },
    {
     "name": "stdout",
     "output_type": "stream",
     "text": [
      "INFO:tensorflow:Assets written to: /home/xjoex/Desktop/trained_model/assets\n"
     ]
    },
    {
     "name": "stderr",
     "output_type": "stream",
     "text": [
      "INFO:tensorflow:Assets written to: /home/xjoex/Desktop/trained_model/assets\n"
     ]
    },
    {
     "name": "stdout",
     "output_type": "stream",
     "text": [
      "Model saved successfully.\n"
     ]
    }
   ],
   "source": [
    "model.save(\"/home/xjoex/Desktop/trained_model\")\n",
    "\n",
    "print(\"Model saved successfully.\")"
   ]
  },
  {
   "cell_type": "code",
   "execution_count": 48,
   "id": "4e832f8c",
   "metadata": {},
   "outputs": [
    {
     "data": {
      "text/html": [
       "<div>\n",
       "<style scoped>\n",
       "    .dataframe tbody tr th:only-of-type {\n",
       "        vertical-align: middle;\n",
       "    }\n",
       "\n",
       "    .dataframe tbody tr th {\n",
       "        vertical-align: top;\n",
       "    }\n",
       "\n",
       "    .dataframe thead th {\n",
       "        text-align: right;\n",
       "    }\n",
       "</style>\n",
       "<table border=\"1\" class=\"dataframe\">\n",
       "  <thead>\n",
       "    <tr style=\"text-align: right;\">\n",
       "      <th></th>\n",
       "      <th>reviewText</th>\n",
       "      <th>cleaned_review</th>\n",
       "      <th>sentiment_score</th>\n",
       "      <th>sentiment</th>\n",
       "      <th>category</th>\n",
       "    </tr>\n",
       "  </thead>\n",
       "  <tbody>\n",
       "    <tr>\n",
       "      <th>0</th>\n",
       "      <td>This was the first time I read Garcia-Aguilera...</td>\n",
       "      <td>first time read garciaaguilera came upon name ...</td>\n",
       "      <td>0.9764</td>\n",
       "      <td>Positive</td>\n",
       "      <td>General</td>\n",
       "    </tr>\n",
       "    <tr>\n",
       "      <th>1</th>\n",
       "      <td>As with all of Ms. Garcia-Aguilera's books, I ...</td>\n",
       "      <td>ms garciaaguileras books think must read impos...</td>\n",
       "      <td>0.8807</td>\n",
       "      <td>Positive</td>\n",
       "      <td>General</td>\n",
       "    </tr>\n",
       "    <tr>\n",
       "      <th>2</th>\n",
       "      <td>I've not read any of Ms Aguilera's works befor...</td>\n",
       "      <td>ive read ms aguileras works finished one hot s...</td>\n",
       "      <td>0.0772</td>\n",
       "      <td>Positive</td>\n",
       "      <td>General</td>\n",
       "    </tr>\n",
       "    <tr>\n",
       "      <th>3</th>\n",
       "      <td>This romance novel is right up there with the ...</td>\n",
       "      <td>romance novel right rest amazing mystery novel...</td>\n",
       "      <td>0.9858</td>\n",
       "      <td>Positive</td>\n",
       "      <td>General</td>\n",
       "    </tr>\n",
       "    <tr>\n",
       "      <th>4</th>\n",
       "      <td>Carolina Garcia Aguilera has done it again.  S...</td>\n",
       "      <td>carolina garcia aguilera done shes written ano...</td>\n",
       "      <td>0.4927</td>\n",
       "      <td>Positive</td>\n",
       "      <td>General</td>\n",
       "    </tr>\n",
       "    <tr>\n",
       "      <th>5</th>\n",
       "      <td>Not only can she write mysteries,but she sure ...</td>\n",
       "      <td>write mysteriesbut sure write love story one h...</td>\n",
       "      <td>0.7579</td>\n",
       "      <td>Positive</td>\n",
       "      <td>General</td>\n",
       "    </tr>\n",
       "    <tr>\n",
       "      <th>6</th>\n",
       "      <td>Once again Garcia-Aguilera has written a book ...</td>\n",
       "      <td>garciaaguilera written book cant put read love...</td>\n",
       "      <td>0.9304</td>\n",
       "      <td>Positive</td>\n",
       "      <td>Care</td>\n",
       "    </tr>\n",
       "    <tr>\n",
       "      <th>7</th>\n",
       "      <td>The timing is just right for a good book. Actu...</td>\n",
       "      <td>timing right good book actually long overdue t...</td>\n",
       "      <td>0.8324</td>\n",
       "      <td>Positive</td>\n",
       "      <td>Care</td>\n",
       "    </tr>\n",
       "    <tr>\n",
       "      <th>8</th>\n",
       "      <td>Engaging. Dark. Reading the book you could alm...</td>\n",
       "      <td>engaging dark reading book could almost feel t...</td>\n",
       "      <td>0.3306</td>\n",
       "      <td>Positive</td>\n",
       "      <td>Care</td>\n",
       "    </tr>\n",
       "    <tr>\n",
       "      <th>9</th>\n",
       "      <td>Set amid the backdrop of New York City's imper...</td>\n",
       "      <td>set amid backdrop new york citys impervious hi...</td>\n",
       "      <td>0.9774</td>\n",
       "      <td>Positive</td>\n",
       "      <td>General</td>\n",
       "    </tr>\n",
       "  </tbody>\n",
       "</table>\n",
       "</div>"
      ],
      "text/plain": [
       "                                          reviewText  \\\n",
       "0  This was the first time I read Garcia-Aguilera...   \n",
       "1  As with all of Ms. Garcia-Aguilera's books, I ...   \n",
       "2  I've not read any of Ms Aguilera's works befor...   \n",
       "3  This romance novel is right up there with the ...   \n",
       "4  Carolina Garcia Aguilera has done it again.  S...   \n",
       "5  Not only can she write mysteries,but she sure ...   \n",
       "6  Once again Garcia-Aguilera has written a book ...   \n",
       "7  The timing is just right for a good book. Actu...   \n",
       "8  Engaging. Dark. Reading the book you could alm...   \n",
       "9  Set amid the backdrop of New York City's imper...   \n",
       "\n",
       "                                      cleaned_review  sentiment_score  \\\n",
       "0  first time read garciaaguilera came upon name ...           0.9764   \n",
       "1  ms garciaaguileras books think must read impos...           0.8807   \n",
       "2  ive read ms aguileras works finished one hot s...           0.0772   \n",
       "3  romance novel right rest amazing mystery novel...           0.9858   \n",
       "4  carolina garcia aguilera done shes written ano...           0.4927   \n",
       "5  write mysteriesbut sure write love story one h...           0.7579   \n",
       "6  garciaaguilera written book cant put read love...           0.9304   \n",
       "7  timing right good book actually long overdue t...           0.8324   \n",
       "8  engaging dark reading book could almost feel t...           0.3306   \n",
       "9  set amid backdrop new york citys impervious hi...           0.9774   \n",
       "\n",
       "  sentiment category  \n",
       "0  Positive  General  \n",
       "1  Positive  General  \n",
       "2  Positive  General  \n",
       "3  Positive  General  \n",
       "4  Positive  General  \n",
       "5  Positive  General  \n",
       "6  Positive     Care  \n",
       "7  Positive     Care  \n",
       "8  Positive     Care  \n",
       "9  Positive  General  "
      ]
     },
     "execution_count": 48,
     "metadata": {},
     "output_type": "execute_result"
    }
   ],
   "source": [
    "df_review_text.head(10)"
   ]
  },
  {
   "cell_type": "markdown",
   "id": "9326d057",
   "metadata": {},
   "source": [
    "### Topic modeling"
   ]
  },
  {
   "cell_type": "code",
   "execution_count": 49,
   "id": "373b3008",
   "metadata": {},
   "outputs": [],
   "source": [
    "from sklearn.feature_extraction.text import CountVectorizer\n",
    "from gensim import matutils, models\n",
    "import scipy.sparse"
   ]
  },
  {
   "cell_type": "code",
   "execution_count": 68,
   "id": "a1f46526",
   "metadata": {},
   "outputs": [],
   "source": [
    "from sklearn.feature_extraction.text import TfidfVectorizer"
   ]
  },
  {
   "cell_type": "code",
   "execution_count": 69,
   "id": "acb12657",
   "metadata": {},
   "outputs": [],
   "source": [
    "subset_size = 2000\n",
    "subset_df = df_review_text.sample(n=subset_size, random_state=42)"
   ]
  },
  {
   "cell_type": "code",
   "execution_count": 70,
   "id": "98e24d35",
   "metadata": {},
   "outputs": [],
   "source": [
    "vectorizer = TfidfVectorizer(max_df=0.95, min_df=2, max_features=1000, stop_words='english')\n",
    "tfidf_matrix = vectorizer.fit_transform(subset_df['cleaned_review'])"
   ]
  },
  {
   "cell_type": "code",
   "execution_count": 71,
   "id": "c8996547",
   "metadata": {},
   "outputs": [],
   "source": [
    "corpus = matutils.Sparse2Corpus(tfidf_matrix.transpose())"
   ]
  },
  {
   "cell_type": "code",
   "execution_count": 72,
   "id": "dbeda971",
   "metadata": {},
   "outputs": [],
   "source": [
    "id2word = dict((v, k) for k, v in vectorizer.vocabulary_.items())"
   ]
  },
  {
   "cell_type": "code",
   "execution_count": 73,
   "id": "17b97ce3",
   "metadata": {},
   "outputs": [
    {
     "name": "stderr",
     "output_type": "stream",
     "text": [
      "WARNING:gensim.models.ldamulticore:too few updates, training might not converge; consider increasing the number of passes or iterations to improve accuracy\n"
     ]
    }
   ],
   "source": [
    "# Perform LDA\n",
    "num_topics = 7\n",
    "passes = 5 \n",
    "lda = models.LdaMulticore(corpus=corpus, num_topics=num_topics, id2word=id2word, passes=passes, workers=4)"
   ]
  },
  {
   "cell_type": "code",
   "execution_count": 75,
   "id": "49464fa8",
   "metadata": {},
   "outputs": [
    {
     "name": "stdout",
     "output_type": "stream",
     "text": [
      "Topic #1: 0.027*\"excellent\" + 0.021*\"value\" + 0.020*\"work\" + 0.020*\"great\" + 0.012*\"cable\" + 0.011*\"happy\" + 0.009*\"headphones\" + 0.009*\"product\" + 0.008*\"im\" + 0.008*\"good\"\n",
      "\n",
      "Topic #2: 0.021*\"perfect\" + 0.014*\"like\" + 0.012*\"great\" + 0.009*\"job\" + 0.009*\"product\" + 0.009*\"little\" + 0.008*\"work\" + 0.008*\"radio\" + 0.007*\"good\" + 0.007*\"sound\"\n",
      "\n",
      "Topic #3: 0.016*\"great\" + 0.015*\"love\" + 0.011*\"needed\" + 0.009*\"item\" + 0.008*\"far\" + 0.008*\"use\" + 0.007*\"bought\" + 0.007*\"best\" + 0.007*\"like\" + 0.007*\"product\"\n",
      "\n",
      "Topic #4: 0.134*\"stars\" + 0.062*\"great\" + 0.060*\"works\" + 0.025*\"product\" + 0.017*\"good\" + 0.010*\"fit\" + 0.008*\"use\" + 0.008*\"perfect\" + 0.008*\"nice\" + 0.008*\"camera\"\n",
      "\n",
      "Topic #5: 0.049*\"good\" + 0.030*\"price\" + 0.022*\"great\" + 0.014*\"quality\" + 0.013*\"headphones\" + 0.011*\"sound\" + 0.011*\"best\" + 0.008*\"works\" + 0.007*\"junk\" + 0.007*\"ear\"\n",
      "\n",
      "Topic #6: 0.015*\"ok\" + 0.014*\"speakers\" + 0.011*\"star\" + 0.011*\"size\" + 0.011*\"great\" + 0.010*\"mm\" + 0.008*\"jack\" + 0.008*\"light\" + 0.008*\"better\" + 0.008*\"super\"\n",
      "\n",
      "Topic #7: 0.013*\"customer\" + 0.013*\"amazon\" + 0.013*\"camera\" + 0.012*\"good\" + 0.012*\"great\" + 0.011*\"lens\" + 0.011*\"expected\" + 0.010*\"buy\" + 0.009*\"use\" + 0.009*\"worked\"\n",
      "\n"
     ]
    }
   ],
   "source": [
    "for topic_num, words in lda.print_topics():\n",
    "    print(f\"Topic #{topic_num + 1}: {words}\\n\")"
   ]
  },
  {
   "cell_type": "code",
   "execution_count": null,
   "id": "1a098428",
   "metadata": {},
   "outputs": [],
   "source": []
  }
 ],
 "metadata": {
  "kernelspec": {
   "display_name": "Python 3 (ipykernel)",
   "language": "python",
   "name": "python3"
  },
  "language_info": {
   "codemirror_mode": {
    "name": "ipython",
    "version": 3
   },
   "file_extension": ".py",
   "mimetype": "text/x-python",
   "name": "python",
   "nbconvert_exporter": "python",
   "pygments_lexer": "ipython3",
   "version": "3.10.9"
  }
 },
 "nbformat": 4,
 "nbformat_minor": 5
}
