{
 "cells": [
  {
   "cell_type": "code",
   "execution_count": 1,
   "id": "026f3bcc",
   "metadata": {},
   "outputs": [],
   "source": [
    "#pip install beautifulsoup4"
   ]
  },
  {
   "cell_type": "code",
   "execution_count": 2,
   "id": "1526ebf1",
   "metadata": {},
   "outputs": [],
   "source": [
    "#pip install requests"
   ]
  },
  {
   "cell_type": "code",
   "execution_count": 3,
   "id": "e12fc615",
   "metadata": {},
   "outputs": [
    {
     "ename": "IndentationError",
     "evalue": "unexpected indent (3872864214.py, line 7)",
     "output_type": "error",
     "traceback": [
      "\u001b[0;36m  Input \u001b[0;32mIn [3]\u001b[0;36m\u001b[0m\n\u001b[0;31m    url = \"https://www.amazon.com/s?k=Electronics\"\u001b[0m\n\u001b[0m    ^\u001b[0m\n\u001b[0;31mIndentationError\u001b[0m\u001b[0;31m:\u001b[0m unexpected indent\n"
     ]
    }
   ],
   "source": [
    "import requests\n",
    "from bs4 import BeautifulSoup\n",
    "import csv\n",
    "import time\n",
    "\n",
    "#def scrape_amazon_Electronics_reviews():\n",
    "    url = \"https://www.amazon.com/s?k=Electronics\"  \n",
    "    headers = {\n",
    "        \"User-Agent\": \"Mozilla/5.0 (Windows NT 10.0; Win64; x64) AppleWebKit/537.36 (KHTML, like Gecko) Chrome/58.0.3029.110 Safari/537.3\"}\n",
    "    \n",
    "    response = requests.get(url, headers=headers)\n",
    "    \n",
    "    #if response.status_code == 200:\n",
    "        soup = BeautifulSoup(response.content, \"html.parser\")\n",
    "        product_links = []\n",
    "        \n",
    "        #for product in soup.find_all(\"div\", class_=\"sg-col-inner\"):\n",
    "            link = product.find(\"a\", class_=\"a-link-normal\")\n",
    "            #if link:\n",
    "                product_links.append(\"https://www.amazon.com\" + link['href'])\n",
    "        \n",
    "        #with open(\"Electronics_reviews.csv\", \"w\", newline=\"\", encoding=\"utf-8\") as csvfile:\n",
    "            writer = csv.writer(csvfile)\n",
    "            writer.writerow([\"Rating\", \"Comment\"])\n",
    "            \n",
    "            #for link in product_links:\n",
    "                response = requests.get(link, headers=headers)\n",
    "                #if response.status_code == 200:\n",
    "                    soup = BeautifulSoup(response.content, \"html.parser\")\n",
    "                    product_title = soup.find(\"span\", class_=\"a-size-large product-title-word-break\").text.strip()\n",
    "                    \n",
    "                    review_section = soup.find(\"div\", {\"data-hook\": \"reviews-collapsed\"})\n",
    "                    #if review_section:\n",
    "                        reviews = review_section.find_all(\"span\", {\"data-hook\": \"review-body\"})\n",
    "                        #for review in reviews:\n",
    "                            rating = review.find_previous(\"i\").text.strip()  \n",
    "                            comment = review.text.strip()  # Get the comment text\n",
    "                            writer.writerow([rating, comment])\n",
    "                            \n",
    "                            # Introduce a delay to avoid overwhelming the server\n",
    "                            time.sleep(2)  \n",
    "                #else:\n",
    "                    print(f\"Failed to scrape {link}. Status code: {response.status_code}\")\n",
    "                    # Retry the request after waiting for a while\n",
    "                    time.sleep(10)  \n",
    "    #else:\n",
    "        print(f\"Failed to access the URL. Status code: {response.status_code}\")\n",
    "\n",
    "\n",
    "#if __name__ == \"__main__\":\n",
    "    scrape_amazon_Electronics()"
   ]
  },
  {
   "cell_type": "markdown",
   "id": "9333047d",
   "metadata": {},
   "source": [
    "The aboce code can be used to scrap data, but amazon and almost all platforms have restricted it, so i got in touch with stanford where they had amazon electronics dataset and they mailed it to me "
   ]
  },
  {
   "cell_type": "markdown",
   "id": "752ccafc",
   "metadata": {},
   "source": [
    "### Reading Json File"
   ]
  },
  {
   "cell_type": "code",
   "execution_count": null,
   "id": "cb243004",
   "metadata": {},
   "outputs": [],
   "source": [
    "#import json\n",
    "#import os\n",
    "\n",
    "\n",
    "file_path = os.path.expanduser(\"~/Desktop/Final Project/Electronics.json\")\n",
    "\n",
    "#def stream_json_data(file_path):\n",
    "    #with open(file_path, \"r\") as json_file:\n",
    "        #for line_number, line in enumerate(json_file, start=1):\n",
    "            #try:\n",
    "                data = json.loads(line)\n",
    "                #yield data\n",
    "            #except json.JSONDecodeError:\n",
    "                print(f\"Error parsing line {line_number}: {line}\")\n",
    "\n",
    "#for index, item in enumerate(stream_json_data(file_path), start=1):\n",
    "    print(f\"Row {index}: {item}\")\n",
    "    #if index == 20:\n",
    "        #break"
   ]
  },
  {
   "cell_type": "markdown",
   "id": "13ba55b8",
   "metadata": {},
   "source": [
    "### Converting it into Excel File"
   ]
  },
  {
   "cell_type": "code",
   "execution_count": null,
   "id": "d8476dd2",
   "metadata": {},
   "outputs": [],
   "source": [
    "#import os\n",
    "#import json\n",
    "#import pandas as pd\n",
    "#from itertools import islice\n",
    "\n",
    "file_path = os.path.expanduser(\"~/Desktop/Final Project/Electronics.json\")\n",
    "\n",
    "chunk_size = 1000\n",
    "\n",
    "json_directory = os.path.dirname(file_path)\n",
    "\n",
    "output_file_path = os.path.join(json_directory, \"Electronics.xlsx\")\n",
    "\n",
    "excel_writer = pd.ExcelWriter(output_file_path, engine=\"xlsxwriter\")\n",
    "\n",
    "row_counter = 0\n",
    "\n",
    "#with open(file_path, \"r\") as json_file:\n",
    "    #while True:\n",
    "        data_chunk = list(islice(json_file, chunk_size))\n",
    "        #if not data_chunk:\n",
    "            #break\n",
    "\n",
    "        df_chunk = pd.DataFrame([json.loads(line) for line in data_chunk])\n",
    "\n",
    "        df_chunk.to_excel(excel_writer, sheet_name=\"Sheet1\", index=False, startrow=row_counter)\n",
    "\n",
    "        row_counter += len(df_chunk)\n",
    "\n",
    "excel_writer.save()\n",
    "\n",
    "#print(\"Data saved to Excel file:\", output_file_path)"
   ]
  },
  {
   "cell_type": "code",
   "execution_count": 4,
   "id": "d33c45b8",
   "metadata": {},
   "outputs": [
    {
     "name": "stdout",
     "output_type": "stream",
     "text": [
      "  overall verified   reviewTime      reviewerID        asin  \\\n",
      "0       5     True  07 17, 2002  A1N070NS9CJQ2I  0060009810   \n",
      "1       5    False   07 6, 2002  A3P0KRKOBQK1KN  0060009810   \n",
      "2       5    False   07 3, 2002  A192HO2ICJ75VU  0060009810   \n",
      "3       4    False  06 30, 2002  A2T278FKFL3BLT  0060009810   \n",
      "4       5    False  06 28, 2002  A2ZUXVTW8RXBXW  0060009810   \n",
      "\n",
      "                       style reviewerName  \\\n",
      "0  {'Format:': ' Hardcover'}   Teri Adams   \n",
      "1  {'Format:': ' Hardcover'}     Willa C.   \n",
      "2  {'Format:': ' Hardcover'}          Kit   \n",
      "3  {'Format:': ' Hardcover'}       Andres   \n",
      "4  {'Format:': ' Hardcover'}         John   \n",
      "\n",
      "                                          reviewText  \\\n",
      "0  This was the first time I read Garcia-Aguilera...   \n",
      "1  As with all of Ms. Garcia-Aguilera's books, I ...   \n",
      "2  I've not read any of Ms Aguilera's works befor...   \n",
      "3  This romance novel is right up there with the ...   \n",
      "4  Carolina Garcia Aguilera has done it again.  S...   \n",
      "\n",
      "                          summary unixReviewTime vote image  \n",
      "0                   Hit The Spot!     1026864000  NaN   NaN  \n",
      "1  one hot summer is HOT HOT HOT!     1025913600  NaN   NaN  \n",
      "2                  One Hot Summer     1025654400    2   NaN  \n",
      "3               I love this book!     1025395200    3   NaN  \n",
      "4                    One Hot Book     1025222400  NaN   NaN  \n"
     ]
    }
   ],
   "source": [
    "import pandas as pd\n",
    "import os\n",
    "\n",
    "file_path = \"/home/xjoex/Desktop/Electronics.xlsx\"\n",
    "\n",
    "df = pd.read_excel(file_path)\n",
    "\n",
    "print(df.head())"
   ]
  },
  {
   "cell_type": "code",
   "execution_count": 12,
   "id": "b39974e8",
   "metadata": {},
   "outputs": [
    {
     "name": "stdout",
     "output_type": "stream",
     "text": [
      "Shape of the dataset: (1048575, 9)\n"
     ]
    }
   ],
   "source": [
    "print(\"Shape of the dataset:\", df.shape)"
   ]
  },
  {
   "cell_type": "code",
   "execution_count": 13,
   "id": "1d45590f",
   "metadata": {},
   "outputs": [
    {
     "name": "stdout",
     "output_type": "stream",
     "text": [
      "\n",
      "Basic Information:\n",
      "<class 'pandas.core.frame.DataFrame'>\n",
      "RangeIndex: 1048575 entries, 0 to 1048574\n",
      "Data columns (total 9 columns):\n",
      " #   Column          Non-Null Count    Dtype \n",
      "---  ------          --------------    ----- \n",
      " 0   overall         1035845 non-null  object\n",
      " 1   verified        887548 non-null   object\n",
      " 2   reviewTime      1042266 non-null  object\n",
      " 3   reviewerID      1048575 non-null  object\n",
      " 4   asin            1047571 non-null  object\n",
      " 5   style           902959 non-null   object\n",
      " 6   reviewText      1046804 non-null  object\n",
      " 7   summary         1048484 non-null  object\n",
      " 8   unixReviewTime  799614 non-null   object\n",
      "dtypes: object(9)\n",
      "memory usage: 72.0+ MB\n",
      "None\n"
     ]
    }
   ],
   "source": [
    "print(\"\\nBasic Information:\")\n",
    "print(df.info())"
   ]
  },
  {
   "cell_type": "code",
   "execution_count": 14,
   "id": "bfd60f1e",
   "metadata": {},
   "outputs": [
    {
     "name": "stdout",
     "output_type": "stream",
     "text": [
      "\n",
      "Summary Statistics:\n",
      "        overall verified reviewTime reviewerID        asin  \\\n",
      "count   1035845   887548    1042266    1048575     1047571   \n",
      "unique    39424      977      39728     638976      267167   \n",
      "top           5     True       True       True  B000BQ7GW8   \n",
      "freq     598079   596838     161443      42032       13755   \n",
      "\n",
      "                                           style  reviewText     summary  \\\n",
      "count                                     902959     1046804     1048484   \n",
      "unique                                    228626      836949      447538   \n",
      "top     {'Package Type:': ' Standard Packaging'}  Five Stars  Five Stars   \n",
      "freq                                       33969       38232       79448   \n",
      "\n",
      "       unixReviewTime  \n",
      "count          799614  \n",
      "unique          72620  \n",
      "top                 2  \n",
      "freq            16755  \n"
     ]
    }
   ],
   "source": [
    "print(\"\\nSummary Statistics:\")\n",
    "print(df.describe())"
   ]
  },
  {
   "cell_type": "code",
   "execution_count": 15,
   "id": "3e2a9991",
   "metadata": {},
   "outputs": [
    {
     "data": {
      "text/html": [
       "<div>\n",
       "<style scoped>\n",
       "    .dataframe tbody tr th:only-of-type {\n",
       "        vertical-align: middle;\n",
       "    }\n",
       "\n",
       "    .dataframe tbody tr th {\n",
       "        vertical-align: top;\n",
       "    }\n",
       "\n",
       "    .dataframe thead th {\n",
       "        text-align: right;\n",
       "    }\n",
       "</style>\n",
       "<table border=\"1\" class=\"dataframe\">\n",
       "  <thead>\n",
       "    <tr style=\"text-align: right;\">\n",
       "      <th></th>\n",
       "      <th>overall</th>\n",
       "      <th>verified</th>\n",
       "      <th>reviewTime</th>\n",
       "      <th>reviewerID</th>\n",
       "      <th>asin</th>\n",
       "      <th>style</th>\n",
       "      <th>reviewText</th>\n",
       "      <th>summary</th>\n",
       "      <th>unixReviewTime</th>\n",
       "    </tr>\n",
       "  </thead>\n",
       "  <tbody>\n",
       "    <tr>\n",
       "      <th>0</th>\n",
       "      <td>5</td>\n",
       "      <td>True</td>\n",
       "      <td>07 17, 2002</td>\n",
       "      <td>A1N070NS9CJQ2I</td>\n",
       "      <td>0060009810</td>\n",
       "      <td>{'Format:': ' Hardcover'}</td>\n",
       "      <td>This was the first time I read Garcia-Aguilera...</td>\n",
       "      <td>Hit The Spot!</td>\n",
       "      <td>1026864000</td>\n",
       "    </tr>\n",
       "    <tr>\n",
       "      <th>1</th>\n",
       "      <td>5</td>\n",
       "      <td>False</td>\n",
       "      <td>07 6, 2002</td>\n",
       "      <td>A3P0KRKOBQK1KN</td>\n",
       "      <td>0060009810</td>\n",
       "      <td>{'Format:': ' Hardcover'}</td>\n",
       "      <td>As with all of Ms. Garcia-Aguilera's books, I ...</td>\n",
       "      <td>one hot summer is HOT HOT HOT!</td>\n",
       "      <td>1025913600</td>\n",
       "    </tr>\n",
       "    <tr>\n",
       "      <th>2</th>\n",
       "      <td>5</td>\n",
       "      <td>False</td>\n",
       "      <td>07 3, 2002</td>\n",
       "      <td>A192HO2ICJ75VU</td>\n",
       "      <td>0060009810</td>\n",
       "      <td>{'Format:': ' Hardcover'}</td>\n",
       "      <td>I've not read any of Ms Aguilera's works befor...</td>\n",
       "      <td>One Hot Summer</td>\n",
       "      <td>1025654400</td>\n",
       "    </tr>\n",
       "    <tr>\n",
       "      <th>3</th>\n",
       "      <td>4</td>\n",
       "      <td>False</td>\n",
       "      <td>06 30, 2002</td>\n",
       "      <td>A2T278FKFL3BLT</td>\n",
       "      <td>0060009810</td>\n",
       "      <td>{'Format:': ' Hardcover'}</td>\n",
       "      <td>This romance novel is right up there with the ...</td>\n",
       "      <td>I love this book!</td>\n",
       "      <td>1025395200</td>\n",
       "    </tr>\n",
       "    <tr>\n",
       "      <th>4</th>\n",
       "      <td>5</td>\n",
       "      <td>False</td>\n",
       "      <td>06 28, 2002</td>\n",
       "      <td>A2ZUXVTW8RXBXW</td>\n",
       "      <td>0060009810</td>\n",
       "      <td>{'Format:': ' Hardcover'}</td>\n",
       "      <td>Carolina Garcia Aguilera has done it again.  S...</td>\n",
       "      <td>One Hot Book</td>\n",
       "      <td>1025222400</td>\n",
       "    </tr>\n",
       "    <tr>\n",
       "      <th>5</th>\n",
       "      <td>4</td>\n",
       "      <td>False</td>\n",
       "      <td>06 25, 2002</td>\n",
       "      <td>A21JDG4HA6OLPF</td>\n",
       "      <td>0060009810</td>\n",
       "      <td>{'Format:': ' Hardcover'}</td>\n",
       "      <td>Not only can she write mysteries,but she sure ...</td>\n",
       "      <td>Carolina does it again!</td>\n",
       "      <td>1024963200</td>\n",
       "    </tr>\n",
       "    <tr>\n",
       "      <th>6</th>\n",
       "      <td>5</td>\n",
       "      <td>False</td>\n",
       "      <td>06 22, 2002</td>\n",
       "      <td>A2NCADLQY962YD</td>\n",
       "      <td>0060009810</td>\n",
       "      <td>{'Format:': ' Hardcover'}</td>\n",
       "      <td>Once again Garcia-Aguilera has written a book ...</td>\n",
       "      <td>It's no mystery, Garcia-Aguilera can do romance</td>\n",
       "      <td>1024704000</td>\n",
       "    </tr>\n",
       "    <tr>\n",
       "      <th>7</th>\n",
       "      <td>5</td>\n",
       "      <td>False</td>\n",
       "      <td>01 26, 2006</td>\n",
       "      <td>A2UNA438B0FRA8</td>\n",
       "      <td>0060786817</td>\n",
       "      <td>{'Format:': ' Hardcover'}</td>\n",
       "      <td>The timing is just right for a good book. Actu...</td>\n",
       "      <td>A breath of fresh air for reading</td>\n",
       "      <td>1138233600</td>\n",
       "    </tr>\n",
       "    <tr>\n",
       "      <th>8</th>\n",
       "      <td>5</td>\n",
       "      <td>False</td>\n",
       "      <td>01 21, 2006</td>\n",
       "      <td>A2NQQSHSQKKGEX</td>\n",
       "      <td>0060786817</td>\n",
       "      <td>{'Format:': ' Hardcover'}</td>\n",
       "      <td>Engaging. Dark. Reading the book you could alm...</td>\n",
       "      <td>Well written page turner with fully develped c...</td>\n",
       "      <td>1137801600</td>\n",
       "    </tr>\n",
       "    <tr>\n",
       "      <th>9</th>\n",
       "      <td>3</td>\n",
       "      <td>False</td>\n",
       "      <td>01 18, 2006</td>\n",
       "      <td>A5EXND10WD4PM</td>\n",
       "      <td>0060786817</td>\n",
       "      <td>{'Format:': ' Hardcover'}</td>\n",
       "      <td>Set amid the backdrop of New York City's imper...</td>\n",
       "      <td>The Title Tells The Story!</td>\n",
       "      <td>1137542400</td>\n",
       "    </tr>\n",
       "    <tr>\n",
       "      <th>10</th>\n",
       "      <td>5</td>\n",
       "      <td>False</td>\n",
       "      <td>01 18, 2006</td>\n",
       "      <td>AVJ37XQN3ID16</td>\n",
       "      <td>0060786817</td>\n",
       "      <td>{'Format:': ' Hardcover'}</td>\n",
       "      <td>A guilty pleasure of a book with characters so...</td>\n",
       "      <td>So much fun</td>\n",
       "      <td>1137542400</td>\n",
       "    </tr>\n",
       "    <tr>\n",
       "      <th>11</th>\n",
       "      <td>4</td>\n",
       "      <td>False</td>\n",
       "      <td>01 10, 2006</td>\n",
       "      <td>A21NVBFIEQWDSG</td>\n",
       "      <td>0060786817</td>\n",
       "      <td>{'Format:': ' Hardcover'}</td>\n",
       "      <td>I'd never before read a Lolita Files' book, an...</td>\n",
       "      <td>Delightfully wicked!</td>\n",
       "      <td>1136851200</td>\n",
       "    </tr>\n",
       "    <tr>\n",
       "      <th>12</th>\n",
       "      <td>5</td>\n",
       "      <td>False</td>\n",
       "      <td>10 9, 2008</td>\n",
       "      <td>A1KWVR13XUOGQG</td>\n",
       "      <td>0060786817</td>\n",
       "      <td>{'Format:': ' Hardcover'}</td>\n",
       "      <td>Wow, I was totally blown away by this book.  J...</td>\n",
       "      <td>Lolita Files Does It Again</td>\n",
       "      <td>1223510400</td>\n",
       "    </tr>\n",
       "    <tr>\n",
       "      <th>13</th>\n",
       "      <td>4</td>\n",
       "      <td>False</td>\n",
       "      <td>04 24, 2008</td>\n",
       "      <td>A2PH70X2FVDDGH</td>\n",
       "      <td>0060786817</td>\n",
       "      <td>{'Format:': ' Hardcover'}</td>\n",
       "      <td>Lolita Files is one of my favorite authors. Sh...</td>\n",
       "      <td>A superb storyteller</td>\n",
       "      <td>1208995200</td>\n",
       "    </tr>\n",
       "    <tr>\n",
       "      <th>14</th>\n",
       "      <td>3</td>\n",
       "      <td>False</td>\n",
       "      <td>08 16, 2007</td>\n",
       "      <td>A25R6KND6KDDCU</td>\n",
       "      <td>0060786817</td>\n",
       "      <td>{'Format:': ' Hardcover'}</td>\n",
       "      <td>This book is...I don't even know what to call ...</td>\n",
       "      <td>Crazy, Just Crazy</td>\n",
       "      <td>1187222400</td>\n",
       "    </tr>\n",
       "  </tbody>\n",
       "</table>\n",
       "</div>"
      ],
      "text/plain": [
       "   overall verified   reviewTime      reviewerID        asin  \\\n",
       "0        5     True  07 17, 2002  A1N070NS9CJQ2I  0060009810   \n",
       "1        5    False   07 6, 2002  A3P0KRKOBQK1KN  0060009810   \n",
       "2        5    False   07 3, 2002  A192HO2ICJ75VU  0060009810   \n",
       "3        4    False  06 30, 2002  A2T278FKFL3BLT  0060009810   \n",
       "4        5    False  06 28, 2002  A2ZUXVTW8RXBXW  0060009810   \n",
       "5        4    False  06 25, 2002  A21JDG4HA6OLPF  0060009810   \n",
       "6        5    False  06 22, 2002  A2NCADLQY962YD  0060009810   \n",
       "7        5    False  01 26, 2006  A2UNA438B0FRA8  0060786817   \n",
       "8        5    False  01 21, 2006  A2NQQSHSQKKGEX  0060786817   \n",
       "9        3    False  01 18, 2006   A5EXND10WD4PM  0060786817   \n",
       "10       5    False  01 18, 2006   AVJ37XQN3ID16  0060786817   \n",
       "11       4    False  01 10, 2006  A21NVBFIEQWDSG  0060786817   \n",
       "12       5    False   10 9, 2008  A1KWVR13XUOGQG  0060786817   \n",
       "13       4    False  04 24, 2008  A2PH70X2FVDDGH  0060786817   \n",
       "14       3    False  08 16, 2007  A25R6KND6KDDCU  0060786817   \n",
       "\n",
       "                        style  \\\n",
       "0   {'Format:': ' Hardcover'}   \n",
       "1   {'Format:': ' Hardcover'}   \n",
       "2   {'Format:': ' Hardcover'}   \n",
       "3   {'Format:': ' Hardcover'}   \n",
       "4   {'Format:': ' Hardcover'}   \n",
       "5   {'Format:': ' Hardcover'}   \n",
       "6   {'Format:': ' Hardcover'}   \n",
       "7   {'Format:': ' Hardcover'}   \n",
       "8   {'Format:': ' Hardcover'}   \n",
       "9   {'Format:': ' Hardcover'}   \n",
       "10  {'Format:': ' Hardcover'}   \n",
       "11  {'Format:': ' Hardcover'}   \n",
       "12  {'Format:': ' Hardcover'}   \n",
       "13  {'Format:': ' Hardcover'}   \n",
       "14  {'Format:': ' Hardcover'}   \n",
       "\n",
       "                                           reviewText  \\\n",
       "0   This was the first time I read Garcia-Aguilera...   \n",
       "1   As with all of Ms. Garcia-Aguilera's books, I ...   \n",
       "2   I've not read any of Ms Aguilera's works befor...   \n",
       "3   This romance novel is right up there with the ...   \n",
       "4   Carolina Garcia Aguilera has done it again.  S...   \n",
       "5   Not only can she write mysteries,but she sure ...   \n",
       "6   Once again Garcia-Aguilera has written a book ...   \n",
       "7   The timing is just right for a good book. Actu...   \n",
       "8   Engaging. Dark. Reading the book you could alm...   \n",
       "9   Set amid the backdrop of New York City's imper...   \n",
       "10  A guilty pleasure of a book with characters so...   \n",
       "11  I'd never before read a Lolita Files' book, an...   \n",
       "12  Wow, I was totally blown away by this book.  J...   \n",
       "13  Lolita Files is one of my favorite authors. Sh...   \n",
       "14  This book is...I don't even know what to call ...   \n",
       "\n",
       "                                              summary unixReviewTime  \n",
       "0                                       Hit The Spot!     1026864000  \n",
       "1                      one hot summer is HOT HOT HOT!     1025913600  \n",
       "2                                      One Hot Summer     1025654400  \n",
       "3                                   I love this book!     1025395200  \n",
       "4                                        One Hot Book     1025222400  \n",
       "5                             Carolina does it again!     1024963200  \n",
       "6     It's no mystery, Garcia-Aguilera can do romance     1024704000  \n",
       "7                   A breath of fresh air for reading     1138233600  \n",
       "8   Well written page turner with fully develped c...     1137801600  \n",
       "9                          The Title Tells The Story!     1137542400  \n",
       "10                                        So much fun     1137542400  \n",
       "11                               Delightfully wicked!     1136851200  \n",
       "12                         Lolita Files Does It Again     1223510400  \n",
       "13                               A superb storyteller     1208995200  \n",
       "14                                  Crazy, Just Crazy     1187222400  "
      ]
     },
     "execution_count": 15,
     "metadata": {},
     "output_type": "execute_result"
    }
   ],
   "source": [
    "df.head(15)"
   ]
  },
  {
   "cell_type": "code",
   "execution_count": 16,
   "id": "33a3c30a",
   "metadata": {},
   "outputs": [
    {
     "ename": "KeyError",
     "evalue": "\"['reviewerName', 'vote', 'image'] not found in axis\"",
     "output_type": "error",
     "traceback": [
      "\u001b[0;31m---------------------------------------------------------------------------\u001b[0m",
      "\u001b[0;31mKeyError\u001b[0m                                  Traceback (most recent call last)",
      "Cell \u001b[0;32mIn[16], line 1\u001b[0m\n\u001b[0;32m----> 1\u001b[0m df \u001b[38;5;241m=\u001b[39m \u001b[43mdf\u001b[49m\u001b[38;5;241;43m.\u001b[39;49m\u001b[43mdrop\u001b[49m\u001b[43m(\u001b[49m\u001b[43mcolumns\u001b[49m\u001b[38;5;241;43m=\u001b[39;49m\u001b[43m[\u001b[49m\u001b[38;5;124;43m'\u001b[39;49m\u001b[38;5;124;43mreviewerName\u001b[39;49m\u001b[38;5;124;43m'\u001b[39;49m\u001b[43m,\u001b[49m\u001b[43m \u001b[49m\u001b[38;5;124;43m'\u001b[39;49m\u001b[38;5;124;43mvote\u001b[39;49m\u001b[38;5;124;43m'\u001b[39;49m\u001b[43m,\u001b[49m\u001b[43m \u001b[49m\u001b[38;5;124;43m'\u001b[39;49m\u001b[38;5;124;43mimage\u001b[39;49m\u001b[38;5;124;43m'\u001b[39;49m\u001b[43m]\u001b[49m\u001b[43m)\u001b[49m\n",
      "File \u001b[0;32m~/anaconda3/lib/python3.10/site-packages/pandas/util/_decorators.py:331\u001b[0m, in \u001b[0;36mdeprecate_nonkeyword_arguments.<locals>.decorate.<locals>.wrapper\u001b[0;34m(*args, **kwargs)\u001b[0m\n\u001b[1;32m    325\u001b[0m \u001b[38;5;28;01mif\u001b[39;00m \u001b[38;5;28mlen\u001b[39m(args) \u001b[38;5;241m>\u001b[39m num_allow_args:\n\u001b[1;32m    326\u001b[0m     warnings\u001b[38;5;241m.\u001b[39mwarn(\n\u001b[1;32m    327\u001b[0m         msg\u001b[38;5;241m.\u001b[39mformat(arguments\u001b[38;5;241m=\u001b[39m_format_argument_list(allow_args)),\n\u001b[1;32m    328\u001b[0m         \u001b[38;5;167;01mFutureWarning\u001b[39;00m,\n\u001b[1;32m    329\u001b[0m         stacklevel\u001b[38;5;241m=\u001b[39mfind_stack_level(),\n\u001b[1;32m    330\u001b[0m     )\n\u001b[0;32m--> 331\u001b[0m \u001b[38;5;28;01mreturn\u001b[39;00m \u001b[43mfunc\u001b[49m\u001b[43m(\u001b[49m\u001b[38;5;241;43m*\u001b[39;49m\u001b[43margs\u001b[49m\u001b[43m,\u001b[49m\u001b[43m \u001b[49m\u001b[38;5;241;43m*\u001b[39;49m\u001b[38;5;241;43m*\u001b[39;49m\u001b[43mkwargs\u001b[49m\u001b[43m)\u001b[49m\n",
      "File \u001b[0;32m~/anaconda3/lib/python3.10/site-packages/pandas/core/frame.py:5399\u001b[0m, in \u001b[0;36mDataFrame.drop\u001b[0;34m(self, labels, axis, index, columns, level, inplace, errors)\u001b[0m\n\u001b[1;32m   5251\u001b[0m \u001b[38;5;129m@deprecate_nonkeyword_arguments\u001b[39m(version\u001b[38;5;241m=\u001b[39m\u001b[38;5;28;01mNone\u001b[39;00m, allowed_args\u001b[38;5;241m=\u001b[39m[\u001b[38;5;124m\"\u001b[39m\u001b[38;5;124mself\u001b[39m\u001b[38;5;124m\"\u001b[39m, \u001b[38;5;124m\"\u001b[39m\u001b[38;5;124mlabels\u001b[39m\u001b[38;5;124m\"\u001b[39m])\n\u001b[1;32m   5252\u001b[0m \u001b[38;5;28;01mdef\u001b[39;00m \u001b[38;5;21mdrop\u001b[39m(  \u001b[38;5;66;03m# type: ignore[override]\u001b[39;00m\n\u001b[1;32m   5253\u001b[0m     \u001b[38;5;28mself\u001b[39m,\n\u001b[0;32m   (...)\u001b[0m\n\u001b[1;32m   5260\u001b[0m     errors: IgnoreRaise \u001b[38;5;241m=\u001b[39m \u001b[38;5;124m\"\u001b[39m\u001b[38;5;124mraise\u001b[39m\u001b[38;5;124m\"\u001b[39m,\n\u001b[1;32m   5261\u001b[0m ) \u001b[38;5;241m-\u001b[39m\u001b[38;5;241m>\u001b[39m DataFrame \u001b[38;5;241m|\u001b[39m \u001b[38;5;28;01mNone\u001b[39;00m:\n\u001b[1;32m   5262\u001b[0m     \u001b[38;5;124;03m\"\"\"\u001b[39;00m\n\u001b[1;32m   5263\u001b[0m \u001b[38;5;124;03m    Drop specified labels from rows or columns.\u001b[39;00m\n\u001b[1;32m   5264\u001b[0m \n\u001b[0;32m   (...)\u001b[0m\n\u001b[1;32m   5397\u001b[0m \u001b[38;5;124;03m            weight  1.0     0.8\u001b[39;00m\n\u001b[1;32m   5398\u001b[0m \u001b[38;5;124;03m    \"\"\"\u001b[39;00m\n\u001b[0;32m-> 5399\u001b[0m     \u001b[38;5;28;01mreturn\u001b[39;00m \u001b[38;5;28;43msuper\u001b[39;49m\u001b[43m(\u001b[49m\u001b[43m)\u001b[49m\u001b[38;5;241;43m.\u001b[39;49m\u001b[43mdrop\u001b[49m\u001b[43m(\u001b[49m\n\u001b[1;32m   5400\u001b[0m \u001b[43m        \u001b[49m\u001b[43mlabels\u001b[49m\u001b[38;5;241;43m=\u001b[39;49m\u001b[43mlabels\u001b[49m\u001b[43m,\u001b[49m\n\u001b[1;32m   5401\u001b[0m \u001b[43m        \u001b[49m\u001b[43maxis\u001b[49m\u001b[38;5;241;43m=\u001b[39;49m\u001b[43maxis\u001b[49m\u001b[43m,\u001b[49m\n\u001b[1;32m   5402\u001b[0m \u001b[43m        \u001b[49m\u001b[43mindex\u001b[49m\u001b[38;5;241;43m=\u001b[39;49m\u001b[43mindex\u001b[49m\u001b[43m,\u001b[49m\n\u001b[1;32m   5403\u001b[0m \u001b[43m        \u001b[49m\u001b[43mcolumns\u001b[49m\u001b[38;5;241;43m=\u001b[39;49m\u001b[43mcolumns\u001b[49m\u001b[43m,\u001b[49m\n\u001b[1;32m   5404\u001b[0m \u001b[43m        \u001b[49m\u001b[43mlevel\u001b[49m\u001b[38;5;241;43m=\u001b[39;49m\u001b[43mlevel\u001b[49m\u001b[43m,\u001b[49m\n\u001b[1;32m   5405\u001b[0m \u001b[43m        \u001b[49m\u001b[43minplace\u001b[49m\u001b[38;5;241;43m=\u001b[39;49m\u001b[43minplace\u001b[49m\u001b[43m,\u001b[49m\n\u001b[1;32m   5406\u001b[0m \u001b[43m        \u001b[49m\u001b[43merrors\u001b[49m\u001b[38;5;241;43m=\u001b[39;49m\u001b[43merrors\u001b[49m\u001b[43m,\u001b[49m\n\u001b[1;32m   5407\u001b[0m \u001b[43m    \u001b[49m\u001b[43m)\u001b[49m\n",
      "File \u001b[0;32m~/anaconda3/lib/python3.10/site-packages/pandas/util/_decorators.py:331\u001b[0m, in \u001b[0;36mdeprecate_nonkeyword_arguments.<locals>.decorate.<locals>.wrapper\u001b[0;34m(*args, **kwargs)\u001b[0m\n\u001b[1;32m    325\u001b[0m \u001b[38;5;28;01mif\u001b[39;00m \u001b[38;5;28mlen\u001b[39m(args) \u001b[38;5;241m>\u001b[39m num_allow_args:\n\u001b[1;32m    326\u001b[0m     warnings\u001b[38;5;241m.\u001b[39mwarn(\n\u001b[1;32m    327\u001b[0m         msg\u001b[38;5;241m.\u001b[39mformat(arguments\u001b[38;5;241m=\u001b[39m_format_argument_list(allow_args)),\n\u001b[1;32m    328\u001b[0m         \u001b[38;5;167;01mFutureWarning\u001b[39;00m,\n\u001b[1;32m    329\u001b[0m         stacklevel\u001b[38;5;241m=\u001b[39mfind_stack_level(),\n\u001b[1;32m    330\u001b[0m     )\n\u001b[0;32m--> 331\u001b[0m \u001b[38;5;28;01mreturn\u001b[39;00m \u001b[43mfunc\u001b[49m\u001b[43m(\u001b[49m\u001b[38;5;241;43m*\u001b[39;49m\u001b[43margs\u001b[49m\u001b[43m,\u001b[49m\u001b[43m \u001b[49m\u001b[38;5;241;43m*\u001b[39;49m\u001b[38;5;241;43m*\u001b[39;49m\u001b[43mkwargs\u001b[49m\u001b[43m)\u001b[49m\n",
      "File \u001b[0;32m~/anaconda3/lib/python3.10/site-packages/pandas/core/generic.py:4505\u001b[0m, in \u001b[0;36mNDFrame.drop\u001b[0;34m(self, labels, axis, index, columns, level, inplace, errors)\u001b[0m\n\u001b[1;32m   4503\u001b[0m \u001b[38;5;28;01mfor\u001b[39;00m axis, labels \u001b[38;5;129;01min\u001b[39;00m axes\u001b[38;5;241m.\u001b[39mitems():\n\u001b[1;32m   4504\u001b[0m     \u001b[38;5;28;01mif\u001b[39;00m labels \u001b[38;5;129;01mis\u001b[39;00m \u001b[38;5;129;01mnot\u001b[39;00m \u001b[38;5;28;01mNone\u001b[39;00m:\n\u001b[0;32m-> 4505\u001b[0m         obj \u001b[38;5;241m=\u001b[39m \u001b[43mobj\u001b[49m\u001b[38;5;241;43m.\u001b[39;49m\u001b[43m_drop_axis\u001b[49m\u001b[43m(\u001b[49m\u001b[43mlabels\u001b[49m\u001b[43m,\u001b[49m\u001b[43m \u001b[49m\u001b[43maxis\u001b[49m\u001b[43m,\u001b[49m\u001b[43m \u001b[49m\u001b[43mlevel\u001b[49m\u001b[38;5;241;43m=\u001b[39;49m\u001b[43mlevel\u001b[49m\u001b[43m,\u001b[49m\u001b[43m \u001b[49m\u001b[43merrors\u001b[49m\u001b[38;5;241;43m=\u001b[39;49m\u001b[43merrors\u001b[49m\u001b[43m)\u001b[49m\n\u001b[1;32m   4507\u001b[0m \u001b[38;5;28;01mif\u001b[39;00m inplace:\n\u001b[1;32m   4508\u001b[0m     \u001b[38;5;28mself\u001b[39m\u001b[38;5;241m.\u001b[39m_update_inplace(obj)\n",
      "File \u001b[0;32m~/anaconda3/lib/python3.10/site-packages/pandas/core/generic.py:4546\u001b[0m, in \u001b[0;36mNDFrame._drop_axis\u001b[0;34m(self, labels, axis, level, errors, only_slice)\u001b[0m\n\u001b[1;32m   4544\u001b[0m         new_axis \u001b[38;5;241m=\u001b[39m axis\u001b[38;5;241m.\u001b[39mdrop(labels, level\u001b[38;5;241m=\u001b[39mlevel, errors\u001b[38;5;241m=\u001b[39merrors)\n\u001b[1;32m   4545\u001b[0m     \u001b[38;5;28;01melse\u001b[39;00m:\n\u001b[0;32m-> 4546\u001b[0m         new_axis \u001b[38;5;241m=\u001b[39m \u001b[43maxis\u001b[49m\u001b[38;5;241;43m.\u001b[39;49m\u001b[43mdrop\u001b[49m\u001b[43m(\u001b[49m\u001b[43mlabels\u001b[49m\u001b[43m,\u001b[49m\u001b[43m \u001b[49m\u001b[43merrors\u001b[49m\u001b[38;5;241;43m=\u001b[39;49m\u001b[43merrors\u001b[49m\u001b[43m)\u001b[49m\n\u001b[1;32m   4547\u001b[0m     indexer \u001b[38;5;241m=\u001b[39m axis\u001b[38;5;241m.\u001b[39mget_indexer(new_axis)\n\u001b[1;32m   4549\u001b[0m \u001b[38;5;66;03m# Case for non-unique axis\u001b[39;00m\n\u001b[1;32m   4550\u001b[0m \u001b[38;5;28;01melse\u001b[39;00m:\n",
      "File \u001b[0;32m~/anaconda3/lib/python3.10/site-packages/pandas/core/indexes/base.py:6934\u001b[0m, in \u001b[0;36mIndex.drop\u001b[0;34m(self, labels, errors)\u001b[0m\n\u001b[1;32m   6932\u001b[0m \u001b[38;5;28;01mif\u001b[39;00m mask\u001b[38;5;241m.\u001b[39many():\n\u001b[1;32m   6933\u001b[0m     \u001b[38;5;28;01mif\u001b[39;00m errors \u001b[38;5;241m!=\u001b[39m \u001b[38;5;124m\"\u001b[39m\u001b[38;5;124mignore\u001b[39m\u001b[38;5;124m\"\u001b[39m:\n\u001b[0;32m-> 6934\u001b[0m         \u001b[38;5;28;01mraise\u001b[39;00m \u001b[38;5;167;01mKeyError\u001b[39;00m(\u001b[38;5;124mf\u001b[39m\u001b[38;5;124m\"\u001b[39m\u001b[38;5;132;01m{\u001b[39;00m\u001b[38;5;28mlist\u001b[39m(labels[mask])\u001b[38;5;132;01m}\u001b[39;00m\u001b[38;5;124m not found in axis\u001b[39m\u001b[38;5;124m\"\u001b[39m)\n\u001b[1;32m   6935\u001b[0m     indexer \u001b[38;5;241m=\u001b[39m indexer[\u001b[38;5;241m~\u001b[39mmask]\n\u001b[1;32m   6936\u001b[0m \u001b[38;5;28;01mreturn\u001b[39;00m \u001b[38;5;28mself\u001b[39m\u001b[38;5;241m.\u001b[39mdelete(indexer)\n",
      "\u001b[0;31mKeyError\u001b[0m: \"['reviewerName', 'vote', 'image'] not found in axis\""
     ]
    }
   ],
   "source": [
    "df = df.drop(columns=['reviewerName', 'vote', 'image'])"
   ]
  },
  {
   "cell_type": "code",
   "execution_count": null,
   "id": "d103289b",
   "metadata": {},
   "outputs": [],
   "source": [
    "df.head(10)"
   ]
  },
  {
   "cell_type": "code",
   "execution_count": null,
   "id": "f24bfaec",
   "metadata": {},
   "outputs": [],
   "source": [
    "df_review_text = df[['reviewText']]"
   ]
  },
  {
   "cell_type": "code",
   "execution_count": null,
   "id": "fe7a94bf",
   "metadata": {},
   "outputs": [],
   "source": [
    "print(df_review_text.head(15))"
   ]
  },
  {
   "cell_type": "code",
   "execution_count": null,
   "id": "d356ce34",
   "metadata": {},
   "outputs": [],
   "source": [
    "pd.set_option('display.max_colwidth', None)\n",
    "print(df_review_text.head(5))"
   ]
  },
  {
   "cell_type": "code",
   "execution_count": null,
   "id": "3b3b065c",
   "metadata": {},
   "outputs": [],
   "source": [
    "import nltk\n",
    "from nltk.corpus import stopwords\n",
    "from nltk.tokenize import word_tokenize\n",
    "import string"
   ]
  },
  {
   "cell_type": "code",
   "execution_count": null,
   "id": "eab434a2",
   "metadata": {
    "scrolled": true
   },
   "outputs": [],
   "source": [
    "nltk.download('punkt')\n",
    "nltk.download('stopwords')"
   ]
  },
  {
   "cell_type": "code",
   "execution_count": null,
   "id": "4f5b006c",
   "metadata": {},
   "outputs": [],
   "source": [
    "df_review_text = df_review_text.dropna(subset=['reviewText'])"
   ]
  },
  {
   "cell_type": "code",
   "execution_count": null,
   "id": "3b9bb967",
   "metadata": {},
   "outputs": [],
   "source": [
    "df_review_text['reviewText'] = df_review_text['reviewText'].astype(str) #covert to string"
   ]
  },
  {
   "cell_type": "code",
   "execution_count": null,
   "id": "299742ef",
   "metadata": {},
   "outputs": [],
   "source": [
    "df_review_text = df_review_text.applymap(str)"
   ]
  },
  {
   "cell_type": "code",
   "execution_count": null,
   "id": "ca1f2e9a",
   "metadata": {
    "scrolled": true
   },
   "outputs": [],
   "source": [
    "# Convert text to lowercase\n",
    "df_review_text['cleaned_review'] = df_review_text['reviewText'].str.lower()"
   ]
  },
  {
   "cell_type": "code",
   "execution_count": null,
   "id": "dbcbc6eb",
   "metadata": {},
   "outputs": [],
   "source": [
    "# Remove punctuation and special characters\n",
    "df_review_text['cleaned_review'] = df_review_text['cleaned_review'].str.replace('[{}]'.format(string.punctuation), '')"
   ]
  },
  {
   "cell_type": "code",
   "execution_count": null,
   "id": "5de01017",
   "metadata": {},
   "outputs": [],
   "source": [
    "# Remove numbers\n",
    "df_review_text['cleaned_review'] = df_review_text['cleaned_review'].str.replace(r'\\d+', '')"
   ]
  },
  {
   "cell_type": "code",
   "execution_count": null,
   "id": "199fc8f7",
   "metadata": {},
   "outputs": [],
   "source": [
    "# Remove stopwords\n",
    "stop_words = set(stopwords.words('english'))\n",
    "df_review_text['cleaned_review'] = df_review_text['cleaned_review'].apply(lambda x: ' '.join(word for word in word_tokenize(x) if word not in stop_words))"
   ]
  },
  {
   "cell_type": "code",
   "execution_count": 17,
   "id": "2e153da9",
   "metadata": {},
   "outputs": [
    {
     "data": {
      "text/html": [
       "<div>\n",
       "<style scoped>\n",
       "    .dataframe tbody tr th:only-of-type {\n",
       "        vertical-align: middle;\n",
       "    }\n",
       "\n",
       "    .dataframe tbody tr th {\n",
       "        vertical-align: top;\n",
       "    }\n",
       "\n",
       "    .dataframe thead th {\n",
       "        text-align: right;\n",
       "    }\n",
       "</style>\n",
       "<table border=\"1\" class=\"dataframe\">\n",
       "  <thead>\n",
       "    <tr style=\"text-align: right;\">\n",
       "      <th></th>\n",
       "      <th>reviewText</th>\n",
       "      <th>cleaned_review</th>\n",
       "    </tr>\n",
       "  </thead>\n",
       "  <tbody>\n",
       "    <tr>\n",
       "      <th>0</th>\n",
       "      <td>This was the first time I read Garcia-Aguilera...</td>\n",
       "      <td>this was the first time i read garcia-aguilera...</td>\n",
       "    </tr>\n",
       "    <tr>\n",
       "      <th>1</th>\n",
       "      <td>As with all of Ms. Garcia-Aguilera's books, I ...</td>\n",
       "      <td>as with all of ms. garcia-aguilera's books, i ...</td>\n",
       "    </tr>\n",
       "    <tr>\n",
       "      <th>2</th>\n",
       "      <td>I've not read any of Ms Aguilera's works befor...</td>\n",
       "      <td>i've not read any of ms aguilera's works befor...</td>\n",
       "    </tr>\n",
       "    <tr>\n",
       "      <th>3</th>\n",
       "      <td>This romance novel is right up there with the ...</td>\n",
       "      <td>this romance novel is right up there with the ...</td>\n",
       "    </tr>\n",
       "    <tr>\n",
       "      <th>4</th>\n",
       "      <td>Carolina Garcia Aguilera has done it again.  S...</td>\n",
       "      <td>carolina garcia aguilera has done it again.  s...</td>\n",
       "    </tr>\n",
       "    <tr>\n",
       "      <th>5</th>\n",
       "      <td>Not only can she write mysteries,but she sure ...</td>\n",
       "      <td>not only can she write mysteries,but she sure ...</td>\n",
       "    </tr>\n",
       "    <tr>\n",
       "      <th>6</th>\n",
       "      <td>Once again Garcia-Aguilera has written a book ...</td>\n",
       "      <td>once again garcia-aguilera has written a book ...</td>\n",
       "    </tr>\n",
       "    <tr>\n",
       "      <th>7</th>\n",
       "      <td>The timing is just right for a good book. Actu...</td>\n",
       "      <td>the timing is just right for a good book. actu...</td>\n",
       "    </tr>\n",
       "    <tr>\n",
       "      <th>8</th>\n",
       "      <td>Engaging. Dark. Reading the book you could alm...</td>\n",
       "      <td>engaging. dark. reading the book you could alm...</td>\n",
       "    </tr>\n",
       "    <tr>\n",
       "      <th>9</th>\n",
       "      <td>Set amid the backdrop of New York City's imper...</td>\n",
       "      <td>set amid the backdrop of new york city's imper...</td>\n",
       "    </tr>\n",
       "  </tbody>\n",
       "</table>\n",
       "</div>"
      ],
      "text/plain": [
       "                                          reviewText  \\\n",
       "0  This was the first time I read Garcia-Aguilera...   \n",
       "1  As with all of Ms. Garcia-Aguilera's books, I ...   \n",
       "2  I've not read any of Ms Aguilera's works befor...   \n",
       "3  This romance novel is right up there with the ...   \n",
       "4  Carolina Garcia Aguilera has done it again.  S...   \n",
       "5  Not only can she write mysteries,but she sure ...   \n",
       "6  Once again Garcia-Aguilera has written a book ...   \n",
       "7  The timing is just right for a good book. Actu...   \n",
       "8  Engaging. Dark. Reading the book you could alm...   \n",
       "9  Set amid the backdrop of New York City's imper...   \n",
       "\n",
       "                                      cleaned_review  \n",
       "0  this was the first time i read garcia-aguilera...  \n",
       "1  as with all of ms. garcia-aguilera's books, i ...  \n",
       "2  i've not read any of ms aguilera's works befor...  \n",
       "3  this romance novel is right up there with the ...  \n",
       "4  carolina garcia aguilera has done it again.  s...  \n",
       "5  not only can she write mysteries,but she sure ...  \n",
       "6  once again garcia-aguilera has written a book ...  \n",
       "7  the timing is just right for a good book. actu...  \n",
       "8  engaging. dark. reading the book you could alm...  \n",
       "9  set amid the backdrop of new york city's imper...  "
      ]
     },
     "execution_count": 17,
     "metadata": {},
     "output_type": "execute_result"
    }
   ],
   "source": [
    "df_review_text.head(10)"
   ]
  },
  {
   "cell_type": "markdown",
   "id": "927b8459",
   "metadata": {},
   "source": [
    "## Sentiment Analysis "
   ]
  },
  {
   "cell_type": "code",
   "execution_count": 18,
   "id": "f98f7852",
   "metadata": {},
   "outputs": [],
   "source": [
    "import nltk\n",
    "from nltk.sentiment import SentimentIntensityAnalyzer"
   ]
  },
  {
   "cell_type": "code",
   "execution_count": 19,
   "id": "38461208",
   "metadata": {},
   "outputs": [
    {
     "name": "stderr",
     "output_type": "stream",
     "text": [
      "[nltk_data] Downloading package vader_lexicon to\n",
      "[nltk_data]     /home/xjoex/nltk_data...\n",
      "[nltk_data]   Package vader_lexicon is already up-to-date!\n"
     ]
    },
    {
     "data": {
      "text/plain": [
       "True"
      ]
     },
     "execution_count": 19,
     "metadata": {},
     "output_type": "execute_result"
    }
   ],
   "source": [
    "nltk.download('vader_lexicon')"
   ]
  },
  {
   "cell_type": "code",
   "execution_count": 20,
   "id": "46430276",
   "metadata": {},
   "outputs": [],
   "source": [
    "sia = SentimentIntensityAnalyzer()"
   ]
  },
  {
   "cell_type": "code",
   "execution_count": 21,
   "id": "cf46d8df",
   "metadata": {},
   "outputs": [],
   "source": [
    "def get_sentiment(score):\n",
    "    if score >= 0.05:\n",
    "        return \"Positive\"\n",
    "    elif score <= -0.05:\n",
    "        return \"Negative\"\n",
    "    else:\n",
    "        return \"Neutral\""
   ]
  },
  {
   "cell_type": "code",
   "execution_count": 22,
   "id": "5ea90ce0",
   "metadata": {},
   "outputs": [],
   "source": [
    "df_review_text['sentiment_score'] = df_review_text['cleaned_review'].apply(lambda x: sia.polarity_scores(x)['compound'])\n",
    "df_review_text['sentiment'] = df_review_text['sentiment_score'].apply(get_sentiment)"
   ]
  },
  {
   "cell_type": "code",
   "execution_count": 23,
   "id": "a364c37b",
   "metadata": {},
   "outputs": [
    {
     "data": {
      "text/html": [
       "<div>\n",
       "<style scoped>\n",
       "    .dataframe tbody tr th:only-of-type {\n",
       "        vertical-align: middle;\n",
       "    }\n",
       "\n",
       "    .dataframe tbody tr th {\n",
       "        vertical-align: top;\n",
       "    }\n",
       "\n",
       "    .dataframe thead th {\n",
       "        text-align: right;\n",
       "    }\n",
       "</style>\n",
       "<table border=\"1\" class=\"dataframe\">\n",
       "  <thead>\n",
       "    <tr style=\"text-align: right;\">\n",
       "      <th></th>\n",
       "      <th>reviewText</th>\n",
       "      <th>cleaned_review</th>\n",
       "      <th>sentiment_score</th>\n",
       "      <th>sentiment</th>\n",
       "    </tr>\n",
       "  </thead>\n",
       "  <tbody>\n",
       "    <tr>\n",
       "      <th>0</th>\n",
       "      <td>This was the first time I read Garcia-Aguilera...</td>\n",
       "      <td>this was the first time i read garcia-aguilera...</td>\n",
       "      <td>0.9670</td>\n",
       "      <td>Positive</td>\n",
       "    </tr>\n",
       "    <tr>\n",
       "      <th>1</th>\n",
       "      <td>As with all of Ms. Garcia-Aguilera's books, I ...</td>\n",
       "      <td>as with all of ms. garcia-aguilera's books, i ...</td>\n",
       "      <td>0.8883</td>\n",
       "      <td>Positive</td>\n",
       "    </tr>\n",
       "    <tr>\n",
       "      <th>2</th>\n",
       "      <td>I've not read any of Ms Aguilera's works befor...</td>\n",
       "      <td>i've not read any of ms aguilera's works befor...</td>\n",
       "      <td>0.2579</td>\n",
       "      <td>Positive</td>\n",
       "    </tr>\n",
       "    <tr>\n",
       "      <th>3</th>\n",
       "      <td>This romance novel is right up there with the ...</td>\n",
       "      <td>this romance novel is right up there with the ...</td>\n",
       "      <td>0.9882</td>\n",
       "      <td>Positive</td>\n",
       "    </tr>\n",
       "    <tr>\n",
       "      <th>4</th>\n",
       "      <td>Carolina Garcia Aguilera has done it again.  S...</td>\n",
       "      <td>carolina garcia aguilera has done it again.  s...</td>\n",
       "      <td>0.4927</td>\n",
       "      <td>Positive</td>\n",
       "    </tr>\n",
       "    <tr>\n",
       "      <th>5</th>\n",
       "      <td>Not only can she write mysteries,but she sure ...</td>\n",
       "      <td>not only can she write mysteries,but she sure ...</td>\n",
       "      <td>0.8257</td>\n",
       "      <td>Positive</td>\n",
       "    </tr>\n",
       "    <tr>\n",
       "      <th>6</th>\n",
       "      <td>Once again Garcia-Aguilera has written a book ...</td>\n",
       "      <td>once again garcia-aguilera has written a book ...</td>\n",
       "      <td>0.9718</td>\n",
       "      <td>Positive</td>\n",
       "    </tr>\n",
       "    <tr>\n",
       "      <th>7</th>\n",
       "      <td>The timing is just right for a good book. Actu...</td>\n",
       "      <td>the timing is just right for a good book. actu...</td>\n",
       "      <td>0.8452</td>\n",
       "      <td>Positive</td>\n",
       "    </tr>\n",
       "    <tr>\n",
       "      <th>8</th>\n",
       "      <td>Engaging. Dark. Reading the book you could alm...</td>\n",
       "      <td>engaging. dark. reading the book you could alm...</td>\n",
       "      <td>0.7124</td>\n",
       "      <td>Positive</td>\n",
       "    </tr>\n",
       "    <tr>\n",
       "      <th>9</th>\n",
       "      <td>Set amid the backdrop of New York City's imper...</td>\n",
       "      <td>set amid the backdrop of new york city's imper...</td>\n",
       "      <td>0.9774</td>\n",
       "      <td>Positive</td>\n",
       "    </tr>\n",
       "  </tbody>\n",
       "</table>\n",
       "</div>"
      ],
      "text/plain": [
       "                                          reviewText  \\\n",
       "0  This was the first time I read Garcia-Aguilera...   \n",
       "1  As with all of Ms. Garcia-Aguilera's books, I ...   \n",
       "2  I've not read any of Ms Aguilera's works befor...   \n",
       "3  This romance novel is right up there with the ...   \n",
       "4  Carolina Garcia Aguilera has done it again.  S...   \n",
       "5  Not only can she write mysteries,but she sure ...   \n",
       "6  Once again Garcia-Aguilera has written a book ...   \n",
       "7  The timing is just right for a good book. Actu...   \n",
       "8  Engaging. Dark. Reading the book you could alm...   \n",
       "9  Set amid the backdrop of New York City's imper...   \n",
       "\n",
       "                                      cleaned_review  sentiment_score  \\\n",
       "0  this was the first time i read garcia-aguilera...           0.9670   \n",
       "1  as with all of ms. garcia-aguilera's books, i ...           0.8883   \n",
       "2  i've not read any of ms aguilera's works befor...           0.2579   \n",
       "3  this romance novel is right up there with the ...           0.9882   \n",
       "4  carolina garcia aguilera has done it again.  s...           0.4927   \n",
       "5  not only can she write mysteries,but she sure ...           0.8257   \n",
       "6  once again garcia-aguilera has written a book ...           0.9718   \n",
       "7  the timing is just right for a good book. actu...           0.8452   \n",
       "8  engaging. dark. reading the book you could alm...           0.7124   \n",
       "9  set amid the backdrop of new york city's imper...           0.9774   \n",
       "\n",
       "  sentiment  \n",
       "0  Positive  \n",
       "1  Positive  \n",
       "2  Positive  \n",
       "3  Positive  \n",
       "4  Positive  \n",
       "5  Positive  \n",
       "6  Positive  \n",
       "7  Positive  \n",
       "8  Positive  \n",
       "9  Positive  "
      ]
     },
     "execution_count": 23,
     "metadata": {},
     "output_type": "execute_result"
    }
   ],
   "source": [
    "df_review_text.head(10)"
   ]
  },
  {
   "cell_type": "markdown",
   "id": "2bb52df1",
   "metadata": {},
   "source": [
    "## Classification"
   ]
  },
  {
   "cell_type": "code",
   "execution_count": 24,
   "id": "52b8cbfb",
   "metadata": {},
   "outputs": [],
   "source": [
    "general_keywords = ['review', 'read', 'book', 'enjoyed', 'written']\n",
    "care_keywords = ['complaint', 'problem', 'issue', 'unhappy', 'disappointed']\n",
    "leads_keywords = ['buy', 'purchase', 'product', 'service', 'interested']"
   ]
  },
  {
   "cell_type": "code",
   "execution_count": 25,
   "id": "1451f129",
   "metadata": {},
   "outputs": [],
   "source": [
    "def categorize_message(text):\n",
    "    text = text.lower()\n",
    "    for keyword in care_keywords:\n",
    "        if keyword in text:\n",
    "            return \"Care\"\n",
    "    for keyword in leads_keywords:\n",
    "        if keyword in text:\n",
    "            return \"Leads\"\n",
    "    return \"General\""
   ]
  },
  {
   "cell_type": "code",
   "execution_count": 26,
   "id": "8579390f",
   "metadata": {},
   "outputs": [],
   "source": [
    "df_review_text['category'] = df_review_text['cleaned_review'].apply(categorize_message)"
   ]
  },
  {
   "cell_type": "code",
   "execution_count": 27,
   "id": "16f32bc9",
   "metadata": {},
   "outputs": [
    {
     "name": "stdout",
     "output_type": "stream",
     "text": [
      "                                            cleaned_review sentiment category\n",
      "0        this was the first time i read garcia-aguilera...  Positive  General\n",
      "1        as with all of ms. garcia-aguilera's books, i ...  Positive  General\n",
      "2        i've not read any of ms aguilera's works befor...  Positive  General\n",
      "3        this romance novel is right up there with the ...  Positive  General\n",
      "4        carolina garcia aguilera has done it again.  s...  Positive  General\n",
      "...                                                    ...       ...      ...\n",
      "1048570    77mm hi-resolution 3pcs lens filter kit - black   Neutral  General\n",
      "1048571              low cost filter kit that does the job  Negative  General\n",
      "1048572                                  filer kit to have   Neutral  General\n",
      "1048573                            best bang for your buck  Positive  General\n",
      "1048574                                great for exercise!  Positive  General\n",
      "\n",
      "[1046804 rows x 3 columns]\n"
     ]
    }
   ],
   "source": [
    "print(df_review_text[['cleaned_review', 'sentiment', 'category']])"
   ]
  },
  {
   "cell_type": "markdown",
   "id": "4d26ac4e",
   "metadata": {},
   "source": [
    "## Display"
   ]
  },
  {
   "cell_type": "code",
   "execution_count": 28,
   "id": "053e7aae",
   "metadata": {},
   "outputs": [],
   "source": [
    "pd.set_option('display.max_colwidth', None)"
   ]
  },
  {
   "cell_type": "code",
   "execution_count": 29,
   "id": "5aaf0e65",
   "metadata": {},
   "outputs": [],
   "source": [
    "pd.set_option('display.max_colwidth', 50)"
   ]
  },
  {
   "cell_type": "code",
   "execution_count": 30,
   "id": "95c2434a",
   "metadata": {},
   "outputs": [
    {
     "name": "stdout",
     "output_type": "stream",
     "text": [
      "                                            cleaned_review sentiment category\n",
      "0        this was the first time i read garcia-aguilera...  Positive  General\n",
      "1        as with all of ms. garcia-aguilera's books, i ...  Positive  General\n",
      "2        i've not read any of ms aguilera's works befor...  Positive  General\n",
      "3        this romance novel is right up there with the ...  Positive  General\n",
      "4        carolina garcia aguilera has done it again.  s...  Positive  General\n",
      "...                                                    ...       ...      ...\n",
      "1048570    77mm hi-resolution 3pcs lens filter kit - black   Neutral  General\n",
      "1048571              low cost filter kit that does the job  Negative  General\n",
      "1048572                                  filer kit to have   Neutral  General\n",
      "1048573                            best bang for your buck  Positive  General\n",
      "1048574                                great for exercise!  Positive  General\n",
      "\n",
      "[1046804 rows x 3 columns]\n"
     ]
    }
   ],
   "source": [
    "print(df_review_text[['cleaned_review', 'sentiment', 'category']])"
   ]
  },
  {
   "cell_type": "code",
   "execution_count": 31,
   "id": "d561e1a3",
   "metadata": {},
   "outputs": [
    {
     "name": "stdout",
     "output_type": "stream",
     "text": [
      "General    782633\n",
      "Leads      168344\n",
      "Care        95827\n",
      "Name: category, dtype: int64\n"
     ]
    }
   ],
   "source": [
    "category_counts = df_review_text['category'].value_counts()\n",
    "print(category_counts)"
   ]
  },
  {
   "cell_type": "code",
   "execution_count": 32,
   "id": "3df435a4",
   "metadata": {},
   "outputs": [
    {
     "name": "stdout",
     "output_type": "stream",
     "text": [
      "Total number of messages: 1046804\n"
     ]
    }
   ],
   "source": [
    "total_messages = df_review_text.shape[0]\n",
    "print(\"Total number of messages:\", total_messages)"
   ]
  },
  {
   "cell_type": "markdown",
   "id": "149f0e08",
   "metadata": {},
   "source": [
    "#### EDA"
   ]
  },
  {
   "cell_type": "code",
   "execution_count": 33,
   "id": "86a71962",
   "metadata": {},
   "outputs": [],
   "source": [
    "import matplotlib.pyplot as plt"
   ]
  },
  {
   "cell_type": "code",
   "execution_count": 34,
   "id": "8c991b4a",
   "metadata": {},
   "outputs": [],
   "source": [
    "sentiment_counts = df_review_text['sentiment'].value_counts()"
   ]
  },
  {
   "cell_type": "code",
   "execution_count": 36,
   "id": "5d306072",
   "metadata": {},
   "outputs": [
    {
     "data": {
      "image/png": "[encoded data removed]",
      "text/plain": [
       "<Figure size 500x300 with 1 Axes>"
      ]
     },
     "metadata": {},
     "output_type": "display_data"
    }
   ],
   "source": [
    "# Plotting the distribution of sentiment scores\n",
    "plt.figure(figsize=(5, 3))\n",
    "plt.bar(sentiment_counts.index, sentiment_counts.values, color=['green', 'red', 'gray'])\n",
    "plt.xlabel('Sentiment')\n",
    "plt.ylabel('Number of Reviews')\n",
    "plt.title('Distribution of Sentiment Scores')\n",
    "plt.show()"
   ]
  },
  {
   "cell_type": "code",
   "execution_count": 37,
   "id": "ee8c9c79",
   "metadata": {},
   "outputs": [],
   "source": [
    "from wordcloud import WordCloud"
   ]
  },
  {
   "cell_type": "code",
   "execution_count": 38,
   "id": "fab5e1b7",
   "metadata": {},
   "outputs": [],
   "source": [
    "positive_reviews = df_review_text[df_review_text['sentiment'] == 'Positive']\n",
    "negative_reviews = df_review_text[df_review_text['sentiment'] == 'Negative']\n",
    "neutral_reviews = df_review_text[df_review_text['sentiment'] == 'Neutral']"
   ]
  },
  {
   "cell_type": "code",
   "execution_count": 39,
   "id": "4211bbe3",
   "metadata": {},
   "outputs": [],
   "source": [
    "def generate_word_cloud(text, title):\n",
    "    wordcloud = WordCloud(width=800, height=400, background_color='white', max_words=50).generate(text)\n",
    "    plt.figure(figsize=(10, 5))\n",
    "    plt.imshow(wordcloud, interpolation='bilinear')\n",
    "    plt.title(title)\n",
    "    plt.axis('off')\n",
    "    plt.show()"
   ]
  },
  {
   "cell_type": "code",
   "execution_count": null,
   "id": "9962b6fb",
   "metadata": {},
   "outputs": [],
   "source": [
    "generate_word_cloud(' '.join(positive_reviews['cleaned_review']), 'Positive Sentiment Word Cloud')\n",
    "generate_word_cloud(' '.join(negative_reviews['cleaned_review']), 'Negative Sentiment Word Cloud')\n",
    "generate_word_cloud(' '.join(neutral_reviews['cleaned_review']), 'Neutral Sentiment Word Cloud')"
   ]
  },
  {
   "cell_type": "markdown",
   "id": "71c34dd1",
   "metadata": {},
   "source": [
    "#### Neural Network "
   ]
  },
  {
   "cell_type": "code",
   "execution_count": 37,
   "id": "70e07454",
   "metadata": {},
   "outputs": [
    {
     "name": "stderr",
     "output_type": "stream",
     "text": [
      "2023-08-07 10:29:10.640531: I tensorflow/tsl/cuda/cudart_stub.cc:28] Could not find cuda drivers on your machine, GPU will not be used.\n",
      "2023-08-07 10:29:13.451571: I tensorflow/tsl/cuda/cudart_stub.cc:28] Could not find cuda drivers on your machine, GPU will not be used.\n",
      "2023-08-07 10:29:13.464321: I tensorflow/core/platform/cpu_feature_guard.cc:182] This TensorFlow binary is optimized to use available CPU instructions in performance-critical operations.\n",
      "To enable the following instructions: AVX2 FMA, in other operations, rebuild TensorFlow with the appropriate compiler flags.\n",
      "2023-08-07 10:29:22.784140: W tensorflow/compiler/tf2tensorrt/utils/py_utils.cc:38] TF-TRT Warning: Could not find TensorRT\n"
     ]
    }
   ],
   "source": [
    "import pandas as pd\n",
    "from sklearn.model_selection import train_test_split\n",
    "from tensorflow.keras.preprocessing.text import Tokenizer\n",
    "from tensorflow.keras.preprocessing.sequence import pad_sequences\n",
    "from tensorflow.keras.models import Sequential\n",
    "from tensorflow.keras.layers import Embedding, Flatten, Dense"
   ]
  },
  {
   "cell_type": "code",
   "execution_count": 38,
   "id": "aae68e82",
   "metadata": {},
   "outputs": [],
   "source": [
    "X = df_review_text['cleaned_review']\n",
    "y_sentiment = df_review_text['sentiment']"
   ]
  },
  {
   "cell_type": "code",
   "execution_count": 39,
   "id": "cfdfcdae",
   "metadata": {},
   "outputs": [],
   "source": [
    "y_sentiment_binary = (y_sentiment == 'Positive').astype(int)"
   ]
  },
  {
   "cell_type": "code",
   "execution_count": 40,
   "id": "e2607a90",
   "metadata": {},
   "outputs": [],
   "source": [
    "X_train, X_test, y_train_sentiment, y_test_sentiment = train_test_split(\n",
    "    X, y_sentiment_binary, test_size=0.2, random_state=42\n",
    ")"
   ]
  },
  {
   "cell_type": "code",
   "execution_count": 41,
   "id": "610ce69b",
   "metadata": {},
   "outputs": [],
   "source": [
    "max_words = 10000\n",
    "tokenizer = Tokenizer(num_words=max_words)\n",
    "tokenizer.fit_on_texts(X_train)"
   ]
  },
  {
   "cell_type": "code",
   "execution_count": 42,
   "id": "aac72f95",
   "metadata": {},
   "outputs": [],
   "source": [
    "X_train_seq = tokenizer.texts_to_sequences(X_train)\n",
    "X_test_seq = tokenizer.texts_to_sequences(X_test)"
   ]
  },
  {
   "cell_type": "code",
   "execution_count": 43,
   "id": "399202f0",
   "metadata": {},
   "outputs": [],
   "source": [
    "max_sequence_length = 200\n",
    "X_train_padded = pad_sequences(X_train_seq, maxlen=max_sequence_length)\n",
    "X_test_padded = pad_sequences(X_test_seq, maxlen=max_sequence_length)"
   ]
  },
  {
   "cell_type": "code",
   "execution_count": 44,
   "id": "a082e65c",
   "metadata": {},
   "outputs": [],
   "source": [
    "# Build the neural network model\n",
    "embedding_dim = 100"
   ]
  },
  {
   "cell_type": "code",
   "execution_count": 45,
   "id": "62c8450c",
   "metadata": {},
   "outputs": [],
   "source": [
    "model = Sequential()\n",
    "model.add(Embedding(input_dim=max_words, output_dim=embedding_dim, input_length=max_sequence_length))\n",
    "model.add(Flatten())\n",
    "model.add(Dense(128, activation='relu'))\n",
    "model.add(Dense(1, activation='sigmoid'))  # Binary classification for sentiment\n",
    "\n",
    "model.compile(loss='binary_crossentropy', optimizer='adam', metrics=['accuracy'])"
   ]
  },
  {
   "cell_type": "code",
   "execution_count": 46,
   "id": "5279f49f",
   "metadata": {
    "scrolled": true
   },
   "outputs": [
    {
     "name": "stderr",
     "output_type": "stream",
     "text": [
      "2023-08-07 10:30:14.326747: W tensorflow/tsl/framework/cpu_allocator_impl.cc:83] Allocation of 602958400 exceeds 10% of free system memory.\n"
     ]
    },
    {
     "name": "stdout",
     "output_type": "stream",
     "text": [
      "Epoch 1/2\n",
      "23554/23554 [==============================] - ETA: 0s - loss: 0.1166 - accuracy: 0.9562"
     ]
    },
    {
     "name": "stderr",
     "output_type": "stream",
     "text": [
      "2023-08-07 11:03:28.134352: W tensorflow/tsl/framework/cpu_allocator_impl.cc:83] Allocation of 66996000 exceeds 10% of free system memory.\n"
     ]
    },
    {
     "name": "stdout",
     "output_type": "stream",
     "text": [
      "23554/23554 [==============================] - 2006s 85ms/step - loss: 0.1166 - accuracy: 0.9562 - val_loss: 0.0860 - val_accuracy: 0.9683\n",
      "Epoch 2/2\n",
      "23554/23554 [==============================] - 2110s 90ms/step - loss: 0.0650 - accuracy: 0.9770 - val_loss: 0.0857 - val_accuracy: 0.9708\n"
     ]
    },
    {
     "data": {
      "text/plain": [
       "<keras.callbacks.History at 0x7f7aa07bff40>"
      ]
     },
     "execution_count": 46,
     "metadata": {},
     "output_type": "execute_result"
    }
   ],
   "source": [
    "# Train the model\n",
    "batch_size = 32\n",
    "epochs = 2\n",
    "\n",
    "model.fit(X_train_padded, y_train_sentiment, batch_size=batch_size, epochs=epochs, validation_split=0.1)"
   ]
  },
  {
   "cell_type": "code",
   "execution_count": 47,
   "id": "20b7d2c6",
   "metadata": {},
   "outputs": [
    {
     "name": "stderr",
     "output_type": "stream",
     "text": [
      "WARNING:absl:Found untraced functions such as _update_step_xla while saving (showing 1 of 1). These functions will not be directly callable after loading.\n"
     ]
    },
    {
     "name": "stdout",
     "output_type": "stream",
     "text": [
      "INFO:tensorflow:Assets written to: /home/xjoex/Desktop/trained_model/assets\n"
     ]
    },
    {
     "name": "stderr",
     "output_type": "stream",
     "text": [
      "INFO:tensorflow:Assets written to: /home/xjoex/Desktop/trained_model/assets\n"
     ]
    },
    {
     "name": "stdout",
     "output_type": "stream",
     "text": [
      "Model saved successfully.\n"
     ]
    }
   ],
   "source": [
    "model.save(\"/home/xjoex/Desktop/trained_model\")\n",
    "\n",
    "print(\"Model saved successfully.\")"
   ]
  },
  {
   "cell_type": "code",
   "execution_count": 48,
   "id": "4e832f8c",
   "metadata": {},
   "outputs": [
    {
     "data": {
      "text/html": [
       "<div>\n",
       "<style scoped>\n",
       "    .dataframe tbody tr th:only-of-type {\n",
       "        vertical-align: middle;\n",
       "    }\n",
       "\n",
       "    .dataframe tbody tr th {\n",
       "        vertical-align: top;\n",
       "    }\n",
       "\n",
       "    .dataframe thead th {\n",
       "        text-align: right;\n",
       "    }\n",
       "</style>\n",
       "<table border=\"1\" class=\"dataframe\">\n",
       "  <thead>\n",
       "    <tr style=\"text-align: right;\">\n",
       "      <th></th>\n",
       "      <th>reviewText</th>\n",
       "      <th>cleaned_review</th>\n",
       "      <th>sentiment_score</th>\n",
       "      <th>sentiment</th>\n",
       "      <th>category</th>\n",
       "    </tr>\n",
       "  </thead>\n",
       "  <tbody>\n",
       "    <tr>\n",
       "      <th>0</th>\n",
       "      <td>This was the first time I read Garcia-Aguilera...</td>\n",
       "      <td>first time read garciaaguilera came upon name ...</td>\n",
       "      <td>0.9764</td>\n",
       "      <td>Positive</td>\n",
       "      <td>General</td>\n",
       "    </tr>\n",
       "    <tr>\n",
       "      <th>1</th>\n",
       "      <td>As with all of Ms. Garcia-Aguilera's books, I ...</td>\n",
       "      <td>ms garciaaguileras books think must read impos...</td>\n",
       "      <td>0.8807</td>\n",
       "      <td>Positive</td>\n",
       "      <td>General</td>\n",
       "    </tr>\n",
       "    <tr>\n",
       "      <th>2</th>\n",
       "      <td>I've not read any of Ms Aguilera's works befor...</td>\n",
       "      <td>ive read ms aguileras works finished one hot s...</td>\n",
       "      <td>0.0772</td>\n",
       "      <td>Positive</td>\n",
       "      <td>General</td>\n",
       "    </tr>\n",
       "    <tr>\n",
       "      <th>3</th>\n",
       "      <td>This romance novel is right up there with the ...</td>\n",
       "      <td>romance novel right rest amazing mystery novel...</td>\n",
       "      <td>0.9858</td>\n",
       "      <td>Positive</td>\n",
       "      <td>General</td>\n",
       "    </tr>\n",
       "    <tr>\n",
       "      <th>4</th>\n",
       "      <td>Carolina Garcia Aguilera has done it again.  S...</td>\n",
       "      <td>carolina garcia aguilera done shes written ano...</td>\n",
       "      <td>0.4927</td>\n",
       "      <td>Positive</td>\n",
       "      <td>General</td>\n",
       "    </tr>\n",
       "    <tr>\n",
       "      <th>5</th>\n",
       "      <td>Not only can she write mysteries,but she sure ...</td>\n",
       "      <td>write mysteriesbut sure write love story one h...</td>\n",
       "      <td>0.7579</td>\n",
       "      <td>Positive</td>\n",
       "      <td>General</td>\n",
       "    </tr>\n",
       "    <tr>\n",
       "      <th>6</th>\n",
       "      <td>Once again Garcia-Aguilera has written a book ...</td>\n",
       "      <td>garciaaguilera written book cant put read love...</td>\n",
       "      <td>0.9304</td>\n",
       "      <td>Positive</td>\n",
       "      <td>Care</td>\n",
       "    </tr>\n",
       "    <tr>\n",
       "      <th>7</th>\n",
       "      <td>The timing is just right for a good book. Actu...</td>\n",
       "      <td>timing right good book actually long overdue t...</td>\n",
       "      <td>0.8324</td>\n",
       "      <td>Positive</td>\n",
       "      <td>Care</td>\n",
       "    </tr>\n",
       "    <tr>\n",
       "      <th>8</th>\n",
       "      <td>Engaging. Dark. Reading the book you could alm...</td>\n",
       "      <td>engaging dark reading book could almost feel t...</td>\n",
       "      <td>0.3306</td>\n",
       "      <td>Positive</td>\n",
       "      <td>Care</td>\n",
       "    </tr>\n",
       "    <tr>\n",
       "      <th>9</th>\n",
       "      <td>Set amid the backdrop of New York City's imper...</td>\n",
       "      <td>set amid backdrop new york citys impervious hi...</td>\n",
       "      <td>0.9774</td>\n",
       "      <td>Positive</td>\n",
       "      <td>General</td>\n",
       "    </tr>\n",
       "  </tbody>\n",
       "</table>\n",
       "</div>"
      ],
      "text/plain": [
       "                                          reviewText  \\\n",
       "0  This was the first time I read Garcia-Aguilera...   \n",
       "1  As with all of Ms. Garcia-Aguilera's books, I ...   \n",
       "2  I've not read any of Ms Aguilera's works befor...   \n",
       "3  This romance novel is right up there with the ...   \n",
       "4  Carolina Garcia Aguilera has done it again.  S...   \n",
       "5  Not only can she write mysteries,but she sure ...   \n",
       "6  Once again Garcia-Aguilera has written a book ...   \n",
       "7  The timing is just right for a good book. Actu...   \n",
       "8  Engaging. Dark. Reading the book you could alm...   \n",
       "9  Set amid the backdrop of New York City's imper...   \n",
       "\n",
       "                                      cleaned_review  sentiment_score  \\\n",
       "0  first time read garciaaguilera came upon name ...           0.9764   \n",
       "1  ms garciaaguileras books think must read impos...           0.8807   \n",
       "2  ive read ms aguileras works finished one hot s...           0.0772   \n",
       "3  romance novel right rest amazing mystery novel...           0.9858   \n",
       "4  carolina garcia aguilera done shes written ano...           0.4927   \n",
       "5  write mysteriesbut sure write love story one h...           0.7579   \n",
       "6  garciaaguilera written book cant put read love...           0.9304   \n",
       "7  timing right good book actually long overdue t...           0.8324   \n",
       "8  engaging dark reading book could almost feel t...           0.3306   \n",
       "9  set amid backdrop new york citys impervious hi...           0.9774   \n",
       "\n",
       "  sentiment category  \n",
       "0  Positive  General  \n",
       "1  Positive  General  \n",
       "2  Positive  General  \n",
       "3  Positive  General  \n",
       "4  Positive  General  \n",
       "5  Positive  General  \n",
       "6  Positive     Care  \n",
       "7  Positive     Care  \n",
       "8  Positive     Care  \n",
       "9  Positive  General  "
      ]
     },
     "execution_count": 48,
     "metadata": {},
     "output_type": "execute_result"
    }
   ],
   "source": [
    "df_review_text.head(10)"
   ]
  },
  {
   "cell_type": "markdown",
   "id": "9326d057",
   "metadata": {},
   "source": [
    "### Topic modeling"
   ]
  },
  {
   "cell_type": "code",
   "execution_count": 49,
   "id": "373b3008",
   "metadata": {},
   "outputs": [],
   "source": [
    "from sklearn.feature_extraction.text import CountVectorizer\n",
    "from gensim import matutils, models\n",
    "import scipy.sparse"
   ]
  },
  {
   "cell_type": "code",
   "execution_count": 68,
   "id": "a1f46526",
   "metadata": {},
   "outputs": [],
   "source": [
    "from sklearn.feature_extraction.text import TfidfVectorizer"
   ]
  },
  {
   "cell_type": "code",
   "execution_count": 69,
   "id": "acb12657",
   "metadata": {},
   "outputs": [],
   "source": [
    "subset_size = 2000\n",
    "subset_df = df_review_text.sample(n=subset_size, random_state=42)"
   ]
  },
  {
   "cell_type": "code",
   "execution_count": 70,
   "id": "98e24d35",
   "metadata": {},
   "outputs": [],
   "source": [
    "vectorizer = TfidfVectorizer(max_df=0.95, min_df=2, max_features=1000, stop_words='english')\n",
    "tfidf_matrix = vectorizer.fit_transform(subset_df['cleaned_review'])"
   ]
  },
  {
   "cell_type": "code",
   "execution_count": 71,
   "id": "c8996547",
   "metadata": {},
   "outputs": [],
   "source": [
    "corpus = matutils.Sparse2Corpus(tfidf_matrix.transpose())"
   ]
  },
  {
   "cell_type": "code",
   "execution_count": 72,
   "id": "dbeda971",
   "metadata": {},
   "outputs": [],
   "source": [
    "id2word = dict((v, k) for k, v in vectorizer.vocabulary_.items())"
   ]
  },
  {
   "cell_type": "code",
   "execution_count": 73,
   "id": "17b97ce3",
   "metadata": {},
   "outputs": [
    {
     "name": "stderr",
     "output_type": "stream",
     "text": [
      "WARNING:gensim.models.ldamulticore:too few updates, training might not converge; consider increasing the number of passes or iterations to improve accuracy\n"
     ]
    }
   ],
   "source": [
    "# Perform LDA\n",
    "num_topics = 7\n",
    "passes = 5 \n",
    "lda = models.LdaMulticore(corpus=corpus, num_topics=num_topics, id2word=id2word, passes=passes, workers=4)"
   ]
  },
  {
   "cell_type": "code",
   "execution_count": 75,
   "id": "49464fa8",
   "metadata": {},
   "outputs": [
    {
     "name": "stdout",
     "output_type": "stream",
     "text": [
      "Topic #1: 0.027*\"excellent\" + 0.021*\"value\" + 0.020*\"work\" + 0.020*\"great\" + 0.012*\"cable\" + 0.011*\"happy\" + 0.009*\"headphones\" + 0.009*\"product\" + 0.008*\"im\" + 0.008*\"good\"\n",
      "\n",
      "Topic #2: 0.021*\"perfect\" + 0.014*\"like\" + 0.012*\"great\" + 0.009*\"job\" + 0.009*\"product\" + 0.009*\"little\" + 0.008*\"work\" + 0.008*\"radio\" + 0.007*\"good\" + 0.007*\"sound\"\n",
      "\n",
      "Topic #3: 0.016*\"great\" + 0.015*\"love\" + 0.011*\"needed\" + 0.009*\"item\" + 0.008*\"far\" + 0.008*\"use\" + 0.007*\"bought\" + 0.007*\"best\" + 0.007*\"like\" + 0.007*\"product\"\n",
      "\n",
      "Topic #4: 0.134*\"stars\" + 0.062*\"great\" + 0.060*\"works\" + 0.025*\"product\" + 0.017*\"good\" + 0.010*\"fit\" + 0.008*\"use\" + 0.008*\"perfect\" + 0.008*\"nice\" + 0.008*\"camera\"\n",
      "\n",
      "Topic #5: 0.049*\"good\" + 0.030*\"price\" + 0.022*\"great\" + 0.014*\"quality\" + 0.013*\"headphones\" + 0.011*\"sound\" + 0.011*\"best\" + 0.008*\"works\" + 0.007*\"junk\" + 0.007*\"ear\"\n",
      "\n",
      "Topic #6: 0.015*\"ok\" + 0.014*\"speakers\" + 0.011*\"star\" + 0.011*\"size\" + 0.011*\"great\" + 0.010*\"mm\" + 0.008*\"jack\" + 0.008*\"light\" + 0.008*\"better\" + 0.008*\"super\"\n",
      "\n",
      "Topic #7: 0.013*\"customer\" + 0.013*\"amazon\" + 0.013*\"camera\" + 0.012*\"good\" + 0.012*\"great\" + 0.011*\"lens\" + 0.011*\"expected\" + 0.010*\"buy\" + 0.009*\"use\" + 0.009*\"worked\"\n",
      "\n"
     ]
    }
   ],
   "source": [
    "for topic_num, words in lda.print_topics():\n",
    "    print(f\"Topic #{topic_num + 1}: {words}\\n\")"
   ]
  },
  {
   "cell_type": "code",
   "execution_count": null,
   "id": "1a098428",
   "metadata": {},
   "outputs": [],
   "source": []
  }
 ],
 "metadata": {
  "kernelspec": {
   "display_name": "Python 3 (ipykernel)",
   "language": "python",
   "name": "python3"
  },
  "language_info": {
   "codemirror_mode": {
    "name": "ipython",
    "version": 3
   },
   "file_extension": ".py",
   "mimetype": "text/x-python",
   "name": "python",
   "nbconvert_exporter": "python",
   "pygments_lexer": "ipython3",
   "version": "3.10.9"
  }
 },
 "nbformat": 4,
 "nbformat_minor": 5
}
