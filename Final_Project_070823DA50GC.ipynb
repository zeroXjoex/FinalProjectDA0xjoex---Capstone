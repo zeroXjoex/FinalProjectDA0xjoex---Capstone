{
  "cells": [
    {
      "cell_type": "markdown",
      "metadata": {
        "id": "view-in-github",
        "colab_type": "text"
      },
      "source": [
        "<a href=\"https://colab.research.google.com/github/zeroXjoex/FinalProjectDA0xjoex---Capstone/blob/main/Final_Project_070823DA50GC.ipynb\" target=\"_parent\"><img src=\"https://colab.research.google.com/assets/colab-badge.svg\" alt=\"Open In Colab\"/></a>"
      ]
    },
    {
      "cell_type": "markdown",
      "id": "60a8f797",
      "metadata": {
        "id": "60a8f797"
      },
      "source": [
        "###  1.2 Objectives of the study\n",
        "\n",
        "##### The primary objectives of this study are as follows:\n",
        "\n",
        "- To explore the experiences of individuals in using data analytics techniques to enhance their brand recognition on social media.\n",
        "- To understand the impact of data analytics techniques on the social media presence of individuals and their brand recognition.\n",
        "- To identify the most effective data analytics techniques used by individuals to improve their brand recognition on social media.\n",
        "- To provide recommendations for businesses on how to effectively utilize data analytics techniques to improve their brand recognition on social media."
      ]
    },
    {
      "cell_type": "markdown",
      "id": "61a997d6",
      "metadata": {
        "id": "61a997d6"
      },
      "source": [
        "### Scraping the Dataset"
      ]
    },
    {
      "cell_type": "code",
      "execution_count": null,
      "id": "026f3bcc",
      "metadata": {
        "id": "026f3bcc"
      },
      "outputs": [],
      "source": [
        "#pip install beautifulsoup4"
      ]
    },
    {
      "cell_type": "code",
      "execution_count": null,
      "id": "1526ebf1",
      "metadata": {
        "id": "1526ebf1"
      },
      "outputs": [],
      "source": [
        "#pip install requests"
      ]
    },
    {
      "cell_type": "code",
      "execution_count": null,
      "id": "e12fc615",
      "metadata": {
        "id": "e12fc615"
      },
      "outputs": [],
      "source": [
        "import requests\n",
        "from bs4 import BeautifulSoup\n",
        "import csv\n",
        "import time\n",
        "\n",
        "#def scrape_amazon_Electronics_reviews():\n",
        "    url = \"https://www.amazon.com/s?k=Electronics\"\n",
        "    headers = {\n",
        "        \"User-Agent\": \"Mozilla/5.0 (Windows NT 10.0; Win64; x64) AppleWebKit/537.36 (KHTML, like Gecko) Chrome/58.0.3029.110 Safari/537.3\"}\n",
        "\n",
        "    response = requests.get(url, headers=headers)\n",
        "\n",
        "    #if response.status_code == 200:\n",
        "        soup = BeautifulSoup(response.content, \"html.parser\")\n",
        "        product_links = []\n",
        "\n",
        "        #for product in soup.find_all(\"div\", class_=\"sg-col-inner\"):\n",
        "            link = product.find(\"a\", class_=\"a-link-normal\")\n",
        "            #if link:\n",
        "                product_links.append(\"https://www.amazon.com\" + link['href'])\n",
        "\n",
        "        #with open(\"Electronics_reviews.csv\", \"w\", newline=\"\", encoding=\"utf-8\") as csvfile:\n",
        "            writer = csv.writer(csvfile)\n",
        "            writer.writerow([\"Rating\", \"Comment\"])\n",
        "\n",
        "            #for link in product_links:\n",
        "                response = requests.get(link, headers=headers)\n",
        "                #if response.status_code == 200:\n",
        "                    soup = BeautifulSoup(response.content, \"html.parser\")\n",
        "                    product_title = soup.find(\"span\", class_=\"a-size-large product-title-word-break\").text.strip()\n",
        "\n",
        "                    review_section = soup.find(\"div\", {\"data-hook\": \"reviews-collapsed\"})\n",
        "                    #if review_section:\n",
        "                        reviews = review_section.find_all(\"span\", {\"data-hook\": \"review-body\"})\n",
        "                        #for review in reviews:\n",
        "                            rating = review.find_previous(\"i\").text.strip()\n",
        "                            comment = review.text.strip()  # Get the comment text\n",
        "                            writer.writerow([rating, comment])\n",
        "\n",
        "                            # Introduce a delay to avoid overwhelming the server\n",
        "                            time.sleep(2)\n",
        "                #else:\n",
        "                    print(f\"Failed to scrape {link}. Status code: {response.status_code}\")\n",
        "                    # Retry the request after waiting for a while\n",
        "                    time.sleep(10)\n",
        "    #else:\n",
        "        print(f\"Failed to access the URL. Status code: {response.status_code}\")\n",
        "\n",
        "\n",
        "#if __name__ == \"__main__\":\n",
        "    scrape_amazon_Electronics()"
      ]
    },
    {
      "cell_type": "markdown",
      "id": "9333047d",
      "metadata": {
        "id": "9333047d"
      },
      "source": [
        "The aboce code can be used to scrap data, but amazon and almost all platforms have restricted it, so i got in touch with stanford where they had amazon electronics dataset and they mailed it to me"
      ]
    },
    {
      "cell_type": "markdown",
      "id": "752ccafc",
      "metadata": {
        "id": "752ccafc"
      },
      "source": [
        "### Reading Json File"
      ]
    },
    {
      "cell_type": "code",
      "execution_count": null,
      "id": "cb243004",
      "metadata": {
        "id": "cb243004"
      },
      "outputs": [],
      "source": [
        "#import json\n",
        "#import os\n",
        "\n",
        "\n",
        "file_path = os.path.expanduser(\"~/Desktop/Final Project/Electronics.json\")\n",
        "\n",
        "#def stream_json_data(file_path):\n",
        "    #with open(file_path, \"r\") as json_file:\n",
        "        #for line_number, line in enumerate(json_file, start=1):\n",
        "            #try:\n",
        "                data = json.loads(line)\n",
        "                #yield data\n",
        "            #except json.JSONDecodeError:\n",
        "                print(f\"Error parsing line {line_number}: {line}\")\n",
        "\n",
        "#for index, item in enumerate(stream_json_data(file_path), start=1):\n",
        "    print(f\"Row {index}: {item}\")\n",
        "    #if index == 20:\n",
        "        #break"
      ]
    },
    {
      "cell_type": "markdown",
      "id": "13ba55b8",
      "metadata": {
        "id": "13ba55b8"
      },
      "source": [
        "### Converting it into Excel File"
      ]
    },
    {
      "cell_type": "code",
      "execution_count": null,
      "id": "d8476dd2",
      "metadata": {
        "id": "d8476dd2"
      },
      "outputs": [],
      "source": [
        "#import os\n",
        "#import json\n",
        "#import pandas as pd\n",
        "#from itertools import islice\n",
        "\n",
        "file_path = os.path.expanduser(\"~/Desktop/Final Project/Electronics.json\")\n",
        "\n",
        "chunk_size = 1000\n",
        "\n",
        "json_directory = os.path.dirname(file_path)\n",
        "\n",
        "output_file_path = os.path.join(json_directory, \"Electronics.xlsx\")\n",
        "\n",
        "excel_writer = pd.ExcelWriter(output_file_path, engine=\"xlsxwriter\")\n",
        "\n",
        "row_counter = 0\n",
        "\n",
        "#with open(file_path, \"r\") as json_file:\n",
        "    #while True:\n",
        "        data_chunk = list(islice(json_file, chunk_size))\n",
        "        #if not data_chunk:\n",
        "            #break\n",
        "\n",
        "        df_chunk = pd.DataFrame([json.loads(line) for line in data_chunk])\n",
        "\n",
        "        df_chunk.to_excel(excel_writer, sheet_name=\"Sheet1\", index=False, startrow=row_counter)\n",
        "\n",
        "        row_counter += len(df_chunk)\n",
        "\n",
        "excel_writer.save()\n",
        "\n",
        "#print(\"Data saved to Excel file:\", output_file_path)"
      ]
    },
    {
      "cell_type": "markdown",
      "id": "3e60d49c",
      "metadata": {
        "id": "3e60d49c"
      },
      "source": [
        "### Importing The Dataset"
      ]
    },
    {
      "cell_type": "code",
      "source": [
        "#!pip install gspread oauth2client"
      ],
      "metadata": {
        "id": "kbMdeFjKST5c"
      },
      "id": "kbMdeFjKST5c",
      "execution_count": 14,
      "outputs": []
    },
    {
      "cell_type": "code",
      "source": [
        "#!pip install gdown"
      ],
      "metadata": {
        "id": "i4Uom3A6R3_G"
      },
      "id": "i4Uom3A6R3_G",
      "execution_count": 15,
      "outputs": []
    },
    {
      "cell_type": "code",
      "source": [
        "from google.colab import files\n",
        "\n",
        "# Upload the file\n",
        "uploaded = files.upload()"
      ],
      "metadata": {
        "colab": {
          "base_uri": "https://localhost:8080/",
          "height": 74
        },
        "id": "0KUaZ9w1T3v2",
        "outputId": "4838c282-e977-4133-f565-b7634510551e"
      },
      "id": "0KUaZ9w1T3v2",
      "execution_count": 11,
      "outputs": [
        {
          "output_type": "display_data",
          "data": {
            "text/plain": [
              "<IPython.core.display.HTML object>"
            ],
            "text/html": [
              "\n",
              "     <input type=\"file\" id=\"files-4ce948df-aede-4191-8e80-30872d6bce85\" name=\"files[]\" multiple disabled\n",
              "        style=\"border:none\" />\n",
              "     <output id=\"result-4ce948df-aede-4191-8e80-30872d6bce85\">\n",
              "      Upload widget is only available when the cell has been executed in the\n",
              "      current browser session. Please rerun this cell to enable.\n",
              "      </output>\n",
              "      <script>// Copyright 2017 Google LLC\n",
              "//\n",
              "// Licensed under the Apache License, Version 2.0 (the \"License\");\n",
              "// you may not use this file except in compliance with the License.\n",
              "// You may obtain a copy of the License at\n",
              "//\n",
              "//      http://www.apache.org/licenses/LICENSE-2.0\n",
              "//\n",
              "// Unless required by applicable law or agreed to in writing, software\n",
              "// distributed under the License is distributed on an \"AS IS\" BASIS,\n",
              "// WITHOUT WARRANTIES OR CONDITIONS OF ANY KIND, either express or implied.\n",
              "// See the License for the specific language governing permissions and\n",
              "// limitations under the License.\n",
              "\n",
              "/**\n",
              " * @fileoverview Helpers for google.colab Python module.\n",
              " */\n",
              "(function(scope) {\n",
              "function span(text, styleAttributes = {}) {\n",
              "  const element = document.createElement('span');\n",
              "  element.textContent = text;\n",
              "  for (const key of Object.keys(styleAttributes)) {\n",
              "    element.style[key] = styleAttributes[key];\n",
              "  }\n",
              "  return element;\n",
              "}\n",
              "\n",
              "// Max number of bytes which will be uploaded at a time.\n",
              "const MAX_PAYLOAD_SIZE = 100 * 1024;\n",
              "\n",
              "function _uploadFiles(inputId, outputId) {\n",
              "  const steps = uploadFilesStep(inputId, outputId);\n",
              "  const outputElement = document.getElementById(outputId);\n",
              "  // Cache steps on the outputElement to make it available for the next call\n",
              "  // to uploadFilesContinue from Python.\n",
              "  outputElement.steps = steps;\n",
              "\n",
              "  return _uploadFilesContinue(outputId);\n",
              "}\n",
              "\n",
              "// This is roughly an async generator (not supported in the browser yet),\n",
              "// where there are multiple asynchronous steps and the Python side is going\n",
              "// to poll for completion of each step.\n",
              "// This uses a Promise to block the python side on completion of each step,\n",
              "// then passes the result of the previous step as the input to the next step.\n",
              "function _uploadFilesContinue(outputId) {\n",
              "  const outputElement = document.getElementById(outputId);\n",
              "  const steps = outputElement.steps;\n",
              "\n",
              "  const next = steps.next(outputElement.lastPromiseValue);\n",
              "  return Promise.resolve(next.value.promise).then((value) => {\n",
              "    // Cache the last promise value to make it available to the next\n",
              "    // step of the generator.\n",
              "    outputElement.lastPromiseValue = value;\n",
              "    return next.value.response;\n",
              "  });\n",
              "}\n",
              "\n",
              "/**\n",
              " * Generator function which is called between each async step of the upload\n",
              " * process.\n",
              " * @param {string} inputId Element ID of the input file picker element.\n",
              " * @param {string} outputId Element ID of the output display.\n",
              " * @return {!Iterable<!Object>} Iterable of next steps.\n",
              " */\n",
              "function* uploadFilesStep(inputId, outputId) {\n",
              "  const inputElement = document.getElementById(inputId);\n",
              "  inputElement.disabled = false;\n",
              "\n",
              "  const outputElement = document.getElementById(outputId);\n",
              "  outputElement.innerHTML = '';\n",
              "\n",
              "  const pickedPromise = new Promise((resolve) => {\n",
              "    inputElement.addEventListener('change', (e) => {\n",
              "      resolve(e.target.files);\n",
              "    });\n",
              "  });\n",
              "\n",
              "  const cancel = document.createElement('button');\n",
              "  inputElement.parentElement.appendChild(cancel);\n",
              "  cancel.textContent = 'Cancel upload';\n",
              "  const cancelPromise = new Promise((resolve) => {\n",
              "    cancel.onclick = () => {\n",
              "      resolve(null);\n",
              "    };\n",
              "  });\n",
              "\n",
              "  // Wait for the user to pick the files.\n",
              "  const files = yield {\n",
              "    promise: Promise.race([pickedPromise, cancelPromise]),\n",
              "    response: {\n",
              "      action: 'starting',\n",
              "    }\n",
              "  };\n",
              "\n",
              "  cancel.remove();\n",
              "\n",
              "  // Disable the input element since further picks are not allowed.\n",
              "  inputElement.disabled = true;\n",
              "\n",
              "  if (!files) {\n",
              "    return {\n",
              "      response: {\n",
              "        action: 'complete',\n",
              "      }\n",
              "    };\n",
              "  }\n",
              "\n",
              "  for (const file of files) {\n",
              "    const li = document.createElement('li');\n",
              "    li.append(span(file.name, {fontWeight: 'bold'}));\n",
              "    li.append(span(\n",
              "        `(${file.type || 'n/a'}) - ${file.size} bytes, ` +\n",
              "        `last modified: ${\n",
              "            file.lastModifiedDate ? file.lastModifiedDate.toLocaleDateString() :\n",
              "                                    'n/a'} - `));\n",
              "    const percent = span('0% done');\n",
              "    li.appendChild(percent);\n",
              "\n",
              "    outputElement.appendChild(li);\n",
              "\n",
              "    const fileDataPromise = new Promise((resolve) => {\n",
              "      const reader = new FileReader();\n",
              "      reader.onload = (e) => {\n",
              "        resolve(e.target.result);\n",
              "      };\n",
              "      reader.readAsArrayBuffer(file);\n",
              "    });\n",
              "    // Wait for the data to be ready.\n",
              "    let fileData = yield {\n",
              "      promise: fileDataPromise,\n",
              "      response: {\n",
              "        action: 'continue',\n",
              "      }\n",
              "    };\n",
              "\n",
              "    // Use a chunked sending to avoid message size limits. See b/62115660.\n",
              "    let position = 0;\n",
              "    do {\n",
              "      const length = Math.min(fileData.byteLength - position, MAX_PAYLOAD_SIZE);\n",
              "      const chunk = new Uint8Array(fileData, position, length);\n",
              "      position += length;\n",
              "\n",
              "      const base64 = btoa(String.fromCharCode.apply(null, chunk));\n",
              "      yield {\n",
              "        response: {\n",
              "          action: 'append',\n",
              "          file: file.name,\n",
              "          data: base64,\n",
              "        },\n",
              "      };\n",
              "\n",
              "      let percentDone = fileData.byteLength === 0 ?\n",
              "          100 :\n",
              "          Math.round((position / fileData.byteLength) * 100);\n",
              "      percent.textContent = `${percentDone}% done`;\n",
              "\n",
              "    } while (position < fileData.byteLength);\n",
              "  }\n",
              "\n",
              "  // All done.\n",
              "  yield {\n",
              "    response: {\n",
              "      action: 'complete',\n",
              "    }\n",
              "  };\n",
              "}\n",
              "\n",
              "scope.google = scope.google || {};\n",
              "scope.google.colab = scope.google.colab || {};\n",
              "scope.google.colab._files = {\n",
              "  _uploadFiles,\n",
              "  _uploadFilesContinue,\n",
              "};\n",
              "})(self);\n",
              "</script> "
            ]
          },
          "metadata": {}
        },
        {
          "output_type": "stream",
          "name": "stdout",
          "text": [
            "Saving Final Project - 070823DA(36).ipynb to Final Project - 070823DA(36) (3).ipynb\n"
          ]
        }
      ]
    },
    {
      "cell_type": "code",
      "source": [
        "uploaded.keys()"
      ],
      "metadata": {
        "colab": {
          "base_uri": "https://localhost:8080/"
        },
        "id": "t1g1RA3LUmAD",
        "outputId": "8acc4875-33b8-45b2-a704-796d7187cfe4"
      },
      "id": "t1g1RA3LUmAD",
      "execution_count": 12,
      "outputs": [
        {
          "output_type": "execute_result",
          "data": {
            "text/plain": [
              "dict_keys(['Final Project - 070823DA(36) (3).ipynb'])"
            ]
          },
          "metadata": {},
          "execution_count": 12
        }
      ]
    },
    {
      "cell_type": "code",
      "source": [
        "from google.colab import files\n",
        "import pandas as pd\n",
        "\n",
        "# Upload the Excel file\n",
        "uploaded = files.upload()"
      ],
      "metadata": {
        "colab": {
          "base_uri": "https://localhost:8080/",
          "height": 74
        },
        "id": "KcKoIhREU1wQ",
        "outputId": "c4a9f627-b48d-4cb1-c98e-bb2888854659"
      },
      "id": "KcKoIhREU1wQ",
      "execution_count": 13,
      "outputs": [
        {
          "output_type": "display_data",
          "data": {
            "text/plain": [
              "<IPython.core.display.HTML object>"
            ],
            "text/html": [
              "\n",
              "     <input type=\"file\" id=\"files-625c8d0c-90ca-492a-a312-32fd25ce0236\" name=\"files[]\" multiple disabled\n",
              "        style=\"border:none\" />\n",
              "     <output id=\"result-625c8d0c-90ca-492a-a312-32fd25ce0236\">\n",
              "      Upload widget is only available when the cell has been executed in the\n",
              "      current browser session. Please rerun this cell to enable.\n",
              "      </output>\n",
              "      <script>// Copyright 2017 Google LLC\n",
              "//\n",
              "// Licensed under the Apache License, Version 2.0 (the \"License\");\n",
              "// you may not use this file except in compliance with the License.\n",
              "// You may obtain a copy of the License at\n",
              "//\n",
              "//      http://www.apache.org/licenses/LICENSE-2.0\n",
              "//\n",
              "// Unless required by applicable law or agreed to in writing, software\n",
              "// distributed under the License is distributed on an \"AS IS\" BASIS,\n",
              "// WITHOUT WARRANTIES OR CONDITIONS OF ANY KIND, either express or implied.\n",
              "// See the License for the specific language governing permissions and\n",
              "// limitations under the License.\n",
              "\n",
              "/**\n",
              " * @fileoverview Helpers for google.colab Python module.\n",
              " */\n",
              "(function(scope) {\n",
              "function span(text, styleAttributes = {}) {\n",
              "  const element = document.createElement('span');\n",
              "  element.textContent = text;\n",
              "  for (const key of Object.keys(styleAttributes)) {\n",
              "    element.style[key] = styleAttributes[key];\n",
              "  }\n",
              "  return element;\n",
              "}\n",
              "\n",
              "// Max number of bytes which will be uploaded at a time.\n",
              "const MAX_PAYLOAD_SIZE = 100 * 1024;\n",
              "\n",
              "function _uploadFiles(inputId, outputId) {\n",
              "  const steps = uploadFilesStep(inputId, outputId);\n",
              "  const outputElement = document.getElementById(outputId);\n",
              "  // Cache steps on the outputElement to make it available for the next call\n",
              "  // to uploadFilesContinue from Python.\n",
              "  outputElement.steps = steps;\n",
              "\n",
              "  return _uploadFilesContinue(outputId);\n",
              "}\n",
              "\n",
              "// This is roughly an async generator (not supported in the browser yet),\n",
              "// where there are multiple asynchronous steps and the Python side is going\n",
              "// to poll for completion of each step.\n",
              "// This uses a Promise to block the python side on completion of each step,\n",
              "// then passes the result of the previous step as the input to the next step.\n",
              "function _uploadFilesContinue(outputId) {\n",
              "  const outputElement = document.getElementById(outputId);\n",
              "  const steps = outputElement.steps;\n",
              "\n",
              "  const next = steps.next(outputElement.lastPromiseValue);\n",
              "  return Promise.resolve(next.value.promise).then((value) => {\n",
              "    // Cache the last promise value to make it available to the next\n",
              "    // step of the generator.\n",
              "    outputElement.lastPromiseValue = value;\n",
              "    return next.value.response;\n",
              "  });\n",
              "}\n",
              "\n",
              "/**\n",
              " * Generator function which is called between each async step of the upload\n",
              " * process.\n",
              " * @param {string} inputId Element ID of the input file picker element.\n",
              " * @param {string} outputId Element ID of the output display.\n",
              " * @return {!Iterable<!Object>} Iterable of next steps.\n",
              " */\n",
              "function* uploadFilesStep(inputId, outputId) {\n",
              "  const inputElement = document.getElementById(inputId);\n",
              "  inputElement.disabled = false;\n",
              "\n",
              "  const outputElement = document.getElementById(outputId);\n",
              "  outputElement.innerHTML = '';\n",
              "\n",
              "  const pickedPromise = new Promise((resolve) => {\n",
              "    inputElement.addEventListener('change', (e) => {\n",
              "      resolve(e.target.files);\n",
              "    });\n",
              "  });\n",
              "\n",
              "  const cancel = document.createElement('button');\n",
              "  inputElement.parentElement.appendChild(cancel);\n",
              "  cancel.textContent = 'Cancel upload';\n",
              "  const cancelPromise = new Promise((resolve) => {\n",
              "    cancel.onclick = () => {\n",
              "      resolve(null);\n",
              "    };\n",
              "  });\n",
              "\n",
              "  // Wait for the user to pick the files.\n",
              "  const files = yield {\n",
              "    promise: Promise.race([pickedPromise, cancelPromise]),\n",
              "    response: {\n",
              "      action: 'starting',\n",
              "    }\n",
              "  };\n",
              "\n",
              "  cancel.remove();\n",
              "\n",
              "  // Disable the input element since further picks are not allowed.\n",
              "  inputElement.disabled = true;\n",
              "\n",
              "  if (!files) {\n",
              "    return {\n",
              "      response: {\n",
              "        action: 'complete',\n",
              "      }\n",
              "    };\n",
              "  }\n",
              "\n",
              "  for (const file of files) {\n",
              "    const li = document.createElement('li');\n",
              "    li.append(span(file.name, {fontWeight: 'bold'}));\n",
              "    li.append(span(\n",
              "        `(${file.type || 'n/a'}) - ${file.size} bytes, ` +\n",
              "        `last modified: ${\n",
              "            file.lastModifiedDate ? file.lastModifiedDate.toLocaleDateString() :\n",
              "                                    'n/a'} - `));\n",
              "    const percent = span('0% done');\n",
              "    li.appendChild(percent);\n",
              "\n",
              "    outputElement.appendChild(li);\n",
              "\n",
              "    const fileDataPromise = new Promise((resolve) => {\n",
              "      const reader = new FileReader();\n",
              "      reader.onload = (e) => {\n",
              "        resolve(e.target.result);\n",
              "      };\n",
              "      reader.readAsArrayBuffer(file);\n",
              "    });\n",
              "    // Wait for the data to be ready.\n",
              "    let fileData = yield {\n",
              "      promise: fileDataPromise,\n",
              "      response: {\n",
              "        action: 'continue',\n",
              "      }\n",
              "    };\n",
              "\n",
              "    // Use a chunked sending to avoid message size limits. See b/62115660.\n",
              "    let position = 0;\n",
              "    do {\n",
              "      const length = Math.min(fileData.byteLength - position, MAX_PAYLOAD_SIZE);\n",
              "      const chunk = new Uint8Array(fileData, position, length);\n",
              "      position += length;\n",
              "\n",
              "      const base64 = btoa(String.fromCharCode.apply(null, chunk));\n",
              "      yield {\n",
              "        response: {\n",
              "          action: 'append',\n",
              "          file: file.name,\n",
              "          data: base64,\n",
              "        },\n",
              "      };\n",
              "\n",
              "      let percentDone = fileData.byteLength === 0 ?\n",
              "          100 :\n",
              "          Math.round((position / fileData.byteLength) * 100);\n",
              "      percent.textContent = `${percentDone}% done`;\n",
              "\n",
              "    } while (position < fileData.byteLength);\n",
              "  }\n",
              "\n",
              "  // All done.\n",
              "  yield {\n",
              "    response: {\n",
              "      action: 'complete',\n",
              "    }\n",
              "  };\n",
              "}\n",
              "\n",
              "scope.google = scope.google || {};\n",
              "scope.google.colab = scope.google.colab || {};\n",
              "scope.google.colab._files = {\n",
              "  _uploadFiles,\n",
              "  _uploadFilesContinue,\n",
              "};\n",
              "})(self);\n",
              "</script> "
            ]
          },
          "metadata": {}
        },
        {
          "output_type": "stream",
          "name": "stdout",
          "text": [
            "Saving Electronics.xlsx to Electronics (1).xlsx\n"
          ]
        }
      ]
    },
    {
      "cell_type": "code",
      "source": [
        "print(\"Uploaded files:\", uploaded.keys())"
      ],
      "metadata": {
        "colab": {
          "base_uri": "https://localhost:8080/"
        },
        "id": "sTQnWz2ehrpR",
        "outputId": "2bdb7fcc-901e-4185-812b-1f44845d3dfe"
      },
      "id": "sTQnWz2ehrpR",
      "execution_count": 18,
      "outputs": [
        {
          "output_type": "stream",
          "name": "stdout",
          "text": [
            "Uploaded files: dict_keys(['Electronics (1).xlsx'])\n"
          ]
        }
      ]
    },
    {
      "cell_type": "code",
      "source": [
        "import pandas as pd\n",
        "\n",
        "# Read the uploaded Excel file using the openpyxl engine\n",
        "df = pd.read_excel(\"Electronics (1).xlsx\", engine='openpyxl')\n",
        "\n",
        "# Display the first few rows of the DataFrame\n",
        "print(df.head())"
      ],
      "metadata": {
        "colab": {
          "base_uri": "https://localhost:8080/"
        },
        "id": "xepS-4-yilD7",
        "outputId": "a4be24f9-a885-4729-ac8b-f34f76c64d1b"
      },
      "id": "xepS-4-yilD7",
      "execution_count": 21,
      "outputs": [
        {
          "output_type": "stream",
          "name": "stdout",
          "text": [
            "  overall verified   reviewTime      reviewerID        asin  \\\n",
            "0       5     True  07 17, 2002  A1N070NS9CJQ2I  0060009810   \n",
            "1       5    False   07 6, 2002  A3P0KRKOBQK1KN  0060009810   \n",
            "2       5    False   07 3, 2002  A192HO2ICJ75VU  0060009810   \n",
            "3       4    False  06 30, 2002  A2T278FKFL3BLT  0060009810   \n",
            "4       5    False  06 28, 2002  A2ZUXVTW8RXBXW  0060009810   \n",
            "\n",
            "                       style reviewerName  \\\n",
            "0  {'Format:': ' Hardcover'}   Teri Adams   \n",
            "1  {'Format:': ' Hardcover'}     Willa C.   \n",
            "2  {'Format:': ' Hardcover'}          Kit   \n",
            "3  {'Format:': ' Hardcover'}       Andres   \n",
            "4  {'Format:': ' Hardcover'}         John   \n",
            "\n",
            "                                          reviewText  \\\n",
            "0  This was the first time I read Garcia-Aguilera...   \n",
            "1  As with all of Ms. Garcia-Aguilera's books, I ...   \n",
            "2  I've not read any of Ms Aguilera's works befor...   \n",
            "3  This romance novel is right up there with the ...   \n",
            "4  Carolina Garcia Aguilera has done it again.  S...   \n",
            "\n",
            "                          summary unixReviewTime vote image  \n",
            "0                   Hit The Spot!     1026864000  NaN   NaN  \n",
            "1  one hot summer is HOT HOT HOT!     1025913600  NaN   NaN  \n",
            "2                  One Hot Summer     1025654400    2   NaN  \n",
            "3               I love this book!     1025395200    3   NaN  \n",
            "4                    One Hot Book     1025222400  NaN   NaN  \n"
          ]
        }
      ]
    },
    {
      "cell_type": "markdown",
      "id": "642dd47d",
      "metadata": {
        "id": "642dd47d"
      },
      "source": [
        "### Basic Info and Statistics"
      ]
    },
    {
      "cell_type": "code",
      "execution_count": 23,
      "id": "b39974e8",
      "metadata": {
        "colab": {
          "base_uri": "https://localhost:8080/"
        },
        "id": "b39974e8",
        "outputId": "6b220ab8-6894-4584-8c5f-ffb3546d6a9f"
      },
      "outputs": [
        {
          "output_type": "stream",
          "name": "stdout",
          "text": [
            "Shape of the dataset: (1048575, 12)\n"
          ]
        }
      ],
      "source": [
        "print(\"Shape of the dataset:\", df.shape)"
      ]
    },
    {
      "cell_type": "code",
      "execution_count": 24,
      "id": "1d45590f",
      "metadata": {
        "colab": {
          "base_uri": "https://localhost:8080/"
        },
        "id": "1d45590f",
        "outputId": "d9c51734-01bc-47a7-e15c-f3f3fbe4f962"
      },
      "outputs": [
        {
          "output_type": "stream",
          "name": "stdout",
          "text": [
            "\n",
            "Basic Information:\n",
            "<class 'pandas.core.frame.DataFrame'>\n",
            "RangeIndex: 1048575 entries, 0 to 1048574\n",
            "Data columns (total 12 columns):\n",
            " #   Column          Non-Null Count    Dtype \n",
            "---  ------          --------------    ----- \n",
            " 0   overall         1035845 non-null  object\n",
            " 1   verified        887548 non-null   object\n",
            " 2   reviewTime      1042266 non-null  object\n",
            " 3   reviewerID      1048575 non-null  object\n",
            " 4   asin            1047571 non-null  object\n",
            " 5   style           902959 non-null   object\n",
            " 6   reviewerName    1013386 non-null  object\n",
            " 7   reviewText      1046804 non-null  object\n",
            " 8   summary         1048484 non-null  object\n",
            " 9   unixReviewTime  799614 non-null   object\n",
            " 10  vote            275785 non-null   object\n",
            " 11  image           72538 non-null    object\n",
            "dtypes: object(12)\n",
            "memory usage: 96.0+ MB\n",
            "None\n"
          ]
        }
      ],
      "source": [
        "print(\"\\nBasic Information:\")\n",
        "print(df.info())"
      ]
    },
    {
      "cell_type": "code",
      "execution_count": 25,
      "id": "bfd60f1e",
      "metadata": {
        "colab": {
          "base_uri": "https://localhost:8080/"
        },
        "id": "bfd60f1e",
        "outputId": "e8344ebc-539b-4c05-d70d-53b206826b15"
      },
      "outputs": [
        {
          "output_type": "stream",
          "name": "stdout",
          "text": [
            "\n",
            "Summary Statistics:\n",
            "        overall verified reviewTime reviewerID        asin  \\\n",
            "count   1035845   887548    1042266    1048575     1047571   \n",
            "unique    39424      977      39728     638976      267167   \n",
            "top           5     True       True       True  B000BQ7GW8   \n",
            "freq     598079   596838     161443      42032       13755   \n",
            "\n",
            "                                           style     reviewerName  reviewText  \\\n",
            "count                                     902959          1013386     1046804   \n",
            "unique                                    228626           669843      836949   \n",
            "top     {'Package Type:': ' Standard Packaging'}  Amazon Customer  Five Stars   \n",
            "freq                                       33969            26733       38232   \n",
            "\n",
            "           summary unixReviewTime    vote  \\\n",
            "count      1048484         799614  275785   \n",
            "unique      447538          72620   14412   \n",
            "top     Five Stars              2       2   \n",
            "freq         79448          16755   25023   \n",
            "\n",
            "                                           image  \n",
            "count                                      72538  \n",
            "unique                                      9546  \n",
            "top     {'Package Type:': ' Standard Packaging'}  \n",
            "freq                                        9784  \n"
          ]
        }
      ],
      "source": [
        "print(\"\\nSummary Statistics:\")\n",
        "print(df.describe())"
      ]
    },
    {
      "cell_type": "code",
      "execution_count": 26,
      "id": "3e2a9991",
      "metadata": {
        "colab": {
          "base_uri": "https://localhost:8080/",
          "height": 1000
        },
        "id": "3e2a9991",
        "outputId": "b1ac881a-4986-46a7-af95-d2d1d7098143"
      },
      "outputs": [
        {
          "output_type": "execute_result",
          "data": {
            "text/plain": [
              "   overall verified   reviewTime      reviewerID        asin  \\\n",
              "0        5     True  07 17, 2002  A1N070NS9CJQ2I  0060009810   \n",
              "1        5    False   07 6, 2002  A3P0KRKOBQK1KN  0060009810   \n",
              "2        5    False   07 3, 2002  A192HO2ICJ75VU  0060009810   \n",
              "3        4    False  06 30, 2002  A2T278FKFL3BLT  0060009810   \n",
              "4        5    False  06 28, 2002  A2ZUXVTW8RXBXW  0060009810   \n",
              "5        4    False  06 25, 2002  A21JDG4HA6OLPF  0060009810   \n",
              "6        5    False  06 22, 2002  A2NCADLQY962YD  0060009810   \n",
              "7        5    False  01 26, 2006  A2UNA438B0FRA8  0060786817   \n",
              "8        5    False  01 21, 2006  A2NQQSHSQKKGEX  0060786817   \n",
              "9        3    False  01 18, 2006   A5EXND10WD4PM  0060786817   \n",
              "10       5    False  01 18, 2006   AVJ37XQN3ID16  0060786817   \n",
              "11       4    False  01 10, 2006  A21NVBFIEQWDSG  0060786817   \n",
              "12       5    False   10 9, 2008  A1KWVR13XUOGQG  0060786817   \n",
              "13       4    False  04 24, 2008  A2PH70X2FVDDGH  0060786817   \n",
              "14       3    False  08 16, 2007  A25R6KND6KDDCU  0060786817   \n",
              "\n",
              "                        style         reviewerName  \\\n",
              "0   {'Format:': ' Hardcover'}           Teri Adams   \n",
              "1   {'Format:': ' Hardcover'}             Willa C.   \n",
              "2   {'Format:': ' Hardcover'}                  Kit   \n",
              "3   {'Format:': ' Hardcover'}               Andres   \n",
              "4   {'Format:': ' Hardcover'}                 John   \n",
              "5   {'Format:': ' Hardcover'}                 Mari   \n",
              "6   {'Format:': ' Hardcover'}      Amazon Customer   \n",
              "7   {'Format:': ' Hardcover'}          J. Belfield   \n",
              "8   {'Format:': ' Hardcover'}          E. D. Davis   \n",
              "9   {'Format:': ' Hardcover'}           Mocha Girl   \n",
              "10  {'Format:': ' Hardcover'}  Kirsten A. Bischoff   \n",
              "11  {'Format:': ' Hardcover'}  Armchair Interviews   \n",
              "12  {'Format:': ' Hardcover'}     Lawence A. White   \n",
              "13  {'Format:': ' Hardcover'}        Book Princess   \n",
              "14  {'Format:': ' Hardcover'}        S. L. Jackson   \n",
              "\n",
              "                                           reviewText  \\\n",
              "0   This was the first time I read Garcia-Aguilera...   \n",
              "1   As with all of Ms. Garcia-Aguilera's books, I ...   \n",
              "2   I've not read any of Ms Aguilera's works befor...   \n",
              "3   This romance novel is right up there with the ...   \n",
              "4   Carolina Garcia Aguilera has done it again.  S...   \n",
              "5   Not only can she write mysteries,but she sure ...   \n",
              "6   Once again Garcia-Aguilera has written a book ...   \n",
              "7   The timing is just right for a good book. Actu...   \n",
              "8   Engaging. Dark. Reading the book you could alm...   \n",
              "9   Set amid the backdrop of New York City's imper...   \n",
              "10  A guilty pleasure of a book with characters so...   \n",
              "11  I'd never before read a Lolita Files' book, an...   \n",
              "12  Wow, I was totally blown away by this book.  J...   \n",
              "13  Lolita Files is one of my favorite authors. Sh...   \n",
              "14  This book is...I don't even know what to call ...   \n",
              "\n",
              "                                              summary unixReviewTime vote  \\\n",
              "0                                       Hit The Spot!     1026864000  NaN   \n",
              "1                      one hot summer is HOT HOT HOT!     1025913600  NaN   \n",
              "2                                      One Hot Summer     1025654400    2   \n",
              "3                                   I love this book!     1025395200    3   \n",
              "4                                        One Hot Book     1025222400  NaN   \n",
              "5                             Carolina does it again!     1024963200    2   \n",
              "6     It's no mystery, Garcia-Aguilera can do romance     1024704000    4   \n",
              "7                   A breath of fresh air for reading     1138233600  NaN   \n",
              "8   Well written page turner with fully develped c...     1137801600    4   \n",
              "9                          The Title Tells The Story!     1137542400    7   \n",
              "10                                        So much fun     1137542400  NaN   \n",
              "11                               Delightfully wicked!     1136851200    3   \n",
              "12                         Lolita Files Does It Again     1223510400  NaN   \n",
              "13                               A superb storyteller     1208995200  NaN   \n",
              "14                                  Crazy, Just Crazy     1187222400  NaN   \n",
              "\n",
              "   image  \n",
              "0    NaN  \n",
              "1    NaN  \n",
              "2    NaN  \n",
              "3    NaN  \n",
              "4    NaN  \n",
              "5    NaN  \n",
              "6    NaN  \n",
              "7    NaN  \n",
              "8    NaN  \n",
              "9    NaN  \n",
              "10   NaN  \n",
              "11   NaN  \n",
              "12   NaN  \n",
              "13   NaN  \n",
              "14   NaN  "
            ],
            "text/html": [
              "\n",
              "  <div id=\"df-a884a6ea-2e57-4645-beec-b3d436d7f144\" class=\"colab-df-container\">\n",
              "    <div>\n",
              "<style scoped>\n",
              "    .dataframe tbody tr th:only-of-type {\n",
              "        vertical-align: middle;\n",
              "    }\n",
              "\n",
              "    .dataframe tbody tr th {\n",
              "        vertical-align: top;\n",
              "    }\n",
              "\n",
              "    .dataframe thead th {\n",
              "        text-align: right;\n",
              "    }\n",
              "</style>\n",
              "<table border=\"1\" class=\"dataframe\">\n",
              "  <thead>\n",
              "    <tr style=\"text-align: right;\">\n",
              "      <th></th>\n",
              "      <th>overall</th>\n",
              "      <th>verified</th>\n",
              "      <th>reviewTime</th>\n",
              "      <th>reviewerID</th>\n",
              "      <th>asin</th>\n",
              "      <th>style</th>\n",
              "      <th>reviewerName</th>\n",
              "      <th>reviewText</th>\n",
              "      <th>summary</th>\n",
              "      <th>unixReviewTime</th>\n",
              "      <th>vote</th>\n",
              "      <th>image</th>\n",
              "    </tr>\n",
              "  </thead>\n",
              "  <tbody>\n",
              "    <tr>\n",
              "      <th>0</th>\n",
              "      <td>5</td>\n",
              "      <td>True</td>\n",
              "      <td>07 17, 2002</td>\n",
              "      <td>A1N070NS9CJQ2I</td>\n",
              "      <td>0060009810</td>\n",
              "      <td>{'Format:': ' Hardcover'}</td>\n",
              "      <td>Teri Adams</td>\n",
              "      <td>This was the first time I read Garcia-Aguilera...</td>\n",
              "      <td>Hit The Spot!</td>\n",
              "      <td>1026864000</td>\n",
              "      <td>NaN</td>\n",
              "      <td>NaN</td>\n",
              "    </tr>\n",
              "    <tr>\n",
              "      <th>1</th>\n",
              "      <td>5</td>\n",
              "      <td>False</td>\n",
              "      <td>07 6, 2002</td>\n",
              "      <td>A3P0KRKOBQK1KN</td>\n",
              "      <td>0060009810</td>\n",
              "      <td>{'Format:': ' Hardcover'}</td>\n",
              "      <td>Willa C.</td>\n",
              "      <td>As with all of Ms. Garcia-Aguilera's books, I ...</td>\n",
              "      <td>one hot summer is HOT HOT HOT!</td>\n",
              "      <td>1025913600</td>\n",
              "      <td>NaN</td>\n",
              "      <td>NaN</td>\n",
              "    </tr>\n",
              "    <tr>\n",
              "      <th>2</th>\n",
              "      <td>5</td>\n",
              "      <td>False</td>\n",
              "      <td>07 3, 2002</td>\n",
              "      <td>A192HO2ICJ75VU</td>\n",
              "      <td>0060009810</td>\n",
              "      <td>{'Format:': ' Hardcover'}</td>\n",
              "      <td>Kit</td>\n",
              "      <td>I've not read any of Ms Aguilera's works befor...</td>\n",
              "      <td>One Hot Summer</td>\n",
              "      <td>1025654400</td>\n",
              "      <td>2</td>\n",
              "      <td>NaN</td>\n",
              "    </tr>\n",
              "    <tr>\n",
              "      <th>3</th>\n",
              "      <td>4</td>\n",
              "      <td>False</td>\n",
              "      <td>06 30, 2002</td>\n",
              "      <td>A2T278FKFL3BLT</td>\n",
              "      <td>0060009810</td>\n",
              "      <td>{'Format:': ' Hardcover'}</td>\n",
              "      <td>Andres</td>\n",
              "      <td>This romance novel is right up there with the ...</td>\n",
              "      <td>I love this book!</td>\n",
              "      <td>1025395200</td>\n",
              "      <td>3</td>\n",
              "      <td>NaN</td>\n",
              "    </tr>\n",
              "    <tr>\n",
              "      <th>4</th>\n",
              "      <td>5</td>\n",
              "      <td>False</td>\n",
              "      <td>06 28, 2002</td>\n",
              "      <td>A2ZUXVTW8RXBXW</td>\n",
              "      <td>0060009810</td>\n",
              "      <td>{'Format:': ' Hardcover'}</td>\n",
              "      <td>John</td>\n",
              "      <td>Carolina Garcia Aguilera has done it again.  S...</td>\n",
              "      <td>One Hot Book</td>\n",
              "      <td>1025222400</td>\n",
              "      <td>NaN</td>\n",
              "      <td>NaN</td>\n",
              "    </tr>\n",
              "    <tr>\n",
              "      <th>5</th>\n",
              "      <td>4</td>\n",
              "      <td>False</td>\n",
              "      <td>06 25, 2002</td>\n",
              "      <td>A21JDG4HA6OLPF</td>\n",
              "      <td>0060009810</td>\n",
              "      <td>{'Format:': ' Hardcover'}</td>\n",
              "      <td>Mari</td>\n",
              "      <td>Not only can she write mysteries,but she sure ...</td>\n",
              "      <td>Carolina does it again!</td>\n",
              "      <td>1024963200</td>\n",
              "      <td>2</td>\n",
              "      <td>NaN</td>\n",
              "    </tr>\n",
              "    <tr>\n",
              "      <th>6</th>\n",
              "      <td>5</td>\n",
              "      <td>False</td>\n",
              "      <td>06 22, 2002</td>\n",
              "      <td>A2NCADLQY962YD</td>\n",
              "      <td>0060009810</td>\n",
              "      <td>{'Format:': ' Hardcover'}</td>\n",
              "      <td>Amazon Customer</td>\n",
              "      <td>Once again Garcia-Aguilera has written a book ...</td>\n",
              "      <td>It's no mystery, Garcia-Aguilera can do romance</td>\n",
              "      <td>1024704000</td>\n",
              "      <td>4</td>\n",
              "      <td>NaN</td>\n",
              "    </tr>\n",
              "    <tr>\n",
              "      <th>7</th>\n",
              "      <td>5</td>\n",
              "      <td>False</td>\n",
              "      <td>01 26, 2006</td>\n",
              "      <td>A2UNA438B0FRA8</td>\n",
              "      <td>0060786817</td>\n",
              "      <td>{'Format:': ' Hardcover'}</td>\n",
              "      <td>J. Belfield</td>\n",
              "      <td>The timing is just right for a good book. Actu...</td>\n",
              "      <td>A breath of fresh air for reading</td>\n",
              "      <td>1138233600</td>\n",
              "      <td>NaN</td>\n",
              "      <td>NaN</td>\n",
              "    </tr>\n",
              "    <tr>\n",
              "      <th>8</th>\n",
              "      <td>5</td>\n",
              "      <td>False</td>\n",
              "      <td>01 21, 2006</td>\n",
              "      <td>A2NQQSHSQKKGEX</td>\n",
              "      <td>0060786817</td>\n",
              "      <td>{'Format:': ' Hardcover'}</td>\n",
              "      <td>E. D. Davis</td>\n",
              "      <td>Engaging. Dark. Reading the book you could alm...</td>\n",
              "      <td>Well written page turner with fully develped c...</td>\n",
              "      <td>1137801600</td>\n",
              "      <td>4</td>\n",
              "      <td>NaN</td>\n",
              "    </tr>\n",
              "    <tr>\n",
              "      <th>9</th>\n",
              "      <td>3</td>\n",
              "      <td>False</td>\n",
              "      <td>01 18, 2006</td>\n",
              "      <td>A5EXND10WD4PM</td>\n",
              "      <td>0060786817</td>\n",
              "      <td>{'Format:': ' Hardcover'}</td>\n",
              "      <td>Mocha Girl</td>\n",
              "      <td>Set amid the backdrop of New York City's imper...</td>\n",
              "      <td>The Title Tells The Story!</td>\n",
              "      <td>1137542400</td>\n",
              "      <td>7</td>\n",
              "      <td>NaN</td>\n",
              "    </tr>\n",
              "    <tr>\n",
              "      <th>10</th>\n",
              "      <td>5</td>\n",
              "      <td>False</td>\n",
              "      <td>01 18, 2006</td>\n",
              "      <td>AVJ37XQN3ID16</td>\n",
              "      <td>0060786817</td>\n",
              "      <td>{'Format:': ' Hardcover'}</td>\n",
              "      <td>Kirsten A. Bischoff</td>\n",
              "      <td>A guilty pleasure of a book with characters so...</td>\n",
              "      <td>So much fun</td>\n",
              "      <td>1137542400</td>\n",
              "      <td>NaN</td>\n",
              "      <td>NaN</td>\n",
              "    </tr>\n",
              "    <tr>\n",
              "      <th>11</th>\n",
              "      <td>4</td>\n",
              "      <td>False</td>\n",
              "      <td>01 10, 2006</td>\n",
              "      <td>A21NVBFIEQWDSG</td>\n",
              "      <td>0060786817</td>\n",
              "      <td>{'Format:': ' Hardcover'}</td>\n",
              "      <td>Armchair Interviews</td>\n",
              "      <td>I'd never before read a Lolita Files' book, an...</td>\n",
              "      <td>Delightfully wicked!</td>\n",
              "      <td>1136851200</td>\n",
              "      <td>3</td>\n",
              "      <td>NaN</td>\n",
              "    </tr>\n",
              "    <tr>\n",
              "      <th>12</th>\n",
              "      <td>5</td>\n",
              "      <td>False</td>\n",
              "      <td>10 9, 2008</td>\n",
              "      <td>A1KWVR13XUOGQG</td>\n",
              "      <td>0060786817</td>\n",
              "      <td>{'Format:': ' Hardcover'}</td>\n",
              "      <td>Lawence A. White</td>\n",
              "      <td>Wow, I was totally blown away by this book.  J...</td>\n",
              "      <td>Lolita Files Does It Again</td>\n",
              "      <td>1223510400</td>\n",
              "      <td>NaN</td>\n",
              "      <td>NaN</td>\n",
              "    </tr>\n",
              "    <tr>\n",
              "      <th>13</th>\n",
              "      <td>4</td>\n",
              "      <td>False</td>\n",
              "      <td>04 24, 2008</td>\n",
              "      <td>A2PH70X2FVDDGH</td>\n",
              "      <td>0060786817</td>\n",
              "      <td>{'Format:': ' Hardcover'}</td>\n",
              "      <td>Book Princess</td>\n",
              "      <td>Lolita Files is one of my favorite authors. Sh...</td>\n",
              "      <td>A superb storyteller</td>\n",
              "      <td>1208995200</td>\n",
              "      <td>NaN</td>\n",
              "      <td>NaN</td>\n",
              "    </tr>\n",
              "    <tr>\n",
              "      <th>14</th>\n",
              "      <td>3</td>\n",
              "      <td>False</td>\n",
              "      <td>08 16, 2007</td>\n",
              "      <td>A25R6KND6KDDCU</td>\n",
              "      <td>0060786817</td>\n",
              "      <td>{'Format:': ' Hardcover'}</td>\n",
              "      <td>S. L. Jackson</td>\n",
              "      <td>This book is...I don't even know what to call ...</td>\n",
              "      <td>Crazy, Just Crazy</td>\n",
              "      <td>1187222400</td>\n",
              "      <td>NaN</td>\n",
              "      <td>NaN</td>\n",
              "    </tr>\n",
              "  </tbody>\n",
              "</table>\n",
              "</div>\n",
              "    <div class=\"colab-df-buttons\">\n",
              "\n",
              "  <div class=\"colab-df-container\">\n",
              "    <button class=\"colab-df-convert\" onclick=\"convertToInteractive('df-a884a6ea-2e57-4645-beec-b3d436d7f144')\"\n",
              "            title=\"Convert this dataframe to an interactive table.\"\n",
              "            style=\"display:none;\">\n",
              "\n",
              "  <svg xmlns=\"http://www.w3.org/2000/svg\" height=\"24px\" viewBox=\"0 -960 960 960\">\n",
              "    <path d=\"M120-120v-720h720v720H120Zm60-500h600v-160H180v160Zm220 220h160v-160H400v160Zm0 220h160v-160H400v160ZM180-400h160v-160H180v160Zm440 0h160v-160H620v160ZM180-180h160v-160H180v160Zm440 0h160v-160H620v160Z\"/>\n",
              "  </svg>\n",
              "    </button>\n",
              "\n",
              "  <style>\n",
              "    .colab-df-container {\n",
              "      display:flex;\n",
              "      gap: 12px;\n",
              "    }\n",
              "\n",
              "    .colab-df-convert {\n",
              "      background-color: #E8F0FE;\n",
              "      border: none;\n",
              "      border-radius: 50%;\n",
              "      cursor: pointer;\n",
              "      display: none;\n",
              "      fill: #1967D2;\n",
              "      height: 32px;\n",
              "      padding: 0 0 0 0;\n",
              "      width: 32px;\n",
              "    }\n",
              "\n",
              "    .colab-df-convert:hover {\n",
              "      background-color: #E2EBFA;\n",
              "      box-shadow: 0px 1px 2px rgba(60, 64, 67, 0.3), 0px 1px 3px 1px rgba(60, 64, 67, 0.15);\n",
              "      fill: #174EA6;\n",
              "    }\n",
              "\n",
              "    .colab-df-buttons div {\n",
              "      margin-bottom: 4px;\n",
              "    }\n",
              "\n",
              "    [theme=dark] .colab-df-convert {\n",
              "      background-color: #3B4455;\n",
              "      fill: #D2E3FC;\n",
              "    }\n",
              "\n",
              "    [theme=dark] .colab-df-convert:hover {\n",
              "      background-color: #434B5C;\n",
              "      box-shadow: 0px 1px 3px 1px rgba(0, 0, 0, 0.15);\n",
              "      filter: drop-shadow(0px 1px 2px rgba(0, 0, 0, 0.3));\n",
              "      fill: #FFFFFF;\n",
              "    }\n",
              "  </style>\n",
              "\n",
              "    <script>\n",
              "      const buttonEl =\n",
              "        document.querySelector('#df-a884a6ea-2e57-4645-beec-b3d436d7f144 button.colab-df-convert');\n",
              "      buttonEl.style.display =\n",
              "        google.colab.kernel.accessAllowed ? 'block' : 'none';\n",
              "\n",
              "      async function convertToInteractive(key) {\n",
              "        const element = document.querySelector('#df-a884a6ea-2e57-4645-beec-b3d436d7f144');\n",
              "        const dataTable =\n",
              "          await google.colab.kernel.invokeFunction('convertToInteractive',\n",
              "                                                    [key], {});\n",
              "        if (!dataTable) return;\n",
              "\n",
              "        const docLinkHtml = 'Like what you see? Visit the ' +\n",
              "          '<a target=\"_blank\" href=https://colab.research.google.com/notebooks/data_table.ipynb>data table notebook</a>'\n",
              "          + ' to learn more about interactive tables.';\n",
              "        element.innerHTML = '';\n",
              "        dataTable['output_type'] = 'display_data';\n",
              "        await google.colab.output.renderOutput(dataTable, element);\n",
              "        const docLink = document.createElement('div');\n",
              "        docLink.innerHTML = docLinkHtml;\n",
              "        element.appendChild(docLink);\n",
              "      }\n",
              "    </script>\n",
              "  </div>\n",
              "\n",
              "\n",
              "<div id=\"df-4dfda223-f74b-47a0-b138-a5322e2329c0\">\n",
              "  <button class=\"colab-df-quickchart\" onclick=\"quickchart('df-4dfda223-f74b-47a0-b138-a5322e2329c0')\"\n",
              "            title=\"Suggest charts.\"\n",
              "            style=\"display:none;\">\n",
              "\n",
              "<svg xmlns=\"http://www.w3.org/2000/svg\" height=\"24px\"viewBox=\"0 0 24 24\"\n",
              "     width=\"24px\">\n",
              "    <g>\n",
              "        <path d=\"M19 3H5c-1.1 0-2 .9-2 2v14c0 1.1.9 2 2 2h14c1.1 0 2-.9 2-2V5c0-1.1-.9-2-2-2zM9 17H7v-7h2v7zm4 0h-2V7h2v10zm4 0h-2v-4h2v4z\"/>\n",
              "    </g>\n",
              "</svg>\n",
              "  </button>\n",
              "\n",
              "<style>\n",
              "  .colab-df-quickchart {\n",
              "    background-color: #E8F0FE;\n",
              "    border: none;\n",
              "    border-radius: 50%;\n",
              "    cursor: pointer;\n",
              "    display: none;\n",
              "    fill: #1967D2;\n",
              "    height: 32px;\n",
              "    padding: 0 0 0 0;\n",
              "    width: 32px;\n",
              "  }\n",
              "\n",
              "  .colab-df-quickchart:hover {\n",
              "    background-color: #E2EBFA;\n",
              "    box-shadow: 0px 1px 2px rgba(60, 64, 67, 0.3), 0px 1px 3px 1px rgba(60, 64, 67, 0.15);\n",
              "    fill: #174EA6;\n",
              "  }\n",
              "\n",
              "  [theme=dark] .colab-df-quickchart {\n",
              "    background-color: #3B4455;\n",
              "    fill: #D2E3FC;\n",
              "  }\n",
              "\n",
              "  [theme=dark] .colab-df-quickchart:hover {\n",
              "    background-color: #434B5C;\n",
              "    box-shadow: 0px 1px 3px 1px rgba(0, 0, 0, 0.15);\n",
              "    filter: drop-shadow(0px 1px 2px rgba(0, 0, 0, 0.3));\n",
              "    fill: #FFFFFF;\n",
              "  }\n",
              "</style>\n",
              "\n",
              "  <script>\n",
              "    async function quickchart(key) {\n",
              "      const charts = await google.colab.kernel.invokeFunction(\n",
              "          'suggestCharts', [key], {});\n",
              "    }\n",
              "    (() => {\n",
              "      let quickchartButtonEl =\n",
              "        document.querySelector('#df-4dfda223-f74b-47a0-b138-a5322e2329c0 button');\n",
              "      quickchartButtonEl.style.display =\n",
              "        google.colab.kernel.accessAllowed ? 'block' : 'none';\n",
              "    })();\n",
              "  </script>\n",
              "</div>\n",
              "    </div>\n",
              "  </div>\n"
            ]
          },
          "metadata": {},
          "execution_count": 26
        }
      ],
      "source": [
        "df.head(15)"
      ]
    },
    {
      "cell_type": "markdown",
      "id": "a4164baf",
      "metadata": {
        "id": "a4164baf"
      },
      "source": [
        "### Dropping the Unnecessary columns"
      ]
    },
    {
      "cell_type": "code",
      "execution_count": 27,
      "id": "33a3c30a",
      "metadata": {
        "id": "33a3c30a"
      },
      "outputs": [],
      "source": [
        "df = df.drop(columns=['reviewerName', 'vote', 'image'])"
      ]
    },
    {
      "cell_type": "code",
      "execution_count": 28,
      "id": "d103289b",
      "metadata": {
        "colab": {
          "base_uri": "https://localhost:8080/",
          "height": 537
        },
        "id": "d103289b",
        "outputId": "4a37495e-f1fc-4b30-e931-5b74e6c8770a"
      },
      "outputs": [
        {
          "output_type": "execute_result",
          "data": {
            "text/plain": [
              "  overall verified   reviewTime      reviewerID        asin  \\\n",
              "0       5     True  07 17, 2002  A1N070NS9CJQ2I  0060009810   \n",
              "1       5    False   07 6, 2002  A3P0KRKOBQK1KN  0060009810   \n",
              "2       5    False   07 3, 2002  A192HO2ICJ75VU  0060009810   \n",
              "3       4    False  06 30, 2002  A2T278FKFL3BLT  0060009810   \n",
              "4       5    False  06 28, 2002  A2ZUXVTW8RXBXW  0060009810   \n",
              "5       4    False  06 25, 2002  A21JDG4HA6OLPF  0060009810   \n",
              "6       5    False  06 22, 2002  A2NCADLQY962YD  0060009810   \n",
              "7       5    False  01 26, 2006  A2UNA438B0FRA8  0060786817   \n",
              "8       5    False  01 21, 2006  A2NQQSHSQKKGEX  0060786817   \n",
              "9       3    False  01 18, 2006   A5EXND10WD4PM  0060786817   \n",
              "\n",
              "                       style  \\\n",
              "0  {'Format:': ' Hardcover'}   \n",
              "1  {'Format:': ' Hardcover'}   \n",
              "2  {'Format:': ' Hardcover'}   \n",
              "3  {'Format:': ' Hardcover'}   \n",
              "4  {'Format:': ' Hardcover'}   \n",
              "5  {'Format:': ' Hardcover'}   \n",
              "6  {'Format:': ' Hardcover'}   \n",
              "7  {'Format:': ' Hardcover'}   \n",
              "8  {'Format:': ' Hardcover'}   \n",
              "9  {'Format:': ' Hardcover'}   \n",
              "\n",
              "                                          reviewText  \\\n",
              "0  This was the first time I read Garcia-Aguilera...   \n",
              "1  As with all of Ms. Garcia-Aguilera's books, I ...   \n",
              "2  I've not read any of Ms Aguilera's works befor...   \n",
              "3  This romance novel is right up there with the ...   \n",
              "4  Carolina Garcia Aguilera has done it again.  S...   \n",
              "5  Not only can she write mysteries,but she sure ...   \n",
              "6  Once again Garcia-Aguilera has written a book ...   \n",
              "7  The timing is just right for a good book. Actu...   \n",
              "8  Engaging. Dark. Reading the book you could alm...   \n",
              "9  Set amid the backdrop of New York City's imper...   \n",
              "\n",
              "                                             summary unixReviewTime  \n",
              "0                                      Hit The Spot!     1026864000  \n",
              "1                     one hot summer is HOT HOT HOT!     1025913600  \n",
              "2                                     One Hot Summer     1025654400  \n",
              "3                                  I love this book!     1025395200  \n",
              "4                                       One Hot Book     1025222400  \n",
              "5                            Carolina does it again!     1024963200  \n",
              "6    It's no mystery, Garcia-Aguilera can do romance     1024704000  \n",
              "7                  A breath of fresh air for reading     1138233600  \n",
              "8  Well written page turner with fully develped c...     1137801600  \n",
              "9                         The Title Tells The Story!     1137542400  "
            ],
            "text/html": [
              "\n",
              "  <div id=\"df-41d097b1-cdee-4780-ac3f-253c26425be0\" class=\"colab-df-container\">\n",
              "    <div>\n",
              "<style scoped>\n",
              "    .dataframe tbody tr th:only-of-type {\n",
              "        vertical-align: middle;\n",
              "    }\n",
              "\n",
              "    .dataframe tbody tr th {\n",
              "        vertical-align: top;\n",
              "    }\n",
              "\n",
              "    .dataframe thead th {\n",
              "        text-align: right;\n",
              "    }\n",
              "</style>\n",
              "<table border=\"1\" class=\"dataframe\">\n",
              "  <thead>\n",
              "    <tr style=\"text-align: right;\">\n",
              "      <th></th>\n",
              "      <th>overall</th>\n",
              "      <th>verified</th>\n",
              "      <th>reviewTime</th>\n",
              "      <th>reviewerID</th>\n",
              "      <th>asin</th>\n",
              "      <th>style</th>\n",
              "      <th>reviewText</th>\n",
              "      <th>summary</th>\n",
              "      <th>unixReviewTime</th>\n",
              "    </tr>\n",
              "  </thead>\n",
              "  <tbody>\n",
              "    <tr>\n",
              "      <th>0</th>\n",
              "      <td>5</td>\n",
              "      <td>True</td>\n",
              "      <td>07 17, 2002</td>\n",
              "      <td>A1N070NS9CJQ2I</td>\n",
              "      <td>0060009810</td>\n",
              "      <td>{'Format:': ' Hardcover'}</td>\n",
              "      <td>This was the first time I read Garcia-Aguilera...</td>\n",
              "      <td>Hit The Spot!</td>\n",
              "      <td>1026864000</td>\n",
              "    </tr>\n",
              "    <tr>\n",
              "      <th>1</th>\n",
              "      <td>5</td>\n",
              "      <td>False</td>\n",
              "      <td>07 6, 2002</td>\n",
              "      <td>A3P0KRKOBQK1KN</td>\n",
              "      <td>0060009810</td>\n",
              "      <td>{'Format:': ' Hardcover'}</td>\n",
              "      <td>As with all of Ms. Garcia-Aguilera's books, I ...</td>\n",
              "      <td>one hot summer is HOT HOT HOT!</td>\n",
              "      <td>1025913600</td>\n",
              "    </tr>\n",
              "    <tr>\n",
              "      <th>2</th>\n",
              "      <td>5</td>\n",
              "      <td>False</td>\n",
              "      <td>07 3, 2002</td>\n",
              "      <td>A192HO2ICJ75VU</td>\n",
              "      <td>0060009810</td>\n",
              "      <td>{'Format:': ' Hardcover'}</td>\n",
              "      <td>I've not read any of Ms Aguilera's works befor...</td>\n",
              "      <td>One Hot Summer</td>\n",
              "      <td>1025654400</td>\n",
              "    </tr>\n",
              "    <tr>\n",
              "      <th>3</th>\n",
              "      <td>4</td>\n",
              "      <td>False</td>\n",
              "      <td>06 30, 2002</td>\n",
              "      <td>A2T278FKFL3BLT</td>\n",
              "      <td>0060009810</td>\n",
              "      <td>{'Format:': ' Hardcover'}</td>\n",
              "      <td>This romance novel is right up there with the ...</td>\n",
              "      <td>I love this book!</td>\n",
              "      <td>1025395200</td>\n",
              "    </tr>\n",
              "    <tr>\n",
              "      <th>4</th>\n",
              "      <td>5</td>\n",
              "      <td>False</td>\n",
              "      <td>06 28, 2002</td>\n",
              "      <td>A2ZUXVTW8RXBXW</td>\n",
              "      <td>0060009810</td>\n",
              "      <td>{'Format:': ' Hardcover'}</td>\n",
              "      <td>Carolina Garcia Aguilera has done it again.  S...</td>\n",
              "      <td>One Hot Book</td>\n",
              "      <td>1025222400</td>\n",
              "    </tr>\n",
              "    <tr>\n",
              "      <th>5</th>\n",
              "      <td>4</td>\n",
              "      <td>False</td>\n",
              "      <td>06 25, 2002</td>\n",
              "      <td>A21JDG4HA6OLPF</td>\n",
              "      <td>0060009810</td>\n",
              "      <td>{'Format:': ' Hardcover'}</td>\n",
              "      <td>Not only can she write mysteries,but she sure ...</td>\n",
              "      <td>Carolina does it again!</td>\n",
              "      <td>1024963200</td>\n",
              "    </tr>\n",
              "    <tr>\n",
              "      <th>6</th>\n",
              "      <td>5</td>\n",
              "      <td>False</td>\n",
              "      <td>06 22, 2002</td>\n",
              "      <td>A2NCADLQY962YD</td>\n",
              "      <td>0060009810</td>\n",
              "      <td>{'Format:': ' Hardcover'}</td>\n",
              "      <td>Once again Garcia-Aguilera has written a book ...</td>\n",
              "      <td>It's no mystery, Garcia-Aguilera can do romance</td>\n",
              "      <td>1024704000</td>\n",
              "    </tr>\n",
              "    <tr>\n",
              "      <th>7</th>\n",
              "      <td>5</td>\n",
              "      <td>False</td>\n",
              "      <td>01 26, 2006</td>\n",
              "      <td>A2UNA438B0FRA8</td>\n",
              "      <td>0060786817</td>\n",
              "      <td>{'Format:': ' Hardcover'}</td>\n",
              "      <td>The timing is just right for a good book. Actu...</td>\n",
              "      <td>A breath of fresh air for reading</td>\n",
              "      <td>1138233600</td>\n",
              "    </tr>\n",
              "    <tr>\n",
              "      <th>8</th>\n",
              "      <td>5</td>\n",
              "      <td>False</td>\n",
              "      <td>01 21, 2006</td>\n",
              "      <td>A2NQQSHSQKKGEX</td>\n",
              "      <td>0060786817</td>\n",
              "      <td>{'Format:': ' Hardcover'}</td>\n",
              "      <td>Engaging. Dark. Reading the book you could alm...</td>\n",
              "      <td>Well written page turner with fully develped c...</td>\n",
              "      <td>1137801600</td>\n",
              "    </tr>\n",
              "    <tr>\n",
              "      <th>9</th>\n",
              "      <td>3</td>\n",
              "      <td>False</td>\n",
              "      <td>01 18, 2006</td>\n",
              "      <td>A5EXND10WD4PM</td>\n",
              "      <td>0060786817</td>\n",
              "      <td>{'Format:': ' Hardcover'}</td>\n",
              "      <td>Set amid the backdrop of New York City's imper...</td>\n",
              "      <td>The Title Tells The Story!</td>\n",
              "      <td>1137542400</td>\n",
              "    </tr>\n",
              "  </tbody>\n",
              "</table>\n",
              "</div>\n",
              "    <div class=\"colab-df-buttons\">\n",
              "\n",
              "  <div class=\"colab-df-container\">\n",
              "    <button class=\"colab-df-convert\" onclick=\"convertToInteractive('df-41d097b1-cdee-4780-ac3f-253c26425be0')\"\n",
              "            title=\"Convert this dataframe to an interactive table.\"\n",
              "            style=\"display:none;\">\n",
              "\n",
              "  <svg xmlns=\"http://www.w3.org/2000/svg\" height=\"24px\" viewBox=\"0 -960 960 960\">\n",
              "    <path d=\"M120-120v-720h720v720H120Zm60-500h600v-160H180v160Zm220 220h160v-160H400v160Zm0 220h160v-160H400v160ZM180-400h160v-160H180v160Zm440 0h160v-160H620v160ZM180-180h160v-160H180v160Zm440 0h160v-160H620v160Z\"/>\n",
              "  </svg>\n",
              "    </button>\n",
              "\n",
              "  <style>\n",
              "    .colab-df-container {\n",
              "      display:flex;\n",
              "      gap: 12px;\n",
              "    }\n",
              "\n",
              "    .colab-df-convert {\n",
              "      background-color: #E8F0FE;\n",
              "      border: none;\n",
              "      border-radius: 50%;\n",
              "      cursor: pointer;\n",
              "      display: none;\n",
              "      fill: #1967D2;\n",
              "      height: 32px;\n",
              "      padding: 0 0 0 0;\n",
              "      width: 32px;\n",
              "    }\n",
              "\n",
              "    .colab-df-convert:hover {\n",
              "      background-color: #E2EBFA;\n",
              "      box-shadow: 0px 1px 2px rgba(60, 64, 67, 0.3), 0px 1px 3px 1px rgba(60, 64, 67, 0.15);\n",
              "      fill: #174EA6;\n",
              "    }\n",
              "\n",
              "    .colab-df-buttons div {\n",
              "      margin-bottom: 4px;\n",
              "    }\n",
              "\n",
              "    [theme=dark] .colab-df-convert {\n",
              "      background-color: #3B4455;\n",
              "      fill: #D2E3FC;\n",
              "    }\n",
              "\n",
              "    [theme=dark] .colab-df-convert:hover {\n",
              "      background-color: #434B5C;\n",
              "      box-shadow: 0px 1px 3px 1px rgba(0, 0, 0, 0.15);\n",
              "      filter: drop-shadow(0px 1px 2px rgba(0, 0, 0, 0.3));\n",
              "      fill: #FFFFFF;\n",
              "    }\n",
              "  </style>\n",
              "\n",
              "    <script>\n",
              "      const buttonEl =\n",
              "        document.querySelector('#df-41d097b1-cdee-4780-ac3f-253c26425be0 button.colab-df-convert');\n",
              "      buttonEl.style.display =\n",
              "        google.colab.kernel.accessAllowed ? 'block' : 'none';\n",
              "\n",
              "      async function convertToInteractive(key) {\n",
              "        const element = document.querySelector('#df-41d097b1-cdee-4780-ac3f-253c26425be0');\n",
              "        const dataTable =\n",
              "          await google.colab.kernel.invokeFunction('convertToInteractive',\n",
              "                                                    [key], {});\n",
              "        if (!dataTable) return;\n",
              "\n",
              "        const docLinkHtml = 'Like what you see? Visit the ' +\n",
              "          '<a target=\"_blank\" href=https://colab.research.google.com/notebooks/data_table.ipynb>data table notebook</a>'\n",
              "          + ' to learn more about interactive tables.';\n",
              "        element.innerHTML = '';\n",
              "        dataTable['output_type'] = 'display_data';\n",
              "        await google.colab.output.renderOutput(dataTable, element);\n",
              "        const docLink = document.createElement('div');\n",
              "        docLink.innerHTML = docLinkHtml;\n",
              "        element.appendChild(docLink);\n",
              "      }\n",
              "    </script>\n",
              "  </div>\n",
              "\n",
              "\n",
              "<div id=\"df-d65b77d8-db47-416d-a67c-e489fb376403\">\n",
              "  <button class=\"colab-df-quickchart\" onclick=\"quickchart('df-d65b77d8-db47-416d-a67c-e489fb376403')\"\n",
              "            title=\"Suggest charts.\"\n",
              "            style=\"display:none;\">\n",
              "\n",
              "<svg xmlns=\"http://www.w3.org/2000/svg\" height=\"24px\"viewBox=\"0 0 24 24\"\n",
              "     width=\"24px\">\n",
              "    <g>\n",
              "        <path d=\"M19 3H5c-1.1 0-2 .9-2 2v14c0 1.1.9 2 2 2h14c1.1 0 2-.9 2-2V5c0-1.1-.9-2-2-2zM9 17H7v-7h2v7zm4 0h-2V7h2v10zm4 0h-2v-4h2v4z\"/>\n",
              "    </g>\n",
              "</svg>\n",
              "  </button>\n",
              "\n",
              "<style>\n",
              "  .colab-df-quickchart {\n",
              "    background-color: #E8F0FE;\n",
              "    border: none;\n",
              "    border-radius: 50%;\n",
              "    cursor: pointer;\n",
              "    display: none;\n",
              "    fill: #1967D2;\n",
              "    height: 32px;\n",
              "    padding: 0 0 0 0;\n",
              "    width: 32px;\n",
              "  }\n",
              "\n",
              "  .colab-df-quickchart:hover {\n",
              "    background-color: #E2EBFA;\n",
              "    box-shadow: 0px 1px 2px rgba(60, 64, 67, 0.3), 0px 1px 3px 1px rgba(60, 64, 67, 0.15);\n",
              "    fill: #174EA6;\n",
              "  }\n",
              "\n",
              "  [theme=dark] .colab-df-quickchart {\n",
              "    background-color: #3B4455;\n",
              "    fill: #D2E3FC;\n",
              "  }\n",
              "\n",
              "  [theme=dark] .colab-df-quickchart:hover {\n",
              "    background-color: #434B5C;\n",
              "    box-shadow: 0px 1px 3px 1px rgba(0, 0, 0, 0.15);\n",
              "    filter: drop-shadow(0px 1px 2px rgba(0, 0, 0, 0.3));\n",
              "    fill: #FFFFFF;\n",
              "  }\n",
              "</style>\n",
              "\n",
              "  <script>\n",
              "    async function quickchart(key) {\n",
              "      const charts = await google.colab.kernel.invokeFunction(\n",
              "          'suggestCharts', [key], {});\n",
              "    }\n",
              "    (() => {\n",
              "      let quickchartButtonEl =\n",
              "        document.querySelector('#df-d65b77d8-db47-416d-a67c-e489fb376403 button');\n",
              "      quickchartButtonEl.style.display =\n",
              "        google.colab.kernel.accessAllowed ? 'block' : 'none';\n",
              "    })();\n",
              "  </script>\n",
              "</div>\n",
              "    </div>\n",
              "  </div>\n"
            ]
          },
          "metadata": {},
          "execution_count": 28
        }
      ],
      "source": [
        "df.head(10)"
      ]
    },
    {
      "cell_type": "code",
      "execution_count": 29,
      "id": "f24bfaec",
      "metadata": {
        "id": "f24bfaec"
      },
      "outputs": [],
      "source": [
        "df_review_text = df[['reviewText']]"
      ]
    },
    {
      "cell_type": "code",
      "execution_count": 30,
      "id": "fe7a94bf",
      "metadata": {
        "colab": {
          "base_uri": "https://localhost:8080/"
        },
        "id": "fe7a94bf",
        "outputId": "c49e4003-41d0-483d-ed6e-30544976fb2d"
      },
      "outputs": [
        {
          "output_type": "stream",
          "name": "stdout",
          "text": [
            "                                           reviewText\n",
            "0   This was the first time I read Garcia-Aguilera...\n",
            "1   As with all of Ms. Garcia-Aguilera's books, I ...\n",
            "2   I've not read any of Ms Aguilera's works befor...\n",
            "3   This romance novel is right up there with the ...\n",
            "4   Carolina Garcia Aguilera has done it again.  S...\n",
            "5   Not only can she write mysteries,but she sure ...\n",
            "6   Once again Garcia-Aguilera has written a book ...\n",
            "7   The timing is just right for a good book. Actu...\n",
            "8   Engaging. Dark. Reading the book you could alm...\n",
            "9   Set amid the backdrop of New York City's imper...\n",
            "10  A guilty pleasure of a book with characters so...\n",
            "11  I'd never before read a Lolita Files' book, an...\n",
            "12  Wow, I was totally blown away by this book.  J...\n",
            "13  Lolita Files is one of my favorite authors. Sh...\n",
            "14  This book is...I don't even know what to call ...\n"
          ]
        }
      ],
      "source": [
        "print(df_review_text.head(15))"
      ]
    },
    {
      "cell_type": "code",
      "execution_count": 158,
      "id": "d356ce34",
      "metadata": {
        "colab": {
          "base_uri": "https://localhost:8080/"
        },
        "id": "d356ce34",
        "outputId": "dd19110a-9ab5-460b-81ac-f6e5981b1826"
      },
      "outputs": [
        {
          "output_type": "stream",
          "name": "stdout",
          "text": [
            "                                                                                                                                                                                                                                                                                                                                                                                                                                                                                                                                                                                                                                                                                                                                  reviewText  \\\n",
            "0  This was the first time I read Garcia-Aguilera.  I came upon the name of this book on Live with Regis and Kelly. This book was exactly what I was looking for ... it hit the spot.  I really enjoyed this book because it was well written. Once I started this book it kept me coming back for more. It had culture, family, friendship and romance. I was looking for a little more romance when I picked this book but in the end it turned out to be just right.  I love the main chartachter Margarita (aka Daisy). I've never been to Miami but the way Daisy told the story I certainly felt I'd been there.\\nAlso after going through all of Daisy's perils ... I closed the book with a feeling I had grown emotionally as well.   \n",
            "1                                                                                                                                                                                                                                                                                                                                                                                                                                                               As with all of Ms. Garcia-Aguilera's books, I think this is a MUST READ, impossible to put down. Successful deviation from past Lupe Solano series-captures the very essence of the excitement, local color and diverse fabric of MIAMI. Sensual and culturally enlightened!   \n",
            "2                                                                                                                                                                                                                                                                                                                                                                                                                                                                         I've not read any of Ms Aguilera's works before, but after having just finished One Hot Summer I'm going to check out the Lupe Solano series I've heard so much about.  One Hot Summer is sooo steamy! Made me want to move to Miami!  Couldn't put the book down.   \n",
            "3                                                                                                                                                                                                 This romance novel is right up there with the rest of her amazing mystery novels.  Being a guy, I was a little hesitant about reading a romance novel but I just had to give this book a shot because I have been such a huge fan of Garcia-Aguilera's books.  And to be honest, I absolutely loved this book.  I love the way she presents funky Miami and its crazy Cubans in not just this book but all her books.  Garcia-Aguilera did a superb job with this book, and I can't wait till her next book.  You gotta read this book!!!!   \n",
            "4                                                                                                                                                                                                                                                                                                                                                                                                                                                                                         Carolina Garcia Aguilera has done it again.  She's written another highly enjoyable book and infused it with the right amount of Cuban-American tidbits.  My family and I cannot put her books down once we start and this one was not a let down.   \n",
            "\n",
            "                                                                                                                                                                                                                                                                                                                                                                                                                cleaned_review  \\\n",
            "0  first time read garciaaguilera came upon name book live regis kelly book exactly looking hit spot really enjoyed book well written started book kept coming back culture family friendship romance looking little romance picked book end turned right love main chartachter margarita aka daisy ive never miami way daisy told story certainly felt id also going daisys perils closed book feeling grown emotionally well   \n",
            "1                                                                                                                                                                                                                              ms garciaaguileras books think must read impossible put successful deviation past lupe solano seriescaptures essence excitement local color diverse fabric miami sensual culturally enlightened   \n",
            "2                                                                                                                                                                                                                                                        ive read ms aguileras works finished one hot summer im going check lupe solano series ive heard much one hot summer sooo steamy made want move miami couldnt put book   \n",
            "3                                                                                                                          romance novel right rest amazing mystery novels guy little hesitant reading romance novel give book shot huge fan garciaaguileras books honest absolutely loved book love way presents funky miami crazy cubans book books garciaaguilera superb job book cant wait till next book got ta read book   \n",
            "4                                                                                                                                                                                                                                                                           carolina garcia aguilera done shes written another highly enjoyable book infused right amount cubanamerican tidbits family put books start one let   \n",
            "\n",
            "   sentiment_score sentiment category   emotion  \n",
            "0           0.9764  Positive  General       Joy  \n",
            "1           0.8807  Positive  General       Joy  \n",
            "2           0.0772  Positive  General  Surprise  \n",
            "3           0.9858  Positive  General       Joy  \n",
            "4           0.4927  Positive  General       Joy  \n"
          ]
        }
      ],
      "source": [
        "pd.set_option('display.max_colwidth', None)\n",
        "print(df_review_text.head(5))"
      ]
    },
    {
      "cell_type": "markdown",
      "id": "44facf8e",
      "metadata": {
        "id": "44facf8e"
      },
      "source": [
        "### Preprocessing and Tokenisation"
      ]
    },
    {
      "cell_type": "code",
      "execution_count": 165,
      "id": "3b3b065c",
      "metadata": {
        "id": "3b3b065c"
      },
      "outputs": [],
      "source": [
        "import nltk\n",
        "from nltk.corpus import stopwords\n",
        "from nltk.tokenize import word_tokenize\n",
        "import string"
      ]
    },
    {
      "cell_type": "code",
      "execution_count": 166,
      "id": "eab434a2",
      "metadata": {
        "scrolled": true,
        "colab": {
          "base_uri": "https://localhost:8080/"
        },
        "id": "eab434a2",
        "outputId": "857ac485-4c48-43a2-b016-bd646597bbd1"
      },
      "outputs": [
        {
          "output_type": "stream",
          "name": "stderr",
          "text": [
            "[nltk_data] Downloading package punkt to /root/nltk_data...\n",
            "[nltk_data]   Package punkt is already up-to-date!\n",
            "[nltk_data] Downloading package stopwords to /root/nltk_data...\n",
            "[nltk_data]   Package stopwords is already up-to-date!\n"
          ]
        },
        {
          "output_type": "execute_result",
          "data": {
            "text/plain": [
              "True"
            ]
          },
          "metadata": {},
          "execution_count": 166
        }
      ],
      "source": [
        "nltk.download('punkt')\n",
        "nltk.download('stopwords')"
      ]
    },
    {
      "cell_type": "code",
      "execution_count": 159,
      "id": "4f5b006c",
      "metadata": {
        "id": "4f5b006c"
      },
      "outputs": [],
      "source": [
        "df_review_text = df_review_text.dropna(subset=['reviewText'])"
      ]
    },
    {
      "cell_type": "code",
      "execution_count": 160,
      "id": "3b9bb967",
      "metadata": {
        "id": "3b9bb967"
      },
      "outputs": [],
      "source": [
        "df_review_text['reviewText'] = df_review_text['reviewText'].astype(str) #covert to string"
      ]
    },
    {
      "cell_type": "code",
      "execution_count": 161,
      "id": "299742ef",
      "metadata": {
        "id": "299742ef"
      },
      "outputs": [],
      "source": [
        "df_review_text = df_review_text.applymap(str)"
      ]
    },
    {
      "cell_type": "code",
      "execution_count": 162,
      "id": "ca1f2e9a",
      "metadata": {
        "scrolled": true,
        "id": "ca1f2e9a"
      },
      "outputs": [],
      "source": [
        "# Convert text to lowercase\n",
        "df_review_text['cleaned_review'] = df_review_text['reviewText'].str.lower()"
      ]
    },
    {
      "cell_type": "code",
      "execution_count": 163,
      "id": "dbcbc6eb",
      "metadata": {
        "colab": {
          "base_uri": "https://localhost:8080/"
        },
        "id": "dbcbc6eb",
        "outputId": "f1bbfc9d-fd83-4422-87aa-6cad44923d46"
      },
      "outputs": [
        {
          "output_type": "stream",
          "name": "stderr",
          "text": [
            "<ipython-input-163-1969bc4e0753>:2: FutureWarning:\n",
            "\n",
            "The default value of regex will change from True to False in a future version.\n",
            "\n"
          ]
        }
      ],
      "source": [
        "# Remove punctuation and special characters\n",
        "df_review_text['cleaned_review'] = df_review_text['cleaned_review'].str.replace('[{}]'.format(string.punctuation), '')"
      ]
    },
    {
      "cell_type": "code",
      "execution_count": 164,
      "id": "5de01017",
      "metadata": {
        "colab": {
          "base_uri": "https://localhost:8080/"
        },
        "id": "5de01017",
        "outputId": "f0a64c2e-cf46-4253-9992-c16f1a37ce5c"
      },
      "outputs": [
        {
          "output_type": "stream",
          "name": "stderr",
          "text": [
            "<ipython-input-164-e723531033da>:2: FutureWarning:\n",
            "\n",
            "The default value of regex will change from True to False in a future version.\n",
            "\n"
          ]
        }
      ],
      "source": [
        "# Remove numbers\n",
        "df_review_text['cleaned_review'] = df_review_text['cleaned_review'].str.replace(r'\\d+', '')"
      ]
    },
    {
      "cell_type": "code",
      "execution_count": 40,
      "id": "199fc8f7",
      "metadata": {
        "id": "199fc8f7"
      },
      "outputs": [],
      "source": [
        "# Remove stopwords\n",
        "stop_words = set(stopwords.words('english'))\n",
        "df_review_text['cleaned_review'] = df_review_text['cleaned_review'].apply(lambda x: ' '.join(word for word in word_tokenize(x) if word not in stop_words))"
      ]
    },
    {
      "cell_type": "markdown",
      "id": "0b30289e",
      "metadata": {
        "id": "0b30289e"
      },
      "source": [
        "#### Objective 1: To explore the experiences of individuals in using data analytics techniques to enhance their brand recognition on social media."
      ]
    },
    {
      "cell_type": "code",
      "execution_count": 41,
      "id": "2e153da9",
      "metadata": {
        "scrolled": true,
        "colab": {
          "base_uri": "https://localhost:8080/",
          "height": 1000
        },
        "id": "2e153da9",
        "outputId": "0a19afcd-90a6-41e9-cfc8-81b3b64b3ea7"
      },
      "outputs": [
        {
          "data": {
            "text/html": [
              "\n",
              "  <div id=\"df-a054341c-7732-4a5b-97c0-ec6ca82cafbc\" class=\"colab-df-container\">\n",
              "    <div>\n",
              "<style scoped>\n",
              "    .dataframe tbody tr th:only-of-type {\n",
              "        vertical-align: middle;\n",
              "    }\n",
              "\n",
              "    .dataframe tbody tr th {\n",
              "        vertical-align: top;\n",
              "    }\n",
              "\n",
              "    .dataframe thead th {\n",
              "        text-align: right;\n",
              "    }\n",
              "</style>\n",
              "<table border=\"1\" class=\"dataframe\">\n",
              "  <thead>\n",
              "    <tr style=\"text-align: right;\">\n",
              "      <th></th>\n",
              "      <th>reviewText</th>\n",
              "      <th>cleaned_review</th>\n",
              "    </tr>\n",
              "  </thead>\n",
              "  <tbody>\n",
              "    <tr>\n",
              "      <th>0</th>\n",
              "      <td>This was the first time I read Garcia-Aguilera.  I came upon the name of this book on Live with Regis and Kelly. This book was exactly what I was looking for ... it hit the spot.  I really enjoyed this book because it was well written. Once I started this book it kept me coming back for more. It had culture, family, friendship and romance. I was looking for a little more romance when I picked this book but in the end it turned out to be just right.  I love the main chartachter Margarita (aka Daisy). I've never been to Miami but the way Daisy told the story I certainly felt I'd been there.\\nAlso after going through all of Daisy's perils ... I closed the book with a feeling I had grown emotionally as well.</td>\n",
              "      <td>first time read garciaaguilera came upon name book live regis kelly book exactly looking hit spot really enjoyed book well written started book kept coming back culture family friendship romance looking little romance picked book end turned right love main chartachter margarita aka daisy ive never miami way daisy told story certainly felt id also going daisys perils closed book feeling grown emotionally well</td>\n",
              "    </tr>\n",
              "    <tr>\n",
              "      <th>1</th>\n",
              "      <td>As with all of Ms. Garcia-Aguilera's books, I think this is a MUST READ, impossible to put down. Successful deviation from past Lupe Solano series-captures the very essence of the excitement, local color and diverse fabric of MIAMI. Sensual and culturally enlightened!</td>\n",
              "      <td>ms garciaaguileras books think must read impossible put successful deviation past lupe solano seriescaptures essence excitement local color diverse fabric miami sensual culturally enlightened</td>\n",
              "    </tr>\n",
              "    <tr>\n",
              "      <th>2</th>\n",
              "      <td>I've not read any of Ms Aguilera's works before, but after having just finished One Hot Summer I'm going to check out the Lupe Solano series I've heard so much about.  One Hot Summer is sooo steamy! Made me want to move to Miami!  Couldn't put the book down.</td>\n",
              "      <td>ive read ms aguileras works finished one hot summer im going check lupe solano series ive heard much one hot summer sooo steamy made want move miami couldnt put book</td>\n",
              "    </tr>\n",
              "    <tr>\n",
              "      <th>3</th>\n",
              "      <td>This romance novel is right up there with the rest of her amazing mystery novels.  Being a guy, I was a little hesitant about reading a romance novel but I just had to give this book a shot because I have been such a huge fan of Garcia-Aguilera's books.  And to be honest, I absolutely loved this book.  I love the way she presents funky Miami and its crazy Cubans in not just this book but all her books.  Garcia-Aguilera did a superb job with this book, and I can't wait till her next book.  You gotta read this book!!!!</td>\n",
              "      <td>romance novel right rest amazing mystery novels guy little hesitant reading romance novel give book shot huge fan garciaaguileras books honest absolutely loved book love way presents funky miami crazy cubans book books garciaaguilera superb job book cant wait till next book got ta read book</td>\n",
              "    </tr>\n",
              "    <tr>\n",
              "      <th>4</th>\n",
              "      <td>Carolina Garcia Aguilera has done it again.  She's written another highly enjoyable book and infused it with the right amount of Cuban-American tidbits.  My family and I cannot put her books down once we start and this one was not a let down.</td>\n",
              "      <td>carolina garcia aguilera done shes written another highly enjoyable book infused right amount cubanamerican tidbits family put books start one let</td>\n",
              "    </tr>\n",
              "    <tr>\n",
              "      <th>5</th>\n",
              "      <td>Not only can she write mysteries,but she sure can write a love story! This was \"ONE HOT SUMMER\" read that I couldn't put down !!!</td>\n",
              "      <td>write mysteriesbut sure write love story one hot summer read couldnt put</td>\n",
              "    </tr>\n",
              "    <tr>\n",
              "      <th>6</th>\n",
              "      <td>Once again Garcia-Aguilera has written a book that I just can't put down. I have read and love all her mysteries- so I picked up this romance with eager anticipation. I was not disappointed. The main character Margarita is easily likeable, which makes the trials she faces that much more intriguing. Sometimes you want to yell at the book and tell Margarita what she should (and shouldn't) do. But the author is measured in the development of the plot and keeps you turning the pages all the way to the end. Mix that in with an interesting take on Cuban exile politics and humorous insights on the world around Margarita and the picture of wild, steamy Miami is complete. Another winner from Garcia-Aguilera.</td>\n",
              "      <td>garciaaguilera written book cant put read love mysteries picked romance eager anticipation disappointed main character margarita easily likeable makes trials faces much intriguing sometimes want yell book tell margarita shouldnt author measured development plot keeps turning pages way end mix interesting take cuban exile politics humorous insights world around margarita picture wild steamy miami complete another winner garciaaguilera</td>\n",
              "    </tr>\n",
              "    <tr>\n",
              "      <th>7</th>\n",
              "      <td>The timing is just right for a good book. Actually, it's long overdue. Therefore, I highly recommend you read this book. I promise you won't be disappointed. If this doesn't make the bestsellers list something is definitely wrong here. This well written story is so engaging, funny, almost true, etc. The character Beryl was funny and sad. Unfortunately, there are women just like her and people take advantage of them. What we won't do for love. Penn said, women can be so stupid. He told her he love her on their first night together and she belived him. That was her demise right there.</td>\n",
              "      <td>timing right good book actually long overdue therefore highly recommend read book promise wont disappointed doesnt make bestsellers list something definitely wrong well written story engaging funny almost true etc character beryl funny sad unfortunately women like people take advantage wont love penn said women stupid told love first night together belived demise right</td>\n",
              "    </tr>\n",
              "    <tr>\n",
              "      <th>8</th>\n",
              "      <td>Engaging. Dark. Reading the book you could almost feel the train wreck about to happen.  The collision of characters is painful yet stimulating.  Files show the depth of her writing in this book especially by showcasing her ethnically diverse cast.  It wasn't what I was expecting, but if you can get past the initial character introductions you'll be hooked!  The sex and graphic violence can be overwhelming and hard to stomach, but it's what makes this book...the book.  If you like tidiness this isn't the book for you...it's everything, but tidy.  Personally, I was slightly disappointed in the final direction of the book, but from a literary perspective this is close to a masterpiece.  Her books just keep getting better and better.  This one really pushes the reader mentally and educationally through her use of real literary terms and vocabulary words that may require a quick tour through Webster's.</td>\n",
              "      <td>engaging dark reading book could almost feel train wreck happen collision characters painful yet stimulating files show depth writing book especially showcasing ethnically diverse cast wasnt expecting get past initial character introductions youll hooked sex graphic violence overwhelming hard stomach makes bookthe book like tidiness isnt book youits everything tidy personally slightly disappointed final direction book literary perspective close masterpiece books keep getting better better one really pushes reader mentally educationally use real literary terms vocabulary words may require quick tour websters</td>\n",
              "    </tr>\n",
              "    <tr>\n",
              "      <th>9</th>\n",
              "      <td>Set amid the backdrop of New York City's impervious and highly competitive literary world, a disinherited, struggling writer, Penn Hamilton, plots his course to stardom.  Born with dastardly good looks and a genius I.Q., Penn seduces the top editor in the business, Beryl Unger.  Beryl is a homely, narcoleptic, obsessive-compulsive workaholic who instantly falls for Penn's charms and his manuscript.  The spin-doctors are engaged and Penn, as much as his novel, is an overnight sensation.  The money, power, respect, and women ensue.  When Beryl discovers that Penn has another lover and threatens to expose him and ruin his budding career, Penn ends the charade by committing a heinous crime.\\n\\nThis novel is a dark comedy, filled with cynicism and wit, and a touch of satire surrounding literary figures (editors, agents, etc.) and concepts (Wagner's Gesamtkunstwerk).  Files offers a credible plot behind the evolution of Penn's ascent as an artist and embodiment of himself as a \"brand\" spanning all genres - music, fashion, literature, cinema, even legal scandals - the total package.  He becomes an infamous, opportunistic, conniving, heartless protagonist - and yet, he is still fairly likeable.  Files keeps the novel fresh and hip.  Through Penn, the reader hangs with the \"in crowd\" and meets modern icons in today's entertainment arena.\\n\\nIf readers are adventurous enough to veer away from the \"Reesy and Misty\" novels and are patient enough to appreciate the rather lengthy passages dedicated to character development, the underlying ripples of black humor, and the clever infusion of actual literary works and personalities, I think File's fans may appreciate this book as an enriched departure from her traditional `girlfriend' type of novels.\\n\\nReviewed by Phyllis\\n\\nAPOOO BookClub</td>\n",
              "      <td>set amid backdrop new york citys impervious highly competitive literary world disinherited struggling writer penn hamilton plots course stardom born dastardly good looks genius iq penn seduces top editor business beryl unger beryl homely narcoleptic obsessivecompulsive workaholic instantly falls penns charms manuscript spindoctors engaged penn much novel overnight sensation money power respect women ensue beryl discovers penn another lover threatens expose ruin budding career penn ends charade committing heinous crime novel dark comedy filled cynicism wit touch satire surrounding literary figures editors agents etc concepts wagners gesamtkunstwerk files offers credible plot behind evolution penns ascent artist embodiment brand spanning genres music fashion literature cinema even legal scandals total package becomes infamous opportunistic conniving heartless protagonist yet still fairly likeable files keeps novel fresh hip penn reader hangs crowd meets modern icons todays entertainment arena readers adventurous enough veer away reesy misty novels patient enough appreciate rather lengthy passages dedicated character development underlying ripples black humor clever infusion actual literary works personalities think files fans may appreciate book enriched departure traditional girlfriend type novels reviewed phyllis apooo bookclub</td>\n",
              "    </tr>\n",
              "  </tbody>\n",
              "</table>\n",
              "</div>\n",
              "    <div class=\"colab-df-buttons\">\n",
              "\n",
              "  <div class=\"colab-df-container\">\n",
              "    <button class=\"colab-df-convert\" onclick=\"convertToInteractive('df-a054341c-7732-4a5b-97c0-ec6ca82cafbc')\"\n",
              "            title=\"Convert this dataframe to an interactive table.\"\n",
              "            style=\"display:none;\">\n",
              "\n",
              "  <svg xmlns=\"http://www.w3.org/2000/svg\" height=\"24px\" viewBox=\"0 -960 960 960\">\n",
              "    <path d=\"M120-120v-720h720v720H120Zm60-500h600v-160H180v160Zm220 220h160v-160H400v160Zm0 220h160v-160H400v160ZM180-400h160v-160H180v160Zm440 0h160v-160H620v160ZM180-180h160v-160H180v160Zm440 0h160v-160H620v160Z\"/>\n",
              "  </svg>\n",
              "    </button>\n",
              "\n",
              "  <style>\n",
              "    .colab-df-container {\n",
              "      display:flex;\n",
              "      gap: 12px;\n",
              "    }\n",
              "\n",
              "    .colab-df-convert {\n",
              "      background-color: #E8F0FE;\n",
              "      border: none;\n",
              "      border-radius: 50%;\n",
              "      cursor: pointer;\n",
              "      display: none;\n",
              "      fill: #1967D2;\n",
              "      height: 32px;\n",
              "      padding: 0 0 0 0;\n",
              "      width: 32px;\n",
              "    }\n",
              "\n",
              "    .colab-df-convert:hover {\n",
              "      background-color: #E2EBFA;\n",
              "      box-shadow: 0px 1px 2px rgba(60, 64, 67, 0.3), 0px 1px 3px 1px rgba(60, 64, 67, 0.15);\n",
              "      fill: #174EA6;\n",
              "    }\n",
              "\n",
              "    .colab-df-buttons div {\n",
              "      margin-bottom: 4px;\n",
              "    }\n",
              "\n",
              "    [theme=dark] .colab-df-convert {\n",
              "      background-color: #3B4455;\n",
              "      fill: #D2E3FC;\n",
              "    }\n",
              "\n",
              "    [theme=dark] .colab-df-convert:hover {\n",
              "      background-color: #434B5C;\n",
              "      box-shadow: 0px 1px 3px 1px rgba(0, 0, 0, 0.15);\n",
              "      filter: drop-shadow(0px 1px 2px rgba(0, 0, 0, 0.3));\n",
              "      fill: #FFFFFF;\n",
              "    }\n",
              "  </style>\n",
              "\n",
              "    <script>\n",
              "      const buttonEl =\n",
              "        document.querySelector('#df-a054341c-7732-4a5b-97c0-ec6ca82cafbc button.colab-df-convert');\n",
              "      buttonEl.style.display =\n",
              "        google.colab.kernel.accessAllowed ? 'block' : 'none';\n",
              "\n",
              "      async function convertToInteractive(key) {\n",
              "        const element = document.querySelector('#df-a054341c-7732-4a5b-97c0-ec6ca82cafbc');\n",
              "        const dataTable =\n",
              "          await google.colab.kernel.invokeFunction('convertToInteractive',\n",
              "                                                    [key], {});\n",
              "        if (!dataTable) return;\n",
              "\n",
              "        const docLinkHtml = 'Like what you see? Visit the ' +\n",
              "          '<a target=\"_blank\" href=https://colab.research.google.com/notebooks/data_table.ipynb>data table notebook</a>'\n",
              "          + ' to learn more about interactive tables.';\n",
              "        element.innerHTML = '';\n",
              "        dataTable['output_type'] = 'display_data';\n",
              "        await google.colab.output.renderOutput(dataTable, element);\n",
              "        const docLink = document.createElement('div');\n",
              "        docLink.innerHTML = docLinkHtml;\n",
              "        element.appendChild(docLink);\n",
              "      }\n",
              "    </script>\n",
              "  </div>\n",
              "\n",
              "\n",
              "<div id=\"df-2053b08b-c60a-424d-89a1-dd8a891f48ee\">\n",
              "  <button class=\"colab-df-quickchart\" onclick=\"quickchart('df-2053b08b-c60a-424d-89a1-dd8a891f48ee')\"\n",
              "            title=\"Suggest charts.\"\n",
              "            style=\"display:none;\">\n",
              "\n",
              "<svg xmlns=\"http://www.w3.org/2000/svg\" height=\"24px\"viewBox=\"0 0 24 24\"\n",
              "     width=\"24px\">\n",
              "    <g>\n",
              "        <path d=\"M19 3H5c-1.1 0-2 .9-2 2v14c0 1.1.9 2 2 2h14c1.1 0 2-.9 2-2V5c0-1.1-.9-2-2-2zM9 17H7v-7h2v7zm4 0h-2V7h2v10zm4 0h-2v-4h2v4z\"/>\n",
              "    </g>\n",
              "</svg>\n",
              "  </button>\n",
              "\n",
              "<style>\n",
              "  .colab-df-quickchart {\n",
              "    background-color: #E8F0FE;\n",
              "    border: none;\n",
              "    border-radius: 50%;\n",
              "    cursor: pointer;\n",
              "    display: none;\n",
              "    fill: #1967D2;\n",
              "    height: 32px;\n",
              "    padding: 0 0 0 0;\n",
              "    width: 32px;\n",
              "  }\n",
              "\n",
              "  .colab-df-quickchart:hover {\n",
              "    background-color: #E2EBFA;\n",
              "    box-shadow: 0px 1px 2px rgba(60, 64, 67, 0.3), 0px 1px 3px 1px rgba(60, 64, 67, 0.15);\n",
              "    fill: #174EA6;\n",
              "  }\n",
              "\n",
              "  [theme=dark] .colab-df-quickchart {\n",
              "    background-color: #3B4455;\n",
              "    fill: #D2E3FC;\n",
              "  }\n",
              "\n",
              "  [theme=dark] .colab-df-quickchart:hover {\n",
              "    background-color: #434B5C;\n",
              "    box-shadow: 0px 1px 3px 1px rgba(0, 0, 0, 0.15);\n",
              "    filter: drop-shadow(0px 1px 2px rgba(0, 0, 0, 0.3));\n",
              "    fill: #FFFFFF;\n",
              "  }\n",
              "</style>\n",
              "\n",
              "  <script>\n",
              "    async function quickchart(key) {\n",
              "      const charts = await google.colab.kernel.invokeFunction(\n",
              "          'suggestCharts', [key], {});\n",
              "    }\n",
              "    (() => {\n",
              "      let quickchartButtonEl =\n",
              "        document.querySelector('#df-2053b08b-c60a-424d-89a1-dd8a891f48ee button');\n",
              "      quickchartButtonEl.style.display =\n",
              "        google.colab.kernel.accessAllowed ? 'block' : 'none';\n",
              "    })();\n",
              "  </script>\n",
              "</div>\n",
              "    </div>\n",
              "  </div>\n"
            ],
            "text/plain": [
              "                                                                                                                                                                                                                                                                                                                                                                                                                                                                                                                                                                                                                                                                                                                                                                                                                                                                                                                                                                                                                                                                                                                                                                                                                                                                                                                                                                                                                                                                                                                                                                                                                                                                                                                                                                                                                                                                    reviewText  \\\n",
              "0                                                                                                                                                                                                                                                                                                                                                                                                                                                                                                                                                                                                                                                                                                                                                                                                                                                                                                                                                                                                                                                                                                                                    This was the first time I read Garcia-Aguilera.  I came upon the name of this book on Live with Regis and Kelly. This book was exactly what I was looking for ... it hit the spot.  I really enjoyed this book because it was well written. Once I started this book it kept me coming back for more. It had culture, family, friendship and romance. I was looking for a little more romance when I picked this book but in the end it turned out to be just right.  I love the main chartachter Margarita (aka Daisy). I've never been to Miami but the way Daisy told the story I certainly felt I'd been there.\\nAlso after going through all of Daisy's perils ... I closed the book with a feeling I had grown emotionally as well.   \n",
              "1                                                                                                                                                                                                                                                                                                                                                                                                                                                                                                                                                                                                                                                                                                                                                                                                                                                                                                                                                                                                                                                                                                                                                                                                                                                                                                                                                                                                                                                                                                                                                                                                 As with all of Ms. Garcia-Aguilera's books, I think this is a MUST READ, impossible to put down. Successful deviation from past Lupe Solano series-captures the very essence of the excitement, local color and diverse fabric of MIAMI. Sensual and culturally enlightened!   \n",
              "2                                                                                                                                                                                                                                                                                                                                                                                                                                                                                                                                                                                                                                                                                                                                                                                                                                                                                                                                                                                                                                                                                                                                                                                                                                                                                                                                                                                                                                                                                                                                                                                                           I've not read any of Ms Aguilera's works before, but after having just finished One Hot Summer I'm going to check out the Lupe Solano series I've heard so much about.  One Hot Summer is sooo steamy! Made me want to move to Miami!  Couldn't put the book down.   \n",
              "3                                                                                                                                                                                                                                                                                                                                                                                                                                                                                                                                                                                                                                                                                                                                                                                                                                                                                                                                                                                                                                                                                                                                                                                                                                                                                                                                   This romance novel is right up there with the rest of her amazing mystery novels.  Being a guy, I was a little hesitant about reading a romance novel but I just had to give this book a shot because I have been such a huge fan of Garcia-Aguilera's books.  And to be honest, I absolutely loved this book.  I love the way she presents funky Miami and its crazy Cubans in not just this book but all her books.  Garcia-Aguilera did a superb job with this book, and I can't wait till her next book.  You gotta read this book!!!!   \n",
              "4                                                                                                                                                                                                                                                                                                                                                                                                                                                                                                                                                                                                                                                                                                                                                                                                                                                                                                                                                                                                                                                                                                                                                                                                                                                                                                                                                                                                                                                                                                                                                                                                                           Carolina Garcia Aguilera has done it again.  She's written another highly enjoyable book and infused it with the right amount of Cuban-American tidbits.  My family and I cannot put her books down once we start and this one was not a let down.   \n",
              "5                                                                                                                                                                                                                                                                                                                                                                                                                                                                                                                                                                                                                                                                                                                                                                                                                                                                                                                                                                                                                                                                                                                                                                                                                                                                                                                                                                                                                                                                                                                                                                                                                                                                                                                                            Not only can she write mysteries,but she sure can write a love story! This was \"ONE HOT SUMMER\" read that I couldn't put down !!!   \n",
              "6                                                                                                                                                                                                                                                                                                                                                                                                                                                                                                                                                                                                                                                                                                                                                                                                                                                                                                                                                                                                                                                                                                                                         Once again Garcia-Aguilera has written a book that I just can't put down. I have read and love all her mysteries- so I picked up this romance with eager anticipation. I was not disappointed. The main character Margarita is easily likeable, which makes the trials she faces that much more intriguing. Sometimes you want to yell at the book and tell Margarita what she should (and shouldn't) do. But the author is measured in the development of the plot and keeps you turning the pages all the way to the end. Mix that in with an interesting take on Cuban exile politics and humorous insights on the world around Margarita and the picture of wild, steamy Miami is complete. Another winner from Garcia-Aguilera.   \n",
              "7                                                                                                                                                                                                                                                                                                                                                                                                                                                                                                                                                                                                                                                                                                                                                                                                                                                                                                                                                                                                                                                                                                                                                                                                                                                                The timing is just right for a good book. Actually, it's long overdue. Therefore, I highly recommend you read this book. I promise you won't be disappointed. If this doesn't make the bestsellers list something is definitely wrong here. This well written story is so engaging, funny, almost true, etc. The character Beryl was funny and sad. Unfortunately, there are women just like her and people take advantage of them. What we won't do for love. Penn said, women can be so stupid. He told her he love her on their first night together and she belived him. That was her demise right there.   \n",
              "8                                                                                                                                                                                                                                                                                                                                                                                                                                                                                                                                                                                                                                                                                                                                                                                                                                                                                                                              Engaging. Dark. Reading the book you could almost feel the train wreck about to happen.  The collision of characters is painful yet stimulating.  Files show the depth of her writing in this book especially by showcasing her ethnically diverse cast.  It wasn't what I was expecting, but if you can get past the initial character introductions you'll be hooked!  The sex and graphic violence can be overwhelming and hard to stomach, but it's what makes this book...the book.  If you like tidiness this isn't the book for you...it's everything, but tidy.  Personally, I was slightly disappointed in the final direction of the book, but from a literary perspective this is close to a masterpiece.  Her books just keep getting better and better.  This one really pushes the reader mentally and educationally through her use of real literary terms and vocabulary words that may require a quick tour through Webster's.   \n",
              "9  Set amid the backdrop of New York City's impervious and highly competitive literary world, a disinherited, struggling writer, Penn Hamilton, plots his course to stardom.  Born with dastardly good looks and a genius I.Q., Penn seduces the top editor in the business, Beryl Unger.  Beryl is a homely, narcoleptic, obsessive-compulsive workaholic who instantly falls for Penn's charms and his manuscript.  The spin-doctors are engaged and Penn, as much as his novel, is an overnight sensation.  The money, power, respect, and women ensue.  When Beryl discovers that Penn has another lover and threatens to expose him and ruin his budding career, Penn ends the charade by committing a heinous crime.\\n\\nThis novel is a dark comedy, filled with cynicism and wit, and a touch of satire surrounding literary figures (editors, agents, etc.) and concepts (Wagner's Gesamtkunstwerk).  Files offers a credible plot behind the evolution of Penn's ascent as an artist and embodiment of himself as a \"brand\" spanning all genres - music, fashion, literature, cinema, even legal scandals - the total package.  He becomes an infamous, opportunistic, conniving, heartless protagonist - and yet, he is still fairly likeable.  Files keeps the novel fresh and hip.  Through Penn, the reader hangs with the \"in crowd\" and meets modern icons in today's entertainment arena.\\n\\nIf readers are adventurous enough to veer away from the \"Reesy and Misty\" novels and are patient enough to appreciate the rather lengthy passages dedicated to character development, the underlying ripples of black humor, and the clever infusion of actual literary works and personalities, I think File's fans may appreciate this book as an enriched departure from her traditional `girlfriend' type of novels.\\n\\nReviewed by Phyllis\\n\\nAPOOO BookClub   \n",
              "\n",
              "                                                                                                                                                                                                                                                                                                                                                                                                                                                                                                                                                                                                                                                                                                                                                                                                                                                                                                                                                                                                                                                                                                                                                                                                                                                                                                                                                                                          cleaned_review  \n",
              "0                                                                                                                                                                                                                                                                                                                                                                                                                                                                                                                                                                                                                                                                                                                                                                                                                                                                                                                                                                            first time read garciaaguilera came upon name book live regis kelly book exactly looking hit spot really enjoyed book well written started book kept coming back culture family friendship romance looking little romance picked book end turned right love main chartachter margarita aka daisy ive never miami way daisy told story certainly felt id also going daisys perils closed book feeling grown emotionally well  \n",
              "1                                                                                                                                                                                                                                                                                                                                                                                                                                                                                                                                                                                                                                                                                                                                                                                                                                                                                                                                                                                                                                                                                                                                                                                                        ms garciaaguileras books think must read impossible put successful deviation past lupe solano seriescaptures essence excitement local color diverse fabric miami sensual culturally enlightened  \n",
              "2                                                                                                                                                                                                                                                                                                                                                                                                                                                                                                                                                                                                                                                                                                                                                                                                                                                                                                                                                                                                                                                                                                                                                                                                                                  ive read ms aguileras works finished one hot summer im going check lupe solano series ive heard much one hot summer sooo steamy made want move miami couldnt put book  \n",
              "3                                                                                                                                                                                                                                                                                                                                                                                                                                                                                                                                                                                                                                                                                                                                                                                                                                                                                                                                                                                                                                                                                                    romance novel right rest amazing mystery novels guy little hesitant reading romance novel give book shot huge fan garciaaguileras books honest absolutely loved book love way presents funky miami crazy cubans book books garciaaguilera superb job book cant wait till next book got ta read book  \n",
              "4                                                                                                                                                                                                                                                                                                                                                                                                                                                                                                                                                                                                                                                                                                                                                                                                                                                                                                                                                                                                                                                                                                                                                                                                                                                     carolina garcia aguilera done shes written another highly enjoyable book infused right amount cubanamerican tidbits family put books start one let  \n",
              "5                                                                                                                                                                                                                                                                                                                                                                                                                                                                                                                                                                                                                                                                                                                                                                                                                                                                                                                                                                                                                                                                                                                                                                                                                                                                                                                               write mysteriesbut sure write love story one hot summer read couldnt put  \n",
              "6                                                                                                                                                                                                                                                                                                                                                                                                                                                                                                                                                                                                                                                                                                                                                                                                                                                                                                                                                  garciaaguilera written book cant put read love mysteries picked romance eager anticipation disappointed main character margarita easily likeable makes trials faces much intriguing sometimes want yell book tell margarita shouldnt author measured development plot keeps turning pages way end mix interesting take cuban exile politics humorous insights world around margarita picture wild steamy miami complete another winner garciaaguilera  \n",
              "7                                                                                                                                                                                                                                                                                                                                                                                                                                                                                                                                                                                                                                                                                                                                                                                                                                                                                                                                                                                                                    timing right good book actually long overdue therefore highly recommend read book promise wont disappointed doesnt make bestsellers list something definitely wrong well written story engaging funny almost true etc character beryl funny sad unfortunately women like people take advantage wont love penn said women stupid told love first night together belived demise right  \n",
              "8                                                                                                                                                                                                                                                                                                                                                                                                                                                                                                                                                                                                                                                                                                                                                                 engaging dark reading book could almost feel train wreck happen collision characters painful yet stimulating files show depth writing book especially showcasing ethnically diverse cast wasnt expecting get past initial character introductions youll hooked sex graphic violence overwhelming hard stomach makes bookthe book like tidiness isnt book youits everything tidy personally slightly disappointed final direction book literary perspective close masterpiece books keep getting better better one really pushes reader mentally educationally use real literary terms vocabulary words may require quick tour websters  \n",
              "9  set amid backdrop new york citys impervious highly competitive literary world disinherited struggling writer penn hamilton plots course stardom born dastardly good looks genius iq penn seduces top editor business beryl unger beryl homely narcoleptic obsessivecompulsive workaholic instantly falls penns charms manuscript spindoctors engaged penn much novel overnight sensation money power respect women ensue beryl discovers penn another lover threatens expose ruin budding career penn ends charade committing heinous crime novel dark comedy filled cynicism wit touch satire surrounding literary figures editors agents etc concepts wagners gesamtkunstwerk files offers credible plot behind evolution penns ascent artist embodiment brand spanning genres music fashion literature cinema even legal scandals total package becomes infamous opportunistic conniving heartless protagonist yet still fairly likeable files keeps novel fresh hip penn reader hangs crowd meets modern icons todays entertainment arena readers adventurous enough veer away reesy misty novels patient enough appreciate rather lengthy passages dedicated character development underlying ripples black humor clever infusion actual literary works personalities think files fans may appreciate book enriched departure traditional girlfriend type novels reviewed phyllis apooo bookclub  "
            ]
          },
          "execution_count": 41,
          "metadata": {},
          "output_type": "execute_result"
        }
      ],
      "source": [
        "df_review_text.head(10)"
      ]
    },
    {
      "cell_type": "markdown",
      "id": "927b8459",
      "metadata": {
        "id": "927b8459"
      },
      "source": [
        "## Sentiment Analysis"
      ]
    },
    {
      "cell_type": "code",
      "execution_count": 42,
      "id": "f98f7852",
      "metadata": {
        "id": "f98f7852"
      },
      "outputs": [],
      "source": [
        "import nltk\n",
        "from nltk.sentiment import SentimentIntensityAnalyzer"
      ]
    },
    {
      "cell_type": "code",
      "execution_count": 43,
      "id": "38461208",
      "metadata": {
        "colab": {
          "base_uri": "https://localhost:8080/"
        },
        "id": "38461208",
        "outputId": "03779c39-8710-41b2-f9ff-61869fdb58e3"
      },
      "outputs": [
        {
          "output_type": "stream",
          "name": "stderr",
          "text": [
            "[nltk_data] Downloading package vader_lexicon to /root/nltk_data...\n"
          ]
        },
        {
          "output_type": "execute_result",
          "data": {
            "text/plain": [
              "True"
            ]
          },
          "metadata": {},
          "execution_count": 43
        }
      ],
      "source": [
        "nltk.download('vader_lexicon')"
      ]
    },
    {
      "cell_type": "code",
      "execution_count": 44,
      "id": "46430276",
      "metadata": {
        "id": "46430276"
      },
      "outputs": [],
      "source": [
        "sia = SentimentIntensityAnalyzer()"
      ]
    },
    {
      "cell_type": "code",
      "execution_count": 45,
      "id": "cf46d8df",
      "metadata": {
        "id": "cf46d8df"
      },
      "outputs": [],
      "source": [
        "def get_sentiment(score):\n",
        "    if score >= 0.05:\n",
        "        return \"Positive\"\n",
        "    elif score <= -0.05:\n",
        "        return \"Negative\"\n",
        "    else:\n",
        "        return \"Neutral\""
      ]
    },
    {
      "cell_type": "code",
      "execution_count": 46,
      "id": "5ea90ce0",
      "metadata": {
        "id": "5ea90ce0"
      },
      "outputs": [],
      "source": [
        "df_review_text['sentiment_score'] = df_review_text['cleaned_review'].apply(lambda x: sia.polarity_scores(x)['compound'])\n",
        "df_review_text['sentiment'] = df_review_text['sentiment_score'].apply(get_sentiment)"
      ]
    },
    {
      "cell_type": "code",
      "execution_count": 47,
      "id": "a364c37b",
      "metadata": {
        "colab": {
          "base_uri": "https://localhost:8080/",
          "height": 1000
        },
        "id": "a364c37b",
        "outputId": "9d2d8814-5a84-4b47-a37e-7b03625d48cb"
      },
      "outputs": [
        {
          "output_type": "execute_result",
          "data": {
            "text/plain": [
              "                                                                                                                                                                                                                                                                                                                                                                                                                                                                                                                                                                                                                                                                                                                                                                                                                                                                                                                                                                                                                                                                                                                                                                                                                                                                                                                                                                                                                                                                                                                                                                                                                                                                                                                                                                                                                                                                    reviewText  \\\n",
              "0                                                                                                                                                                                                                                                                                                                                                                                                                                                                                                                                                                                                                                                                                                                                                                                                                                                                                                                                                                                                                                                                                                                                    This was the first time I read Garcia-Aguilera.  I came upon the name of this book on Live with Regis and Kelly. This book was exactly what I was looking for ... it hit the spot.  I really enjoyed this book because it was well written. Once I started this book it kept me coming back for more. It had culture, family, friendship and romance. I was looking for a little more romance when I picked this book but in the end it turned out to be just right.  I love the main chartachter Margarita (aka Daisy). I've never been to Miami but the way Daisy told the story I certainly felt I'd been there.\\nAlso after going through all of Daisy's perils ... I closed the book with a feeling I had grown emotionally as well.   \n",
              "1                                                                                                                                                                                                                                                                                                                                                                                                                                                                                                                                                                                                                                                                                                                                                                                                                                                                                                                                                                                                                                                                                                                                                                                                                                                                                                                                                                                                                                                                                                                                                                                                 As with all of Ms. Garcia-Aguilera's books, I think this is a MUST READ, impossible to put down. Successful deviation from past Lupe Solano series-captures the very essence of the excitement, local color and diverse fabric of MIAMI. Sensual and culturally enlightened!   \n",
              "2                                                                                                                                                                                                                                                                                                                                                                                                                                                                                                                                                                                                                                                                                                                                                                                                                                                                                                                                                                                                                                                                                                                                                                                                                                                                                                                                                                                                                                                                                                                                                                                                           I've not read any of Ms Aguilera's works before, but after having just finished One Hot Summer I'm going to check out the Lupe Solano series I've heard so much about.  One Hot Summer is sooo steamy! Made me want to move to Miami!  Couldn't put the book down.   \n",
              "3                                                                                                                                                                                                                                                                                                                                                                                                                                                                                                                                                                                                                                                                                                                                                                                                                                                                                                                                                                                                                                                                                                                                                                                                                                                                                                                                   This romance novel is right up there with the rest of her amazing mystery novels.  Being a guy, I was a little hesitant about reading a romance novel but I just had to give this book a shot because I have been such a huge fan of Garcia-Aguilera's books.  And to be honest, I absolutely loved this book.  I love the way she presents funky Miami and its crazy Cubans in not just this book but all her books.  Garcia-Aguilera did a superb job with this book, and I can't wait till her next book.  You gotta read this book!!!!   \n",
              "4                                                                                                                                                                                                                                                                                                                                                                                                                                                                                                                                                                                                                                                                                                                                                                                                                                                                                                                                                                                                                                                                                                                                                                                                                                                                                                                                                                                                                                                                                                                                                                                                                           Carolina Garcia Aguilera has done it again.  She's written another highly enjoyable book and infused it with the right amount of Cuban-American tidbits.  My family and I cannot put her books down once we start and this one was not a let down.   \n",
              "5                                                                                                                                                                                                                                                                                                                                                                                                                                                                                                                                                                                                                                                                                                                                                                                                                                                                                                                                                                                                                                                                                                                                                                                                                                                                                                                                                                                                                                                                                                                                                                                                                                                                                                                                            Not only can she write mysteries,but she sure can write a love story! This was \"ONE HOT SUMMER\" read that I couldn't put down !!!   \n",
              "6                                                                                                                                                                                                                                                                                                                                                                                                                                                                                                                                                                                                                                                                                                                                                                                                                                                                                                                                                                                                                                                                                                                                         Once again Garcia-Aguilera has written a book that I just can't put down. I have read and love all her mysteries- so I picked up this romance with eager anticipation. I was not disappointed. The main character Margarita is easily likeable, which makes the trials she faces that much more intriguing. Sometimes you want to yell at the book and tell Margarita what she should (and shouldn't) do. But the author is measured in the development of the plot and keeps you turning the pages all the way to the end. Mix that in with an interesting take on Cuban exile politics and humorous insights on the world around Margarita and the picture of wild, steamy Miami is complete. Another winner from Garcia-Aguilera.   \n",
              "7                                                                                                                                                                                                                                                                                                                                                                                                                                                                                                                                                                                                                                                                                                                                                                                                                                                                                                                                                                                                                                                                                                                                                                                                                                                                The timing is just right for a good book. Actually, it's long overdue. Therefore, I highly recommend you read this book. I promise you won't be disappointed. If this doesn't make the bestsellers list something is definitely wrong here. This well written story is so engaging, funny, almost true, etc. The character Beryl was funny and sad. Unfortunately, there are women just like her and people take advantage of them. What we won't do for love. Penn said, women can be so stupid. He told her he love her on their first night together and she belived him. That was her demise right there.   \n",
              "8                                                                                                                                                                                                                                                                                                                                                                                                                                                                                                                                                                                                                                                                                                                                                                                                                                                                                                                              Engaging. Dark. Reading the book you could almost feel the train wreck about to happen.  The collision of characters is painful yet stimulating.  Files show the depth of her writing in this book especially by showcasing her ethnically diverse cast.  It wasn't what I was expecting, but if you can get past the initial character introductions you'll be hooked!  The sex and graphic violence can be overwhelming and hard to stomach, but it's what makes this book...the book.  If you like tidiness this isn't the book for you...it's everything, but tidy.  Personally, I was slightly disappointed in the final direction of the book, but from a literary perspective this is close to a masterpiece.  Her books just keep getting better and better.  This one really pushes the reader mentally and educationally through her use of real literary terms and vocabulary words that may require a quick tour through Webster's.   \n",
              "9  Set amid the backdrop of New York City's impervious and highly competitive literary world, a disinherited, struggling writer, Penn Hamilton, plots his course to stardom.  Born with dastardly good looks and a genius I.Q., Penn seduces the top editor in the business, Beryl Unger.  Beryl is a homely, narcoleptic, obsessive-compulsive workaholic who instantly falls for Penn's charms and his manuscript.  The spin-doctors are engaged and Penn, as much as his novel, is an overnight sensation.  The money, power, respect, and women ensue.  When Beryl discovers that Penn has another lover and threatens to expose him and ruin his budding career, Penn ends the charade by committing a heinous crime.\\n\\nThis novel is a dark comedy, filled with cynicism and wit, and a touch of satire surrounding literary figures (editors, agents, etc.) and concepts (Wagner's Gesamtkunstwerk).  Files offers a credible plot behind the evolution of Penn's ascent as an artist and embodiment of himself as a \"brand\" spanning all genres - music, fashion, literature, cinema, even legal scandals - the total package.  He becomes an infamous, opportunistic, conniving, heartless protagonist - and yet, he is still fairly likeable.  Files keeps the novel fresh and hip.  Through Penn, the reader hangs with the \"in crowd\" and meets modern icons in today's entertainment arena.\\n\\nIf readers are adventurous enough to veer away from the \"Reesy and Misty\" novels and are patient enough to appreciate the rather lengthy passages dedicated to character development, the underlying ripples of black humor, and the clever infusion of actual literary works and personalities, I think File's fans may appreciate this book as an enriched departure from her traditional `girlfriend' type of novels.\\n\\nReviewed by Phyllis\\n\\nAPOOO BookClub   \n",
              "\n",
              "                                                                                                                                                                                                                                                                                                                                                                                                                                                                                                                                                                                                                                                                                                                                                                                                                                                                                                                                                                                                                                                                                                                                                                                                                                                                                                                                                                                          cleaned_review  \\\n",
              "0                                                                                                                                                                                                                                                                                                                                                                                                                                                                                                                                                                                                                                                                                                                                                                                                                                                                                                                                                                            first time read garciaaguilera came upon name book live regis kelly book exactly looking hit spot really enjoyed book well written started book kept coming back culture family friendship romance looking little romance picked book end turned right love main chartachter margarita aka daisy ive never miami way daisy told story certainly felt id also going daisys perils closed book feeling grown emotionally well   \n",
              "1                                                                                                                                                                                                                                                                                                                                                                                                                                                                                                                                                                                                                                                                                                                                                                                                                                                                                                                                                                                                                                                                                                                                                                                                        ms garciaaguileras books think must read impossible put successful deviation past lupe solano seriescaptures essence excitement local color diverse fabric miami sensual culturally enlightened   \n",
              "2                                                                                                                                                                                                                                                                                                                                                                                                                                                                                                                                                                                                                                                                                                                                                                                                                                                                                                                                                                                                                                                                                                                                                                                                                                  ive read ms aguileras works finished one hot summer im going check lupe solano series ive heard much one hot summer sooo steamy made want move miami couldnt put book   \n",
              "3                                                                                                                                                                                                                                                                                                                                                                                                                                                                                                                                                                                                                                                                                                                                                                                                                                                                                                                                                                                                                                                                                                    romance novel right rest amazing mystery novels guy little hesitant reading romance novel give book shot huge fan garciaaguileras books honest absolutely loved book love way presents funky miami crazy cubans book books garciaaguilera superb job book cant wait till next book got ta read book   \n",
              "4                                                                                                                                                                                                                                                                                                                                                                                                                                                                                                                                                                                                                                                                                                                                                                                                                                                                                                                                                                                                                                                                                                                                                                                                                                                     carolina garcia aguilera done shes written another highly enjoyable book infused right amount cubanamerican tidbits family put books start one let   \n",
              "5                                                                                                                                                                                                                                                                                                                                                                                                                                                                                                                                                                                                                                                                                                                                                                                                                                                                                                                                                                                                                                                                                                                                                                                                                                                                                                                               write mysteriesbut sure write love story one hot summer read couldnt put   \n",
              "6                                                                                                                                                                                                                                                                                                                                                                                                                                                                                                                                                                                                                                                                                                                                                                                                                                                                                                                                                  garciaaguilera written book cant put read love mysteries picked romance eager anticipation disappointed main character margarita easily likeable makes trials faces much intriguing sometimes want yell book tell margarita shouldnt author measured development plot keeps turning pages way end mix interesting take cuban exile politics humorous insights world around margarita picture wild steamy miami complete another winner garciaaguilera   \n",
              "7                                                                                                                                                                                                                                                                                                                                                                                                                                                                                                                                                                                                                                                                                                                                                                                                                                                                                                                                                                                                                    timing right good book actually long overdue therefore highly recommend read book promise wont disappointed doesnt make bestsellers list something definitely wrong well written story engaging funny almost true etc character beryl funny sad unfortunately women like people take advantage wont love penn said women stupid told love first night together belived demise right   \n",
              "8                                                                                                                                                                                                                                                                                                                                                                                                                                                                                                                                                                                                                                                                                                                                                                 engaging dark reading book could almost feel train wreck happen collision characters painful yet stimulating files show depth writing book especially showcasing ethnically diverse cast wasnt expecting get past initial character introductions youll hooked sex graphic violence overwhelming hard stomach makes bookthe book like tidiness isnt book youits everything tidy personally slightly disappointed final direction book literary perspective close masterpiece books keep getting better better one really pushes reader mentally educationally use real literary terms vocabulary words may require quick tour websters   \n",
              "9  set amid backdrop new york citys impervious highly competitive literary world disinherited struggling writer penn hamilton plots course stardom born dastardly good looks genius iq penn seduces top editor business beryl unger beryl homely narcoleptic obsessivecompulsive workaholic instantly falls penns charms manuscript spindoctors engaged penn much novel overnight sensation money power respect women ensue beryl discovers penn another lover threatens expose ruin budding career penn ends charade committing heinous crime novel dark comedy filled cynicism wit touch satire surrounding literary figures editors agents etc concepts wagners gesamtkunstwerk files offers credible plot behind evolution penns ascent artist embodiment brand spanning genres music fashion literature cinema even legal scandals total package becomes infamous opportunistic conniving heartless protagonist yet still fairly likeable files keeps novel fresh hip penn reader hangs crowd meets modern icons todays entertainment arena readers adventurous enough veer away reesy misty novels patient enough appreciate rather lengthy passages dedicated character development underlying ripples black humor clever infusion actual literary works personalities think files fans may appreciate book enriched departure traditional girlfriend type novels reviewed phyllis apooo bookclub   \n",
              "\n",
              "   sentiment_score sentiment  \n",
              "0           0.9764  Positive  \n",
              "1           0.8807  Positive  \n",
              "2           0.0772  Positive  \n",
              "3           0.9858  Positive  \n",
              "4           0.4927  Positive  \n",
              "5           0.7579  Positive  \n",
              "6           0.9304  Positive  \n",
              "7           0.8324  Positive  \n",
              "8           0.3306  Positive  \n",
              "9           0.9774  Positive  "
            ],
            "text/html": [
              "\n",
              "  <div id=\"df-31832279-92a6-435e-930a-a71bf5edc602\" class=\"colab-df-container\">\n",
              "    <div>\n",
              "<style scoped>\n",
              "    .dataframe tbody tr th:only-of-type {\n",
              "        vertical-align: middle;\n",
              "    }\n",
              "\n",
              "    .dataframe tbody tr th {\n",
              "        vertical-align: top;\n",
              "    }\n",
              "\n",
              "    .dataframe thead th {\n",
              "        text-align: right;\n",
              "    }\n",
              "</style>\n",
              "<table border=\"1\" class=\"dataframe\">\n",
              "  <thead>\n",
              "    <tr style=\"text-align: right;\">\n",
              "      <th></th>\n",
              "      <th>reviewText</th>\n",
              "      <th>cleaned_review</th>\n",
              "      <th>sentiment_score</th>\n",
              "      <th>sentiment</th>\n",
              "    </tr>\n",
              "  </thead>\n",
              "  <tbody>\n",
              "    <tr>\n",
              "      <th>0</th>\n",
              "      <td>This was the first time I read Garcia-Aguilera.  I came upon the name of this book on Live with Regis and Kelly. This book was exactly what I was looking for ... it hit the spot.  I really enjoyed this book because it was well written. Once I started this book it kept me coming back for more. It had culture, family, friendship and romance. I was looking for a little more romance when I picked this book but in the end it turned out to be just right.  I love the main chartachter Margarita (aka Daisy). I've never been to Miami but the way Daisy told the story I certainly felt I'd been there.\\nAlso after going through all of Daisy's perils ... I closed the book with a feeling I had grown emotionally as well.</td>\n",
              "      <td>first time read garciaaguilera came upon name book live regis kelly book exactly looking hit spot really enjoyed book well written started book kept coming back culture family friendship romance looking little romance picked book end turned right love main chartachter margarita aka daisy ive never miami way daisy told story certainly felt id also going daisys perils closed book feeling grown emotionally well</td>\n",
              "      <td>0.9764</td>\n",
              "      <td>Positive</td>\n",
              "    </tr>\n",
              "    <tr>\n",
              "      <th>1</th>\n",
              "      <td>As with all of Ms. Garcia-Aguilera's books, I think this is a MUST READ, impossible to put down. Successful deviation from past Lupe Solano series-captures the very essence of the excitement, local color and diverse fabric of MIAMI. Sensual and culturally enlightened!</td>\n",
              "      <td>ms garciaaguileras books think must read impossible put successful deviation past lupe solano seriescaptures essence excitement local color diverse fabric miami sensual culturally enlightened</td>\n",
              "      <td>0.8807</td>\n",
              "      <td>Positive</td>\n",
              "    </tr>\n",
              "    <tr>\n",
              "      <th>2</th>\n",
              "      <td>I've not read any of Ms Aguilera's works before, but after having just finished One Hot Summer I'm going to check out the Lupe Solano series I've heard so much about.  One Hot Summer is sooo steamy! Made me want to move to Miami!  Couldn't put the book down.</td>\n",
              "      <td>ive read ms aguileras works finished one hot summer im going check lupe solano series ive heard much one hot summer sooo steamy made want move miami couldnt put book</td>\n",
              "      <td>0.0772</td>\n",
              "      <td>Positive</td>\n",
              "    </tr>\n",
              "    <tr>\n",
              "      <th>3</th>\n",
              "      <td>This romance novel is right up there with the rest of her amazing mystery novels.  Being a guy, I was a little hesitant about reading a romance novel but I just had to give this book a shot because I have been such a huge fan of Garcia-Aguilera's books.  And to be honest, I absolutely loved this book.  I love the way she presents funky Miami and its crazy Cubans in not just this book but all her books.  Garcia-Aguilera did a superb job with this book, and I can't wait till her next book.  You gotta read this book!!!!</td>\n",
              "      <td>romance novel right rest amazing mystery novels guy little hesitant reading romance novel give book shot huge fan garciaaguileras books honest absolutely loved book love way presents funky miami crazy cubans book books garciaaguilera superb job book cant wait till next book got ta read book</td>\n",
              "      <td>0.9858</td>\n",
              "      <td>Positive</td>\n",
              "    </tr>\n",
              "    <tr>\n",
              "      <th>4</th>\n",
              "      <td>Carolina Garcia Aguilera has done it again.  She's written another highly enjoyable book and infused it with the right amount of Cuban-American tidbits.  My family and I cannot put her books down once we start and this one was not a let down.</td>\n",
              "      <td>carolina garcia aguilera done shes written another highly enjoyable book infused right amount cubanamerican tidbits family put books start one let</td>\n",
              "      <td>0.4927</td>\n",
              "      <td>Positive</td>\n",
              "    </tr>\n",
              "    <tr>\n",
              "      <th>5</th>\n",
              "      <td>Not only can she write mysteries,but she sure can write a love story! This was \"ONE HOT SUMMER\" read that I couldn't put down !!!</td>\n",
              "      <td>write mysteriesbut sure write love story one hot summer read couldnt put</td>\n",
              "      <td>0.7579</td>\n",
              "      <td>Positive</td>\n",
              "    </tr>\n",
              "    <tr>\n",
              "      <th>6</th>\n",
              "      <td>Once again Garcia-Aguilera has written a book that I just can't put down. I have read and love all her mysteries- so I picked up this romance with eager anticipation. I was not disappointed. The main character Margarita is easily likeable, which makes the trials she faces that much more intriguing. Sometimes you want to yell at the book and tell Margarita what she should (and shouldn't) do. But the author is measured in the development of the plot and keeps you turning the pages all the way to the end. Mix that in with an interesting take on Cuban exile politics and humorous insights on the world around Margarita and the picture of wild, steamy Miami is complete. Another winner from Garcia-Aguilera.</td>\n",
              "      <td>garciaaguilera written book cant put read love mysteries picked romance eager anticipation disappointed main character margarita easily likeable makes trials faces much intriguing sometimes want yell book tell margarita shouldnt author measured development plot keeps turning pages way end mix interesting take cuban exile politics humorous insights world around margarita picture wild steamy miami complete another winner garciaaguilera</td>\n",
              "      <td>0.9304</td>\n",
              "      <td>Positive</td>\n",
              "    </tr>\n",
              "    <tr>\n",
              "      <th>7</th>\n",
              "      <td>The timing is just right for a good book. Actually, it's long overdue. Therefore, I highly recommend you read this book. I promise you won't be disappointed. If this doesn't make the bestsellers list something is definitely wrong here. This well written story is so engaging, funny, almost true, etc. The character Beryl was funny and sad. Unfortunately, there are women just like her and people take advantage of them. What we won't do for love. Penn said, women can be so stupid. He told her he love her on their first night together and she belived him. That was her demise right there.</td>\n",
              "      <td>timing right good book actually long overdue therefore highly recommend read book promise wont disappointed doesnt make bestsellers list something definitely wrong well written story engaging funny almost true etc character beryl funny sad unfortunately women like people take advantage wont love penn said women stupid told love first night together belived demise right</td>\n",
              "      <td>0.8324</td>\n",
              "      <td>Positive</td>\n",
              "    </tr>\n",
              "    <tr>\n",
              "      <th>8</th>\n",
              "      <td>Engaging. Dark. Reading the book you could almost feel the train wreck about to happen.  The collision of characters is painful yet stimulating.  Files show the depth of her writing in this book especially by showcasing her ethnically diverse cast.  It wasn't what I was expecting, but if you can get past the initial character introductions you'll be hooked!  The sex and graphic violence can be overwhelming and hard to stomach, but it's what makes this book...the book.  If you like tidiness this isn't the book for you...it's everything, but tidy.  Personally, I was slightly disappointed in the final direction of the book, but from a literary perspective this is close to a masterpiece.  Her books just keep getting better and better.  This one really pushes the reader mentally and educationally through her use of real literary terms and vocabulary words that may require a quick tour through Webster's.</td>\n",
              "      <td>engaging dark reading book could almost feel train wreck happen collision characters painful yet stimulating files show depth writing book especially showcasing ethnically diverse cast wasnt expecting get past initial character introductions youll hooked sex graphic violence overwhelming hard stomach makes bookthe book like tidiness isnt book youits everything tidy personally slightly disappointed final direction book literary perspective close masterpiece books keep getting better better one really pushes reader mentally educationally use real literary terms vocabulary words may require quick tour websters</td>\n",
              "      <td>0.3306</td>\n",
              "      <td>Positive</td>\n",
              "    </tr>\n",
              "    <tr>\n",
              "      <th>9</th>\n",
              "      <td>Set amid the backdrop of New York City's impervious and highly competitive literary world, a disinherited, struggling writer, Penn Hamilton, plots his course to stardom.  Born with dastardly good looks and a genius I.Q., Penn seduces the top editor in the business, Beryl Unger.  Beryl is a homely, narcoleptic, obsessive-compulsive workaholic who instantly falls for Penn's charms and his manuscript.  The spin-doctors are engaged and Penn, as much as his novel, is an overnight sensation.  The money, power, respect, and women ensue.  When Beryl discovers that Penn has another lover and threatens to expose him and ruin his budding career, Penn ends the charade by committing a heinous crime.\\n\\nThis novel is a dark comedy, filled with cynicism and wit, and a touch of satire surrounding literary figures (editors, agents, etc.) and concepts (Wagner's Gesamtkunstwerk).  Files offers a credible plot behind the evolution of Penn's ascent as an artist and embodiment of himself as a \"brand\" spanning all genres - music, fashion, literature, cinema, even legal scandals - the total package.  He becomes an infamous, opportunistic, conniving, heartless protagonist - and yet, he is still fairly likeable.  Files keeps the novel fresh and hip.  Through Penn, the reader hangs with the \"in crowd\" and meets modern icons in today's entertainment arena.\\n\\nIf readers are adventurous enough to veer away from the \"Reesy and Misty\" novels and are patient enough to appreciate the rather lengthy passages dedicated to character development, the underlying ripples of black humor, and the clever infusion of actual literary works and personalities, I think File's fans may appreciate this book as an enriched departure from her traditional `girlfriend' type of novels.\\n\\nReviewed by Phyllis\\n\\nAPOOO BookClub</td>\n",
              "      <td>set amid backdrop new york citys impervious highly competitive literary world disinherited struggling writer penn hamilton plots course stardom born dastardly good looks genius iq penn seduces top editor business beryl unger beryl homely narcoleptic obsessivecompulsive workaholic instantly falls penns charms manuscript spindoctors engaged penn much novel overnight sensation money power respect women ensue beryl discovers penn another lover threatens expose ruin budding career penn ends charade committing heinous crime novel dark comedy filled cynicism wit touch satire surrounding literary figures editors agents etc concepts wagners gesamtkunstwerk files offers credible plot behind evolution penns ascent artist embodiment brand spanning genres music fashion literature cinema even legal scandals total package becomes infamous opportunistic conniving heartless protagonist yet still fairly likeable files keeps novel fresh hip penn reader hangs crowd meets modern icons todays entertainment arena readers adventurous enough veer away reesy misty novels patient enough appreciate rather lengthy passages dedicated character development underlying ripples black humor clever infusion actual literary works personalities think files fans may appreciate book enriched departure traditional girlfriend type novels reviewed phyllis apooo bookclub</td>\n",
              "      <td>0.9774</td>\n",
              "      <td>Positive</td>\n",
              "    </tr>\n",
              "  </tbody>\n",
              "</table>\n",
              "</div>\n",
              "    <div class=\"colab-df-buttons\">\n",
              "\n",
              "  <div class=\"colab-df-container\">\n",
              "    <button class=\"colab-df-convert\" onclick=\"convertToInteractive('df-31832279-92a6-435e-930a-a71bf5edc602')\"\n",
              "            title=\"Convert this dataframe to an interactive table.\"\n",
              "            style=\"display:none;\">\n",
              "\n",
              "  <svg xmlns=\"http://www.w3.org/2000/svg\" height=\"24px\" viewBox=\"0 -960 960 960\">\n",
              "    <path d=\"M120-120v-720h720v720H120Zm60-500h600v-160H180v160Zm220 220h160v-160H400v160Zm0 220h160v-160H400v160ZM180-400h160v-160H180v160Zm440 0h160v-160H620v160ZM180-180h160v-160H180v160Zm440 0h160v-160H620v160Z\"/>\n",
              "  </svg>\n",
              "    </button>\n",
              "\n",
              "  <style>\n",
              "    .colab-df-container {\n",
              "      display:flex;\n",
              "      gap: 12px;\n",
              "    }\n",
              "\n",
              "    .colab-df-convert {\n",
              "      background-color: #E8F0FE;\n",
              "      border: none;\n",
              "      border-radius: 50%;\n",
              "      cursor: pointer;\n",
              "      display: none;\n",
              "      fill: #1967D2;\n",
              "      height: 32px;\n",
              "      padding: 0 0 0 0;\n",
              "      width: 32px;\n",
              "    }\n",
              "\n",
              "    .colab-df-convert:hover {\n",
              "      background-color: #E2EBFA;\n",
              "      box-shadow: 0px 1px 2px rgba(60, 64, 67, 0.3), 0px 1px 3px 1px rgba(60, 64, 67, 0.15);\n",
              "      fill: #174EA6;\n",
              "    }\n",
              "\n",
              "    .colab-df-buttons div {\n",
              "      margin-bottom: 4px;\n",
              "    }\n",
              "\n",
              "    [theme=dark] .colab-df-convert {\n",
              "      background-color: #3B4455;\n",
              "      fill: #D2E3FC;\n",
              "    }\n",
              "\n",
              "    [theme=dark] .colab-df-convert:hover {\n",
              "      background-color: #434B5C;\n",
              "      box-shadow: 0px 1px 3px 1px rgba(0, 0, 0, 0.15);\n",
              "      filter: drop-shadow(0px 1px 2px rgba(0, 0, 0, 0.3));\n",
              "      fill: #FFFFFF;\n",
              "    }\n",
              "  </style>\n",
              "\n",
              "    <script>\n",
              "      const buttonEl =\n",
              "        document.querySelector('#df-31832279-92a6-435e-930a-a71bf5edc602 button.colab-df-convert');\n",
              "      buttonEl.style.display =\n",
              "        google.colab.kernel.accessAllowed ? 'block' : 'none';\n",
              "\n",
              "      async function convertToInteractive(key) {\n",
              "        const element = document.querySelector('#df-31832279-92a6-435e-930a-a71bf5edc602');\n",
              "        const dataTable =\n",
              "          await google.colab.kernel.invokeFunction('convertToInteractive',\n",
              "                                                    [key], {});\n",
              "        if (!dataTable) return;\n",
              "\n",
              "        const docLinkHtml = 'Like what you see? Visit the ' +\n",
              "          '<a target=\"_blank\" href=https://colab.research.google.com/notebooks/data_table.ipynb>data table notebook</a>'\n",
              "          + ' to learn more about interactive tables.';\n",
              "        element.innerHTML = '';\n",
              "        dataTable['output_type'] = 'display_data';\n",
              "        await google.colab.output.renderOutput(dataTable, element);\n",
              "        const docLink = document.createElement('div');\n",
              "        docLink.innerHTML = docLinkHtml;\n",
              "        element.appendChild(docLink);\n",
              "      }\n",
              "    </script>\n",
              "  </div>\n",
              "\n",
              "\n",
              "<div id=\"df-8386ec98-7db6-47aa-9f35-7dcf11a2504c\">\n",
              "  <button class=\"colab-df-quickchart\" onclick=\"quickchart('df-8386ec98-7db6-47aa-9f35-7dcf11a2504c')\"\n",
              "            title=\"Suggest charts.\"\n",
              "            style=\"display:none;\">\n",
              "\n",
              "<svg xmlns=\"http://www.w3.org/2000/svg\" height=\"24px\"viewBox=\"0 0 24 24\"\n",
              "     width=\"24px\">\n",
              "    <g>\n",
              "        <path d=\"M19 3H5c-1.1 0-2 .9-2 2v14c0 1.1.9 2 2 2h14c1.1 0 2-.9 2-2V5c0-1.1-.9-2-2-2zM9 17H7v-7h2v7zm4 0h-2V7h2v10zm4 0h-2v-4h2v4z\"/>\n",
              "    </g>\n",
              "</svg>\n",
              "  </button>\n",
              "\n",
              "<style>\n",
              "  .colab-df-quickchart {\n",
              "    background-color: #E8F0FE;\n",
              "    border: none;\n",
              "    border-radius: 50%;\n",
              "    cursor: pointer;\n",
              "    display: none;\n",
              "    fill: #1967D2;\n",
              "    height: 32px;\n",
              "    padding: 0 0 0 0;\n",
              "    width: 32px;\n",
              "  }\n",
              "\n",
              "  .colab-df-quickchart:hover {\n",
              "    background-color: #E2EBFA;\n",
              "    box-shadow: 0px 1px 2px rgba(60, 64, 67, 0.3), 0px 1px 3px 1px rgba(60, 64, 67, 0.15);\n",
              "    fill: #174EA6;\n",
              "  }\n",
              "\n",
              "  [theme=dark] .colab-df-quickchart {\n",
              "    background-color: #3B4455;\n",
              "    fill: #D2E3FC;\n",
              "  }\n",
              "\n",
              "  [theme=dark] .colab-df-quickchart:hover {\n",
              "    background-color: #434B5C;\n",
              "    box-shadow: 0px 1px 3px 1px rgba(0, 0, 0, 0.15);\n",
              "    filter: drop-shadow(0px 1px 2px rgba(0, 0, 0, 0.3));\n",
              "    fill: #FFFFFF;\n",
              "  }\n",
              "</style>\n",
              "\n",
              "  <script>\n",
              "    async function quickchart(key) {\n",
              "      const charts = await google.colab.kernel.invokeFunction(\n",
              "          'suggestCharts', [key], {});\n",
              "    }\n",
              "    (() => {\n",
              "      let quickchartButtonEl =\n",
              "        document.querySelector('#df-8386ec98-7db6-47aa-9f35-7dcf11a2504c button');\n",
              "      quickchartButtonEl.style.display =\n",
              "        google.colab.kernel.accessAllowed ? 'block' : 'none';\n",
              "    })();\n",
              "  </script>\n",
              "</div>\n",
              "    </div>\n",
              "  </div>\n"
            ]
          },
          "metadata": {},
          "execution_count": 47
        }
      ],
      "source": [
        "df_review_text.head(10)"
      ]
    },
    {
      "cell_type": "markdown",
      "id": "2bb52df1",
      "metadata": {
        "id": "2bb52df1"
      },
      "source": [
        "## Classification"
      ]
    },
    {
      "cell_type": "code",
      "execution_count": 48,
      "id": "52b8cbfb",
      "metadata": {
        "id": "52b8cbfb"
      },
      "outputs": [],
      "source": [
        "general_keywords = ['review', 'read', 'book', 'enjoyed', 'written']\n",
        "care_keywords = ['complaint', 'problem', 'issue', 'unhappy', 'disappointed']\n",
        "leads_keywords = ['buy', 'purchase', 'product', 'service', 'interested']"
      ]
    },
    {
      "cell_type": "code",
      "execution_count": 49,
      "id": "1451f129",
      "metadata": {
        "id": "1451f129"
      },
      "outputs": [],
      "source": [
        "def categorize_message(text):\n",
        "    text = text.lower()\n",
        "    for keyword in care_keywords:\n",
        "        if keyword in text:\n",
        "            return \"Care\"\n",
        "    for keyword in leads_keywords:\n",
        "        if keyword in text:\n",
        "            return \"Leads\"\n",
        "    return \"General\""
      ]
    },
    {
      "cell_type": "code",
      "execution_count": 50,
      "id": "8579390f",
      "metadata": {
        "id": "8579390f"
      },
      "outputs": [],
      "source": [
        "df_review_text['category'] = df_review_text['cleaned_review'].apply(categorize_message)"
      ]
    },
    {
      "cell_type": "code",
      "execution_count": 51,
      "id": "16f32bc9",
      "metadata": {
        "colab": {
          "base_uri": "https://localhost:8080/"
        },
        "id": "16f32bc9",
        "outputId": "20951f08-202c-4a8b-b138-df0c2fddce5b"
      },
      "outputs": [
        {
          "output_type": "stream",
          "name": "stdout",
          "text": [
            "                                                                                                                                                                                                                                                                                                                                                                                                                      cleaned_review  \\\n",
            "0        first time read garciaaguilera came upon name book live regis kelly book exactly looking hit spot really enjoyed book well written started book kept coming back culture family friendship romance looking little romance picked book end turned right love main chartachter margarita aka daisy ive never miami way daisy told story certainly felt id also going daisys perils closed book feeling grown emotionally well   \n",
            "1                                                                                                                                                                                                                                    ms garciaaguileras books think must read impossible put successful deviation past lupe solano seriescaptures essence excitement local color diverse fabric miami sensual culturally enlightened   \n",
            "2                                                                                                                                                                                                                                                              ive read ms aguileras works finished one hot summer im going check lupe solano series ive heard much one hot summer sooo steamy made want move miami couldnt put book   \n",
            "3                                                                                                                                romance novel right rest amazing mystery novels guy little hesitant reading romance novel give book shot huge fan garciaaguileras books honest absolutely loved book love way presents funky miami crazy cubans book books garciaaguilera superb job book cant wait till next book got ta read book   \n",
            "4                                                                                                                                                                                                                                                                                 carolina garcia aguilera done shes written another highly enjoyable book infused right amount cubanamerican tidbits family put books start one let   \n",
            "...                                                                                                                                                                                                                                                                                                                                                                                                                              ...   \n",
            "1048570                                                                                                                                                                                                                                                                                                                                                                                    mm hiresolution pcs lens filter kit black   \n",
            "1048571                                                                                                                                                                                                                                                                                                                                                                                                      low cost filter kit job   \n",
            "1048572                                                                                                                                                                                                                                                                                                                                                                                                                    filer kit   \n",
            "1048573                                                                                                                                                                                                                                                                                                                                                                                                               best bang buck   \n",
            "1048574                                                                                                                                                                                                                                                                                                                                                                                                               great exercise   \n",
            "\n",
            "        sentiment category  \n",
            "0        Positive  General  \n",
            "1        Positive  General  \n",
            "2        Positive  General  \n",
            "3        Positive  General  \n",
            "4        Positive  General  \n",
            "...           ...      ...  \n",
            "1048570   Neutral  General  \n",
            "1048571  Negative  General  \n",
            "1048572   Neutral  General  \n",
            "1048573  Positive  General  \n",
            "1048574  Positive  General  \n",
            "\n",
            "[1046804 rows x 3 columns]\n"
          ]
        }
      ],
      "source": [
        "print(df_review_text[['cleaned_review', 'sentiment', 'category']])"
      ]
    },
    {
      "cell_type": "markdown",
      "id": "4d26ac4e",
      "metadata": {
        "id": "4d26ac4e"
      },
      "source": [
        "## Display"
      ]
    },
    {
      "cell_type": "code",
      "execution_count": 52,
      "id": "053e7aae",
      "metadata": {
        "id": "053e7aae"
      },
      "outputs": [],
      "source": [
        "pd.set_option('display.max_colwidth', None)"
      ]
    },
    {
      "cell_type": "code",
      "execution_count": 53,
      "id": "5aaf0e65",
      "metadata": {
        "id": "5aaf0e65"
      },
      "outputs": [],
      "source": [
        "pd.set_option('display.max_colwidth', 50)"
      ]
    },
    {
      "cell_type": "code",
      "execution_count": 54,
      "id": "95c2434a",
      "metadata": {
        "colab": {
          "base_uri": "https://localhost:8080/"
        },
        "id": "95c2434a",
        "outputId": "71916982-a2f6-4070-c27f-f5679a9142f7"
      },
      "outputs": [
        {
          "output_type": "stream",
          "name": "stdout",
          "text": [
            "                                            cleaned_review sentiment category\n",
            "0        first time read garciaaguilera came upon name ...  Positive  General\n",
            "1        ms garciaaguileras books think must read impos...  Positive  General\n",
            "2        ive read ms aguileras works finished one hot s...  Positive  General\n",
            "3        romance novel right rest amazing mystery novel...  Positive  General\n",
            "4        carolina garcia aguilera done shes written ano...  Positive  General\n",
            "...                                                    ...       ...      ...\n",
            "1048570          mm hiresolution pcs lens filter kit black   Neutral  General\n",
            "1048571                            low cost filter kit job  Negative  General\n",
            "1048572                                          filer kit   Neutral  General\n",
            "1048573                                     best bang buck  Positive  General\n",
            "1048574                                     great exercise  Positive  General\n",
            "\n",
            "[1046804 rows x 3 columns]\n"
          ]
        }
      ],
      "source": [
        "print(df_review_text[['cleaned_review', 'sentiment', 'category']])"
      ]
    },
    {
      "cell_type": "code",
      "execution_count": 55,
      "id": "d561e1a3",
      "metadata": {
        "colab": {
          "base_uri": "https://localhost:8080/"
        },
        "id": "d561e1a3",
        "outputId": "129489ff-a8aa-493a-8851-4adb8d1072d7"
      },
      "outputs": [
        {
          "output_type": "stream",
          "name": "stdout",
          "text": [
            "General    782626\n",
            "Leads      168344\n",
            "Care        95834\n",
            "Name: category, dtype: int64\n"
          ]
        }
      ],
      "source": [
        "category_counts = df_review_text['category'].value_counts()\n",
        "print(category_counts)"
      ]
    },
    {
      "cell_type": "code",
      "execution_count": 56,
      "id": "3df435a4",
      "metadata": {
        "colab": {
          "base_uri": "https://localhost:8080/"
        },
        "id": "3df435a4",
        "outputId": "2947a9d1-0d54-47cd-dbe8-0d09ce388861"
      },
      "outputs": [
        {
          "output_type": "stream",
          "name": "stdout",
          "text": [
            "Total number of messages: 1046804\n"
          ]
        }
      ],
      "source": [
        "total_messages = df_review_text.shape[0]\n",
        "print(\"Total number of messages:\", total_messages)"
      ]
    },
    {
      "cell_type": "markdown",
      "id": "149f0e08",
      "metadata": {
        "id": "149f0e08"
      },
      "source": [
        "### Basic Exploratory Data Analysis & Vizualisation"
      ]
    },
    {
      "cell_type": "code",
      "execution_count": 57,
      "id": "86a71962",
      "metadata": {
        "id": "86a71962"
      },
      "outputs": [],
      "source": [
        "import matplotlib.pyplot as plt"
      ]
    },
    {
      "cell_type": "code",
      "execution_count": 58,
      "id": "8c991b4a",
      "metadata": {
        "id": "8c991b4a"
      },
      "outputs": [],
      "source": [
        "sentiment_counts = df_review_text['sentiment'].value_counts()"
      ]
    },
    {
      "cell_type": "markdown",
      "id": "d7e9bb9e",
      "metadata": {
        "id": "d7e9bb9e"
      },
      "source": [
        "#### Review count Vs Sentiment"
      ]
    },
    {
      "cell_type": "code",
      "execution_count": 59,
      "id": "5d306072",
      "metadata": {
        "colab": {
          "base_uri": "https://localhost:8080/",
          "height": 333
        },
        "id": "5d306072",
        "outputId": "0f758ea1-7980-41c5-f36f-c5ee57ee21ef"
      },
      "outputs": [
        {
          "output_type": "display_data",
          "data": {
            "text/plain": [
              "<Figure size 500x300 with 1 Axes>"
            ],
            "image/png": "[encoded data removed]"
          },
          "metadata": {}
        }
      ],
      "source": [
        "# Plotting the distribution of sentiment scores\n",
        "plt.figure(figsize=(5, 3))\n",
        "plt.bar(sentiment_counts.index, sentiment_counts.values, color=['green', 'red', 'gray'])\n",
        "plt.xlabel('Sentiment')\n",
        "plt.ylabel('Number of Reviews')\n",
        "plt.title('Distribution of Sentiment Scores')\n",
        "plt.show()"
      ]
    },
    {
      "cell_type": "code",
      "execution_count": 60,
      "id": "4841ed3b",
      "metadata": {
        "id": "4841ed3b"
      },
      "outputs": [],
      "source": [
        "#pip install plotly"
      ]
    },
    {
      "cell_type": "code",
      "execution_count": 61,
      "id": "68638f36",
      "metadata": {
        "id": "68638f36"
      },
      "outputs": [],
      "source": [
        "import plotly.express as px\n",
        "from collections import Counter\n",
        "from sklearn.feature_extraction.text import CountVectorizer"
      ]
    },
    {
      "cell_type": "code",
      "execution_count": 62,
      "id": "41b2ff35",
      "metadata": {
        "id": "41b2ff35"
      },
      "outputs": [],
      "source": [
        "vectorizer = CountVectorizer()\n",
        "X = vectorizer.fit_transform(df_review_text['cleaned_review'])"
      ]
    },
    {
      "cell_type": "code",
      "execution_count": 63,
      "id": "fc129e54",
      "metadata": {
        "id": "fc129e54"
      },
      "outputs": [],
      "source": [
        "word_frequencies = Counter(vectorizer.get_feature_names_out())"
      ]
    },
    {
      "cell_type": "code",
      "execution_count": 64,
      "id": "b7dca83e",
      "metadata": {
        "id": "b7dca83e"
      },
      "outputs": [],
      "source": [
        "word_frequencies_df = pd.DataFrame.from_dict(word_frequencies, orient='index', columns=['frequency'])\n",
        "word_frequencies_df = word_frequencies_df.sort_values(by='frequency', ascending=False)"
      ]
    },
    {
      "cell_type": "markdown",
      "id": "e89c6c36",
      "metadata": {
        "id": "e89c6c36"
      },
      "source": [
        "#### Frequency Vs Words"
      ]
    },
    {
      "cell_type": "code",
      "execution_count": 65,
      "id": "94f1bc33",
      "metadata": {
        "colab": {
          "base_uri": "https://localhost:8080/",
          "height": 542
        },
        "id": "94f1bc33",
        "outputId": "62c2044f-d46f-499e-f3bf-99b2b16d921f"
      },
      "outputs": [
        {
          "output_type": "display_data",
          "data": {
            "text/html": [
              "<html>\n",
              "<head><meta charset=\"utf-8\" /></head>\n",
              "<body>\n",
              "    <div>            <script src=\"https://cdnjs.cloudflare.com/ajax/libs/mathjax/2.7.5/MathJax.js?config=TeX-AMS-MML_SVG\"></script><script type=\"text/javascript\">if (window.MathJax && window.MathJax.Hub && window.MathJax.Hub.Config) {window.MathJax.Hub.Config({SVG: {font: \"STIX-Web\"}});}</script>                <script type=\"text/javascript\">window.PlotlyConfig = {MathJaxConfig: 'local'};</script>\n",
              "        <script charset=\"utf-8\" src=\"https://cdn.plot.ly/plotly-2.24.1.min.js\"></script>                <div id=\"33cb9207-e2d2-4674-978b-ce971f51a091\" class=\"plotly-graph-div\" style=\"height:525px; width:100%;\"></div>            <script type=\"text/javascript\">                                    window.PLOTLYENV=window.PLOTLYENV || {};                                    if (document.getElementById(\"33cb9207-e2d2-4674-978b-ce971f51a091\")) {                    Plotly.newPlot(                        \"33cb9207-e2d2-4674-978b-ce971f51a091\",                        [{\"alignmentgroup\":\"True\",\"hovertemplate\":\"index=%{x}\\u003cbr\\u003eFrequency=%{y}\\u003cextra\\u003e\\u003c\\u002fextra\\u003e\",\"legendgroup\":\"\",\"marker\":{\"color\":\"#636efa\",\"pattern\":{\"shape\":\"\"}},\"name\":\"\",\"offsetgroup\":\"\",\"orientation\":\"v\",\"showlegend\":false,\"textposition\":\"auto\",\"x\":[\"aa\",\"popkin\",\"poplar\",\"poplight\",\"poplock\",\"poplui\",\"poplular\",\"poplulation\",\"popmetal\",\"popmetaltechno\",\"popmodernpop\",\"popnoises\",\"popo\",\"popoff\",\"popoffon\",\"popon\",\"popopen\",\"popos\",\"popou\",\"popout\"],\"xaxis\":\"x\",\"y\":[1,1,1,1,1,1,1,1,1,1,1,1,1,1,1,1,1,1,1,1],\"yaxis\":\"y\",\"type\":\"bar\"}],                        {\"template\":{\"data\":{\"histogram2dcontour\":[{\"type\":\"histogram2dcontour\",\"colorbar\":{\"outlinewidth\":0,\"ticks\":\"\"},\"colorscale\":[[0.0,\"#0d0887\"],[0.1111111111111111,\"#46039f\"],[0.2222222222222222,\"#7201a8\"],[0.3333333333333333,\"#9c179e\"],[0.4444444444444444,\"#bd3786\"],[0.5555555555555556,\"#d8576b\"],[0.6666666666666666,\"#ed7953\"],[0.7777777777777778,\"#fb9f3a\"],[0.8888888888888888,\"#fdca26\"],[1.0,\"#f0f921\"]]}],\"choropleth\":[{\"type\":\"choropleth\",\"colorbar\":{\"outlinewidth\":0,\"ticks\":\"\"}}],\"histogram2d\":[{\"type\":\"histogram2d\",\"colorbar\":{\"outlinewidth\":0,\"ticks\":\"\"},\"colorscale\":[[0.0,\"#0d0887\"],[0.1111111111111111,\"#46039f\"],[0.2222222222222222,\"#7201a8\"],[0.3333333333333333,\"#9c179e\"],[0.4444444444444444,\"#bd3786\"],[0.5555555555555556,\"#d8576b\"],[0.6666666666666666,\"#ed7953\"],[0.7777777777777778,\"#fb9f3a\"],[0.8888888888888888,\"#fdca26\"],[1.0,\"#f0f921\"]]}],\"heatmap\":[{\"type\":\"heatmap\",\"colorbar\":{\"outlinewidth\":0,\"ticks\":\"\"},\"colorscale\":[[0.0,\"#0d0887\"],[0.1111111111111111,\"#46039f\"],[0.2222222222222222,\"#7201a8\"],[0.3333333333333333,\"#9c179e\"],[0.4444444444444444,\"#bd3786\"],[0.5555555555555556,\"#d8576b\"],[0.6666666666666666,\"#ed7953\"],[0.7777777777777778,\"#fb9f3a\"],[0.8888888888888888,\"#fdca26\"],[1.0,\"#f0f921\"]]}],\"heatmapgl\":[{\"type\":\"heatmapgl\",\"colorbar\":{\"outlinewidth\":0,\"ticks\":\"\"},\"colorscale\":[[0.0,\"#0d0887\"],[0.1111111111111111,\"#46039f\"],[0.2222222222222222,\"#7201a8\"],[0.3333333333333333,\"#9c179e\"],[0.4444444444444444,\"#bd3786\"],[0.5555555555555556,\"#d8576b\"],[0.6666666666666666,\"#ed7953\"],[0.7777777777777778,\"#fb9f3a\"],[0.8888888888888888,\"#fdca26\"],[1.0,\"#f0f921\"]]}],\"contourcarpet\":[{\"type\":\"contourcarpet\",\"colorbar\":{\"outlinewidth\":0,\"ticks\":\"\"}}],\"contour\":[{\"type\":\"contour\",\"colorbar\":{\"outlinewidth\":0,\"ticks\":\"\"},\"colorscale\":[[0.0,\"#0d0887\"],[0.1111111111111111,\"#46039f\"],[0.2222222222222222,\"#7201a8\"],[0.3333333333333333,\"#9c179e\"],[0.4444444444444444,\"#bd3786\"],[0.5555555555555556,\"#d8576b\"],[0.6666666666666666,\"#ed7953\"],[0.7777777777777778,\"#fb9f3a\"],[0.8888888888888888,\"#fdca26\"],[1.0,\"#f0f921\"]]}],\"surface\":[{\"type\":\"surface\",\"colorbar\":{\"outlinewidth\":0,\"ticks\":\"\"},\"colorscale\":[[0.0,\"#0d0887\"],[0.1111111111111111,\"#46039f\"],[0.2222222222222222,\"#7201a8\"],[0.3333333333333333,\"#9c179e\"],[0.4444444444444444,\"#bd3786\"],[0.5555555555555556,\"#d8576b\"],[0.6666666666666666,\"#ed7953\"],[0.7777777777777778,\"#fb9f3a\"],[0.8888888888888888,\"#fdca26\"],[1.0,\"#f0f921\"]]}],\"mesh3d\":[{\"type\":\"mesh3d\",\"colorbar\":{\"outlinewidth\":0,\"ticks\":\"\"}}],\"scatter\":[{\"fillpattern\":{\"fillmode\":\"overlay\",\"size\":10,\"solidity\":0.2},\"type\":\"scatter\"}],\"parcoords\":[{\"type\":\"parcoords\",\"line\":{\"colorbar\":{\"outlinewidth\":0,\"ticks\":\"\"}}}],\"scatterpolargl\":[{\"type\":\"scatterpolargl\",\"marker\":{\"colorbar\":{\"outlinewidth\":0,\"ticks\":\"\"}}}],\"bar\":[{\"error_x\":{\"color\":\"#2a3f5f\"},\"error_y\":{\"color\":\"#2a3f5f\"},\"marker\":{\"line\":{\"color\":\"#E5ECF6\",\"width\":0.5},\"pattern\":{\"fillmode\":\"overlay\",\"size\":10,\"solidity\":0.2}},\"type\":\"bar\"}],\"scattergeo\":[{\"type\":\"scattergeo\",\"marker\":{\"colorbar\":{\"outlinewidth\":0,\"ticks\":\"\"}}}],\"scatterpolar\":[{\"type\":\"scatterpolar\",\"marker\":{\"colorbar\":{\"outlinewidth\":0,\"ticks\":\"\"}}}],\"histogram\":[{\"marker\":{\"pattern\":{\"fillmode\":\"overlay\",\"size\":10,\"solidity\":0.2}},\"type\":\"histogram\"}],\"scattergl\":[{\"type\":\"scattergl\",\"marker\":{\"colorbar\":{\"outlinewidth\":0,\"ticks\":\"\"}}}],\"scatter3d\":[{\"type\":\"scatter3d\",\"line\":{\"colorbar\":{\"outlinewidth\":0,\"ticks\":\"\"}},\"marker\":{\"colorbar\":{\"outlinewidth\":0,\"ticks\":\"\"}}}],\"scattermapbox\":[{\"type\":\"scattermapbox\",\"marker\":{\"colorbar\":{\"outlinewidth\":0,\"ticks\":\"\"}}}],\"scatterternary\":[{\"type\":\"scatterternary\",\"marker\":{\"colorbar\":{\"outlinewidth\":0,\"ticks\":\"\"}}}],\"scattercarpet\":[{\"type\":\"scattercarpet\",\"marker\":{\"colorbar\":{\"outlinewidth\":0,\"ticks\":\"\"}}}],\"carpet\":[{\"aaxis\":{\"endlinecolor\":\"#2a3f5f\",\"gridcolor\":\"white\",\"linecolor\":\"white\",\"minorgridcolor\":\"white\",\"startlinecolor\":\"#2a3f5f\"},\"baxis\":{\"endlinecolor\":\"#2a3f5f\",\"gridcolor\":\"white\",\"linecolor\":\"white\",\"minorgridcolor\":\"white\",\"startlinecolor\":\"#2a3f5f\"},\"type\":\"carpet\"}],\"table\":[{\"cells\":{\"fill\":{\"color\":\"#EBF0F8\"},\"line\":{\"color\":\"white\"}},\"header\":{\"fill\":{\"color\":\"#C8D4E3\"},\"line\":{\"color\":\"white\"}},\"type\":\"table\"}],\"barpolar\":[{\"marker\":{\"line\":{\"color\":\"#E5ECF6\",\"width\":0.5},\"pattern\":{\"fillmode\":\"overlay\",\"size\":10,\"solidity\":0.2}},\"type\":\"barpolar\"}],\"pie\":[{\"automargin\":true,\"type\":\"pie\"}]},\"layout\":{\"autotypenumbers\":\"strict\",\"colorway\":[\"#636efa\",\"#EF553B\",\"#00cc96\",\"#ab63fa\",\"#FFA15A\",\"#19d3f3\",\"#FF6692\",\"#B6E880\",\"#FF97FF\",\"#FECB52\"],\"font\":{\"color\":\"#2a3f5f\"},\"hovermode\":\"closest\",\"hoverlabel\":{\"align\":\"left\"},\"paper_bgcolor\":\"white\",\"plot_bgcolor\":\"#E5ECF6\",\"polar\":{\"bgcolor\":\"#E5ECF6\",\"angularaxis\":{\"gridcolor\":\"white\",\"linecolor\":\"white\",\"ticks\":\"\"},\"radialaxis\":{\"gridcolor\":\"white\",\"linecolor\":\"white\",\"ticks\":\"\"}},\"ternary\":{\"bgcolor\":\"#E5ECF6\",\"aaxis\":{\"gridcolor\":\"white\",\"linecolor\":\"white\",\"ticks\":\"\"},\"baxis\":{\"gridcolor\":\"white\",\"linecolor\":\"white\",\"ticks\":\"\"},\"caxis\":{\"gridcolor\":\"white\",\"linecolor\":\"white\",\"ticks\":\"\"}},\"coloraxis\":{\"colorbar\":{\"outlinewidth\":0,\"ticks\":\"\"}},\"colorscale\":{\"sequential\":[[0.0,\"#0d0887\"],[0.1111111111111111,\"#46039f\"],[0.2222222222222222,\"#7201a8\"],[0.3333333333333333,\"#9c179e\"],[0.4444444444444444,\"#bd3786\"],[0.5555555555555556,\"#d8576b\"],[0.6666666666666666,\"#ed7953\"],[0.7777777777777778,\"#fb9f3a\"],[0.8888888888888888,\"#fdca26\"],[1.0,\"#f0f921\"]],\"sequentialminus\":[[0.0,\"#0d0887\"],[0.1111111111111111,\"#46039f\"],[0.2222222222222222,\"#7201a8\"],[0.3333333333333333,\"#9c179e\"],[0.4444444444444444,\"#bd3786\"],[0.5555555555555556,\"#d8576b\"],[0.6666666666666666,\"#ed7953\"],[0.7777777777777778,\"#fb9f3a\"],[0.8888888888888888,\"#fdca26\"],[1.0,\"#f0f921\"]],\"diverging\":[[0,\"#8e0152\"],[0.1,\"#c51b7d\"],[0.2,\"#de77ae\"],[0.3,\"#f1b6da\"],[0.4,\"#fde0ef\"],[0.5,\"#f7f7f7\"],[0.6,\"#e6f5d0\"],[0.7,\"#b8e186\"],[0.8,\"#7fbc41\"],[0.9,\"#4d9221\"],[1,\"#276419\"]]},\"xaxis\":{\"gridcolor\":\"white\",\"linecolor\":\"white\",\"ticks\":\"\",\"title\":{\"standoff\":15},\"zerolinecolor\":\"white\",\"automargin\":true,\"zerolinewidth\":2},\"yaxis\":{\"gridcolor\":\"white\",\"linecolor\":\"white\",\"ticks\":\"\",\"title\":{\"standoff\":15},\"zerolinecolor\":\"white\",\"automargin\":true,\"zerolinewidth\":2},\"scene\":{\"xaxis\":{\"backgroundcolor\":\"#E5ECF6\",\"gridcolor\":\"white\",\"linecolor\":\"white\",\"showbackground\":true,\"ticks\":\"\",\"zerolinecolor\":\"white\",\"gridwidth\":2},\"yaxis\":{\"backgroundcolor\":\"#E5ECF6\",\"gridcolor\":\"white\",\"linecolor\":\"white\",\"showbackground\":true,\"ticks\":\"\",\"zerolinecolor\":\"white\",\"gridwidth\":2},\"zaxis\":{\"backgroundcolor\":\"#E5ECF6\",\"gridcolor\":\"white\",\"linecolor\":\"white\",\"showbackground\":true,\"ticks\":\"\",\"zerolinecolor\":\"white\",\"gridwidth\":2}},\"shapedefaults\":{\"line\":{\"color\":\"#2a3f5f\"}},\"annotationdefaults\":{\"arrowcolor\":\"#2a3f5f\",\"arrowhead\":0,\"arrowwidth\":1},\"geo\":{\"bgcolor\":\"white\",\"landcolor\":\"#E5ECF6\",\"subunitcolor\":\"white\",\"showland\":true,\"showlakes\":true,\"lakecolor\":\"white\"},\"title\":{\"x\":0.05},\"mapbox\":{\"style\":\"light\"}}},\"xaxis\":{\"anchor\":\"y\",\"domain\":[0.0,1.0],\"title\":{\"text\":\"Words\"}},\"yaxis\":{\"anchor\":\"x\",\"domain\":[0.0,1.0],\"title\":{\"text\":\"Frequency\"}},\"legend\":{\"tracegroupgap\":0},\"margin\":{\"t\":60},\"barmode\":\"relative\",\"title\":{\"text\":\"Top 20 Most Frequent Words\"}},                        {\"responsive\": true}                    ).then(function(){\n",
              "                            \n",
              "var gd = document.getElementById('33cb9207-e2d2-4674-978b-ce971f51a091');\n",
              "var x = new MutationObserver(function (mutations, observer) {{\n",
              "        var display = window.getComputedStyle(gd).display;\n",
              "        if (!display || display === 'none') {{\n",
              "            console.log([gd, 'removed!']);\n",
              "            Plotly.purge(gd);\n",
              "            observer.disconnect();\n",
              "        }}\n",
              "}});\n",
              "\n",
              "// Listen for the removal of the full notebook cells\n",
              "var notebookContainer = gd.closest('#notebook-container');\n",
              "if (notebookContainer) {{\n",
              "    x.observe(notebookContainer, {childList: true});\n",
              "}}\n",
              "\n",
              "// Listen for the clearing of the current output cell\n",
              "var outputEl = gd.closest('.output');\n",
              "if (outputEl) {{\n",
              "    x.observe(outputEl, {childList: true});\n",
              "}}\n",
              "\n",
              "                        })                };                            </script>        </div>\n",
              "</body>\n",
              "</html>"
            ]
          },
          "metadata": {}
        }
      ],
      "source": [
        "top_n = 20\n",
        "top_words = word_frequencies_df.head(top_n)\n",
        "\n",
        "fig = px.bar(top_words, x=top_words.index, y='frequency', labels={'x': 'Words', 'frequency': 'Frequency'})\n",
        "fig.update_layout(title=f'Top {top_n} Most Frequent Words',\n",
        "                  xaxis_title='Words',\n",
        "                  yaxis_title='Frequency')\n",
        "fig.show()"
      ]
    },
    {
      "cell_type": "markdown",
      "id": "75a3d2bc",
      "metadata": {
        "id": "75a3d2bc"
      },
      "source": [
        "### Count Vs Categories"
      ]
    },
    {
      "cell_type": "code",
      "execution_count": 66,
      "id": "62e667e1",
      "metadata": {
        "colab": {
          "base_uri": "https://localhost:8080/",
          "height": 542
        },
        "id": "62e667e1",
        "outputId": "db109554-4ff6-41df-bab6-55c265e100ee"
      },
      "outputs": [
        {
          "output_type": "display_data",
          "data": {
            "text/html": [
              "<html>\n",
              "<head><meta charset=\"utf-8\" /></head>\n",
              "<body>\n",
              "    <div>            <script src=\"https://cdnjs.cloudflare.com/ajax/libs/mathjax/2.7.5/MathJax.js?config=TeX-AMS-MML_SVG\"></script><script type=\"text/javascript\">if (window.MathJax && window.MathJax.Hub && window.MathJax.Hub.Config) {window.MathJax.Hub.Config({SVG: {font: \"STIX-Web\"}});}</script>                <script type=\"text/javascript\">window.PlotlyConfig = {MathJaxConfig: 'local'};</script>\n",
              "        <script charset=\"utf-8\" src=\"https://cdn.plot.ly/plotly-2.24.1.min.js\"></script>                <div id=\"5a8c1d36-245d-496b-bc0c-d69402487e29\" class=\"plotly-graph-div\" style=\"height:525px; width:100%;\"></div>            <script type=\"text/javascript\">                                    window.PLOTLYENV=window.PLOTLYENV || {};                                    if (document.getElementById(\"5a8c1d36-245d-496b-bc0c-d69402487e29\")) {                    Plotly.newPlot(                        \"5a8c1d36-245d-496b-bc0c-d69402487e29\",                        [{\"alignmentgroup\":\"True\",\"hovertemplate\":\"Category=%{x}\\u003cbr\\u003eCount=%{y}\\u003cextra\\u003e\\u003c\\u002fextra\\u003e\",\"legendgroup\":\"\",\"marker\":{\"color\":[\"#1f77b4\",\"#ff7f0e\",\"#2ca02c\",\"#d62728\",\"#9467bd\",\"#8c564b\",\"#e377c2\"],\"pattern\":{\"shape\":\"\"}},\"name\":\"\",\"offsetgroup\":\"\",\"orientation\":\"v\",\"showlegend\":false,\"textposition\":\"auto\",\"x\":[\"General\",\"Leads\",\"Care\"],\"xaxis\":\"x\",\"y\":[782626,168344,95834],\"yaxis\":\"y\",\"type\":\"bar\"}],                        {\"template\":{\"data\":{\"histogram2dcontour\":[{\"type\":\"histogram2dcontour\",\"colorbar\":{\"outlinewidth\":0,\"ticks\":\"\"},\"colorscale\":[[0.0,\"#0d0887\"],[0.1111111111111111,\"#46039f\"],[0.2222222222222222,\"#7201a8\"],[0.3333333333333333,\"#9c179e\"],[0.4444444444444444,\"#bd3786\"],[0.5555555555555556,\"#d8576b\"],[0.6666666666666666,\"#ed7953\"],[0.7777777777777778,\"#fb9f3a\"],[0.8888888888888888,\"#fdca26\"],[1.0,\"#f0f921\"]]}],\"choropleth\":[{\"type\":\"choropleth\",\"colorbar\":{\"outlinewidth\":0,\"ticks\":\"\"}}],\"histogram2d\":[{\"type\":\"histogram2d\",\"colorbar\":{\"outlinewidth\":0,\"ticks\":\"\"},\"colorscale\":[[0.0,\"#0d0887\"],[0.1111111111111111,\"#46039f\"],[0.2222222222222222,\"#7201a8\"],[0.3333333333333333,\"#9c179e\"],[0.4444444444444444,\"#bd3786\"],[0.5555555555555556,\"#d8576b\"],[0.6666666666666666,\"#ed7953\"],[0.7777777777777778,\"#fb9f3a\"],[0.8888888888888888,\"#fdca26\"],[1.0,\"#f0f921\"]]}],\"heatmap\":[{\"type\":\"heatmap\",\"colorbar\":{\"outlinewidth\":0,\"ticks\":\"\"},\"colorscale\":[[0.0,\"#0d0887\"],[0.1111111111111111,\"#46039f\"],[0.2222222222222222,\"#7201a8\"],[0.3333333333333333,\"#9c179e\"],[0.4444444444444444,\"#bd3786\"],[0.5555555555555556,\"#d8576b\"],[0.6666666666666666,\"#ed7953\"],[0.7777777777777778,\"#fb9f3a\"],[0.8888888888888888,\"#fdca26\"],[1.0,\"#f0f921\"]]}],\"heatmapgl\":[{\"type\":\"heatmapgl\",\"colorbar\":{\"outlinewidth\":0,\"ticks\":\"\"},\"colorscale\":[[0.0,\"#0d0887\"],[0.1111111111111111,\"#46039f\"],[0.2222222222222222,\"#7201a8\"],[0.3333333333333333,\"#9c179e\"],[0.4444444444444444,\"#bd3786\"],[0.5555555555555556,\"#d8576b\"],[0.6666666666666666,\"#ed7953\"],[0.7777777777777778,\"#fb9f3a\"],[0.8888888888888888,\"#fdca26\"],[1.0,\"#f0f921\"]]}],\"contourcarpet\":[{\"type\":\"contourcarpet\",\"colorbar\":{\"outlinewidth\":0,\"ticks\":\"\"}}],\"contour\":[{\"type\":\"contour\",\"colorbar\":{\"outlinewidth\":0,\"ticks\":\"\"},\"colorscale\":[[0.0,\"#0d0887\"],[0.1111111111111111,\"#46039f\"],[0.2222222222222222,\"#7201a8\"],[0.3333333333333333,\"#9c179e\"],[0.4444444444444444,\"#bd3786\"],[0.5555555555555556,\"#d8576b\"],[0.6666666666666666,\"#ed7953\"],[0.7777777777777778,\"#fb9f3a\"],[0.8888888888888888,\"#fdca26\"],[1.0,\"#f0f921\"]]}],\"surface\":[{\"type\":\"surface\",\"colorbar\":{\"outlinewidth\":0,\"ticks\":\"\"},\"colorscale\":[[0.0,\"#0d0887\"],[0.1111111111111111,\"#46039f\"],[0.2222222222222222,\"#7201a8\"],[0.3333333333333333,\"#9c179e\"],[0.4444444444444444,\"#bd3786\"],[0.5555555555555556,\"#d8576b\"],[0.6666666666666666,\"#ed7953\"],[0.7777777777777778,\"#fb9f3a\"],[0.8888888888888888,\"#fdca26\"],[1.0,\"#f0f921\"]]}],\"mesh3d\":[{\"type\":\"mesh3d\",\"colorbar\":{\"outlinewidth\":0,\"ticks\":\"\"}}],\"scatter\":[{\"fillpattern\":{\"fillmode\":\"overlay\",\"size\":10,\"solidity\":0.2},\"type\":\"scatter\"}],\"parcoords\":[{\"type\":\"parcoords\",\"line\":{\"colorbar\":{\"outlinewidth\":0,\"ticks\":\"\"}}}],\"scatterpolargl\":[{\"type\":\"scatterpolargl\",\"marker\":{\"colorbar\":{\"outlinewidth\":0,\"ticks\":\"\"}}}],\"bar\":[{\"error_x\":{\"color\":\"#2a3f5f\"},\"error_y\":{\"color\":\"#2a3f5f\"},\"marker\":{\"line\":{\"color\":\"#E5ECF6\",\"width\":0.5},\"pattern\":{\"fillmode\":\"overlay\",\"size\":10,\"solidity\":0.2}},\"type\":\"bar\"}],\"scattergeo\":[{\"type\":\"scattergeo\",\"marker\":{\"colorbar\":{\"outlinewidth\":0,\"ticks\":\"\"}}}],\"scatterpolar\":[{\"type\":\"scatterpolar\",\"marker\":{\"colorbar\":{\"outlinewidth\":0,\"ticks\":\"\"}}}],\"histogram\":[{\"marker\":{\"pattern\":{\"fillmode\":\"overlay\",\"size\":10,\"solidity\":0.2}},\"type\":\"histogram\"}],\"scattergl\":[{\"type\":\"scattergl\",\"marker\":{\"colorbar\":{\"outlinewidth\":0,\"ticks\":\"\"}}}],\"scatter3d\":[{\"type\":\"scatter3d\",\"line\":{\"colorbar\":{\"outlinewidth\":0,\"ticks\":\"\"}},\"marker\":{\"colorbar\":{\"outlinewidth\":0,\"ticks\":\"\"}}}],\"scattermapbox\":[{\"type\":\"scattermapbox\",\"marker\":{\"colorbar\":{\"outlinewidth\":0,\"ticks\":\"\"}}}],\"scatterternary\":[{\"type\":\"scatterternary\",\"marker\":{\"colorbar\":{\"outlinewidth\":0,\"ticks\":\"\"}}}],\"scattercarpet\":[{\"type\":\"scattercarpet\",\"marker\":{\"colorbar\":{\"outlinewidth\":0,\"ticks\":\"\"}}}],\"carpet\":[{\"aaxis\":{\"endlinecolor\":\"#2a3f5f\",\"gridcolor\":\"white\",\"linecolor\":\"white\",\"minorgridcolor\":\"white\",\"startlinecolor\":\"#2a3f5f\"},\"baxis\":{\"endlinecolor\":\"#2a3f5f\",\"gridcolor\":\"white\",\"linecolor\":\"white\",\"minorgridcolor\":\"white\",\"startlinecolor\":\"#2a3f5f\"},\"type\":\"carpet\"}],\"table\":[{\"cells\":{\"fill\":{\"color\":\"#EBF0F8\"},\"line\":{\"color\":\"white\"}},\"header\":{\"fill\":{\"color\":\"#C8D4E3\"},\"line\":{\"color\":\"white\"}},\"type\":\"table\"}],\"barpolar\":[{\"marker\":{\"line\":{\"color\":\"#E5ECF6\",\"width\":0.5},\"pattern\":{\"fillmode\":\"overlay\",\"size\":10,\"solidity\":0.2}},\"type\":\"barpolar\"}],\"pie\":[{\"automargin\":true,\"type\":\"pie\"}]},\"layout\":{\"autotypenumbers\":\"strict\",\"colorway\":[\"#636efa\",\"#EF553B\",\"#00cc96\",\"#ab63fa\",\"#FFA15A\",\"#19d3f3\",\"#FF6692\",\"#B6E880\",\"#FF97FF\",\"#FECB52\"],\"font\":{\"color\":\"#2a3f5f\"},\"hovermode\":\"closest\",\"hoverlabel\":{\"align\":\"left\"},\"paper_bgcolor\":\"white\",\"plot_bgcolor\":\"#E5ECF6\",\"polar\":{\"bgcolor\":\"#E5ECF6\",\"angularaxis\":{\"gridcolor\":\"white\",\"linecolor\":\"white\",\"ticks\":\"\"},\"radialaxis\":{\"gridcolor\":\"white\",\"linecolor\":\"white\",\"ticks\":\"\"}},\"ternary\":{\"bgcolor\":\"#E5ECF6\",\"aaxis\":{\"gridcolor\":\"white\",\"linecolor\":\"white\",\"ticks\":\"\"},\"baxis\":{\"gridcolor\":\"white\",\"linecolor\":\"white\",\"ticks\":\"\"},\"caxis\":{\"gridcolor\":\"white\",\"linecolor\":\"white\",\"ticks\":\"\"}},\"coloraxis\":{\"colorbar\":{\"outlinewidth\":0,\"ticks\":\"\"}},\"colorscale\":{\"sequential\":[[0.0,\"#0d0887\"],[0.1111111111111111,\"#46039f\"],[0.2222222222222222,\"#7201a8\"],[0.3333333333333333,\"#9c179e\"],[0.4444444444444444,\"#bd3786\"],[0.5555555555555556,\"#d8576b\"],[0.6666666666666666,\"#ed7953\"],[0.7777777777777778,\"#fb9f3a\"],[0.8888888888888888,\"#fdca26\"],[1.0,\"#f0f921\"]],\"sequentialminus\":[[0.0,\"#0d0887\"],[0.1111111111111111,\"#46039f\"],[0.2222222222222222,\"#7201a8\"],[0.3333333333333333,\"#9c179e\"],[0.4444444444444444,\"#bd3786\"],[0.5555555555555556,\"#d8576b\"],[0.6666666666666666,\"#ed7953\"],[0.7777777777777778,\"#fb9f3a\"],[0.8888888888888888,\"#fdca26\"],[1.0,\"#f0f921\"]],\"diverging\":[[0,\"#8e0152\"],[0.1,\"#c51b7d\"],[0.2,\"#de77ae\"],[0.3,\"#f1b6da\"],[0.4,\"#fde0ef\"],[0.5,\"#f7f7f7\"],[0.6,\"#e6f5d0\"],[0.7,\"#b8e186\"],[0.8,\"#7fbc41\"],[0.9,\"#4d9221\"],[1,\"#276419\"]]},\"xaxis\":{\"gridcolor\":\"white\",\"linecolor\":\"white\",\"ticks\":\"\",\"title\":{\"standoff\":15},\"zerolinecolor\":\"white\",\"automargin\":true,\"zerolinewidth\":2},\"yaxis\":{\"gridcolor\":\"white\",\"linecolor\":\"white\",\"ticks\":\"\",\"title\":{\"standoff\":15},\"zerolinecolor\":\"white\",\"automargin\":true,\"zerolinewidth\":2},\"scene\":{\"xaxis\":{\"backgroundcolor\":\"#E5ECF6\",\"gridcolor\":\"white\",\"linecolor\":\"white\",\"showbackground\":true,\"ticks\":\"\",\"zerolinecolor\":\"white\",\"gridwidth\":2},\"yaxis\":{\"backgroundcolor\":\"#E5ECF6\",\"gridcolor\":\"white\",\"linecolor\":\"white\",\"showbackground\":true,\"ticks\":\"\",\"zerolinecolor\":\"white\",\"gridwidth\":2},\"zaxis\":{\"backgroundcolor\":\"#E5ECF6\",\"gridcolor\":\"white\",\"linecolor\":\"white\",\"showbackground\":true,\"ticks\":\"\",\"zerolinecolor\":\"white\",\"gridwidth\":2}},\"shapedefaults\":{\"line\":{\"color\":\"#2a3f5f\"}},\"annotationdefaults\":{\"arrowcolor\":\"#2a3f5f\",\"arrowhead\":0,\"arrowwidth\":1},\"geo\":{\"bgcolor\":\"white\",\"landcolor\":\"#E5ECF6\",\"subunitcolor\":\"white\",\"showland\":true,\"showlakes\":true,\"lakecolor\":\"white\"},\"title\":{\"x\":0.05},\"mapbox\":{\"style\":\"light\"}}},\"xaxis\":{\"anchor\":\"y\",\"domain\":[0.0,1.0],\"title\":{\"text\":\"Category\"}},\"yaxis\":{\"anchor\":\"x\",\"domain\":[0.0,1.0],\"title\":{\"text\":\"Count\"}},\"legend\":{\"tracegroupgap\":0},\"margin\":{\"t\":60},\"barmode\":\"relative\",\"title\":{\"text\":\"Distribution of Categories\"}},                        {\"responsive\": true}                    ).then(function(){\n",
              "                            \n",
              "var gd = document.getElementById('5a8c1d36-245d-496b-bc0c-d69402487e29');\n",
              "var x = new MutationObserver(function (mutations, observer) {{\n",
              "        var display = window.getComputedStyle(gd).display;\n",
              "        if (!display || display === 'none') {{\n",
              "            console.log([gd, 'removed!']);\n",
              "            Plotly.purge(gd);\n",
              "            observer.disconnect();\n",
              "        }}\n",
              "}});\n",
              "\n",
              "// Listen for the removal of the full notebook cells\n",
              "var notebookContainer = gd.closest('#notebook-container');\n",
              "if (notebookContainer) {{\n",
              "    x.observe(notebookContainer, {childList: true});\n",
              "}}\n",
              "\n",
              "// Listen for the clearing of the current output cell\n",
              "var outputEl = gd.closest('.output');\n",
              "if (outputEl) {{\n",
              "    x.observe(outputEl, {childList: true});\n",
              "}}\n",
              "\n",
              "                        })                };                            </script>        </div>\n",
              "</body>\n",
              "</html>"
            ]
          },
          "metadata": {}
        }
      ],
      "source": [
        "category_counts = df_review_text['category'].value_counts()\n",
        "category_counts_df = pd.DataFrame({'Category': category_counts.index, 'Count': category_counts.values})\n",
        "\n",
        "custom_color_palette = ['#1f77b4', '#ff7f0e', '#2ca02c', '#d62728', '#9467bd', '#8c564b', '#e377c2']\n",
        "\n",
        "fig = px.bar(category_counts_df, x='Category', y='Count', labels={'Category': 'Category', 'Count': 'Count'})\n",
        "fig.update_layout(title='Distribution of Categories',\n",
        "                  xaxis_title='Category',\n",
        "                  yaxis_title='Count')\n",
        "fig.update_traces(marker_color=custom_color_palette)\n",
        "fig.show()"
      ]
    },
    {
      "cell_type": "markdown",
      "id": "a846b14e",
      "metadata": {
        "id": "a846b14e"
      },
      "source": [
        "### Statistics"
      ]
    },
    {
      "cell_type": "code",
      "execution_count": 67,
      "id": "7a4cd1c9",
      "metadata": {
        "id": "7a4cd1c9"
      },
      "outputs": [],
      "source": [
        "numeric_summary = df_review_text.describe()\n",
        "category_counts = df_review_text['category'].value_counts()"
      ]
    },
    {
      "cell_type": "code",
      "execution_count": 68,
      "id": "466839fd",
      "metadata": {
        "id": "466839fd"
      },
      "outputs": [],
      "source": [
        "mean_sentiment_by_category = df_review_text.groupby('category')['sentiment_score'].mean()\n",
        "median_sentiment_by_category = df_review_text.groupby('category')['sentiment_score'].median()"
      ]
    },
    {
      "cell_type": "code",
      "execution_count": 69,
      "id": "4e383b6b",
      "metadata": {
        "colab": {
          "base_uri": "https://localhost:8080/"
        },
        "id": "4e383b6b",
        "outputId": "f54d295d-ddc1-47c2-80e6-cb5a757840fa"
      },
      "outputs": [
        {
          "output_type": "stream",
          "name": "stderr",
          "text": [
            "<ipython-input-69-5c84d5612712>:1: FutureWarning:\n",
            "\n",
            "The default value of numeric_only in DataFrame.corr is deprecated. In a future version, it will default to False. Select only valid columns or specify the value of numeric_only to silence this warning.\n",
            "\n"
          ]
        }
      ],
      "source": [
        "correlation_matrix = df_review_text.corr()"
      ]
    },
    {
      "cell_type": "code",
      "execution_count": 70,
      "id": "dbcb8f79",
      "metadata": {
        "id": "dbcb8f79"
      },
      "outputs": [],
      "source": [
        "sentiment_category_cross_tab = pd.crosstab(df_review_text['sentiment'], df_review_text['category'])\n"
      ]
    },
    {
      "cell_type": "code",
      "execution_count": 71,
      "id": "0fb03074",
      "metadata": {
        "id": "0fb03074"
      },
      "outputs": [],
      "source": [
        "sentiment_value_counts = df_review_text['sentiment'].value_counts()\n",
        "category_value_counts = df_review_text['category'].value_counts()"
      ]
    },
    {
      "cell_type": "code",
      "execution_count": 72,
      "id": "2760b493",
      "metadata": {
        "colab": {
          "base_uri": "https://localhost:8080/"
        },
        "id": "2760b493",
        "outputId": "5da886d6-6197-49c0-fee6-666a5a9cf9bf"
      },
      "outputs": [
        {
          "output_type": "stream",
          "name": "stdout",
          "text": [
            "       sentiment_score\n",
            "count     1.046804e+06\n",
            "mean      3.727771e-01\n",
            "std       4.281931e-01\n",
            "min      -9.985000e-01\n",
            "25%       0.000000e+00\n",
            "50%       4.404000e-01\n",
            "75%       7.430000e-01\n",
            "max       9.999000e-01\n",
            "General    782626\n",
            "Leads      168344\n",
            "Care        95834\n",
            "Name: category, dtype: int64\n"
          ]
        }
      ],
      "source": [
        "print(numeric_summary)\n",
        "print(category_counts)"
      ]
    },
    {
      "cell_type": "code",
      "execution_count": 73,
      "id": "87a5ca6a",
      "metadata": {
        "colab": {
          "base_uri": "https://localhost:8080/"
        },
        "id": "87a5ca6a",
        "outputId": "04c37b15-a13f-4678-cdd5-45c871ca9246"
      },
      "outputs": [
        {
          "metadata": {
            "tags": null
          },
          "name": "stdout",
          "output_type": "stream",
          "text": [
            "category\n",
            "Care       0.415964\n",
            "General    0.327960\n",
            "Leads      0.556544\n",
            "Name: sentiment_score, dtype: float64\n",
            "category\n",
            "Care       0.6423\n",
            "General    0.3612\n",
            "Leads      0.6908\n",
            "Name: sentiment_score, dtype: float64\n"
          ]
        }
      ],
      "source": [
        "print(mean_sentiment_by_category)\n",
        "print(median_sentiment_by_category)"
      ]
    },
    {
      "cell_type": "code",
      "execution_count": 74,
      "id": "a7a3f9be",
      "metadata": {
        "colab": {
          "base_uri": "https://localhost:8080/"
        },
        "id": "a7a3f9be",
        "outputId": "937cf929-297a-46d4-be36-ccca91ba67b5"
      },
      "outputs": [
        {
          "output_type": "stream",
          "name": "stdout",
          "text": [
            "Positive    663824\n",
            "Neutral     288011\n",
            "Negative     94969\n",
            "Name: sentiment, dtype: int64\n",
            "General    782626\n",
            "Leads      168344\n",
            "Care        95834\n",
            "Name: category, dtype: int64\n"
          ]
        }
      ],
      "source": [
        "print(sentiment_value_counts)\n",
        "print(category_value_counts)"
      ]
    },
    {
      "cell_type": "code",
      "execution_count": 75,
      "id": "689f0f5e",
      "metadata": {
        "scrolled": true,
        "colab": {
          "base_uri": "https://localhost:8080/"
        },
        "id": "689f0f5e",
        "outputId": "989841ea-4bb4-4fa1-a822-18c9eeda918f"
      },
      "outputs": [
        {
          "metadata": {
            "tags": null
          },
          "name": "stdout",
          "output_type": "stream",
          "text": [
            "category    Care  General   Leads\n",
            "sentiment                        \n",
            "Negative   22803    55507   16659\n",
            "Neutral     3363   272741   11907\n",
            "Positive   69668   454378  139778\n"
          ]
        }
      ],
      "source": [
        "print(sentiment_category_cross_tab)"
      ]
    },
    {
      "cell_type": "markdown",
      "id": "71c34dd1",
      "metadata": {
        "id": "71c34dd1"
      },
      "source": [
        "### Neural Network - Sentiment"
      ]
    },
    {
      "cell_type": "code",
      "execution_count": 76,
      "id": "70e07454",
      "metadata": {
        "id": "70e07454"
      },
      "outputs": [],
      "source": [
        "import pandas as pd\n",
        "from sklearn.model_selection import train_test_split\n",
        "from tensorflow.keras.preprocessing.text import Tokenizer\n",
        "from tensorflow.keras.preprocessing.sequence import pad_sequences\n",
        "from tensorflow.keras.models import Sequential\n",
        "from tensorflow.keras.layers import Embedding, Flatten, Dense"
      ]
    },
    {
      "cell_type": "code",
      "execution_count": 77,
      "id": "aae68e82",
      "metadata": {
        "id": "aae68e82"
      },
      "outputs": [],
      "source": [
        "X = df_review_text['cleaned_review']\n",
        "y_sentiment = df_review_text['sentiment']"
      ]
    },
    {
      "cell_type": "code",
      "execution_count": 78,
      "id": "cfdfcdae",
      "metadata": {
        "id": "cfdfcdae"
      },
      "outputs": [],
      "source": [
        "y_sentiment_binary = (y_sentiment == 'Positive').astype(int)"
      ]
    },
    {
      "cell_type": "code",
      "execution_count": 79,
      "id": "e2607a90",
      "metadata": {
        "id": "e2607a90"
      },
      "outputs": [],
      "source": [
        "X_train, X_test, y_train_sentiment, y_test_sentiment = train_test_split(\n",
        "    X, y_sentiment_binary, test_size=0.2, random_state=42\n",
        ")"
      ]
    },
    {
      "cell_type": "code",
      "execution_count": 80,
      "id": "610ce69b",
      "metadata": {
        "id": "610ce69b"
      },
      "outputs": [],
      "source": [
        "max_words = 10000\n",
        "tokenizer = Tokenizer(num_words=max_words)\n",
        "tokenizer.fit_on_texts(X_train)"
      ]
    },
    {
      "cell_type": "code",
      "execution_count": 81,
      "id": "aac72f95",
      "metadata": {
        "id": "aac72f95"
      },
      "outputs": [],
      "source": [
        "X_train_seq = tokenizer.texts_to_sequences(X_train)\n",
        "X_test_seq = tokenizer.texts_to_sequences(X_test)"
      ]
    },
    {
      "cell_type": "code",
      "execution_count": 82,
      "id": "399202f0",
      "metadata": {
        "id": "399202f0"
      },
      "outputs": [],
      "source": [
        "max_sequence_length = 200\n",
        "X_train_padded = pad_sequences(X_train_seq, maxlen=max_sequence_length)\n",
        "X_test_padded = pad_sequences(X_test_seq, maxlen=max_sequence_length)"
      ]
    },
    {
      "cell_type": "code",
      "execution_count": 83,
      "id": "a082e65c",
      "metadata": {
        "id": "a082e65c"
      },
      "outputs": [],
      "source": [
        "# Build the neural network model\n",
        "embedding_dim = 100"
      ]
    },
    {
      "cell_type": "code",
      "execution_count": 84,
      "id": "62c8450c",
      "metadata": {
        "id": "62c8450c"
      },
      "outputs": [],
      "source": [
        "model = Sequential()\n",
        "model.add(Embedding(input_dim=max_words, output_dim=embedding_dim, input_length=max_sequence_length))\n",
        "model.add(Flatten())\n",
        "model.add(Dense(128, activation='relu'))\n",
        "model.add(Dense(1, activation='sigmoid'))  # Binary classification for sentiment\n",
        "\n",
        "model.compile(loss='binary_crossentropy', optimizer='adam', metrics=['accuracy'])"
      ]
    },
    {
      "cell_type": "code",
      "execution_count": 85,
      "id": "5279f49f",
      "metadata": {
        "scrolled": true,
        "colab": {
          "base_uri": "https://localhost:8080/"
        },
        "id": "5279f49f",
        "outputId": "0f73d79f-ec29-430b-ad70-29a0b9e866de"
      },
      "outputs": [
        {
          "output_type": "stream",
          "name": "stdout",
          "text": [
            "Epoch 1/2\n",
            "23554/23554 [==============================] - 1203s 51ms/step - loss: 0.1167 - accuracy: 0.9566 - val_loss: 0.0861 - val_accuracy: 0.9679\n",
            "Epoch 2/2\n",
            "23554/23554 [==============================] - 1202s 51ms/step - loss: 0.0655 - accuracy: 0.9769 - val_loss: 0.0858 - val_accuracy: 0.9708\n"
          ]
        },
        {
          "output_type": "execute_result",
          "data": {
            "text/plain": [
              "<keras.callbacks.History at 0x79add8dde860>"
            ]
          },
          "metadata": {},
          "execution_count": 85
        }
      ],
      "source": [
        "# Train the model\n",
        "batch_size = 32\n",
        "epochs = 2\n",
        "\n",
        "model.fit(X_train_padded, y_train_sentiment, batch_size=batch_size, epochs=epochs, validation_split=0.1)"
      ]
    },
    {
      "cell_type": "code",
      "execution_count": 86,
      "id": "7f413e77",
      "metadata": {
        "id": "7f413e77"
      },
      "outputs": [],
      "source": [
        "import pickle"
      ]
    },
    {
      "cell_type": "code",
      "execution_count": 87,
      "id": "33158bc1",
      "metadata": {
        "id": "33158bc1"
      },
      "outputs": [],
      "source": [
        "# Save the trained tokenizer\n",
        "with open('tokenizer.pkl', 'wb') as tokenizer_file:\n",
        "    pickle.dump(tokenizer, tokenizer_file)"
      ]
    },
    {
      "cell_type": "code",
      "execution_count": 88,
      "id": "20b7d2c6",
      "metadata": {
        "colab": {
          "base_uri": "https://localhost:8080/"
        },
        "id": "20b7d2c6",
        "outputId": "bcd0dbfe-99a9-47a0-e851-25c2c8dae9d2"
      },
      "outputs": [
        {
          "output_type": "stream",
          "name": "stderr",
          "text": [
            "WARNING:absl:Found untraced functions such as _update_step_xla while saving (showing 1 of 1). These functions will not be directly callable after loading.\n"
          ]
        },
        {
          "output_type": "stream",
          "name": "stdout",
          "text": [
            "Model saved successfully.\n"
          ]
        }
      ],
      "source": [
        "from google.colab import drive\n",
        "drive.mount('/content/drive')\n",
        "\n",
        "model.save('/content/drive/MyDrive/trained_model')\n",
        "\n",
        "print(\"Model saved successfully.\")"
      ]
    },
    {
      "cell_type": "code",
      "execution_count": 89,
      "id": "b37bfd35",
      "metadata": {
        "colab": {
          "base_uri": "https://localhost:8080/",
          "height": 363
        },
        "id": "b37bfd35",
        "outputId": "758a4a73-11cf-4a39-a505-cc99b396aff3"
      },
      "outputs": [
        {
          "output_type": "execute_result",
          "data": {
            "text/plain": [
              "                                          reviewText  \\\n",
              "0  This was the first time I read Garcia-Aguilera...   \n",
              "1  As with all of Ms. Garcia-Aguilera's books, I ...   \n",
              "2  I've not read any of Ms Aguilera's works befor...   \n",
              "3  This romance novel is right up there with the ...   \n",
              "4  Carolina Garcia Aguilera has done it again.  S...   \n",
              "5  Not only can she write mysteries,but she sure ...   \n",
              "6  Once again Garcia-Aguilera has written a book ...   \n",
              "7  The timing is just right for a good book. Actu...   \n",
              "8  Engaging. Dark. Reading the book you could alm...   \n",
              "9  Set amid the backdrop of New York City's imper...   \n",
              "\n",
              "                                      cleaned_review  sentiment_score  \\\n",
              "0  first time read garciaaguilera came upon name ...           0.9764   \n",
              "1  ms garciaaguileras books think must read impos...           0.8807   \n",
              "2  ive read ms aguileras works finished one hot s...           0.0772   \n",
              "3  romance novel right rest amazing mystery novel...           0.9858   \n",
              "4  carolina garcia aguilera done shes written ano...           0.4927   \n",
              "5  write mysteriesbut sure write love story one h...           0.7579   \n",
              "6  garciaaguilera written book cant put read love...           0.9304   \n",
              "7  timing right good book actually long overdue t...           0.8324   \n",
              "8  engaging dark reading book could almost feel t...           0.3306   \n",
              "9  set amid backdrop new york citys impervious hi...           0.9774   \n",
              "\n",
              "  sentiment category  \n",
              "0  Positive  General  \n",
              "1  Positive  General  \n",
              "2  Positive  General  \n",
              "3  Positive  General  \n",
              "4  Positive  General  \n",
              "5  Positive  General  \n",
              "6  Positive     Care  \n",
              "7  Positive     Care  \n",
              "8  Positive     Care  \n",
              "9  Positive  General  "
            ],
            "text/html": [
              "\n",
              "  <div id=\"df-70ee85e4-1cca-4290-860e-004ce1220fb0\" class=\"colab-df-container\">\n",
              "    <div>\n",
              "<style scoped>\n",
              "    .dataframe tbody tr th:only-of-type {\n",
              "        vertical-align: middle;\n",
              "    }\n",
              "\n",
              "    .dataframe tbody tr th {\n",
              "        vertical-align: top;\n",
              "    }\n",
              "\n",
              "    .dataframe thead th {\n",
              "        text-align: right;\n",
              "    }\n",
              "</style>\n",
              "<table border=\"1\" class=\"dataframe\">\n",
              "  <thead>\n",
              "    <tr style=\"text-align: right;\">\n",
              "      <th></th>\n",
              "      <th>reviewText</th>\n",
              "      <th>cleaned_review</th>\n",
              "      <th>sentiment_score</th>\n",
              "      <th>sentiment</th>\n",
              "      <th>category</th>\n",
              "    </tr>\n",
              "  </thead>\n",
              "  <tbody>\n",
              "    <tr>\n",
              "      <th>0</th>\n",
              "      <td>This was the first time I read Garcia-Aguilera...</td>\n",
              "      <td>first time read garciaaguilera came upon name ...</td>\n",
              "      <td>0.9764</td>\n",
              "      <td>Positive</td>\n",
              "      <td>General</td>\n",
              "    </tr>\n",
              "    <tr>\n",
              "      <th>1</th>\n",
              "      <td>As with all of Ms. Garcia-Aguilera's books, I ...</td>\n",
              "      <td>ms garciaaguileras books think must read impos...</td>\n",
              "      <td>0.8807</td>\n",
              "      <td>Positive</td>\n",
              "      <td>General</td>\n",
              "    </tr>\n",
              "    <tr>\n",
              "      <th>2</th>\n",
              "      <td>I've not read any of Ms Aguilera's works befor...</td>\n",
              "      <td>ive read ms aguileras works finished one hot s...</td>\n",
              "      <td>0.0772</td>\n",
              "      <td>Positive</td>\n",
              "      <td>General</td>\n",
              "    </tr>\n",
              "    <tr>\n",
              "      <th>3</th>\n",
              "      <td>This romance novel is right up there with the ...</td>\n",
              "      <td>romance novel right rest amazing mystery novel...</td>\n",
              "      <td>0.9858</td>\n",
              "      <td>Positive</td>\n",
              "      <td>General</td>\n",
              "    </tr>\n",
              "    <tr>\n",
              "      <th>4</th>\n",
              "      <td>Carolina Garcia Aguilera has done it again.  S...</td>\n",
              "      <td>carolina garcia aguilera done shes written ano...</td>\n",
              "      <td>0.4927</td>\n",
              "      <td>Positive</td>\n",
              "      <td>General</td>\n",
              "    </tr>\n",
              "    <tr>\n",
              "      <th>5</th>\n",
              "      <td>Not only can she write mysteries,but she sure ...</td>\n",
              "      <td>write mysteriesbut sure write love story one h...</td>\n",
              "      <td>0.7579</td>\n",
              "      <td>Positive</td>\n",
              "      <td>General</td>\n",
              "    </tr>\n",
              "    <tr>\n",
              "      <th>6</th>\n",
              "      <td>Once again Garcia-Aguilera has written a book ...</td>\n",
              "      <td>garciaaguilera written book cant put read love...</td>\n",
              "      <td>0.9304</td>\n",
              "      <td>Positive</td>\n",
              "      <td>Care</td>\n",
              "    </tr>\n",
              "    <tr>\n",
              "      <th>7</th>\n",
              "      <td>The timing is just right for a good book. Actu...</td>\n",
              "      <td>timing right good book actually long overdue t...</td>\n",
              "      <td>0.8324</td>\n",
              "      <td>Positive</td>\n",
              "      <td>Care</td>\n",
              "    </tr>\n",
              "    <tr>\n",
              "      <th>8</th>\n",
              "      <td>Engaging. Dark. Reading the book you could alm...</td>\n",
              "      <td>engaging dark reading book could almost feel t...</td>\n",
              "      <td>0.3306</td>\n",
              "      <td>Positive</td>\n",
              "      <td>Care</td>\n",
              "    </tr>\n",
              "    <tr>\n",
              "      <th>9</th>\n",
              "      <td>Set amid the backdrop of New York City's imper...</td>\n",
              "      <td>set amid backdrop new york citys impervious hi...</td>\n",
              "      <td>0.9774</td>\n",
              "      <td>Positive</td>\n",
              "      <td>General</td>\n",
              "    </tr>\n",
              "  </tbody>\n",
              "</table>\n",
              "</div>\n",
              "    <div class=\"colab-df-buttons\">\n",
              "\n",
              "  <div class=\"colab-df-container\">\n",
              "    <button class=\"colab-df-convert\" onclick=\"convertToInteractive('df-70ee85e4-1cca-4290-860e-004ce1220fb0')\"\n",
              "            title=\"Convert this dataframe to an interactive table.\"\n",
              "            style=\"display:none;\">\n",
              "\n",
              "  <svg xmlns=\"http://www.w3.org/2000/svg\" height=\"24px\" viewBox=\"0 -960 960 960\">\n",
              "    <path d=\"M120-120v-720h720v720H120Zm60-500h600v-160H180v160Zm220 220h160v-160H400v160Zm0 220h160v-160H400v160ZM180-400h160v-160H180v160Zm440 0h160v-160H620v160ZM180-180h160v-160H180v160Zm440 0h160v-160H620v160Z\"/>\n",
              "  </svg>\n",
              "    </button>\n",
              "\n",
              "  <style>\n",
              "    .colab-df-container {\n",
              "      display:flex;\n",
              "      gap: 12px;\n",
              "    }\n",
              "\n",
              "    .colab-df-convert {\n",
              "      background-color: #E8F0FE;\n",
              "      border: none;\n",
              "      border-radius: 50%;\n",
              "      cursor: pointer;\n",
              "      display: none;\n",
              "      fill: #1967D2;\n",
              "      height: 32px;\n",
              "      padding: 0 0 0 0;\n",
              "      width: 32px;\n",
              "    }\n",
              "\n",
              "    .colab-df-convert:hover {\n",
              "      background-color: #E2EBFA;\n",
              "      box-shadow: 0px 1px 2px rgba(60, 64, 67, 0.3), 0px 1px 3px 1px rgba(60, 64, 67, 0.15);\n",
              "      fill: #174EA6;\n",
              "    }\n",
              "\n",
              "    .colab-df-buttons div {\n",
              "      margin-bottom: 4px;\n",
              "    }\n",
              "\n",
              "    [theme=dark] .colab-df-convert {\n",
              "      background-color: #3B4455;\n",
              "      fill: #D2E3FC;\n",
              "    }\n",
              "\n",
              "    [theme=dark] .colab-df-convert:hover {\n",
              "      background-color: #434B5C;\n",
              "      box-shadow: 0px 1px 3px 1px rgba(0, 0, 0, 0.15);\n",
              "      filter: drop-shadow(0px 1px 2px rgba(0, 0, 0, 0.3));\n",
              "      fill: #FFFFFF;\n",
              "    }\n",
              "  </style>\n",
              "\n",
              "    <script>\n",
              "      const buttonEl =\n",
              "        document.querySelector('#df-70ee85e4-1cca-4290-860e-004ce1220fb0 button.colab-df-convert');\n",
              "      buttonEl.style.display =\n",
              "        google.colab.kernel.accessAllowed ? 'block' : 'none';\n",
              "\n",
              "      async function convertToInteractive(key) {\n",
              "        const element = document.querySelector('#df-70ee85e4-1cca-4290-860e-004ce1220fb0');\n",
              "        const dataTable =\n",
              "          await google.colab.kernel.invokeFunction('convertToInteractive',\n",
              "                                                    [key], {});\n",
              "        if (!dataTable) return;\n",
              "\n",
              "        const docLinkHtml = 'Like what you see? Visit the ' +\n",
              "          '<a target=\"_blank\" href=https://colab.research.google.com/notebooks/data_table.ipynb>data table notebook</a>'\n",
              "          + ' to learn more about interactive tables.';\n",
              "        element.innerHTML = '';\n",
              "        dataTable['output_type'] = 'display_data';\n",
              "        await google.colab.output.renderOutput(dataTable, element);\n",
              "        const docLink = document.createElement('div');\n",
              "        docLink.innerHTML = docLinkHtml;\n",
              "        element.appendChild(docLink);\n",
              "      }\n",
              "    </script>\n",
              "  </div>\n",
              "\n",
              "\n",
              "<div id=\"df-6fafe070-1b63-4720-a313-ffed5be0b10d\">\n",
              "  <button class=\"colab-df-quickchart\" onclick=\"quickchart('df-6fafe070-1b63-4720-a313-ffed5be0b10d')\"\n",
              "            title=\"Suggest charts.\"\n",
              "            style=\"display:none;\">\n",
              "\n",
              "<svg xmlns=\"http://www.w3.org/2000/svg\" height=\"24px\"viewBox=\"0 0 24 24\"\n",
              "     width=\"24px\">\n",
              "    <g>\n",
              "        <path d=\"M19 3H5c-1.1 0-2 .9-2 2v14c0 1.1.9 2 2 2h14c1.1 0 2-.9 2-2V5c0-1.1-.9-2-2-2zM9 17H7v-7h2v7zm4 0h-2V7h2v10zm4 0h-2v-4h2v4z\"/>\n",
              "    </g>\n",
              "</svg>\n",
              "  </button>\n",
              "\n",
              "<style>\n",
              "  .colab-df-quickchart {\n",
              "    background-color: #E8F0FE;\n",
              "    border: none;\n",
              "    border-radius: 50%;\n",
              "    cursor: pointer;\n",
              "    display: none;\n",
              "    fill: #1967D2;\n",
              "    height: 32px;\n",
              "    padding: 0 0 0 0;\n",
              "    width: 32px;\n",
              "  }\n",
              "\n",
              "  .colab-df-quickchart:hover {\n",
              "    background-color: #E2EBFA;\n",
              "    box-shadow: 0px 1px 2px rgba(60, 64, 67, 0.3), 0px 1px 3px 1px rgba(60, 64, 67, 0.15);\n",
              "    fill: #174EA6;\n",
              "  }\n",
              "\n",
              "  [theme=dark] .colab-df-quickchart {\n",
              "    background-color: #3B4455;\n",
              "    fill: #D2E3FC;\n",
              "  }\n",
              "\n",
              "  [theme=dark] .colab-df-quickchart:hover {\n",
              "    background-color: #434B5C;\n",
              "    box-shadow: 0px 1px 3px 1px rgba(0, 0, 0, 0.15);\n",
              "    filter: drop-shadow(0px 1px 2px rgba(0, 0, 0, 0.3));\n",
              "    fill: #FFFFFF;\n",
              "  }\n",
              "</style>\n",
              "\n",
              "  <script>\n",
              "    async function quickchart(key) {\n",
              "      const charts = await google.colab.kernel.invokeFunction(\n",
              "          'suggestCharts', [key], {});\n",
              "    }\n",
              "    (() => {\n",
              "      let quickchartButtonEl =\n",
              "        document.querySelector('#df-6fafe070-1b63-4720-a313-ffed5be0b10d button');\n",
              "      quickchartButtonEl.style.display =\n",
              "        google.colab.kernel.accessAllowed ? 'block' : 'none';\n",
              "    })();\n",
              "  </script>\n",
              "</div>\n",
              "    </div>\n",
              "  </div>\n"
            ]
          },
          "metadata": {},
          "execution_count": 89
        }
      ],
      "source": [
        "df_review_text.head(10)"
      ]
    },
    {
      "cell_type": "markdown",
      "id": "ae12f27e",
      "metadata": {
        "id": "ae12f27e"
      },
      "source": [
        "### Neural Network - Catagory"
      ]
    },
    {
      "cell_type": "code",
      "execution_count": 90,
      "id": "0a464019",
      "metadata": {
        "id": "0a464019"
      },
      "outputs": [],
      "source": [
        "X = df_review_text['cleaned_review']\n",
        "y_category = df_review_text['category']"
      ]
    },
    {
      "cell_type": "code",
      "execution_count": 91,
      "id": "2dd0f2e6",
      "metadata": {
        "id": "2dd0f2e6"
      },
      "outputs": [],
      "source": [
        "import numpy as np"
      ]
    },
    {
      "cell_type": "code",
      "execution_count": 92,
      "id": "e7504203",
      "metadata": {
        "id": "e7504203"
      },
      "outputs": [],
      "source": [
        "category_labels = np.unique(y_category)\n",
        "category_label_to_index = {label: index for index, label in enumerate(category_labels)}\n",
        "y_category_index = np.array([category_label_to_index[label] for label in y_category])"
      ]
    },
    {
      "cell_type": "code",
      "execution_count": 93,
      "id": "4e7d8735",
      "metadata": {
        "id": "4e7d8735"
      },
      "outputs": [],
      "source": [
        "X_train, X_test, y_train_category, y_test_category = train_test_split(\n",
        "    X, y_category_index, test_size=0.2, random_state=42\n",
        ")"
      ]
    },
    {
      "cell_type": "code",
      "execution_count": 94,
      "id": "fd5f1c5e",
      "metadata": {
        "id": "fd5f1c5e"
      },
      "outputs": [],
      "source": [
        "# Tokenization and padding\n",
        "max_words = 10000\n",
        "tokenizer = Tokenizer(num_words=max_words)\n",
        "tokenizer.fit_on_texts(X_train)\n",
        "\n",
        "X_train_seq = tokenizer.texts_to_sequences(X_train)\n",
        "X_test_seq = tokenizer.texts_to_sequences(X_test)\n",
        "\n",
        "max_sequence_length = 200\n",
        "X_train_padded = pad_sequences(X_train_seq, maxlen=max_sequence_length)\n",
        "X_test_padded = pad_sequences(X_test_seq, maxlen=max_sequence_length)"
      ]
    },
    {
      "cell_type": "code",
      "execution_count": 95,
      "id": "589941f6",
      "metadata": {
        "id": "589941f6"
      },
      "outputs": [],
      "source": [
        "# Build the neural network model\n",
        "embedding_dim = 100\n",
        "\n",
        "model = Sequential()\n",
        "model.add(Embedding(input_dim=max_words, output_dim=embedding_dim, input_length=max_sequence_length))\n",
        "model.add(Flatten())\n",
        "model.add(Dense(128, activation='relu'))\n",
        "model.add(Dense(len(category_labels), activation='softmax'))  # Multi-class classification for category\n",
        "\n",
        "model.compile(loss='sparse_categorical_crossentropy', optimizer='adam', metrics=['accuracy'])"
      ]
    },
    {
      "cell_type": "code",
      "execution_count": 96,
      "id": "3a1ec6e9",
      "metadata": {
        "colab": {
          "base_uri": "https://localhost:8080/"
        },
        "id": "3a1ec6e9",
        "outputId": "ac126bad-1fa5-486f-d7e0-686ec011e5b9"
      },
      "outputs": [
        {
          "output_type": "stream",
          "name": "stdout",
          "text": [
            "Epoch 1/2\n",
            "23554/23554 [==============================] - 1207s 51ms/step - loss: 0.0360 - accuracy: 0.9900 - val_loss: 0.0200 - val_accuracy: 0.9959\n",
            "Epoch 2/2\n",
            "23554/23554 [==============================] - 1203s 51ms/step - loss: 0.0148 - accuracy: 0.9974 - val_loss: 0.0223 - val_accuracy: 0.9960\n"
          ]
        },
        {
          "output_type": "execute_result",
          "data": {
            "text/plain": [
              "<keras.callbacks.History at 0x79adbb8a5870>"
            ]
          },
          "metadata": {},
          "execution_count": 96
        }
      ],
      "source": [
        "# Train the model\n",
        "batch_size = 32\n",
        "epochs = 2\n",
        "\n",
        "model.fit(X_train_padded, y_train_category, batch_size=batch_size, epochs=epochs, validation_split=0.1)"
      ]
    },
    {
      "cell_type": "code",
      "execution_count": 97,
      "id": "f772237b",
      "metadata": {
        "colab": {
          "base_uri": "https://localhost:8080/"
        },
        "id": "f772237b",
        "outputId": "50034968-b012-424c-cc49-4afd6dc4a9ed"
      },
      "outputs": [
        {
          "output_type": "stream",
          "name": "stderr",
          "text": [
            "WARNING:absl:Found untraced functions such as _update_step_xla while saving (showing 1 of 1). These functions will not be directly callable after loading.\n"
          ]
        },
        {
          "output_type": "stream",
          "name": "stdout",
          "text": [
            "Model saved successfully.\n"
          ]
        }
      ],
      "source": [
        "from google.colab import drive\n",
        "drive.mount('/content/drive')\n",
        "\n",
        "model.save('/content/drive/MyDrive/trained_model_category')\n",
        "\n",
        "print(\"Model saved successfully.\")"
      ]
    },
    {
      "cell_type": "code",
      "execution_count": 98,
      "id": "1b587115",
      "metadata": {
        "id": "1b587115"
      },
      "outputs": [],
      "source": [
        "pip install seaborn"
      ]
    },
    {
      "cell_type": "markdown",
      "id": "3c8dde1e",
      "metadata": {
        "id": "3c8dde1e"
      },
      "source": [
        "### Sentiment Vs Category"
      ]
    },
    {
      "cell_type": "code",
      "execution_count": 99,
      "id": "e2f261c4",
      "metadata": {
        "colab": {
          "base_uri": "https://localhost:8080/",
          "height": 607
        },
        "id": "e2f261c4",
        "outputId": "1f5a2701-b50e-4345-c286-a108cd7184f9"
      },
      "outputs": [
        {
          "output_type": "display_data",
          "data": {
            "text/plain": [
              "<Figure size 1000x600 with 1 Axes>"
            ],
            "image/png": "[encoded data removed]"
          },
          "metadata": {}
        }
      ],
      "source": [
        "import seaborn as sns\n",
        "import matplotlib.pyplot as plt\n",
        "category_sentiment_mean = df_review_text.groupby('category')['sentiment_score'].mean()\n",
        "\n",
        "plt.figure(figsize=(10, 6))\n",
        "sns.barplot(x=category_sentiment_mean.index, y=category_sentiment_mean.values)\n",
        "plt.xlabel('Category')\n",
        "plt.ylabel('Mean Sentiment Score')\n",
        "plt.title('Sentiment Distribution by Category')\n",
        "plt.xticks(rotation=45)\n",
        "plt.tight_layout()\n",
        "\n",
        "plt.show()"
      ]
    },
    {
      "cell_type": "markdown",
      "id": "91dbc92e",
      "metadata": {
        "id": "91dbc92e"
      },
      "source": [
        "#### Top 20 Word Frequencies in Positive and Negative Reviews"
      ]
    },
    {
      "cell_type": "code",
      "execution_count": 100,
      "id": "3b176025",
      "metadata": {
        "colab": {
          "base_uri": "https://localhost:8080/",
          "height": 607
        },
        "id": "3b176025",
        "outputId": "2c13ac5f-9163-4363-b856-93b0b1127e5f"
      },
      "outputs": [
        {
          "output_type": "display_data",
          "data": {
            "text/plain": [
              "<Figure size 1200x600 with 1 Axes>"
            ],
            "image/png": "[encoded data removed]"
          },
          "metadata": {}
        }
      ],
      "source": [
        "from collections import Counter\n",
        "\n",
        "positive_reviews = \" \".join(df_review_text[df_review_text['sentiment'] == 'Positive']['cleaned_review'])\n",
        "negative_reviews = \" \".join(df_review_text[df_review_text['sentiment'] == 'Negative']['cleaned_review'])\n",
        "\n",
        "positive_words = positive_reviews.split()\n",
        "negative_words = negative_reviews.split()\n",
        "positive_word_counts = Counter(positive_words)\n",
        "negative_word_counts = Counter(negative_words)\n",
        "\n",
        "plt.figure(figsize=(12, 6))\n",
        "sns.barplot(x=list(positive_word_counts.keys())[:20], y=list(positive_word_counts.values())[:20], color='green', label='Positive')\n",
        "sns.barplot(x=list(negative_word_counts.keys())[:20], y=list(negative_word_counts.values())[:20], color='red', label='Negative')\n",
        "plt.xlabel('Word')\n",
        "plt.ylabel('Frequency')\n",
        "plt.title('Top 20 Word Frequencies in Positive and Negative Reviews')\n",
        "plt.xticks(rotation=45)\n",
        "plt.legend()\n",
        "plt.tight_layout()\n",
        "plt.show()"
      ]
    },
    {
      "cell_type": "code",
      "execution_count": 101,
      "id": "95d7406b",
      "metadata": {
        "colab": {
          "base_uri": "https://localhost:8080/",
          "height": 607
        },
        "id": "95d7406b",
        "outputId": "4eb75c26-9b42-4370-a7d0-91c9dc3e14ef"
      },
      "outputs": [
        {
          "output_type": "display_data",
          "data": {
            "text/plain": [
              "<Figure size 1200x600 with 1 Axes>"
            ],
            "image/png": "[encoded data removed]"
          },
          "metadata": {}
        }
      ],
      "source": [
        "plt.figure(figsize=(12, 6))\n",
        "sns.boxplot(x='category', y='sentiment_score', data=df_review_text)\n",
        "plt.xlabel('Category')\n",
        "plt.ylabel('Sentiment Score')\n",
        "plt.title('Sentiment Distribution by Category')\n",
        "plt.xticks(rotation=45)\n",
        "plt.tight_layout()\n",
        "plt.show()"
      ]
    },
    {
      "cell_type": "markdown",
      "id": "221bacc9",
      "metadata": {
        "id": "221bacc9"
      },
      "source": [
        "#### Sentiment Distribution by Category"
      ]
    },
    {
      "cell_type": "code",
      "execution_count": 102,
      "id": "8d787e94",
      "metadata": {
        "colab": {
          "base_uri": "https://localhost:8080/",
          "height": 607
        },
        "id": "8d787e94",
        "outputId": "dfc026bd-c805-4884-becd-cf4e5f47d3f2"
      },
      "outputs": [
        {
          "output_type": "display_data",
          "data": {
            "text/plain": [
              "<Figure size 1000x600 with 1 Axes>"
            ],
            "image/png": "[encoded data removed]"
          },
          "metadata": {}
        }
      ],
      "source": [
        "import seaborn as sns\n",
        "sentiment_by_category = df_review_text.groupby(['category', 'sentiment']).size().unstack(fill_value=0)\n",
        "plt.figure(figsize=(10, 6))\n",
        "sentiment_by_category.plot(kind='bar', stacked=True, color=['red', 'gray', 'green'], ax=plt.gca())\n",
        "plt.xlabel('Category')\n",
        "plt.ylabel('Number of Reviews')\n",
        "plt.title('Sentiment Distribution by Category')\n",
        "plt.legend(title='Sentiment')\n",
        "plt.xticks(rotation=45, ha='right')\n",
        "plt.tight_layout()\n",
        "plt.show()"
      ]
    },
    {
      "cell_type": "markdown",
      "id": "dece709c",
      "metadata": {
        "id": "dece709c"
      },
      "source": [
        "#### Objective 1 - Completed\n",
        "\n",
        "- Sentiment Analysis: We assessed sentiments in reviews, categorizing them as positive, negative, or neutral. This step uncovered users' feelings toward the brand, vital for understanding experiences.\n",
        "\n",
        "- Categorization: Reviews were organized into 'Care', 'Leads', and 'General' categories. This systematic approach enabled differentiation of user experiences based on review context.\n",
        "\n",
        "- Sentiment Distribution: Visualizing sentiment distribution per category illuminated diverse user sentiments. Insights into emotional responses across review categories were revealed.\n",
        "\n",
        "- Sentiment Distribution Analysis: Box plots deepened our understanding of sentiment score distribution, highlighting trends and outliers within categories.\n",
        "\n",
        "- Qualitative Analysis: A manual subset review unveiled nuanced insights, emotions, and patterns beyond automated sentiment analysis. (Yet to Complete)"
      ]
    },
    {
      "cell_type": "markdown",
      "id": "9326d057",
      "metadata": {
        "id": "9326d057"
      },
      "source": [
        "### Topic modeling"
      ]
    },
    {
      "cell_type": "code",
      "execution_count": 103,
      "id": "373b3008",
      "metadata": {
        "id": "373b3008"
      },
      "outputs": [],
      "source": [
        "from sklearn.feature_extraction.text import CountVectorizer\n",
        "from gensim import matutils, models\n",
        "import scipy.sparse"
      ]
    },
    {
      "cell_type": "code",
      "execution_count": 104,
      "id": "a1f46526",
      "metadata": {
        "id": "a1f46526"
      },
      "outputs": [],
      "source": [
        "from sklearn.feature_extraction.text import TfidfVectorizer"
      ]
    },
    {
      "cell_type": "code",
      "execution_count": 105,
      "id": "acb12657",
      "metadata": {
        "id": "acb12657"
      },
      "outputs": [],
      "source": [
        "subset_size = 2000\n",
        "subset_df = df_review_text.sample(n=subset_size, random_state=42)"
      ]
    },
    {
      "cell_type": "code",
      "execution_count": 106,
      "id": "98e24d35",
      "metadata": {
        "id": "98e24d35"
      },
      "outputs": [],
      "source": [
        "vectorizer = TfidfVectorizer(max_df=0.95, min_df=2, max_features=1000, stop_words='english')\n",
        "tfidf_matrix = vectorizer.fit_transform(subset_df['cleaned_review'])"
      ]
    },
    {
      "cell_type": "code",
      "execution_count": 107,
      "id": "c8996547",
      "metadata": {
        "id": "c8996547"
      },
      "outputs": [],
      "source": [
        "corpus = matutils.Sparse2Corpus(tfidf_matrix.transpose())"
      ]
    },
    {
      "cell_type": "code",
      "execution_count": 108,
      "id": "dbeda971",
      "metadata": {
        "id": "dbeda971"
      },
      "outputs": [],
      "source": [
        "id2word = dict((v, k) for k, v in vectorizer.vocabulary_.items())"
      ]
    },
    {
      "cell_type": "code",
      "execution_count": 109,
      "id": "17b97ce3",
      "metadata": {
        "colab": {
          "base_uri": "https://localhost:8080/"
        },
        "id": "17b97ce3",
        "outputId": "66461307-10ce-4726-dddf-193c0f1f2db1"
      },
      "outputs": [
        {
          "metadata": {
            "tags": null
          },
          "name": "stderr",
          "output_type": "stream",
          "text": [
            "WARNING:gensim.models.ldamulticore:too few updates, training might not converge; consider increasing the number of passes or iterations to improve accuracy\n"
          ]
        }
      ],
      "source": [
        "# Perform LDA\n",
        "num_topics = 7\n",
        "passes = 5\n",
        "lda = models.LdaMulticore(corpus=corpus, num_topics=num_topics, id2word=id2word, passes=passes, workers=4)"
      ]
    },
    {
      "cell_type": "code",
      "execution_count": 110,
      "id": "49464fa8",
      "metadata": {
        "colab": {
          "base_uri": "https://localhost:8080/"
        },
        "id": "49464fa8",
        "outputId": "20a76483-5fd5-491d-ac6d-d102eb467dac"
      },
      "outputs": [
        {
          "output_type": "stream",
          "name": "stdout",
          "text": [
            "Topic #1: 0.010*\"fit\" + 0.009*\"im\" + 0.008*\"great\" + 0.008*\"sound\" + 0.007*\"new\" + 0.007*\"bag\" + 0.006*\"mm\" + 0.006*\"use\" + 0.006*\"batteries\" + 0.006*\"love\"\n",
            "\n",
            "Topic #2: 0.058*\"great\" + 0.046*\"good\" + 0.026*\"price\" + 0.017*\"excellent\" + 0.016*\"work\" + 0.016*\"value\" + 0.016*\"lens\" + 0.012*\"speakers\" + 0.010*\"headphones\" + 0.010*\"sound\"\n",
            "\n",
            "Topic #3: 0.028*\"great\" + 0.027*\"works\" + 0.013*\"like\" + 0.012*\"needed\" + 0.011*\"cable\" + 0.010*\"expected\" + 0.009*\"worked\" + 0.008*\"better\" + 0.007*\"battery\" + 0.007*\"ipod\"\n",
            "\n",
            "Topic #4: 0.198*\"stars\" + 0.021*\"customer\" + 0.019*\"amazon\" + 0.016*\"ok\" + 0.015*\"item\" + 0.013*\"star\" + 0.010*\"junk\" + 0.009*\"buy\" + 0.009*\"way\" + 0.007*\"piece\"\n",
            "\n",
            "Topic #5: 0.016*\"radio\" + 0.015*\"nice\" + 0.014*\"great\" + 0.013*\"job\" + 0.011*\"works\" + 0.010*\"good\" + 0.009*\"using\" + 0.008*\"year\" + 0.008*\"perfectly\" + 0.008*\"pay\"\n",
            "\n",
            "Topic #6: 0.047*\"works\" + 0.022*\"perfect\" + 0.013*\"great\" + 0.012*\"described\" + 0.012*\"best\" + 0.010*\"good\" + 0.010*\"quality\" + 0.010*\"product\" + 0.009*\"excellent\" + 0.008*\"far\"\n",
            "\n",
            "Topic #7: 0.024*\"product\" + 0.016*\"great\" + 0.015*\"camera\" + 0.015*\"good\" + 0.013*\"love\" + 0.010*\"use\" + 0.009*\"like\" + 0.008*\"easy\" + 0.007*\"price\" + 0.007*\"quality\"\n",
            "\n"
          ]
        }
      ],
      "source": [
        "for topic_num, words in lda.print_topics():\n",
        "    print(f\"Topic #{topic_num + 1}: {words}\\n\")"
      ]
    },
    {
      "cell_type": "markdown",
      "id": "ff3b8c69",
      "metadata": {
        "id": "ff3b8c69"
      },
      "source": [
        "### Emotion Analysis"
      ]
    },
    {
      "cell_type": "code",
      "execution_count": 111,
      "id": "681d5965",
      "metadata": {
        "id": "681d5965"
      },
      "outputs": [],
      "source": [
        "#pip install textblob"
      ]
    },
    {
      "cell_type": "code",
      "execution_count": 112,
      "id": "e8b67416",
      "metadata": {
        "id": "e8b67416"
      },
      "outputs": [],
      "source": [
        "from textblob import TextBlob"
      ]
    },
    {
      "cell_type": "code",
      "execution_count": 113,
      "id": "a3863ac8",
      "metadata": {
        "id": "a3863ac8"
      },
      "outputs": [],
      "source": [
        "custom_emotions = ['Joy', 'Sadness', 'Anger', 'Surprise', 'Fear', 'Disgust', 'Neutral']"
      ]
    },
    {
      "cell_type": "code",
      "execution_count": 114,
      "id": "c3a42439",
      "metadata": {
        "id": "c3a42439"
      },
      "outputs": [],
      "source": [
        "def get_emotion(sentiment_score):\n",
        "    if sentiment_score > 0.3:\n",
        "        return 'Joy'\n",
        "    elif sentiment_score < -0.3:\n",
        "        return 'Sadness'\n",
        "    elif sentiment_score > 0:\n",
        "        return 'Surprise'\n",
        "    elif sentiment_score < 0:\n",
        "        return 'Anger'\n",
        "    else:\n",
        "        return 'Neutral'"
      ]
    },
    {
      "cell_type": "markdown",
      "id": "91f57691",
      "metadata": {
        "id": "91f57691"
      },
      "source": [
        "if sentiment_score > 0.3:: If the sentiment score is greater than 0.3, the function returns 'Joy'. This means that if the sentiment of a review is very positive (above 0.3), the emotion associated with it is considered to be joy.\n",
        "\n",
        "if sentiment_score < -0.3:: If the sentiment score is less than -0.3, the function returns 'Sadness'. This means that if the sentiment of a review is very negative (below -0.3), the emotion associated with it is considered to be sadness.\n",
        "\n",
        "if sentiment_score > 0:: If the sentiment score is greater than 0 (but not as high as 0.3), the function returns 'Surprise'. This means that moderately positive sentiments are associated with surprise.\n",
        "\n",
        "if sentiment_score < 0:: If the sentiment score is less than 0 (but not as low as -0.3), the function returns 'Anger'. This means that moderately negative sentiments are associated with anger.\n",
        "\n",
        "else:: If the sentiment score is exactly 0, the function returns 'Neutral'. This means that reviews with a sentiment score close to 0 are considered neutral in emotion."
      ]
    },
    {
      "cell_type": "code",
      "execution_count": 115,
      "id": "841ebac8",
      "metadata": {
        "id": "841ebac8"
      },
      "outputs": [],
      "source": [
        "df_review_text['emotion'] = df_review_text['sentiment_score'].apply(get_emotion)"
      ]
    },
    {
      "cell_type": "code",
      "execution_count": 116,
      "id": "f25a32a7",
      "metadata": {
        "colab": {
          "base_uri": "https://localhost:8080/"
        },
        "id": "f25a32a7",
        "outputId": "df2b816b-76c6-4d81-b769-0a42eb450ed3"
      },
      "outputs": [
        {
          "output_type": "stream",
          "name": "stdout",
          "text": [
            "                                            cleaned_review sentiment  \\\n",
            "0        first time read garciaaguilera came upon name ...  Positive   \n",
            "1        ms garciaaguileras books think must read impos...  Positive   \n",
            "2        ive read ms aguileras works finished one hot s...  Positive   \n",
            "3        romance novel right rest amazing mystery novel...  Positive   \n",
            "4        carolina garcia aguilera done shes written ano...  Positive   \n",
            "...                                                    ...       ...   \n",
            "1048570          mm hiresolution pcs lens filter kit black   Neutral   \n",
            "1048571                            low cost filter kit job  Negative   \n",
            "1048572                                          filer kit   Neutral   \n",
            "1048573                                     best bang buck  Positive   \n",
            "1048574                                     great exercise  Positive   \n",
            "\n",
            "          emotion category  \n",
            "0             Joy  General  \n",
            "1             Joy  General  \n",
            "2        Surprise  General  \n",
            "3             Joy  General  \n",
            "4             Joy  General  \n",
            "...           ...      ...  \n",
            "1048570   Neutral  General  \n",
            "1048571     Anger  General  \n",
            "1048572   Neutral  General  \n",
            "1048573       Joy  General  \n",
            "1048574       Joy  General  \n",
            "\n",
            "[1046804 rows x 4 columns]\n"
          ]
        }
      ],
      "source": [
        "print(df_review_text[['cleaned_review', 'sentiment', 'emotion', 'category']])"
      ]
    },
    {
      "cell_type": "code",
      "execution_count": 117,
      "id": "72ac3819",
      "metadata": {
        "scrolled": true,
        "colab": {
          "base_uri": "https://localhost:8080/",
          "height": 363
        },
        "id": "72ac3819",
        "outputId": "c2fd1734-d594-4b53-d24a-d43edf4541ea"
      },
      "outputs": [
        {
          "output_type": "execute_result",
          "data": {
            "text/plain": [
              "                                          reviewText  \\\n",
              "0  This was the first time I read Garcia-Aguilera...   \n",
              "1  As with all of Ms. Garcia-Aguilera's books, I ...   \n",
              "2  I've not read any of Ms Aguilera's works befor...   \n",
              "3  This romance novel is right up there with the ...   \n",
              "4  Carolina Garcia Aguilera has done it again.  S...   \n",
              "5  Not only can she write mysteries,but she sure ...   \n",
              "6  Once again Garcia-Aguilera has written a book ...   \n",
              "7  The timing is just right for a good book. Actu...   \n",
              "8  Engaging. Dark. Reading the book you could alm...   \n",
              "9  Set amid the backdrop of New York City's imper...   \n",
              "\n",
              "                                      cleaned_review  sentiment_score  \\\n",
              "0  first time read garciaaguilera came upon name ...           0.9764   \n",
              "1  ms garciaaguileras books think must read impos...           0.8807   \n",
              "2  ive read ms aguileras works finished one hot s...           0.0772   \n",
              "3  romance novel right rest amazing mystery novel...           0.9858   \n",
              "4  carolina garcia aguilera done shes written ano...           0.4927   \n",
              "5  write mysteriesbut sure write love story one h...           0.7579   \n",
              "6  garciaaguilera written book cant put read love...           0.9304   \n",
              "7  timing right good book actually long overdue t...           0.8324   \n",
              "8  engaging dark reading book could almost feel t...           0.3306   \n",
              "9  set amid backdrop new york citys impervious hi...           0.9774   \n",
              "\n",
              "  sentiment category   emotion  \n",
              "0  Positive  General       Joy  \n",
              "1  Positive  General       Joy  \n",
              "2  Positive  General  Surprise  \n",
              "3  Positive  General       Joy  \n",
              "4  Positive  General       Joy  \n",
              "5  Positive  General       Joy  \n",
              "6  Positive     Care       Joy  \n",
              "7  Positive     Care       Joy  \n",
              "8  Positive     Care       Joy  \n",
              "9  Positive  General       Joy  "
            ],
            "text/html": [
              "\n",
              "  <div id=\"df-70e6c51b-615f-4b8f-a9a1-986270309a71\" class=\"colab-df-container\">\n",
              "    <div>\n",
              "<style scoped>\n",
              "    .dataframe tbody tr th:only-of-type {\n",
              "        vertical-align: middle;\n",
              "    }\n",
              "\n",
              "    .dataframe tbody tr th {\n",
              "        vertical-align: top;\n",
              "    }\n",
              "\n",
              "    .dataframe thead th {\n",
              "        text-align: right;\n",
              "    }\n",
              "</style>\n",
              "<table border=\"1\" class=\"dataframe\">\n",
              "  <thead>\n",
              "    <tr style=\"text-align: right;\">\n",
              "      <th></th>\n",
              "      <th>reviewText</th>\n",
              "      <th>cleaned_review</th>\n",
              "      <th>sentiment_score</th>\n",
              "      <th>sentiment</th>\n",
              "      <th>category</th>\n",
              "      <th>emotion</th>\n",
              "    </tr>\n",
              "  </thead>\n",
              "  <tbody>\n",
              "    <tr>\n",
              "      <th>0</th>\n",
              "      <td>This was the first time I read Garcia-Aguilera...</td>\n",
              "      <td>first time read garciaaguilera came upon name ...</td>\n",
              "      <td>0.9764</td>\n",
              "      <td>Positive</td>\n",
              "      <td>General</td>\n",
              "      <td>Joy</td>\n",
              "    </tr>\n",
              "    <tr>\n",
              "      <th>1</th>\n",
              "      <td>As with all of Ms. Garcia-Aguilera's books, I ...</td>\n",
              "      <td>ms garciaaguileras books think must read impos...</td>\n",
              "      <td>0.8807</td>\n",
              "      <td>Positive</td>\n",
              "      <td>General</td>\n",
              "      <td>Joy</td>\n",
              "    </tr>\n",
              "    <tr>\n",
              "      <th>2</th>\n",
              "      <td>I've not read any of Ms Aguilera's works befor...</td>\n",
              "      <td>ive read ms aguileras works finished one hot s...</td>\n",
              "      <td>0.0772</td>\n",
              "      <td>Positive</td>\n",
              "      <td>General</td>\n",
              "      <td>Surprise</td>\n",
              "    </tr>\n",
              "    <tr>\n",
              "      <th>3</th>\n",
              "      <td>This romance novel is right up there with the ...</td>\n",
              "      <td>romance novel right rest amazing mystery novel...</td>\n",
              "      <td>0.9858</td>\n",
              "      <td>Positive</td>\n",
              "      <td>General</td>\n",
              "      <td>Joy</td>\n",
              "    </tr>\n",
              "    <tr>\n",
              "      <th>4</th>\n",
              "      <td>Carolina Garcia Aguilera has done it again.  S...</td>\n",
              "      <td>carolina garcia aguilera done shes written ano...</td>\n",
              "      <td>0.4927</td>\n",
              "      <td>Positive</td>\n",
              "      <td>General</td>\n",
              "      <td>Joy</td>\n",
              "    </tr>\n",
              "    <tr>\n",
              "      <th>5</th>\n",
              "      <td>Not only can she write mysteries,but she sure ...</td>\n",
              "      <td>write mysteriesbut sure write love story one h...</td>\n",
              "      <td>0.7579</td>\n",
              "      <td>Positive</td>\n",
              "      <td>General</td>\n",
              "      <td>Joy</td>\n",
              "    </tr>\n",
              "    <tr>\n",
              "      <th>6</th>\n",
              "      <td>Once again Garcia-Aguilera has written a book ...</td>\n",
              "      <td>garciaaguilera written book cant put read love...</td>\n",
              "      <td>0.9304</td>\n",
              "      <td>Positive</td>\n",
              "      <td>Care</td>\n",
              "      <td>Joy</td>\n",
              "    </tr>\n",
              "    <tr>\n",
              "      <th>7</th>\n",
              "      <td>The timing is just right for a good book. Actu...</td>\n",
              "      <td>timing right good book actually long overdue t...</td>\n",
              "      <td>0.8324</td>\n",
              "      <td>Positive</td>\n",
              "      <td>Care</td>\n",
              "      <td>Joy</td>\n",
              "    </tr>\n",
              "    <tr>\n",
              "      <th>8</th>\n",
              "      <td>Engaging. Dark. Reading the book you could alm...</td>\n",
              "      <td>engaging dark reading book could almost feel t...</td>\n",
              "      <td>0.3306</td>\n",
              "      <td>Positive</td>\n",
              "      <td>Care</td>\n",
              "      <td>Joy</td>\n",
              "    </tr>\n",
              "    <tr>\n",
              "      <th>9</th>\n",
              "      <td>Set amid the backdrop of New York City's imper...</td>\n",
              "      <td>set amid backdrop new york citys impervious hi...</td>\n",
              "      <td>0.9774</td>\n",
              "      <td>Positive</td>\n",
              "      <td>General</td>\n",
              "      <td>Joy</td>\n",
              "    </tr>\n",
              "  </tbody>\n",
              "</table>\n",
              "</div>\n",
              "    <div class=\"colab-df-buttons\">\n",
              "\n",
              "  <div class=\"colab-df-container\">\n",
              "    <button class=\"colab-df-convert\" onclick=\"convertToInteractive('df-70e6c51b-615f-4b8f-a9a1-986270309a71')\"\n",
              "            title=\"Convert this dataframe to an interactive table.\"\n",
              "            style=\"display:none;\">\n",
              "\n",
              "  <svg xmlns=\"http://www.w3.org/2000/svg\" height=\"24px\" viewBox=\"0 -960 960 960\">\n",
              "    <path d=\"M120-120v-720h720v720H120Zm60-500h600v-160H180v160Zm220 220h160v-160H400v160Zm0 220h160v-160H400v160ZM180-400h160v-160H180v160Zm440 0h160v-160H620v160ZM180-180h160v-160H180v160Zm440 0h160v-160H620v160Z\"/>\n",
              "  </svg>\n",
              "    </button>\n",
              "\n",
              "  <style>\n",
              "    .colab-df-container {\n",
              "      display:flex;\n",
              "      gap: 12px;\n",
              "    }\n",
              "\n",
              "    .colab-df-convert {\n",
              "      background-color: #E8F0FE;\n",
              "      border: none;\n",
              "      border-radius: 50%;\n",
              "      cursor: pointer;\n",
              "      display: none;\n",
              "      fill: #1967D2;\n",
              "      height: 32px;\n",
              "      padding: 0 0 0 0;\n",
              "      width: 32px;\n",
              "    }\n",
              "\n",
              "    .colab-df-convert:hover {\n",
              "      background-color: #E2EBFA;\n",
              "      box-shadow: 0px 1px 2px rgba(60, 64, 67, 0.3), 0px 1px 3px 1px rgba(60, 64, 67, 0.15);\n",
              "      fill: #174EA6;\n",
              "    }\n",
              "\n",
              "    .colab-df-buttons div {\n",
              "      margin-bottom: 4px;\n",
              "    }\n",
              "\n",
              "    [theme=dark] .colab-df-convert {\n",
              "      background-color: #3B4455;\n",
              "      fill: #D2E3FC;\n",
              "    }\n",
              "\n",
              "    [theme=dark] .colab-df-convert:hover {\n",
              "      background-color: #434B5C;\n",
              "      box-shadow: 0px 1px 3px 1px rgba(0, 0, 0, 0.15);\n",
              "      filter: drop-shadow(0px 1px 2px rgba(0, 0, 0, 0.3));\n",
              "      fill: #FFFFFF;\n",
              "    }\n",
              "  </style>\n",
              "\n",
              "    <script>\n",
              "      const buttonEl =\n",
              "        document.querySelector('#df-70e6c51b-615f-4b8f-a9a1-986270309a71 button.colab-df-convert');\n",
              "      buttonEl.style.display =\n",
              "        google.colab.kernel.accessAllowed ? 'block' : 'none';\n",
              "\n",
              "      async function convertToInteractive(key) {\n",
              "        const element = document.querySelector('#df-70e6c51b-615f-4b8f-a9a1-986270309a71');\n",
              "        const dataTable =\n",
              "          await google.colab.kernel.invokeFunction('convertToInteractive',\n",
              "                                                    [key], {});\n",
              "        if (!dataTable) return;\n",
              "\n",
              "        const docLinkHtml = 'Like what you see? Visit the ' +\n",
              "          '<a target=\"_blank\" href=https://colab.research.google.com/notebooks/data_table.ipynb>data table notebook</a>'\n",
              "          + ' to learn more about interactive tables.';\n",
              "        element.innerHTML = '';\n",
              "        dataTable['output_type'] = 'display_data';\n",
              "        await google.colab.output.renderOutput(dataTable, element);\n",
              "        const docLink = document.createElement('div');\n",
              "        docLink.innerHTML = docLinkHtml;\n",
              "        element.appendChild(docLink);\n",
              "      }\n",
              "    </script>\n",
              "  </div>\n",
              "\n",
              "\n",
              "<div id=\"df-053739cb-947e-428f-a271-39db539d6944\">\n",
              "  <button class=\"colab-df-quickchart\" onclick=\"quickchart('df-053739cb-947e-428f-a271-39db539d6944')\"\n",
              "            title=\"Suggest charts.\"\n",
              "            style=\"display:none;\">\n",
              "\n",
              "<svg xmlns=\"http://www.w3.org/2000/svg\" height=\"24px\"viewBox=\"0 0 24 24\"\n",
              "     width=\"24px\">\n",
              "    <g>\n",
              "        <path d=\"M19 3H5c-1.1 0-2 .9-2 2v14c0 1.1.9 2 2 2h14c1.1 0 2-.9 2-2V5c0-1.1-.9-2-2-2zM9 17H7v-7h2v7zm4 0h-2V7h2v10zm4 0h-2v-4h2v4z\"/>\n",
              "    </g>\n",
              "</svg>\n",
              "  </button>\n",
              "\n",
              "<style>\n",
              "  .colab-df-quickchart {\n",
              "    background-color: #E8F0FE;\n",
              "    border: none;\n",
              "    border-radius: 50%;\n",
              "    cursor: pointer;\n",
              "    display: none;\n",
              "    fill: #1967D2;\n",
              "    height: 32px;\n",
              "    padding: 0 0 0 0;\n",
              "    width: 32px;\n",
              "  }\n",
              "\n",
              "  .colab-df-quickchart:hover {\n",
              "    background-color: #E2EBFA;\n",
              "    box-shadow: 0px 1px 2px rgba(60, 64, 67, 0.3), 0px 1px 3px 1px rgba(60, 64, 67, 0.15);\n",
              "    fill: #174EA6;\n",
              "  }\n",
              "\n",
              "  [theme=dark] .colab-df-quickchart {\n",
              "    background-color: #3B4455;\n",
              "    fill: #D2E3FC;\n",
              "  }\n",
              "\n",
              "  [theme=dark] .colab-df-quickchart:hover {\n",
              "    background-color: #434B5C;\n",
              "    box-shadow: 0px 1px 3px 1px rgba(0, 0, 0, 0.15);\n",
              "    filter: drop-shadow(0px 1px 2px rgba(0, 0, 0, 0.3));\n",
              "    fill: #FFFFFF;\n",
              "  }\n",
              "</style>\n",
              "\n",
              "  <script>\n",
              "    async function quickchart(key) {\n",
              "      const charts = await google.colab.kernel.invokeFunction(\n",
              "          'suggestCharts', [key], {});\n",
              "    }\n",
              "    (() => {\n",
              "      let quickchartButtonEl =\n",
              "        document.querySelector('#df-053739cb-947e-428f-a271-39db539d6944 button');\n",
              "      quickchartButtonEl.style.display =\n",
              "        google.colab.kernel.accessAllowed ? 'block' : 'none';\n",
              "    })();\n",
              "  </script>\n",
              "</div>\n",
              "    </div>\n",
              "  </div>\n"
            ]
          },
          "metadata": {},
          "execution_count": 117
        }
      ],
      "source": [
        "df_review_text.head(10)"
      ]
    },
    {
      "cell_type": "code",
      "execution_count": 118,
      "id": "49805780",
      "metadata": {
        "id": "49805780"
      },
      "outputs": [],
      "source": [
        "emotion_counts = df_review_text['emotion'].value_counts()"
      ]
    },
    {
      "cell_type": "code",
      "execution_count": 119,
      "id": "b0b24031",
      "metadata": {
        "scrolled": true,
        "colab": {
          "base_uri": "https://localhost:8080/",
          "height": 601
        },
        "id": "b0b24031",
        "outputId": "92b6f3cd-6463-4339-f07d-7bc50dc637a7"
      },
      "outputs": [
        {
          "output_type": "display_data",
          "data": {
            "text/plain": [
              "<Figure size 800x600 with 1 Axes>"
            ],
            "image/png": "[encoded data removed]"
          },
          "metadata": {}
        }
      ],
      "source": [
        "plt.figure(figsize=(8, 6))\n",
        "plt.bar(emotion_counts.index, emotion_counts.values, color=['green', 'red', 'blue', 'purple', 'gray'])\n",
        "plt.xlabel('Emotion')\n",
        "plt.ylabel('Number of Reviews')\n",
        "plt.title('Distribution of Emotions')\n",
        "plt.xticks(rotation=45)\n",
        "plt.show()"
      ]
    },
    {
      "cell_type": "code",
      "execution_count": 120,
      "id": "2c5fa2df",
      "metadata": {
        "scrolled": true,
        "colab": {
          "base_uri": "https://localhost:8080/"
        },
        "id": "2c5fa2df",
        "outputId": "361e6ad5-3a7c-47af-8aba-ac3630c795cc"
      },
      "outputs": [
        {
          "output_type": "stream",
          "name": "stdout",
          "text": [
            "Emotion Counts:\n",
            "Joy         602326\n",
            "Neutral     281434\n",
            "Surprise     64975\n",
            "Sadness      64955\n",
            "Anger        33114\n",
            "Name: emotion, dtype: int64\n"
          ]
        }
      ],
      "source": [
        "print(\"Emotion Counts:\")\n",
        "print(emotion_counts)"
      ]
    },
    {
      "cell_type": "markdown",
      "id": "1427a878",
      "metadata": {
        "id": "1427a878"
      },
      "source": [
        "#### Heat Map - Emotion Vs Sentiment"
      ]
    },
    {
      "cell_type": "code",
      "execution_count": 121,
      "id": "7246263c",
      "metadata": {
        "colab": {
          "base_uri": "https://localhost:8080/",
          "height": 564
        },
        "id": "7246263c",
        "outputId": "b84b364d-0711-49bd-8f55-28de0544e6c8"
      },
      "outputs": [
        {
          "output_type": "display_data",
          "data": {
            "text/plain": [
              "<Figure size 800x600 with 2 Axes>"
            ],
            "image/png": "[encoded data removed]"
          },
          "metadata": {}
        }
      ],
      "source": [
        "emotion_sentiment_pivot = df_review_text.pivot_table(index='emotion', columns='sentiment', values='cleaned_review', aggfunc='count')\n",
        "plt.figure(figsize=(8, 6))\n",
        "sns.heatmap(emotion_sentiment_pivot, annot=True, fmt='g', cmap='YlGnBu')\n",
        "plt.title('Emotion Distribution by Sentiment')\n",
        "plt.xlabel('Sentiment')\n",
        "plt.ylabel('Emotion')\n",
        "plt.show()"
      ]
    },
    {
      "cell_type": "markdown",
      "id": "107ad5e7",
      "metadata": {
        "id": "107ad5e7"
      },
      "source": [
        "#### Comparison of Sentiment, Category, and Emotion"
      ]
    },
    {
      "cell_type": "code",
      "execution_count": 122,
      "id": "157359fb",
      "metadata": {
        "colab": {
          "base_uri": "https://localhost:8080/",
          "height": 542
        },
        "id": "157359fb",
        "outputId": "43eecc11-e384-4661-accb-0cf859e0cac1"
      },
      "outputs": [
        {
          "output_type": "display_data",
          "data": {
            "text/html": [
              "<html>\n",
              "<head><meta charset=\"utf-8\" /></head>\n",
              "<body>\n",
              "    <div>            <script src=\"https://cdnjs.cloudflare.com/ajax/libs/mathjax/2.7.5/MathJax.js?config=TeX-AMS-MML_SVG\"></script><script type=\"text/javascript\">if (window.MathJax && window.MathJax.Hub && window.MathJax.Hub.Config) {window.MathJax.Hub.Config({SVG: {font: \"STIX-Web\"}});}</script>                <script type=\"text/javascript\">window.PlotlyConfig = {MathJaxConfig: 'local'};</script>\n",
              "        <script charset=\"utf-8\" src=\"https://cdn.plot.ly/plotly-2.24.1.min.js\"></script>                <div id=\"e67b4017-daa8-4914-9a33-598d7b0e01f1\" class=\"plotly-graph-div\" style=\"height:525px; width:100%;\"></div>            <script type=\"text/javascript\">                                    window.PLOTLYENV=window.PLOTLYENV || {};                                    if (document.getElementById(\"e67b4017-daa8-4914-9a33-598d7b0e01f1\")) {                    Plotly.newPlot(                        \"e67b4017-daa8-4914-9a33-598d7b0e01f1\",                        [{\"alignmentgroup\":\"True\",\"hovertemplate\":\"emotion=Anger\\u003cbr\\u003ecategory=Care\\u003cbr\\u003eSentiment=%{x}\\u003cbr\\u003eCount=%{y}\\u003cextra\\u003e\\u003c\\u002fextra\\u003e\",\"legendgroup\":\"Anger\",\"marker\":{\"color\":\"#636efa\",\"pattern\":{\"shape\":\"\"}},\"name\":\"Anger\",\"offsetgroup\":\"Anger\",\"orientation\":\"v\",\"showlegend\":true,\"textposition\":\"auto\",\"x\":[\"Negative\",\"Neutral\"],\"xaxis\":\"x\",\"y\":[5797,766],\"yaxis\":\"y\",\"type\":\"bar\"},{\"alignmentgroup\":\"True\",\"hovertemplate\":\"emotion=Anger\\u003cbr\\u003ecategory=General\\u003cbr\\u003eSentiment=%{x}\\u003cbr\\u003eCount=%{y}\\u003cextra\\u003e\\u003c\\u002fextra\\u003e\",\"legendgroup\":\"Anger\",\"marker\":{\"color\":\"#636efa\",\"pattern\":{\"shape\":\"\"}},\"name\":\"Anger\",\"offsetgroup\":\"Anger\",\"orientation\":\"v\",\"showlegend\":false,\"textposition\":\"auto\",\"x\":[\"Negative\",\"Neutral\"],\"xaxis\":\"x2\",\"y\":[19074,1649],\"yaxis\":\"y2\",\"type\":\"bar\"},{\"alignmentgroup\":\"True\",\"hovertemplate\":\"emotion=Anger\\u003cbr\\u003ecategory=Leads\\u003cbr\\u003eSentiment=%{x}\\u003cbr\\u003eCount=%{y}\\u003cextra\\u003e\\u003c\\u002fextra\\u003e\",\"legendgroup\":\"Anger\",\"marker\":{\"color\":\"#636efa\",\"pattern\":{\"shape\":\"\"}},\"name\":\"Anger\",\"offsetgroup\":\"Anger\",\"orientation\":\"v\",\"showlegend\":false,\"textposition\":\"auto\",\"x\":[\"Negative\",\"Neutral\"],\"xaxis\":\"x3\",\"y\":[5143,685],\"yaxis\":\"y3\",\"type\":\"bar\"},{\"alignmentgroup\":\"True\",\"hovertemplate\":\"emotion=Sadness\\u003cbr\\u003ecategory=Care\\u003cbr\\u003eSentiment=%{x}\\u003cbr\\u003eCount=%{y}\\u003cextra\\u003e\\u003c\\u002fextra\\u003e\",\"legendgroup\":\"Sadness\",\"marker\":{\"color\":\"#EF553B\",\"pattern\":{\"shape\":\"\"}},\"name\":\"Sadness\",\"offsetgroup\":\"Sadness\",\"orientation\":\"v\",\"showlegend\":true,\"textposition\":\"auto\",\"x\":[\"Negative\"],\"xaxis\":\"x\",\"y\":[17006],\"yaxis\":\"y\",\"type\":\"bar\"},{\"alignmentgroup\":\"True\",\"hovertemplate\":\"emotion=Sadness\\u003cbr\\u003ecategory=General\\u003cbr\\u003eSentiment=%{x}\\u003cbr\\u003eCount=%{y}\\u003cextra\\u003e\\u003c\\u002fextra\\u003e\",\"legendgroup\":\"Sadness\",\"marker\":{\"color\":\"#EF553B\",\"pattern\":{\"shape\":\"\"}},\"name\":\"Sadness\",\"offsetgroup\":\"Sadness\",\"orientation\":\"v\",\"showlegend\":false,\"textposition\":\"auto\",\"x\":[\"Negative\"],\"xaxis\":\"x2\",\"y\":[36433],\"yaxis\":\"y2\",\"type\":\"bar\"},{\"alignmentgroup\":\"True\",\"hovertemplate\":\"emotion=Sadness\\u003cbr\\u003ecategory=Leads\\u003cbr\\u003eSentiment=%{x}\\u003cbr\\u003eCount=%{y}\\u003cextra\\u003e\\u003c\\u002fextra\\u003e\",\"legendgroup\":\"Sadness\",\"marker\":{\"color\":\"#EF553B\",\"pattern\":{\"shape\":\"\"}},\"name\":\"Sadness\",\"offsetgroup\":\"Sadness\",\"orientation\":\"v\",\"showlegend\":false,\"textposition\":\"auto\",\"x\":[\"Negative\"],\"xaxis\":\"x3\",\"y\":[11516],\"yaxis\":\"y3\",\"type\":\"bar\"},{\"alignmentgroup\":\"True\",\"hovertemplate\":\"emotion=Neutral\\u003cbr\\u003ecategory=Care\\u003cbr\\u003eSentiment=%{x}\\u003cbr\\u003eCount=%{y}\\u003cextra\\u003e\\u003c\\u002fextra\\u003e\",\"legendgroup\":\"Neutral\",\"marker\":{\"color\":\"#00cc96\",\"pattern\":{\"shape\":\"\"}},\"name\":\"Neutral\",\"offsetgroup\":\"Neutral\",\"orientation\":\"v\",\"showlegend\":true,\"textposition\":\"auto\",\"x\":[\"Neutral\"],\"xaxis\":\"x\",\"y\":[1802],\"yaxis\":\"y\",\"type\":\"bar\"},{\"alignmentgroup\":\"True\",\"hovertemplate\":\"emotion=Neutral\\u003cbr\\u003ecategory=General\\u003cbr\\u003eSentiment=%{x}\\u003cbr\\u003eCount=%{y}\\u003cextra\\u003e\\u003c\\u002fextra\\u003e\",\"legendgroup\":\"Neutral\",\"marker\":{\"color\":\"#00cc96\",\"pattern\":{\"shape\":\"\"}},\"name\":\"Neutral\",\"offsetgroup\":\"Neutral\",\"orientation\":\"v\",\"showlegend\":false,\"textposition\":\"auto\",\"x\":[\"Neutral\"],\"xaxis\":\"x2\",\"y\":[269135],\"yaxis\":\"y2\",\"type\":\"bar\"},{\"alignmentgroup\":\"True\",\"hovertemplate\":\"emotion=Neutral\\u003cbr\\u003ecategory=Leads\\u003cbr\\u003eSentiment=%{x}\\u003cbr\\u003eCount=%{y}\\u003cextra\\u003e\\u003c\\u002fextra\\u003e\",\"legendgroup\":\"Neutral\",\"marker\":{\"color\":\"#00cc96\",\"pattern\":{\"shape\":\"\"}},\"name\":\"Neutral\",\"offsetgroup\":\"Neutral\",\"orientation\":\"v\",\"showlegend\":false,\"textposition\":\"auto\",\"x\":[\"Neutral\"],\"xaxis\":\"x3\",\"y\":[10497],\"yaxis\":\"y3\",\"type\":\"bar\"},{\"alignmentgroup\":\"True\",\"hovertemplate\":\"emotion=Surprise\\u003cbr\\u003ecategory=Care\\u003cbr\\u003eSentiment=%{x}\\u003cbr\\u003eCount=%{y}\\u003cextra\\u003e\\u003c\\u002fextra\\u003e\",\"legendgroup\":\"Surprise\",\"marker\":{\"color\":\"#ab63fa\",\"pattern\":{\"shape\":\"\"}},\"name\":\"Surprise\",\"offsetgroup\":\"Surprise\",\"orientation\":\"v\",\"showlegend\":true,\"textposition\":\"auto\",\"x\":[\"Neutral\",\"Positive\"],\"xaxis\":\"x\",\"y\":[795,6698],\"yaxis\":\"y\",\"type\":\"bar\"},{\"alignmentgroup\":\"True\",\"hovertemplate\":\"emotion=Surprise\\u003cbr\\u003ecategory=General\\u003cbr\\u003eSentiment=%{x}\\u003cbr\\u003eCount=%{y}\\u003cextra\\u003e\\u003c\\u002fextra\\u003e\",\"legendgroup\":\"Surprise\",\"marker\":{\"color\":\"#ab63fa\",\"pattern\":{\"shape\":\"\"}},\"name\":\"Surprise\",\"offsetgroup\":\"Surprise\",\"orientation\":\"v\",\"showlegend\":false,\"textposition\":\"auto\",\"x\":[\"Neutral\",\"Positive\"],\"xaxis\":\"x2\",\"y\":[1957,46919],\"yaxis\":\"y2\",\"type\":\"bar\"},{\"alignmentgroup\":\"True\",\"hovertemplate\":\"emotion=Surprise\\u003cbr\\u003ecategory=Leads\\u003cbr\\u003eSentiment=%{x}\\u003cbr\\u003eCount=%{y}\\u003cextra\\u003e\\u003c\\u002fextra\\u003e\",\"legendgroup\":\"Surprise\",\"marker\":{\"color\":\"#ab63fa\",\"pattern\":{\"shape\":\"\"}},\"name\":\"Surprise\",\"offsetgroup\":\"Surprise\",\"orientation\":\"v\",\"showlegend\":false,\"textposition\":\"auto\",\"x\":[\"Neutral\",\"Positive\"],\"xaxis\":\"x3\",\"y\":[725,7881],\"yaxis\":\"y3\",\"type\":\"bar\"},{\"alignmentgroup\":\"True\",\"hovertemplate\":\"emotion=Joy\\u003cbr\\u003ecategory=Care\\u003cbr\\u003eSentiment=%{x}\\u003cbr\\u003eCount=%{y}\\u003cextra\\u003e\\u003c\\u002fextra\\u003e\",\"legendgroup\":\"Joy\",\"marker\":{\"color\":\"#FFA15A\",\"pattern\":{\"shape\":\"\"}},\"name\":\"Joy\",\"offsetgroup\":\"Joy\",\"orientation\":\"v\",\"showlegend\":true,\"textposition\":\"auto\",\"x\":[\"Positive\"],\"xaxis\":\"x\",\"y\":[62970],\"yaxis\":\"y\",\"type\":\"bar\"},{\"alignmentgroup\":\"True\",\"hovertemplate\":\"emotion=Joy\\u003cbr\\u003ecategory=General\\u003cbr\\u003eSentiment=%{x}\\u003cbr\\u003eCount=%{y}\\u003cextra\\u003e\\u003c\\u002fextra\\u003e\",\"legendgroup\":\"Joy\",\"marker\":{\"color\":\"#FFA15A\",\"pattern\":{\"shape\":\"\"}},\"name\":\"Joy\",\"offsetgroup\":\"Joy\",\"orientation\":\"v\",\"showlegend\":false,\"textposition\":\"auto\",\"x\":[\"Positive\"],\"xaxis\":\"x2\",\"y\":[407459],\"yaxis\":\"y2\",\"type\":\"bar\"},{\"alignmentgroup\":\"True\",\"hovertemplate\":\"emotion=Joy\\u003cbr\\u003ecategory=Leads\\u003cbr\\u003eSentiment=%{x}\\u003cbr\\u003eCount=%{y}\\u003cextra\\u003e\\u003c\\u002fextra\\u003e\",\"legendgroup\":\"Joy\",\"marker\":{\"color\":\"#FFA15A\",\"pattern\":{\"shape\":\"\"}},\"name\":\"Joy\",\"offsetgroup\":\"Joy\",\"orientation\":\"v\",\"showlegend\":false,\"textposition\":\"auto\",\"x\":[\"Positive\"],\"xaxis\":\"x3\",\"y\":[131897],\"yaxis\":\"y3\",\"type\":\"bar\"}],                        {\"template\":{\"data\":{\"histogram2dcontour\":[{\"type\":\"histogram2dcontour\",\"colorbar\":{\"outlinewidth\":0,\"ticks\":\"\"},\"colorscale\":[[0.0,\"#0d0887\"],[0.1111111111111111,\"#46039f\"],[0.2222222222222222,\"#7201a8\"],[0.3333333333333333,\"#9c179e\"],[0.4444444444444444,\"#bd3786\"],[0.5555555555555556,\"#d8576b\"],[0.6666666666666666,\"#ed7953\"],[0.7777777777777778,\"#fb9f3a\"],[0.8888888888888888,\"#fdca26\"],[1.0,\"#f0f921\"]]}],\"choropleth\":[{\"type\":\"choropleth\",\"colorbar\":{\"outlinewidth\":0,\"ticks\":\"\"}}],\"histogram2d\":[{\"type\":\"histogram2d\",\"colorbar\":{\"outlinewidth\":0,\"ticks\":\"\"},\"colorscale\":[[0.0,\"#0d0887\"],[0.1111111111111111,\"#46039f\"],[0.2222222222222222,\"#7201a8\"],[0.3333333333333333,\"#9c179e\"],[0.4444444444444444,\"#bd3786\"],[0.5555555555555556,\"#d8576b\"],[0.6666666666666666,\"#ed7953\"],[0.7777777777777778,\"#fb9f3a\"],[0.8888888888888888,\"#fdca26\"],[1.0,\"#f0f921\"]]}],\"heatmap\":[{\"type\":\"heatmap\",\"colorbar\":{\"outlinewidth\":0,\"ticks\":\"\"},\"colorscale\":[[0.0,\"#0d0887\"],[0.1111111111111111,\"#46039f\"],[0.2222222222222222,\"#7201a8\"],[0.3333333333333333,\"#9c179e\"],[0.4444444444444444,\"#bd3786\"],[0.5555555555555556,\"#d8576b\"],[0.6666666666666666,\"#ed7953\"],[0.7777777777777778,\"#fb9f3a\"],[0.8888888888888888,\"#fdca26\"],[1.0,\"#f0f921\"]]}],\"heatmapgl\":[{\"type\":\"heatmapgl\",\"colorbar\":{\"outlinewidth\":0,\"ticks\":\"\"},\"colorscale\":[[0.0,\"#0d0887\"],[0.1111111111111111,\"#46039f\"],[0.2222222222222222,\"#7201a8\"],[0.3333333333333333,\"#9c179e\"],[0.4444444444444444,\"#bd3786\"],[0.5555555555555556,\"#d8576b\"],[0.6666666666666666,\"#ed7953\"],[0.7777777777777778,\"#fb9f3a\"],[0.8888888888888888,\"#fdca26\"],[1.0,\"#f0f921\"]]}],\"contourcarpet\":[{\"type\":\"contourcarpet\",\"colorbar\":{\"outlinewidth\":0,\"ticks\":\"\"}}],\"contour\":[{\"type\":\"contour\",\"colorbar\":{\"outlinewidth\":0,\"ticks\":\"\"},\"colorscale\":[[0.0,\"#0d0887\"],[0.1111111111111111,\"#46039f\"],[0.2222222222222222,\"#7201a8\"],[0.3333333333333333,\"#9c179e\"],[0.4444444444444444,\"#bd3786\"],[0.5555555555555556,\"#d8576b\"],[0.6666666666666666,\"#ed7953\"],[0.7777777777777778,\"#fb9f3a\"],[0.8888888888888888,\"#fdca26\"],[1.0,\"#f0f921\"]]}],\"surface\":[{\"type\":\"surface\",\"colorbar\":{\"outlinewidth\":0,\"ticks\":\"\"},\"colorscale\":[[0.0,\"#0d0887\"],[0.1111111111111111,\"#46039f\"],[0.2222222222222222,\"#7201a8\"],[0.3333333333333333,\"#9c179e\"],[0.4444444444444444,\"#bd3786\"],[0.5555555555555556,\"#d8576b\"],[0.6666666666666666,\"#ed7953\"],[0.7777777777777778,\"#fb9f3a\"],[0.8888888888888888,\"#fdca26\"],[1.0,\"#f0f921\"]]}],\"mesh3d\":[{\"type\":\"mesh3d\",\"colorbar\":{\"outlinewidth\":0,\"ticks\":\"\"}}],\"scatter\":[{\"fillpattern\":{\"fillmode\":\"overlay\",\"size\":10,\"solidity\":0.2},\"type\":\"scatter\"}],\"parcoords\":[{\"type\":\"parcoords\",\"line\":{\"colorbar\":{\"outlinewidth\":0,\"ticks\":\"\"}}}],\"scatterpolargl\":[{\"type\":\"scatterpolargl\",\"marker\":{\"colorbar\":{\"outlinewidth\":0,\"ticks\":\"\"}}}],\"bar\":[{\"error_x\":{\"color\":\"#2a3f5f\"},\"error_y\":{\"color\":\"#2a3f5f\"},\"marker\":{\"line\":{\"color\":\"#E5ECF6\",\"width\":0.5},\"pattern\":{\"fillmode\":\"overlay\",\"size\":10,\"solidity\":0.2}},\"type\":\"bar\"}],\"scattergeo\":[{\"type\":\"scattergeo\",\"marker\":{\"colorbar\":{\"outlinewidth\":0,\"ticks\":\"\"}}}],\"scatterpolar\":[{\"type\":\"scatterpolar\",\"marker\":{\"colorbar\":{\"outlinewidth\":0,\"ticks\":\"\"}}}],\"histogram\":[{\"marker\":{\"pattern\":{\"fillmode\":\"overlay\",\"size\":10,\"solidity\":0.2}},\"type\":\"histogram\"}],\"scattergl\":[{\"type\":\"scattergl\",\"marker\":{\"colorbar\":{\"outlinewidth\":0,\"ticks\":\"\"}}}],\"scatter3d\":[{\"type\":\"scatter3d\",\"line\":{\"colorbar\":{\"outlinewidth\":0,\"ticks\":\"\"}},\"marker\":{\"colorbar\":{\"outlinewidth\":0,\"ticks\":\"\"}}}],\"scattermapbox\":[{\"type\":\"scattermapbox\",\"marker\":{\"colorbar\":{\"outlinewidth\":0,\"ticks\":\"\"}}}],\"scatterternary\":[{\"type\":\"scatterternary\",\"marker\":{\"colorbar\":{\"outlinewidth\":0,\"ticks\":\"\"}}}],\"scattercarpet\":[{\"type\":\"scattercarpet\",\"marker\":{\"colorbar\":{\"outlinewidth\":0,\"ticks\":\"\"}}}],\"carpet\":[{\"aaxis\":{\"endlinecolor\":\"#2a3f5f\",\"gridcolor\":\"white\",\"linecolor\":\"white\",\"minorgridcolor\":\"white\",\"startlinecolor\":\"#2a3f5f\"},\"baxis\":{\"endlinecolor\":\"#2a3f5f\",\"gridcolor\":\"white\",\"linecolor\":\"white\",\"minorgridcolor\":\"white\",\"startlinecolor\":\"#2a3f5f\"},\"type\":\"carpet\"}],\"table\":[{\"cells\":{\"fill\":{\"color\":\"#EBF0F8\"},\"line\":{\"color\":\"white\"}},\"header\":{\"fill\":{\"color\":\"#C8D4E3\"},\"line\":{\"color\":\"white\"}},\"type\":\"table\"}],\"barpolar\":[{\"marker\":{\"line\":{\"color\":\"#E5ECF6\",\"width\":0.5},\"pattern\":{\"fillmode\":\"overlay\",\"size\":10,\"solidity\":0.2}},\"type\":\"barpolar\"}],\"pie\":[{\"automargin\":true,\"type\":\"pie\"}]},\"layout\":{\"autotypenumbers\":\"strict\",\"colorway\":[\"#636efa\",\"#EF553B\",\"#00cc96\",\"#ab63fa\",\"#FFA15A\",\"#19d3f3\",\"#FF6692\",\"#B6E880\",\"#FF97FF\",\"#FECB52\"],\"font\":{\"color\":\"#2a3f5f\"},\"hovermode\":\"closest\",\"hoverlabel\":{\"align\":\"left\"},\"paper_bgcolor\":\"white\",\"plot_bgcolor\":\"#E5ECF6\",\"polar\":{\"bgcolor\":\"#E5ECF6\",\"angularaxis\":{\"gridcolor\":\"white\",\"linecolor\":\"white\",\"ticks\":\"\"},\"radialaxis\":{\"gridcolor\":\"white\",\"linecolor\":\"white\",\"ticks\":\"\"}},\"ternary\":{\"bgcolor\":\"#E5ECF6\",\"aaxis\":{\"gridcolor\":\"white\",\"linecolor\":\"white\",\"ticks\":\"\"},\"baxis\":{\"gridcolor\":\"white\",\"linecolor\":\"white\",\"ticks\":\"\"},\"caxis\":{\"gridcolor\":\"white\",\"linecolor\":\"white\",\"ticks\":\"\"}},\"coloraxis\":{\"colorbar\":{\"outlinewidth\":0,\"ticks\":\"\"}},\"colorscale\":{\"sequential\":[[0.0,\"#0d0887\"],[0.1111111111111111,\"#46039f\"],[0.2222222222222222,\"#7201a8\"],[0.3333333333333333,\"#9c179e\"],[0.4444444444444444,\"#bd3786\"],[0.5555555555555556,\"#d8576b\"],[0.6666666666666666,\"#ed7953\"],[0.7777777777777778,\"#fb9f3a\"],[0.8888888888888888,\"#fdca26\"],[1.0,\"#f0f921\"]],\"sequentialminus\":[[0.0,\"#0d0887\"],[0.1111111111111111,\"#46039f\"],[0.2222222222222222,\"#7201a8\"],[0.3333333333333333,\"#9c179e\"],[0.4444444444444444,\"#bd3786\"],[0.5555555555555556,\"#d8576b\"],[0.6666666666666666,\"#ed7953\"],[0.7777777777777778,\"#fb9f3a\"],[0.8888888888888888,\"#fdca26\"],[1.0,\"#f0f921\"]],\"diverging\":[[0,\"#8e0152\"],[0.1,\"#c51b7d\"],[0.2,\"#de77ae\"],[0.3,\"#f1b6da\"],[0.4,\"#fde0ef\"],[0.5,\"#f7f7f7\"],[0.6,\"#e6f5d0\"],[0.7,\"#b8e186\"],[0.8,\"#7fbc41\"],[0.9,\"#4d9221\"],[1,\"#276419\"]]},\"xaxis\":{\"gridcolor\":\"white\",\"linecolor\":\"white\",\"ticks\":\"\",\"title\":{\"standoff\":15},\"zerolinecolor\":\"white\",\"automargin\":true,\"zerolinewidth\":2},\"yaxis\":{\"gridcolor\":\"white\",\"linecolor\":\"white\",\"ticks\":\"\",\"title\":{\"standoff\":15},\"zerolinecolor\":\"white\",\"automargin\":true,\"zerolinewidth\":2},\"scene\":{\"xaxis\":{\"backgroundcolor\":\"#E5ECF6\",\"gridcolor\":\"white\",\"linecolor\":\"white\",\"showbackground\":true,\"ticks\":\"\",\"zerolinecolor\":\"white\",\"gridwidth\":2},\"yaxis\":{\"backgroundcolor\":\"#E5ECF6\",\"gridcolor\":\"white\",\"linecolor\":\"white\",\"showbackground\":true,\"ticks\":\"\",\"zerolinecolor\":\"white\",\"gridwidth\":2},\"zaxis\":{\"backgroundcolor\":\"#E5ECF6\",\"gridcolor\":\"white\",\"linecolor\":\"white\",\"showbackground\":true,\"ticks\":\"\",\"zerolinecolor\":\"white\",\"gridwidth\":2}},\"shapedefaults\":{\"line\":{\"color\":\"#2a3f5f\"}},\"annotationdefaults\":{\"arrowcolor\":\"#2a3f5f\",\"arrowhead\":0,\"arrowwidth\":1},\"geo\":{\"bgcolor\":\"white\",\"landcolor\":\"#E5ECF6\",\"subunitcolor\":\"white\",\"showland\":true,\"showlakes\":true,\"lakecolor\":\"white\"},\"title\":{\"x\":0.05},\"mapbox\":{\"style\":\"light\"}}},\"xaxis\":{\"anchor\":\"y\",\"domain\":[0.0,0.31999999999999995],\"title\":{\"text\":\"Sentiment\"},\"categoryorder\":\"array\",\"categoryarray\":[\"Positive\",\"Neutral\",\"Negative\"]},\"yaxis\":{\"anchor\":\"x\",\"domain\":[0.0,1.0],\"title\":{\"text\":\"Count\"}},\"xaxis2\":{\"anchor\":\"y2\",\"domain\":[0.33999999999999997,0.6599999999999999],\"matches\":\"x\",\"title\":{\"text\":\"Sentiment\"},\"categoryorder\":\"array\",\"categoryarray\":[\"Positive\",\"Neutral\",\"Negative\"]},\"yaxis2\":{\"anchor\":\"x2\",\"domain\":[0.0,1.0],\"matches\":\"y\",\"showticklabels\":false},\"xaxis3\":{\"anchor\":\"y3\",\"domain\":[0.6799999999999999,0.9999999999999999],\"matches\":\"x\",\"title\":{\"text\":\"Sentiment\"},\"categoryorder\":\"array\",\"categoryarray\":[\"Positive\",\"Neutral\",\"Negative\"]},\"yaxis3\":{\"anchor\":\"x3\",\"domain\":[0.0,1.0],\"matches\":\"y\",\"showticklabels\":false},\"annotations\":[{\"font\":{},\"showarrow\":false,\"text\":\"category=Care\",\"x\":0.15999999999999998,\"xanchor\":\"center\",\"xref\":\"paper\",\"y\":1.0,\"yanchor\":\"bottom\",\"yref\":\"paper\"},{\"font\":{},\"showarrow\":false,\"text\":\"category=General\",\"x\":0.49999999999999994,\"xanchor\":\"center\",\"xref\":\"paper\",\"y\":1.0,\"yanchor\":\"bottom\",\"yref\":\"paper\"},{\"font\":{},\"showarrow\":false,\"text\":\"category=Leads\",\"x\":0.8399999999999999,\"xanchor\":\"center\",\"xref\":\"paper\",\"y\":1.0,\"yanchor\":\"bottom\",\"yref\":\"paper\"}],\"legend\":{\"title\":{\"text\":\"emotion\"},\"tracegroupgap\":0},\"title\":{\"text\":\"Comparison of Sentiment, Category, and Emotion\"},\"barmode\":\"relative\"},                        {\"responsive\": true}                    ).then(function(){\n",
              "                            \n",
              "var gd = document.getElementById('e67b4017-daa8-4914-9a33-598d7b0e01f1');\n",
              "var x = new MutationObserver(function (mutations, observer) {{\n",
              "        var display = window.getComputedStyle(gd).display;\n",
              "        if (!display || display === 'none') {{\n",
              "            console.log([gd, 'removed!']);\n",
              "            Plotly.purge(gd);\n",
              "            observer.disconnect();\n",
              "        }}\n",
              "}});\n",
              "\n",
              "// Listen for the removal of the full notebook cells\n",
              "var notebookContainer = gd.closest('#notebook-container');\n",
              "if (notebookContainer) {{\n",
              "    x.observe(notebookContainer, {childList: true});\n",
              "}}\n",
              "\n",
              "// Listen for the clearing of the current output cell\n",
              "var outputEl = gd.closest('.output');\n",
              "if (outputEl) {{\n",
              "    x.observe(outputEl, {childList: true});\n",
              "}}\n",
              "\n",
              "                        })                };                            </script>        </div>\n",
              "</body>\n",
              "</html>"
            ]
          },
          "metadata": {}
        }
      ],
      "source": [
        "import plotly.express as px\n",
        "\n",
        "grouped_df = df_review_text.groupby(['sentiment', 'category', 'emotion']).size().reset_index(name='count')\n",
        "\n",
        "fig = px.bar(grouped_df, x='sentiment', y='count', color='emotion', facet_col='category',\n",
        "             category_orders={'sentiment': ['Positive', 'Neutral', 'Negative']},\n",
        "             labels={'sentiment': 'Sentiment', 'count': 'Count'},\n",
        "             title='Comparison of Sentiment, Category, and Emotion')\n",
        "\n",
        "fig.show()"
      ]
    },
    {
      "cell_type": "markdown",
      "id": "1d924e96",
      "metadata": {
        "id": "1d924e96"
      },
      "source": [
        "#### Objective 2: Understanding the impact of data analytics techniques on social media presence and brand recognition can be achieved through expert interviews."
      ]
    },
    {
      "cell_type": "markdown",
      "id": "e8d1478c",
      "metadata": {
        "id": "e8d1478c"
      },
      "source": [
        "#### Objective 3: Identifying the most effective data analytics techniques for enhancing brand recognition on social media can be accomplished through comprehensive research and analysis of existing literature, case studies, and industry reports."
      ]
    },
    {
      "cell_type": "markdown",
      "id": "a4fdf08a",
      "metadata": {
        "id": "a4fdf08a"
      },
      "source": [
        "## Time Series Analysis"
      ]
    },
    {
      "cell_type": "code",
      "execution_count": 123,
      "id": "8e54dd0f",
      "metadata": {
        "colab": {
          "base_uri": "https://localhost:8080/"
        },
        "id": "8e54dd0f",
        "outputId": "1a5204b6-ecef-4767-b785-4ebf486a800c"
      },
      "outputs": [
        {
          "output_type": "stream",
          "name": "stdout",
          "text": [
            "                                          cleaned_review sentiment   emotion  \\\n",
            "0      first time read garciaaguilera came upon name ...  Positive       Joy   \n",
            "1      ms garciaaguileras books think must read impos...  Positive       Joy   \n",
            "2      ive read ms aguileras works finished one hot s...  Positive  Surprise   \n",
            "3      romance novel right rest amazing mystery novel...  Positive       Joy   \n",
            "4      carolina garcia aguilera done shes written ano...  Positive       Joy   \n",
            "...                                                  ...       ...       ...   \n",
            "74081                good reader needs good light source  Positive       Joy   \n",
            "74082  nook simple touch great ereader basic reading ...  Positive       Joy   \n",
            "74083                                         reviewtext   Neutral   Neutral   \n",
            "74084                                         reviewtext   Neutral   Neutral   \n",
            "74085                                         reviewtext   Neutral   Neutral   \n",
            "\n",
            "      category   reviewTime  \n",
            "0      General  07 17, 2002  \n",
            "1      General   07 6, 2002  \n",
            "2      General   07 3, 2002  \n",
            "3      General  06 30, 2002  \n",
            "4      General  06 28, 2002  \n",
            "...        ...          ...  \n",
            "74081  General  11 27, 2016  \n",
            "74082  General  11 15, 2016  \n",
            "74083  General     verified  \n",
            "74084  General   reviewTime  \n",
            "74085  General     verified  \n",
            "\n",
            "[74086 rows x 5 columns]\n"
          ]
        }
      ],
      "source": [
        "subset_df_review_text = df_review_text.head(5000)\n",
        "subset_df = df.head(5000)\n",
        "\n",
        "merged_subset_df = subset_df_review_text.merge(subset_df[['reviewText', 'reviewTime']], on='reviewText', how='left')\n",
        "\n",
        "print(merged_subset_df[['cleaned_review', 'sentiment', 'emotion', 'category', 'reviewTime']])"
      ]
    },
    {
      "cell_type": "code",
      "execution_count": 124,
      "id": "db805fa4",
      "metadata": {
        "colab": {
          "base_uri": "https://localhost:8080/",
          "height": 363
        },
        "id": "db805fa4",
        "outputId": "d6f7ef5f-b5a2-4800-b18c-a941770833bf"
      },
      "outputs": [
        {
          "output_type": "execute_result",
          "data": {
            "text/plain": [
              "                                          reviewText  \\\n",
              "0  This was the first time I read Garcia-Aguilera...   \n",
              "1  As with all of Ms. Garcia-Aguilera's books, I ...   \n",
              "2  I've not read any of Ms Aguilera's works befor...   \n",
              "3  This romance novel is right up there with the ...   \n",
              "4  Carolina Garcia Aguilera has done it again.  S...   \n",
              "5  Not only can she write mysteries,but she sure ...   \n",
              "6  Once again Garcia-Aguilera has written a book ...   \n",
              "7  The timing is just right for a good book. Actu...   \n",
              "8  Engaging. Dark. Reading the book you could alm...   \n",
              "9  Set amid the backdrop of New York City's imper...   \n",
              "\n",
              "                                      cleaned_review  sentiment_score  \\\n",
              "0  first time read garciaaguilera came upon name ...           0.9764   \n",
              "1  ms garciaaguileras books think must read impos...           0.8807   \n",
              "2  ive read ms aguileras works finished one hot s...           0.0772   \n",
              "3  romance novel right rest amazing mystery novel...           0.9858   \n",
              "4  carolina garcia aguilera done shes written ano...           0.4927   \n",
              "5  write mysteriesbut sure write love story one h...           0.7579   \n",
              "6  garciaaguilera written book cant put read love...           0.9304   \n",
              "7  timing right good book actually long overdue t...           0.8324   \n",
              "8  engaging dark reading book could almost feel t...           0.3306   \n",
              "9  set amid backdrop new york citys impervious hi...           0.9774   \n",
              "\n",
              "  sentiment category   emotion   reviewTime  \n",
              "0  Positive  General       Joy  07 17, 2002  \n",
              "1  Positive  General       Joy   07 6, 2002  \n",
              "2  Positive  General  Surprise   07 3, 2002  \n",
              "3  Positive  General       Joy  06 30, 2002  \n",
              "4  Positive  General       Joy  06 28, 2002  \n",
              "5  Positive  General       Joy  06 25, 2002  \n",
              "6  Positive     Care       Joy  06 22, 2002  \n",
              "7  Positive     Care       Joy  01 26, 2006  \n",
              "8  Positive     Care       Joy  01 21, 2006  \n",
              "9  Positive  General       Joy  01 18, 2006  "
            ],
            "text/html": [
              "\n",
              "  <div id=\"df-83641882-bf06-471a-bd24-cbbc5f92a611\" class=\"colab-df-container\">\n",
              "    <div>\n",
              "<style scoped>\n",
              "    .dataframe tbody tr th:only-of-type {\n",
              "        vertical-align: middle;\n",
              "    }\n",
              "\n",
              "    .dataframe tbody tr th {\n",
              "        vertical-align: top;\n",
              "    }\n",
              "\n",
              "    .dataframe thead th {\n",
              "        text-align: right;\n",
              "    }\n",
              "</style>\n",
              "<table border=\"1\" class=\"dataframe\">\n",
              "  <thead>\n",
              "    <tr style=\"text-align: right;\">\n",
              "      <th></th>\n",
              "      <th>reviewText</th>\n",
              "      <th>cleaned_review</th>\n",
              "      <th>sentiment_score</th>\n",
              "      <th>sentiment</th>\n",
              "      <th>category</th>\n",
              "      <th>emotion</th>\n",
              "      <th>reviewTime</th>\n",
              "    </tr>\n",
              "  </thead>\n",
              "  <tbody>\n",
              "    <tr>\n",
              "      <th>0</th>\n",
              "      <td>This was the first time I read Garcia-Aguilera...</td>\n",
              "      <td>first time read garciaaguilera came upon name ...</td>\n",
              "      <td>0.9764</td>\n",
              "      <td>Positive</td>\n",
              "      <td>General</td>\n",
              "      <td>Joy</td>\n",
              "      <td>07 17, 2002</td>\n",
              "    </tr>\n",
              "    <tr>\n",
              "      <th>1</th>\n",
              "      <td>As with all of Ms. Garcia-Aguilera's books, I ...</td>\n",
              "      <td>ms garciaaguileras books think must read impos...</td>\n",
              "      <td>0.8807</td>\n",
              "      <td>Positive</td>\n",
              "      <td>General</td>\n",
              "      <td>Joy</td>\n",
              "      <td>07 6, 2002</td>\n",
              "    </tr>\n",
              "    <tr>\n",
              "      <th>2</th>\n",
              "      <td>I've not read any of Ms Aguilera's works befor...</td>\n",
              "      <td>ive read ms aguileras works finished one hot s...</td>\n",
              "      <td>0.0772</td>\n",
              "      <td>Positive</td>\n",
              "      <td>General</td>\n",
              "      <td>Surprise</td>\n",
              "      <td>07 3, 2002</td>\n",
              "    </tr>\n",
              "    <tr>\n",
              "      <th>3</th>\n",
              "      <td>This romance novel is right up there with the ...</td>\n",
              "      <td>romance novel right rest amazing mystery novel...</td>\n",
              "      <td>0.9858</td>\n",
              "      <td>Positive</td>\n",
              "      <td>General</td>\n",
              "      <td>Joy</td>\n",
              "      <td>06 30, 2002</td>\n",
              "    </tr>\n",
              "    <tr>\n",
              "      <th>4</th>\n",
              "      <td>Carolina Garcia Aguilera has done it again.  S...</td>\n",
              "      <td>carolina garcia aguilera done shes written ano...</td>\n",
              "      <td>0.4927</td>\n",
              "      <td>Positive</td>\n",
              "      <td>General</td>\n",
              "      <td>Joy</td>\n",
              "      <td>06 28, 2002</td>\n",
              "    </tr>\n",
              "    <tr>\n",
              "      <th>5</th>\n",
              "      <td>Not only can she write mysteries,but she sure ...</td>\n",
              "      <td>write mysteriesbut sure write love story one h...</td>\n",
              "      <td>0.7579</td>\n",
              "      <td>Positive</td>\n",
              "      <td>General</td>\n",
              "      <td>Joy</td>\n",
              "      <td>06 25, 2002</td>\n",
              "    </tr>\n",
              "    <tr>\n",
              "      <th>6</th>\n",
              "      <td>Once again Garcia-Aguilera has written a book ...</td>\n",
              "      <td>garciaaguilera written book cant put read love...</td>\n",
              "      <td>0.9304</td>\n",
              "      <td>Positive</td>\n",
              "      <td>Care</td>\n",
              "      <td>Joy</td>\n",
              "      <td>06 22, 2002</td>\n",
              "    </tr>\n",
              "    <tr>\n",
              "      <th>7</th>\n",
              "      <td>The timing is just right for a good book. Actu...</td>\n",
              "      <td>timing right good book actually long overdue t...</td>\n",
              "      <td>0.8324</td>\n",
              "      <td>Positive</td>\n",
              "      <td>Care</td>\n",
              "      <td>Joy</td>\n",
              "      <td>01 26, 2006</td>\n",
              "    </tr>\n",
              "    <tr>\n",
              "      <th>8</th>\n",
              "      <td>Engaging. Dark. Reading the book you could alm...</td>\n",
              "      <td>engaging dark reading book could almost feel t...</td>\n",
              "      <td>0.3306</td>\n",
              "      <td>Positive</td>\n",
              "      <td>Care</td>\n",
              "      <td>Joy</td>\n",
              "      <td>01 21, 2006</td>\n",
              "    </tr>\n",
              "    <tr>\n",
              "      <th>9</th>\n",
              "      <td>Set amid the backdrop of New York City's imper...</td>\n",
              "      <td>set amid backdrop new york citys impervious hi...</td>\n",
              "      <td>0.9774</td>\n",
              "      <td>Positive</td>\n",
              "      <td>General</td>\n",
              "      <td>Joy</td>\n",
              "      <td>01 18, 2006</td>\n",
              "    </tr>\n",
              "  </tbody>\n",
              "</table>\n",
              "</div>\n",
              "    <div class=\"colab-df-buttons\">\n",
              "\n",
              "  <div class=\"colab-df-container\">\n",
              "    <button class=\"colab-df-convert\" onclick=\"convertToInteractive('df-83641882-bf06-471a-bd24-cbbc5f92a611')\"\n",
              "            title=\"Convert this dataframe to an interactive table.\"\n",
              "            style=\"display:none;\">\n",
              "\n",
              "  <svg xmlns=\"http://www.w3.org/2000/svg\" height=\"24px\" viewBox=\"0 -960 960 960\">\n",
              "    <path d=\"M120-120v-720h720v720H120Zm60-500h600v-160H180v160Zm220 220h160v-160H400v160Zm0 220h160v-160H400v160ZM180-400h160v-160H180v160Zm440 0h160v-160H620v160ZM180-180h160v-160H180v160Zm440 0h160v-160H620v160Z\"/>\n",
              "  </svg>\n",
              "    </button>\n",
              "\n",
              "  <style>\n",
              "    .colab-df-container {\n",
              "      display:flex;\n",
              "      gap: 12px;\n",
              "    }\n",
              "\n",
              "    .colab-df-convert {\n",
              "      background-color: #E8F0FE;\n",
              "      border: none;\n",
              "      border-radius: 50%;\n",
              "      cursor: pointer;\n",
              "      display: none;\n",
              "      fill: #1967D2;\n",
              "      height: 32px;\n",
              "      padding: 0 0 0 0;\n",
              "      width: 32px;\n",
              "    }\n",
              "\n",
              "    .colab-df-convert:hover {\n",
              "      background-color: #E2EBFA;\n",
              "      box-shadow: 0px 1px 2px rgba(60, 64, 67, 0.3), 0px 1px 3px 1px rgba(60, 64, 67, 0.15);\n",
              "      fill: #174EA6;\n",
              "    }\n",
              "\n",
              "    .colab-df-buttons div {\n",
              "      margin-bottom: 4px;\n",
              "    }\n",
              "\n",
              "    [theme=dark] .colab-df-convert {\n",
              "      background-color: #3B4455;\n",
              "      fill: #D2E3FC;\n",
              "    }\n",
              "\n",
              "    [theme=dark] .colab-df-convert:hover {\n",
              "      background-color: #434B5C;\n",
              "      box-shadow: 0px 1px 3px 1px rgba(0, 0, 0, 0.15);\n",
              "      filter: drop-shadow(0px 1px 2px rgba(0, 0, 0, 0.3));\n",
              "      fill: #FFFFFF;\n",
              "    }\n",
              "  </style>\n",
              "\n",
              "    <script>\n",
              "      const buttonEl =\n",
              "        document.querySelector('#df-83641882-bf06-471a-bd24-cbbc5f92a611 button.colab-df-convert');\n",
              "      buttonEl.style.display =\n",
              "        google.colab.kernel.accessAllowed ? 'block' : 'none';\n",
              "\n",
              "      async function convertToInteractive(key) {\n",
              "        const element = document.querySelector('#df-83641882-bf06-471a-bd24-cbbc5f92a611');\n",
              "        const dataTable =\n",
              "          await google.colab.kernel.invokeFunction('convertToInteractive',\n",
              "                                                    [key], {});\n",
              "        if (!dataTable) return;\n",
              "\n",
              "        const docLinkHtml = 'Like what you see? Visit the ' +\n",
              "          '<a target=\"_blank\" href=https://colab.research.google.com/notebooks/data_table.ipynb>data table notebook</a>'\n",
              "          + ' to learn more about interactive tables.';\n",
              "        element.innerHTML = '';\n",
              "        dataTable['output_type'] = 'display_data';\n",
              "        await google.colab.output.renderOutput(dataTable, element);\n",
              "        const docLink = document.createElement('div');\n",
              "        docLink.innerHTML = docLinkHtml;\n",
              "        element.appendChild(docLink);\n",
              "      }\n",
              "    </script>\n",
              "  </div>\n",
              "\n",
              "\n",
              "<div id=\"df-3e64efb4-65df-4b66-8dfb-c244dc4e0d48\">\n",
              "  <button class=\"colab-df-quickchart\" onclick=\"quickchart('df-3e64efb4-65df-4b66-8dfb-c244dc4e0d48')\"\n",
              "            title=\"Suggest charts.\"\n",
              "            style=\"display:none;\">\n",
              "\n",
              "<svg xmlns=\"http://www.w3.org/2000/svg\" height=\"24px\"viewBox=\"0 0 24 24\"\n",
              "     width=\"24px\">\n",
              "    <g>\n",
              "        <path d=\"M19 3H5c-1.1 0-2 .9-2 2v14c0 1.1.9 2 2 2h14c1.1 0 2-.9 2-2V5c0-1.1-.9-2-2-2zM9 17H7v-7h2v7zm4 0h-2V7h2v10zm4 0h-2v-4h2v4z\"/>\n",
              "    </g>\n",
              "</svg>\n",
              "  </button>\n",
              "\n",
              "<style>\n",
              "  .colab-df-quickchart {\n",
              "    background-color: #E8F0FE;\n",
              "    border: none;\n",
              "    border-radius: 50%;\n",
              "    cursor: pointer;\n",
              "    display: none;\n",
              "    fill: #1967D2;\n",
              "    height: 32px;\n",
              "    padding: 0 0 0 0;\n",
              "    width: 32px;\n",
              "  }\n",
              "\n",
              "  .colab-df-quickchart:hover {\n",
              "    background-color: #E2EBFA;\n",
              "    box-shadow: 0px 1px 2px rgba(60, 64, 67, 0.3), 0px 1px 3px 1px rgba(60, 64, 67, 0.15);\n",
              "    fill: #174EA6;\n",
              "  }\n",
              "\n",
              "  [theme=dark] .colab-df-quickchart {\n",
              "    background-color: #3B4455;\n",
              "    fill: #D2E3FC;\n",
              "  }\n",
              "\n",
              "  [theme=dark] .colab-df-quickchart:hover {\n",
              "    background-color: #434B5C;\n",
              "    box-shadow: 0px 1px 3px 1px rgba(0, 0, 0, 0.15);\n",
              "    filter: drop-shadow(0px 1px 2px rgba(0, 0, 0, 0.3));\n",
              "    fill: #FFFFFF;\n",
              "  }\n",
              "</style>\n",
              "\n",
              "  <script>\n",
              "    async function quickchart(key) {\n",
              "      const charts = await google.colab.kernel.invokeFunction(\n",
              "          'suggestCharts', [key], {});\n",
              "    }\n",
              "    (() => {\n",
              "      let quickchartButtonEl =\n",
              "        document.querySelector('#df-3e64efb4-65df-4b66-8dfb-c244dc4e0d48 button');\n",
              "      quickchartButtonEl.style.display =\n",
              "        google.colab.kernel.accessAllowed ? 'block' : 'none';\n",
              "    })();\n",
              "  </script>\n",
              "</div>\n",
              "    </div>\n",
              "  </div>\n"
            ]
          },
          "metadata": {},
          "execution_count": 124
        }
      ],
      "source": [
        "merged_subset_df.head(10)"
      ]
    },
    {
      "cell_type": "code",
      "execution_count": 125,
      "id": "52e5cdf8",
      "metadata": {
        "scrolled": false,
        "id": "52e5cdf8"
      },
      "outputs": [],
      "source": [
        "merged_subset_df['reviewTime'] = pd.to_datetime(merged_subset_df['reviewTime'], errors='coerce')"
      ]
    },
    {
      "cell_type": "code",
      "execution_count": 126,
      "id": "705df887",
      "metadata": {
        "id": "705df887"
      },
      "outputs": [],
      "source": [
        "merged_subset_df.set_index('reviewTime', inplace=True)"
      ]
    },
    {
      "cell_type": "code",
      "execution_count": 127,
      "id": "29507672",
      "metadata": {
        "id": "29507672"
      },
      "outputs": [],
      "source": [
        "monthly_sentiment_percentage = merged_subset_df.resample('M').apply(lambda x: x['sentiment'].value_counts(normalize=True))"
      ]
    },
    {
      "cell_type": "code",
      "execution_count": 128,
      "id": "8decf863",
      "metadata": {
        "id": "8decf863"
      },
      "outputs": [],
      "source": [
        "sentiment_mapping = {'Negative': -1, 'Neutral': 0, 'Positive': 1}"
      ]
    },
    {
      "cell_type": "code",
      "execution_count": 129,
      "id": "05b90b9a",
      "metadata": {
        "id": "05b90b9a"
      },
      "outputs": [],
      "source": [
        "merged_subset_df['sentiment_numeric'] = merged_subset_df['sentiment'].map(sentiment_mapping)"
      ]
    },
    {
      "cell_type": "code",
      "execution_count": 130,
      "id": "35c685d4",
      "metadata": {
        "id": "35c685d4"
      },
      "outputs": [],
      "source": [
        "monthly_sentiment_mean = merged_subset_df['sentiment_numeric'].resample('M').mean()"
      ]
    },
    {
      "cell_type": "code",
      "execution_count": 131,
      "id": "8da0b253",
      "metadata": {
        "colab": {
          "base_uri": "https://localhost:8080/",
          "height": 607
        },
        "id": "8da0b253",
        "outputId": "843dd018-35f4-4776-ca93-c6302efa66fe"
      },
      "outputs": [
        {
          "output_type": "display_data",
          "data": {
            "text/plain": [
              "<Figure size 1000x600 with 1 Axes>"
            ],
            "image/png": "[encoded data removed]"
          },
          "metadata": {}
        }
      ],
      "source": [
        "plt.figure(figsize=(10, 6))\n",
        "monthly_sentiment_mean.plot(kind='line', marker='o', color='b')\n",
        "\n",
        "plt.xlabel('Date')\n",
        "plt.ylabel('Average Sentiment')\n",
        "plt.title('Average Sentiment Over Time')\n",
        "plt.xticks(rotation=45)\n",
        "plt.tight_layout()\n",
        "plt.show()"
      ]
    },
    {
      "cell_type": "code",
      "execution_count": 132,
      "id": "6a56f798",
      "metadata": {
        "scrolled": true,
        "colab": {
          "base_uri": "https://localhost:8080/",
          "height": 542
        },
        "id": "6a56f798",
        "outputId": "02e26111-9f40-4bb2-8d08-a4768c1e43c6"
      },
      "outputs": [
        {
          "output_type": "display_data",
          "data": {
            "text/html": [
              "<html>\n",
              "<head><meta charset=\"utf-8\" /></head>\n",
              "<body>\n",
              "    <div>            <script src=\"https://cdnjs.cloudflare.com/ajax/libs/mathjax/2.7.5/MathJax.js?config=TeX-AMS-MML_SVG\"></script><script type=\"text/javascript\">if (window.MathJax && window.MathJax.Hub && window.MathJax.Hub.Config) {window.MathJax.Hub.Config({SVG: {font: \"STIX-Web\"}});}</script>                <script type=\"text/javascript\">window.PlotlyConfig = {MathJaxConfig: 'local'};</script>\n",
              "        <script charset=\"utf-8\" src=\"https://cdn.plot.ly/plotly-2.24.1.min.js\"></script>                <div id=\"d27a3c71-2617-43b0-a58a-99805003b329\" class=\"plotly-graph-div\" style=\"height:525px; width:100%;\"></div>            <script type=\"text/javascript\">                                    window.PLOTLYENV=window.PLOTLYENV || {};                                    if (document.getElementById(\"d27a3c71-2617-43b0-a58a-99805003b329\")) {                    Plotly.newPlot(                        \"d27a3c71-2617-43b0-a58a-99805003b329\",                        [{\"hovertemplate\":\"reviewTime=%{x}\\u003cbr\\u003eAverage Sentiment=%{y}\\u003cextra\\u003e\\u003c\\u002fextra\\u003e\",\"legendgroup\":\"\",\"line\":{\"color\":\"#636efa\",\"dash\":\"solid\"},\"marker\":{\"symbol\":\"circle\"},\"mode\":\"lines\",\"name\":\"\",\"orientation\":\"v\",\"showlegend\":false,\"x\":[\"1997-12-31T00:00:00\",\"1998-01-31T00:00:00\",\"1998-02-28T00:00:00\",\"1998-03-31T00:00:00\",\"1998-04-30T00:00:00\",\"1998-05-31T00:00:00\",\"1998-06-30T00:00:00\",\"1998-07-31T00:00:00\",\"1998-08-31T00:00:00\",\"1998-09-30T00:00:00\",\"1998-10-31T00:00:00\",\"1998-11-30T00:00:00\",\"1998-12-31T00:00:00\",\"1999-01-31T00:00:00\",\"1999-02-28T00:00:00\",\"1999-03-31T00:00:00\",\"1999-04-30T00:00:00\",\"1999-05-31T00:00:00\",\"1999-06-30T00:00:00\",\"1999-07-31T00:00:00\",\"1999-08-31T00:00:00\",\"1999-09-30T00:00:00\",\"1999-10-31T00:00:00\",\"1999-11-30T00:00:00\",\"1999-12-31T00:00:00\",\"2000-01-31T00:00:00\",\"2000-02-29T00:00:00\",\"2000-03-31T00:00:00\",\"2000-04-30T00:00:00\",\"2000-05-31T00:00:00\",\"2000-06-30T00:00:00\",\"2000-07-31T00:00:00\",\"2000-08-31T00:00:00\",\"2000-09-30T00:00:00\",\"2000-10-31T00:00:00\",\"2000-11-30T00:00:00\",\"2000-12-31T00:00:00\",\"2001-01-31T00:00:00\",\"2001-02-28T00:00:00\",\"2001-03-31T00:00:00\",\"2001-04-30T00:00:00\",\"2001-05-31T00:00:00\",\"2001-06-30T00:00:00\",\"2001-07-31T00:00:00\",\"2001-08-31T00:00:00\",\"2001-09-30T00:00:00\",\"2001-10-31T00:00:00\",\"2001-11-30T00:00:00\",\"2001-12-31T00:00:00\",\"2002-01-31T00:00:00\",\"2002-02-28T00:00:00\",\"2002-03-31T00:00:00\",\"2002-04-30T00:00:00\",\"2002-05-31T00:00:00\",\"2002-06-30T00:00:00\",\"2002-07-31T00:00:00\",\"2002-08-31T00:00:00\",\"2002-09-30T00:00:00\",\"2002-10-31T00:00:00\",\"2002-11-30T00:00:00\",\"2002-12-31T00:00:00\",\"2003-01-31T00:00:00\",\"2003-02-28T00:00:00\",\"2003-03-31T00:00:00\",\"2003-04-30T00:00:00\",\"2003-05-31T00:00:00\",\"2003-06-30T00:00:00\",\"2003-07-31T00:00:00\",\"2003-08-31T00:00:00\",\"2003-09-30T00:00:00\",\"2003-10-31T00:00:00\",\"2003-11-30T00:00:00\",\"2003-12-31T00:00:00\",\"2004-01-31T00:00:00\",\"2004-02-29T00:00:00\",\"2004-03-31T00:00:00\",\"2004-04-30T00:00:00\",\"2004-05-31T00:00:00\",\"2004-06-30T00:00:00\",\"2004-07-31T00:00:00\",\"2004-08-31T00:00:00\",\"2004-09-30T00:00:00\",\"2004-10-31T00:00:00\",\"2004-11-30T00:00:00\",\"2004-12-31T00:00:00\",\"2005-01-31T00:00:00\",\"2005-02-28T00:00:00\",\"2005-03-31T00:00:00\",\"2005-04-30T00:00:00\",\"2005-05-31T00:00:00\",\"2005-06-30T00:00:00\",\"2005-07-31T00:00:00\",\"2005-08-31T00:00:00\",\"2005-09-30T00:00:00\",\"2005-10-31T00:00:00\",\"2005-11-30T00:00:00\",\"2005-12-31T00:00:00\",\"2006-01-31T00:00:00\",\"2006-02-28T00:00:00\",\"2006-03-31T00:00:00\",\"2006-04-30T00:00:00\",\"2006-05-31T00:00:00\",\"2006-06-30T00:00:00\",\"2006-07-31T00:00:00\",\"2006-08-31T00:00:00\",\"2006-09-30T00:00:00\",\"2006-10-31T00:00:00\",\"2006-11-30T00:00:00\",\"2006-12-31T00:00:00\",\"2007-01-31T00:00:00\",\"2007-02-28T00:00:00\",\"2007-03-31T00:00:00\",\"2007-04-30T00:00:00\",\"2007-05-31T00:00:00\",\"2007-06-30T00:00:00\",\"2007-07-31T00:00:00\",\"2007-08-31T00:00:00\",\"2007-09-30T00:00:00\",\"2007-10-31T00:00:00\",\"2007-11-30T00:00:00\",\"2007-12-31T00:00:00\",\"2008-01-31T00:00:00\",\"2008-02-29T00:00:00\",\"2008-03-31T00:00:00\",\"2008-04-30T00:00:00\",\"2008-05-31T00:00:00\",\"2008-06-30T00:00:00\",\"2008-07-31T00:00:00\",\"2008-08-31T00:00:00\",\"2008-09-30T00:00:00\",\"2008-10-31T00:00:00\",\"2008-11-30T00:00:00\",\"2008-12-31T00:00:00\",\"2009-01-31T00:00:00\",\"2009-02-28T00:00:00\",\"2009-03-31T00:00:00\",\"2009-04-30T00:00:00\",\"2009-05-31T00:00:00\",\"2009-06-30T00:00:00\",\"2009-07-31T00:00:00\",\"2009-08-31T00:00:00\",\"2009-09-30T00:00:00\",\"2009-10-31T00:00:00\",\"2009-11-30T00:00:00\",\"2009-12-31T00:00:00\",\"2010-01-31T00:00:00\",\"2010-02-28T00:00:00\",\"2010-03-31T00:00:00\",\"2010-04-30T00:00:00\",\"2010-05-31T00:00:00\",\"2010-06-30T00:00:00\",\"2010-07-31T00:00:00\",\"2010-08-31T00:00:00\",\"2010-09-30T00:00:00\",\"2010-10-31T00:00:00\",\"2010-11-30T00:00:00\",\"2010-12-31T00:00:00\",\"2011-01-31T00:00:00\",\"2011-02-28T00:00:00\",\"2011-03-31T00:00:00\",\"2011-04-30T00:00:00\",\"2011-05-31T00:00:00\",\"2011-06-30T00:00:00\",\"2011-07-31T00:00:00\",\"2011-08-31T00:00:00\",\"2011-09-30T00:00:00\",\"2011-10-31T00:00:00\",\"2011-11-30T00:00:00\",\"2011-12-31T00:00:00\",\"2012-01-31T00:00:00\",\"2012-02-29T00:00:00\",\"2012-03-31T00:00:00\",\"2012-04-30T00:00:00\",\"2012-05-31T00:00:00\",\"2012-06-30T00:00:00\",\"2012-07-31T00:00:00\",\"2012-08-31T00:00:00\",\"2012-09-30T00:00:00\",\"2012-10-31T00:00:00\",\"2012-11-30T00:00:00\",\"2012-12-31T00:00:00\",\"2013-01-31T00:00:00\",\"2013-02-28T00:00:00\",\"2013-03-31T00:00:00\",\"2013-04-30T00:00:00\",\"2013-05-31T00:00:00\",\"2013-06-30T00:00:00\",\"2013-07-31T00:00:00\",\"2013-08-31T00:00:00\",\"2013-09-30T00:00:00\",\"2013-10-31T00:00:00\",\"2013-11-30T00:00:00\",\"2013-12-31T00:00:00\",\"2014-01-31T00:00:00\",\"2014-02-28T00:00:00\",\"2014-03-31T00:00:00\",\"2014-04-30T00:00:00\",\"2014-05-31T00:00:00\",\"2014-06-30T00:00:00\",\"2014-07-31T00:00:00\",\"2014-08-31T00:00:00\",\"2014-09-30T00:00:00\",\"2014-10-31T00:00:00\",\"2014-11-30T00:00:00\",\"2014-12-31T00:00:00\",\"2015-01-31T00:00:00\",\"2015-02-28T00:00:00\",\"2015-03-31T00:00:00\",\"2015-04-30T00:00:00\",\"2015-05-31T00:00:00\",\"2015-06-30T00:00:00\",\"2015-07-31T00:00:00\",\"2015-08-31T00:00:00\",\"2015-09-30T00:00:00\",\"2015-10-31T00:00:00\",\"2015-11-30T00:00:00\",\"2015-12-31T00:00:00\",\"2016-01-31T00:00:00\",\"2016-02-29T00:00:00\",\"2016-03-31T00:00:00\",\"2016-04-30T00:00:00\",\"2016-05-31T00:00:00\",\"2016-06-30T00:00:00\",\"2016-07-31T00:00:00\",\"2016-08-31T00:00:00\",\"2016-09-30T00:00:00\",\"2016-10-31T00:00:00\",\"2016-11-30T00:00:00\",\"2016-12-31T00:00:00\",\"2017-01-31T00:00:00\",\"2017-02-28T00:00:00\",\"2017-03-31T00:00:00\",\"2017-04-30T00:00:00\",\"2017-05-31T00:00:00\",\"2017-06-30T00:00:00\",\"2017-07-31T00:00:00\",\"2017-08-31T00:00:00\",\"2017-09-30T00:00:00\",\"2017-10-31T00:00:00\",\"2017-11-30T00:00:00\",\"2017-12-31T00:00:00\",\"2018-01-31T00:00:00\",\"2018-02-28T00:00:00\",\"2018-03-31T00:00:00\",\"2018-04-30T00:00:00\"],\"xaxis\":\"x\",\"y\":[-1.0,null,null,null,null,null,null,null,null,null,null,null,null,null,null,null,1.0,null,null,null,null,1.0,1.0,1.0,1.0,1.0,1.0,1.0,null,1.0,null,null,1.0,1.0,1.0,1.0,0.3333333333333333,1.0,0.0,1.0,1.0,1.0,null,1.0,1.0,null,-0.3333333333333333,null,1.0,1.0,1.0,1.0,1.0,0.8333333333333334,1.0,0.8,0.5,1.0,0.42857142857142855,1.0,1.0,0.6666666666666666,1.0,1.0,null,1.0,null,1.0,1.0,1.0,0.5,1.0,1.0,1.0,1.0,1.0,0.75,null,null,-1.0,1.0,1.0,1.0,null,1.0,0.3333333333333333,1.0,null,1.0,0.3333333333333333,1.0,1.0,1.0,1.0,1.0,1.0,1.0,1.0,0.6,0.14285714285714285,0.3333333333333333,0.6666666666666666,0.3333333333333333,0.3333333333333333,1.0,1.0,0.6,1.0,null,1.0,1.0,1.0,1.0,1.0,null,1.0,1.0,null,1.0,null,1.0,1.0,0.0,0.42857142857142855,1.0,null,0.75,0.3333333333333333,null,1.0,1.0,null,1.0,1.0,1.0,0.8333333333333334,1.0,1.0,0.5,0.9166666666666666,0.75,0.7777777777777778,0.3333333333333333,0.5714285714285714,0.3333333333333333,0.25,1.0,0.3333333333333333,1.0,1.0,1.0,0.75,1.0,0.75,0.625,0.8571428571428571,0.7631578947368421,0.2631578947368421,0.7714285714285715,0.6,0.42857142857142855,0.7931034482758621,0.6875,0.8,0.8260869565217391,0.5769230769230769,0.896551724137931,0.6615384615384615,0.5833333333333334,0.59375,0.47368421052631576,0.7272727272727273,0.6666666666666666,0.8305084745762712,0.7291666666666666,0.46,0.6666666666666666,0.4,0.6829268292682927,0.7301587301587301,0.24193548387096775,0.7639751552795031,0.8267326732673267,0.8244274809160306,0.7786885245901639,0.696969696969697,0.7619047619047619,0.746268656716418,0.7272727272727273,0.6666666666666666,0.7741935483870968,0.7272727272727273,0.8833333333333333,0.7532467532467533,0.7735849056603774,0.819047619047619,0.6666666666666666,0.6451612903225806,0.8260869565217391,0.06589492430988424,0.08959537572254335,0.03406940063091483,0.04390243902439024,0.09784172661870504,0.03391427225624117,0.021354933726067747,0.021922428330522766,0.052673583399840386,0.04774535809018567,0.04144144144144144,0.0516698172652804,0.043343653250773995,0.018191268191268192,0.04072948328267477,0.01615218951902369,0.030063291139240507,0.01583949313621964,0.02112919986144787,0.023680124223602484,0.03799514955537591,0.018081761006289308,0.016454749439042633,0.007730786721236926,0.01601708489054992,0.03042763157894737,0.023094688221709007,0.01316872427983539,0.027257240204429302,0.019434628975265017,0.006917755572636433,0.004039497307001795,0.014686248331108143,0.07169811320754717,0.008778930566640064,0.002572347266881029,0.006711409395973154,0.00165929203539823,0.011990407673860911,1.0,0.03529411764705882,0.001349527665317139,0.004032258064516129,0.0,0.0009737098344693282,0.3333333333333333],\"yaxis\":\"y\",\"type\":\"scatter\"}],                        {\"template\":{\"data\":{\"histogram2dcontour\":[{\"type\":\"histogram2dcontour\",\"colorbar\":{\"outlinewidth\":0,\"ticks\":\"\"},\"colorscale\":[[0.0,\"#0d0887\"],[0.1111111111111111,\"#46039f\"],[0.2222222222222222,\"#7201a8\"],[0.3333333333333333,\"#9c179e\"],[0.4444444444444444,\"#bd3786\"],[0.5555555555555556,\"#d8576b\"],[0.6666666666666666,\"#ed7953\"],[0.7777777777777778,\"#fb9f3a\"],[0.8888888888888888,\"#fdca26\"],[1.0,\"#f0f921\"]]}],\"choropleth\":[{\"type\":\"choropleth\",\"colorbar\":{\"outlinewidth\":0,\"ticks\":\"\"}}],\"histogram2d\":[{\"type\":\"histogram2d\",\"colorbar\":{\"outlinewidth\":0,\"ticks\":\"\"},\"colorscale\":[[0.0,\"#0d0887\"],[0.1111111111111111,\"#46039f\"],[0.2222222222222222,\"#7201a8\"],[0.3333333333333333,\"#9c179e\"],[0.4444444444444444,\"#bd3786\"],[0.5555555555555556,\"#d8576b\"],[0.6666666666666666,\"#ed7953\"],[0.7777777777777778,\"#fb9f3a\"],[0.8888888888888888,\"#fdca26\"],[1.0,\"#f0f921\"]]}],\"heatmap\":[{\"type\":\"heatmap\",\"colorbar\":{\"outlinewidth\":0,\"ticks\":\"\"},\"colorscale\":[[0.0,\"#0d0887\"],[0.1111111111111111,\"#46039f\"],[0.2222222222222222,\"#7201a8\"],[0.3333333333333333,\"#9c179e\"],[0.4444444444444444,\"#bd3786\"],[0.5555555555555556,\"#d8576b\"],[0.6666666666666666,\"#ed7953\"],[0.7777777777777778,\"#fb9f3a\"],[0.8888888888888888,\"#fdca26\"],[1.0,\"#f0f921\"]]}],\"heatmapgl\":[{\"type\":\"heatmapgl\",\"colorbar\":{\"outlinewidth\":0,\"ticks\":\"\"},\"colorscale\":[[0.0,\"#0d0887\"],[0.1111111111111111,\"#46039f\"],[0.2222222222222222,\"#7201a8\"],[0.3333333333333333,\"#9c179e\"],[0.4444444444444444,\"#bd3786\"],[0.5555555555555556,\"#d8576b\"],[0.6666666666666666,\"#ed7953\"],[0.7777777777777778,\"#fb9f3a\"],[0.8888888888888888,\"#fdca26\"],[1.0,\"#f0f921\"]]}],\"contourcarpet\":[{\"type\":\"contourcarpet\",\"colorbar\":{\"outlinewidth\":0,\"ticks\":\"\"}}],\"contour\":[{\"type\":\"contour\",\"colorbar\":{\"outlinewidth\":0,\"ticks\":\"\"},\"colorscale\":[[0.0,\"#0d0887\"],[0.1111111111111111,\"#46039f\"],[0.2222222222222222,\"#7201a8\"],[0.3333333333333333,\"#9c179e\"],[0.4444444444444444,\"#bd3786\"],[0.5555555555555556,\"#d8576b\"],[0.6666666666666666,\"#ed7953\"],[0.7777777777777778,\"#fb9f3a\"],[0.8888888888888888,\"#fdca26\"],[1.0,\"#f0f921\"]]}],\"surface\":[{\"type\":\"surface\",\"colorbar\":{\"outlinewidth\":0,\"ticks\":\"\"},\"colorscale\":[[0.0,\"#0d0887\"],[0.1111111111111111,\"#46039f\"],[0.2222222222222222,\"#7201a8\"],[0.3333333333333333,\"#9c179e\"],[0.4444444444444444,\"#bd3786\"],[0.5555555555555556,\"#d8576b\"],[0.6666666666666666,\"#ed7953\"],[0.7777777777777778,\"#fb9f3a\"],[0.8888888888888888,\"#fdca26\"],[1.0,\"#f0f921\"]]}],\"mesh3d\":[{\"type\":\"mesh3d\",\"colorbar\":{\"outlinewidth\":0,\"ticks\":\"\"}}],\"scatter\":[{\"fillpattern\":{\"fillmode\":\"overlay\",\"size\":10,\"solidity\":0.2},\"type\":\"scatter\"}],\"parcoords\":[{\"type\":\"parcoords\",\"line\":{\"colorbar\":{\"outlinewidth\":0,\"ticks\":\"\"}}}],\"scatterpolargl\":[{\"type\":\"scatterpolargl\",\"marker\":{\"colorbar\":{\"outlinewidth\":0,\"ticks\":\"\"}}}],\"bar\":[{\"error_x\":{\"color\":\"#2a3f5f\"},\"error_y\":{\"color\":\"#2a3f5f\"},\"marker\":{\"line\":{\"color\":\"#E5ECF6\",\"width\":0.5},\"pattern\":{\"fillmode\":\"overlay\",\"size\":10,\"solidity\":0.2}},\"type\":\"bar\"}],\"scattergeo\":[{\"type\":\"scattergeo\",\"marker\":{\"colorbar\":{\"outlinewidth\":0,\"ticks\":\"\"}}}],\"scatterpolar\":[{\"type\":\"scatterpolar\",\"marker\":{\"colorbar\":{\"outlinewidth\":0,\"ticks\":\"\"}}}],\"histogram\":[{\"marker\":{\"pattern\":{\"fillmode\":\"overlay\",\"size\":10,\"solidity\":0.2}},\"type\":\"histogram\"}],\"scattergl\":[{\"type\":\"scattergl\",\"marker\":{\"colorbar\":{\"outlinewidth\":0,\"ticks\":\"\"}}}],\"scatter3d\":[{\"type\":\"scatter3d\",\"line\":{\"colorbar\":{\"outlinewidth\":0,\"ticks\":\"\"}},\"marker\":{\"colorbar\":{\"outlinewidth\":0,\"ticks\":\"\"}}}],\"scattermapbox\":[{\"type\":\"scattermapbox\",\"marker\":{\"colorbar\":{\"outlinewidth\":0,\"ticks\":\"\"}}}],\"scatterternary\":[{\"type\":\"scatterternary\",\"marker\":{\"colorbar\":{\"outlinewidth\":0,\"ticks\":\"\"}}}],\"scattercarpet\":[{\"type\":\"scattercarpet\",\"marker\":{\"colorbar\":{\"outlinewidth\":0,\"ticks\":\"\"}}}],\"carpet\":[{\"aaxis\":{\"endlinecolor\":\"#2a3f5f\",\"gridcolor\":\"white\",\"linecolor\":\"white\",\"minorgridcolor\":\"white\",\"startlinecolor\":\"#2a3f5f\"},\"baxis\":{\"endlinecolor\":\"#2a3f5f\",\"gridcolor\":\"white\",\"linecolor\":\"white\",\"minorgridcolor\":\"white\",\"startlinecolor\":\"#2a3f5f\"},\"type\":\"carpet\"}],\"table\":[{\"cells\":{\"fill\":{\"color\":\"#EBF0F8\"},\"line\":{\"color\":\"white\"}},\"header\":{\"fill\":{\"color\":\"#C8D4E3\"},\"line\":{\"color\":\"white\"}},\"type\":\"table\"}],\"barpolar\":[{\"marker\":{\"line\":{\"color\":\"#E5ECF6\",\"width\":0.5},\"pattern\":{\"fillmode\":\"overlay\",\"size\":10,\"solidity\":0.2}},\"type\":\"barpolar\"}],\"pie\":[{\"automargin\":true,\"type\":\"pie\"}]},\"layout\":{\"autotypenumbers\":\"strict\",\"colorway\":[\"#636efa\",\"#EF553B\",\"#00cc96\",\"#ab63fa\",\"#FFA15A\",\"#19d3f3\",\"#FF6692\",\"#B6E880\",\"#FF97FF\",\"#FECB52\"],\"font\":{\"color\":\"#2a3f5f\"},\"hovermode\":\"closest\",\"hoverlabel\":{\"align\":\"left\"},\"paper_bgcolor\":\"white\",\"plot_bgcolor\":\"#E5ECF6\",\"polar\":{\"bgcolor\":\"#E5ECF6\",\"angularaxis\":{\"gridcolor\":\"white\",\"linecolor\":\"white\",\"ticks\":\"\"},\"radialaxis\":{\"gridcolor\":\"white\",\"linecolor\":\"white\",\"ticks\":\"\"}},\"ternary\":{\"bgcolor\":\"#E5ECF6\",\"aaxis\":{\"gridcolor\":\"white\",\"linecolor\":\"white\",\"ticks\":\"\"},\"baxis\":{\"gridcolor\":\"white\",\"linecolor\":\"white\",\"ticks\":\"\"},\"caxis\":{\"gridcolor\":\"white\",\"linecolor\":\"white\",\"ticks\":\"\"}},\"coloraxis\":{\"colorbar\":{\"outlinewidth\":0,\"ticks\":\"\"}},\"colorscale\":{\"sequential\":[[0.0,\"#0d0887\"],[0.1111111111111111,\"#46039f\"],[0.2222222222222222,\"#7201a8\"],[0.3333333333333333,\"#9c179e\"],[0.4444444444444444,\"#bd3786\"],[0.5555555555555556,\"#d8576b\"],[0.6666666666666666,\"#ed7953\"],[0.7777777777777778,\"#fb9f3a\"],[0.8888888888888888,\"#fdca26\"],[1.0,\"#f0f921\"]],\"sequentialminus\":[[0.0,\"#0d0887\"],[0.1111111111111111,\"#46039f\"],[0.2222222222222222,\"#7201a8\"],[0.3333333333333333,\"#9c179e\"],[0.4444444444444444,\"#bd3786\"],[0.5555555555555556,\"#d8576b\"],[0.6666666666666666,\"#ed7953\"],[0.7777777777777778,\"#fb9f3a\"],[0.8888888888888888,\"#fdca26\"],[1.0,\"#f0f921\"]],\"diverging\":[[0,\"#8e0152\"],[0.1,\"#c51b7d\"],[0.2,\"#de77ae\"],[0.3,\"#f1b6da\"],[0.4,\"#fde0ef\"],[0.5,\"#f7f7f7\"],[0.6,\"#e6f5d0\"],[0.7,\"#b8e186\"],[0.8,\"#7fbc41\"],[0.9,\"#4d9221\"],[1,\"#276419\"]]},\"xaxis\":{\"gridcolor\":\"white\",\"linecolor\":\"white\",\"ticks\":\"\",\"title\":{\"standoff\":15},\"zerolinecolor\":\"white\",\"automargin\":true,\"zerolinewidth\":2},\"yaxis\":{\"gridcolor\":\"white\",\"linecolor\":\"white\",\"ticks\":\"\",\"title\":{\"standoff\":15},\"zerolinecolor\":\"white\",\"automargin\":true,\"zerolinewidth\":2},\"scene\":{\"xaxis\":{\"backgroundcolor\":\"#E5ECF6\",\"gridcolor\":\"white\",\"linecolor\":\"white\",\"showbackground\":true,\"ticks\":\"\",\"zerolinecolor\":\"white\",\"gridwidth\":2},\"yaxis\":{\"backgroundcolor\":\"#E5ECF6\",\"gridcolor\":\"white\",\"linecolor\":\"white\",\"showbackground\":true,\"ticks\":\"\",\"zerolinecolor\":\"white\",\"gridwidth\":2},\"zaxis\":{\"backgroundcolor\":\"#E5ECF6\",\"gridcolor\":\"white\",\"linecolor\":\"white\",\"showbackground\":true,\"ticks\":\"\",\"zerolinecolor\":\"white\",\"gridwidth\":2}},\"shapedefaults\":{\"line\":{\"color\":\"#2a3f5f\"}},\"annotationdefaults\":{\"arrowcolor\":\"#2a3f5f\",\"arrowhead\":0,\"arrowwidth\":1},\"geo\":{\"bgcolor\":\"white\",\"landcolor\":\"#E5ECF6\",\"subunitcolor\":\"white\",\"showland\":true,\"showlakes\":true,\"lakecolor\":\"white\"},\"title\":{\"x\":0.05},\"mapbox\":{\"style\":\"light\"}}},\"xaxis\":{\"anchor\":\"y\",\"domain\":[0.0,1.0],\"title\":{\"text\":\"Date\"},\"tickangle\":-45},\"yaxis\":{\"anchor\":\"x\",\"domain\":[0.0,1.0],\"title\":{\"text\":\"Average Sentiment\"}},\"legend\":{\"tracegroupgap\":0},\"title\":{\"text\":\"Average Sentiment Over Time\"}},                        {\"responsive\": true}                    ).then(function(){\n",
              "                            \n",
              "var gd = document.getElementById('d27a3c71-2617-43b0-a58a-99805003b329');\n",
              "var x = new MutationObserver(function (mutations, observer) {{\n",
              "        var display = window.getComputedStyle(gd).display;\n",
              "        if (!display || display === 'none') {{\n",
              "            console.log([gd, 'removed!']);\n",
              "            Plotly.purge(gd);\n",
              "            observer.disconnect();\n",
              "        }}\n",
              "}});\n",
              "\n",
              "// Listen for the removal of the full notebook cells\n",
              "var notebookContainer = gd.closest('#notebook-container');\n",
              "if (notebookContainer) {{\n",
              "    x.observe(notebookContainer, {childList: true});\n",
              "}}\n",
              "\n",
              "// Listen for the clearing of the current output cell\n",
              "var outputEl = gd.closest('.output');\n",
              "if (outputEl) {{\n",
              "    x.observe(outputEl, {childList: true});\n",
              "}}\n",
              "\n",
              "                        })                };                            </script>        </div>\n",
              "</body>\n",
              "</html>"
            ]
          },
          "metadata": {}
        }
      ],
      "source": [
        "fig = px.line(monthly_sentiment_mean, x=monthly_sentiment_mean.index, y='sentiment_numeric',\n",
        "              title='Average Sentiment Over Time', labels={'sentiment_numeric': 'Average Sentiment'})\n",
        "\n",
        "fig.update_xaxes(title_text='Date', tickangle=-45)\n",
        "fig.update_yaxes(title_text='Average Sentiment')\n",
        "\n",
        "fig.show()"
      ]
    },
    {
      "cell_type": "code",
      "execution_count": 133,
      "id": "fbd2d7da",
      "metadata": {
        "id": "fbd2d7da"
      },
      "outputs": [],
      "source": [
        "pip install --upgrade typing-extensions"
      ]
    },
    {
      "cell_type": "code",
      "execution_count": 134,
      "id": "1bf863f6",
      "metadata": {
        "id": "1bf863f6"
      },
      "outputs": [],
      "source": [
        "pip install --upgrade pydantic spacy"
      ]
    },
    {
      "cell_type": "markdown",
      "id": "4948bc80",
      "metadata": {
        "id": "4948bc80"
      },
      "source": [
        "### Named Entity Recognition (NER)"
      ]
    },
    {
      "cell_type": "code",
      "execution_count": 135,
      "id": "a950f645",
      "metadata": {
        "id": "a950f645"
      },
      "outputs": [],
      "source": [
        "import spacy\n",
        "nlp = spacy.load(\"en_core_web_sm\")"
      ]
    },
    {
      "cell_type": "code",
      "execution_count": null,
      "id": "8a328202",
      "metadata": {
        "id": "8a328202"
      },
      "outputs": [],
      "source": [
        "merged_subset_df.head(10)"
      ]
    },
    {
      "cell_type": "code",
      "execution_count": null,
      "id": "3ced6610",
      "metadata": {
        "id": "3ced6610"
      },
      "outputs": [],
      "source": [
        "# perform NER\n",
        "for index, row in merged_subset_df.iterrows():\n",
        "    text = row['cleaned_review']\n",
        "    doc = nlp(text)\n",
        "    for ent in doc.ents:\n",
        "        print(ent.text, ent.label_)"
      ]
    },
    {
      "cell_type": "markdown",
      "id": "4c63076b",
      "metadata": {
        "id": "4c63076b"
      },
      "source": [
        "## Validation"
      ]
    },
    {
      "cell_type": "code",
      "execution_count": 136,
      "id": "e9767b72",
      "metadata": {
        "id": "e9767b72"
      },
      "outputs": [],
      "source": [
        "import random"
      ]
    },
    {
      "cell_type": "code",
      "execution_count": 137,
      "id": "eb9fe257",
      "metadata": {
        "id": "eb9fe257"
      },
      "outputs": [],
      "source": [
        "unique_cleaned_reviews = merged_subset_df['cleaned_review'].unique()"
      ]
    },
    {
      "cell_type": "code",
      "execution_count": 138,
      "id": "015bc9ad",
      "metadata": {
        "id": "015bc9ad"
      },
      "outputs": [],
      "source": [
        "random_cleaned_reviews = random.sample(list(unique_cleaned_reviews), k=min(100, len(unique_cleaned_reviews)))"
      ]
    },
    {
      "cell_type": "code",
      "execution_count": 139,
      "id": "166d35bc",
      "metadata": {
        "id": "166d35bc"
      },
      "outputs": [],
      "source": [
        "random_subset_df = pd.DataFrame({'cleaned_review': random_cleaned_reviews})"
      ]
    },
    {
      "cell_type": "code",
      "execution_count": 140,
      "id": "52adf014",
      "metadata": {
        "id": "52adf014"
      },
      "outputs": [],
      "source": [
        "random_subset_df['UMID'] = [f\"AE_{i}\" for i in range(1, 101)]"
      ]
    },
    {
      "cell_type": "code",
      "execution_count": 141,
      "id": "c8c41fec",
      "metadata": {
        "scrolled": true,
        "colab": {
          "base_uri": "https://localhost:8080/",
          "height": 363
        },
        "id": "c8c41fec",
        "outputId": "69d777c4-5b76-4877-f2b1-8db97a0ecf92"
      },
      "outputs": [
        {
          "output_type": "execute_result",
          "data": {
            "text/plain": [
              "                                      cleaned_review   UMID\n",
              "0  kirk martin managed capture long romantic week...   AE_1\n",
              "1  needed television hanger good extension job in...   AE_2\n",
              "2                                  satisfied bracket   AE_3\n",
              "3                works well recommend one nook color   AE_4\n",
              "4  cord helps two locations plug nook charge sugg...   AE_5\n",
              "5  easy mount moves nice tv would order needed an...   AE_6\n",
              "6                                          best deal   AE_7\n",
              "7                                    sure well spent   AE_8\n",
              "8  product good described vizio tv somehow wall m...   AE_9\n",
              "9                                        really nice  AE_10"
            ],
            "text/html": [
              "\n",
              "  <div id=\"df-8d76dab4-0ff0-4edd-ad5c-99293c3d9a29\" class=\"colab-df-container\">\n",
              "    <div>\n",
              "<style scoped>\n",
              "    .dataframe tbody tr th:only-of-type {\n",
              "        vertical-align: middle;\n",
              "    }\n",
              "\n",
              "    .dataframe tbody tr th {\n",
              "        vertical-align: top;\n",
              "    }\n",
              "\n",
              "    .dataframe thead th {\n",
              "        text-align: right;\n",
              "    }\n",
              "</style>\n",
              "<table border=\"1\" class=\"dataframe\">\n",
              "  <thead>\n",
              "    <tr style=\"text-align: right;\">\n",
              "      <th></th>\n",
              "      <th>cleaned_review</th>\n",
              "      <th>UMID</th>\n",
              "    </tr>\n",
              "  </thead>\n",
              "  <tbody>\n",
              "    <tr>\n",
              "      <th>0</th>\n",
              "      <td>kirk martin managed capture long romantic week...</td>\n",
              "      <td>AE_1</td>\n",
              "    </tr>\n",
              "    <tr>\n",
              "      <th>1</th>\n",
              "      <td>needed television hanger good extension job in...</td>\n",
              "      <td>AE_2</td>\n",
              "    </tr>\n",
              "    <tr>\n",
              "      <th>2</th>\n",
              "      <td>satisfied bracket</td>\n",
              "      <td>AE_3</td>\n",
              "    </tr>\n",
              "    <tr>\n",
              "      <th>3</th>\n",
              "      <td>works well recommend one nook color</td>\n",
              "      <td>AE_4</td>\n",
              "    </tr>\n",
              "    <tr>\n",
              "      <th>4</th>\n",
              "      <td>cord helps two locations plug nook charge sugg...</td>\n",
              "      <td>AE_5</td>\n",
              "    </tr>\n",
              "    <tr>\n",
              "      <th>5</th>\n",
              "      <td>easy mount moves nice tv would order needed an...</td>\n",
              "      <td>AE_6</td>\n",
              "    </tr>\n",
              "    <tr>\n",
              "      <th>6</th>\n",
              "      <td>best deal</td>\n",
              "      <td>AE_7</td>\n",
              "    </tr>\n",
              "    <tr>\n",
              "      <th>7</th>\n",
              "      <td>sure well spent</td>\n",
              "      <td>AE_8</td>\n",
              "    </tr>\n",
              "    <tr>\n",
              "      <th>8</th>\n",
              "      <td>product good described vizio tv somehow wall m...</td>\n",
              "      <td>AE_9</td>\n",
              "    </tr>\n",
              "    <tr>\n",
              "      <th>9</th>\n",
              "      <td>really nice</td>\n",
              "      <td>AE_10</td>\n",
              "    </tr>\n",
              "  </tbody>\n",
              "</table>\n",
              "</div>\n",
              "    <div class=\"colab-df-buttons\">\n",
              "\n",
              "  <div class=\"colab-df-container\">\n",
              "    <button class=\"colab-df-convert\" onclick=\"convertToInteractive('df-8d76dab4-0ff0-4edd-ad5c-99293c3d9a29')\"\n",
              "            title=\"Convert this dataframe to an interactive table.\"\n",
              "            style=\"display:none;\">\n",
              "\n",
              "  <svg xmlns=\"http://www.w3.org/2000/svg\" height=\"24px\" viewBox=\"0 -960 960 960\">\n",
              "    <path d=\"M120-120v-720h720v720H120Zm60-500h600v-160H180v160Zm220 220h160v-160H400v160Zm0 220h160v-160H400v160ZM180-400h160v-160H180v160Zm440 0h160v-160H620v160ZM180-180h160v-160H180v160Zm440 0h160v-160H620v160Z\"/>\n",
              "  </svg>\n",
              "    </button>\n",
              "\n",
              "  <style>\n",
              "    .colab-df-container {\n",
              "      display:flex;\n",
              "      gap: 12px;\n",
              "    }\n",
              "\n",
              "    .colab-df-convert {\n",
              "      background-color: #E8F0FE;\n",
              "      border: none;\n",
              "      border-radius: 50%;\n",
              "      cursor: pointer;\n",
              "      display: none;\n",
              "      fill: #1967D2;\n",
              "      height: 32px;\n",
              "      padding: 0 0 0 0;\n",
              "      width: 32px;\n",
              "    }\n",
              "\n",
              "    .colab-df-convert:hover {\n",
              "      background-color: #E2EBFA;\n",
              "      box-shadow: 0px 1px 2px rgba(60, 64, 67, 0.3), 0px 1px 3px 1px rgba(60, 64, 67, 0.15);\n",
              "      fill: #174EA6;\n",
              "    }\n",
              "\n",
              "    .colab-df-buttons div {\n",
              "      margin-bottom: 4px;\n",
              "    }\n",
              "\n",
              "    [theme=dark] .colab-df-convert {\n",
              "      background-color: #3B4455;\n",
              "      fill: #D2E3FC;\n",
              "    }\n",
              "\n",
              "    [theme=dark] .colab-df-convert:hover {\n",
              "      background-color: #434B5C;\n",
              "      box-shadow: 0px 1px 3px 1px rgba(0, 0, 0, 0.15);\n",
              "      filter: drop-shadow(0px 1px 2px rgba(0, 0, 0, 0.3));\n",
              "      fill: #FFFFFF;\n",
              "    }\n",
              "  </style>\n",
              "\n",
              "    <script>\n",
              "      const buttonEl =\n",
              "        document.querySelector('#df-8d76dab4-0ff0-4edd-ad5c-99293c3d9a29 button.colab-df-convert');\n",
              "      buttonEl.style.display =\n",
              "        google.colab.kernel.accessAllowed ? 'block' : 'none';\n",
              "\n",
              "      async function convertToInteractive(key) {\n",
              "        const element = document.querySelector('#df-8d76dab4-0ff0-4edd-ad5c-99293c3d9a29');\n",
              "        const dataTable =\n",
              "          await google.colab.kernel.invokeFunction('convertToInteractive',\n",
              "                                                    [key], {});\n",
              "        if (!dataTable) return;\n",
              "\n",
              "        const docLinkHtml = 'Like what you see? Visit the ' +\n",
              "          '<a target=\"_blank\" href=https://colab.research.google.com/notebooks/data_table.ipynb>data table notebook</a>'\n",
              "          + ' to learn more about interactive tables.';\n",
              "        element.innerHTML = '';\n",
              "        dataTable['output_type'] = 'display_data';\n",
              "        await google.colab.output.renderOutput(dataTable, element);\n",
              "        const docLink = document.createElement('div');\n",
              "        docLink.innerHTML = docLinkHtml;\n",
              "        element.appendChild(docLink);\n",
              "      }\n",
              "    </script>\n",
              "  </div>\n",
              "\n",
              "\n",
              "<div id=\"df-00e5f5a9-333e-4be5-9f80-cc55c8b70fd5\">\n",
              "  <button class=\"colab-df-quickchart\" onclick=\"quickchart('df-00e5f5a9-333e-4be5-9f80-cc55c8b70fd5')\"\n",
              "            title=\"Suggest charts.\"\n",
              "            style=\"display:none;\">\n",
              "\n",
              "<svg xmlns=\"http://www.w3.org/2000/svg\" height=\"24px\"viewBox=\"0 0 24 24\"\n",
              "     width=\"24px\">\n",
              "    <g>\n",
              "        <path d=\"M19 3H5c-1.1 0-2 .9-2 2v14c0 1.1.9 2 2 2h14c1.1 0 2-.9 2-2V5c0-1.1-.9-2-2-2zM9 17H7v-7h2v7zm4 0h-2V7h2v10zm4 0h-2v-4h2v4z\"/>\n",
              "    </g>\n",
              "</svg>\n",
              "  </button>\n",
              "\n",
              "<style>\n",
              "  .colab-df-quickchart {\n",
              "    background-color: #E8F0FE;\n",
              "    border: none;\n",
              "    border-radius: 50%;\n",
              "    cursor: pointer;\n",
              "    display: none;\n",
              "    fill: #1967D2;\n",
              "    height: 32px;\n",
              "    padding: 0 0 0 0;\n",
              "    width: 32px;\n",
              "  }\n",
              "\n",
              "  .colab-df-quickchart:hover {\n",
              "    background-color: #E2EBFA;\n",
              "    box-shadow: 0px 1px 2px rgba(60, 64, 67, 0.3), 0px 1px 3px 1px rgba(60, 64, 67, 0.15);\n",
              "    fill: #174EA6;\n",
              "  }\n",
              "\n",
              "  [theme=dark] .colab-df-quickchart {\n",
              "    background-color: #3B4455;\n",
              "    fill: #D2E3FC;\n",
              "  }\n",
              "\n",
              "  [theme=dark] .colab-df-quickchart:hover {\n",
              "    background-color: #434B5C;\n",
              "    box-shadow: 0px 1px 3px 1px rgba(0, 0, 0, 0.15);\n",
              "    filter: drop-shadow(0px 1px 2px rgba(0, 0, 0, 0.3));\n",
              "    fill: #FFFFFF;\n",
              "  }\n",
              "</style>\n",
              "\n",
              "  <script>\n",
              "    async function quickchart(key) {\n",
              "      const charts = await google.colab.kernel.invokeFunction(\n",
              "          'suggestCharts', [key], {});\n",
              "    }\n",
              "    (() => {\n",
              "      let quickchartButtonEl =\n",
              "        document.querySelector('#df-00e5f5a9-333e-4be5-9f80-cc55c8b70fd5 button');\n",
              "      quickchartButtonEl.style.display =\n",
              "        google.colab.kernel.accessAllowed ? 'block' : 'none';\n",
              "    })();\n",
              "  </script>\n",
              "</div>\n",
              "    </div>\n",
              "  </div>\n"
            ]
          },
          "metadata": {},
          "execution_count": 141
        }
      ],
      "source": [
        "random_subset_df.head(10)"
      ]
    },
    {
      "cell_type": "code",
      "execution_count": 142,
      "id": "285b36fb",
      "metadata": {
        "colab": {
          "base_uri": "https://localhost:8080/"
        },
        "id": "285b36fb",
        "outputId": "f1b2ac10-13cd-4729-e642-a46727009021"
      },
      "outputs": [
        {
          "output_type": "stream",
          "name": "stdout",
          "text": [
            "      UMID                                     cleaned_review\n",
            "0     AE_1  kirk martin managed capture long romantic week...\n",
            "1     AE_2  needed television hanger good extension job in...\n",
            "2     AE_3                                  satisfied bracket\n",
            "3     AE_4                works well recommend one nook color\n",
            "4     AE_5  cord helps two locations plug nook charge sugg...\n",
            "..     ...                                                ...\n",
            "95   AE_96  swing arm tv wall mount perfect situation boug...\n",
            "96   AE_97                                             worked\n",
            "97   AE_98                               good product rma two\n",
            "98   AE_99              product works well meets expectations\n",
            "99  AE_100                                            get pay\n",
            "\n",
            "[100 rows x 2 columns]\n"
          ]
        }
      ],
      "source": [
        "random_subset_df = random_subset_df[['UMID', 'cleaned_review']]\n",
        "print(random_subset_df)"
      ]
    },
    {
      "cell_type": "code",
      "execution_count": 143,
      "id": "10d76485",
      "metadata": {
        "id": "10d76485"
      },
      "outputs": [],
      "source": [
        "import pickle\n",
        "from tensorflow.keras.models import load_model\n",
        "from tensorflow.keras.preprocessing.sequence import pad_sequences"
      ]
    },
    {
      "cell_type": "code",
      "execution_count": 144,
      "id": "89605970",
      "metadata": {
        "id": "89605970"
      },
      "outputs": [],
      "source": [
        "with open('tokenizer.pkl', 'rb') as tokenizer_file:\n",
        "    tokenizer = pickle.load(tokenizer_file)"
      ]
    },
    {
      "cell_type": "markdown",
      "id": "00433d40",
      "metadata": {
        "id": "00433d40"
      },
      "source": [
        "### Taking Sentiment Prediction  - From Neural Network"
      ]
    },
    {
      "cell_type": "code",
      "execution_count": 145,
      "id": "76a380c0",
      "metadata": {
        "id": "76a380c0"
      },
      "outputs": [],
      "source": [
        "from google.colab import drive\n",
        "from keras.models import load_model\n",
        "\n",
        "drive.mount('/content/drive')\n",
        "\n",
        "model = load_model('/content/drive/MyDrive/trained_model')\n",
        "\n",
        "print(\"Model loaded successfully.\")"
      ]
    },
    {
      "cell_type": "code",
      "execution_count": 146,
      "id": "214cac19",
      "metadata": {
        "id": "214cac19"
      },
      "outputs": [],
      "source": [
        "max_sequence_length = 200\n",
        "review_sequences = tokenizer.texts_to_sequences(random_subset_df['cleaned_review'])\n",
        "review_padded = pad_sequences(review_sequences, maxlen=max_sequence_length)"
      ]
    },
    {
      "cell_type": "code",
      "execution_count": 147,
      "id": "94095bdf",
      "metadata": {
        "colab": {
          "base_uri": "https://localhost:8080/"
        },
        "id": "94095bdf",
        "outputId": "8ae087f0-9778-4b51-b072-bc5f7f8c9c1c"
      },
      "outputs": [
        {
          "output_type": "stream",
          "name": "stdout",
          "text": [
            "4/4 [==============================] - 0s 13ms/step\n"
          ]
        }
      ],
      "source": [
        "# Predict sentiment\n",
        "predictions = model.predict(review_padded)\n",
        "sentiment_labels = ['Positive' if pred > 0.5 else 'Negative' for pred in predictions]"
      ]
    },
    {
      "cell_type": "code",
      "execution_count": 148,
      "id": "26611006",
      "metadata": {
        "id": "26611006"
      },
      "outputs": [],
      "source": [
        "random_subset_df['sentiment'] = sentiment_labels"
      ]
    },
    {
      "cell_type": "code",
      "execution_count": 149,
      "id": "bd40fdda",
      "metadata": {
        "colab": {
          "base_uri": "https://localhost:8080/"
        },
        "id": "bd40fdda",
        "outputId": "c78513e2-52fa-4886-d623-7c91abe894af"
      },
      "outputs": [
        {
          "output_type": "stream",
          "name": "stdout",
          "text": [
            "      UMID                                     cleaned_review sentiment\n",
            "0     AE_1  kirk martin managed capture long romantic week...  Positive\n",
            "1     AE_2  needed television hanger good extension job in...  Positive\n",
            "2     AE_3                                  satisfied bracket  Positive\n",
            "3     AE_4                works well recommend one nook color  Positive\n",
            "4     AE_5  cord helps two locations plug nook charge sugg...  Positive\n",
            "..     ...                                                ...       ...\n",
            "95   AE_96  swing arm tv wall mount perfect situation boug...  Positive\n",
            "96   AE_97                                             worked  Negative\n",
            "97   AE_98                               good product rma two  Positive\n",
            "98   AE_99              product works well meets expectations  Positive\n",
            "99  AE_100                                            get pay  Negative\n",
            "\n",
            "[100 rows x 3 columns]\n"
          ]
        }
      ],
      "source": [
        "print(random_subset_df)"
      ]
    },
    {
      "cell_type": "markdown",
      "id": "3f177e52",
      "metadata": {
        "id": "3f177e52"
      },
      "source": [
        "### Taking Category Prediction  - From Neural Network"
      ]
    },
    {
      "cell_type": "code",
      "execution_count": 150,
      "id": "89493926",
      "metadata": {
        "id": "89493926"
      },
      "outputs": [],
      "source": [
        "from google.colab import drive\n",
        "from keras.models import load_model\n",
        "\n",
        "drive.mount('/content/drive')\n",
        "\n",
        "model_path = '/content/drive/MyDrive/path_to_your_model/trained_model_category'\n",
        "category_model = load_model(model_path)\n",
        "\n",
        "print(\"Model loaded successfully.\")"
      ]
    },
    {
      "cell_type": "code",
      "execution_count": 151,
      "id": "db0950ac",
      "metadata": {
        "id": "db0950ac"
      },
      "outputs": [],
      "source": [
        "X_random = random_subset_df['cleaned_review']"
      ]
    },
    {
      "cell_type": "code",
      "execution_count": 152,
      "id": "82d101f9",
      "metadata": {
        "id": "82d101f9"
      },
      "outputs": [],
      "source": [
        "X_random_seq = tokenizer.texts_to_sequences(X_random)\n",
        "X_random_padded = pad_sequences(X_random_seq, maxlen=max_sequence_length)"
      ]
    },
    {
      "cell_type": "code",
      "execution_count": 153,
      "id": "b3daf467",
      "metadata": {
        "colab": {
          "base_uri": "https://localhost:8080/"
        },
        "id": "b3daf467",
        "outputId": "1117b6a4-1ca8-4bbe-942e-9f8007cc6f2a"
      },
      "outputs": [
        {
          "output_type": "stream",
          "name": "stdout",
          "text": [
            "4/4 [==============================] - 0s 8ms/step\n"
          ]
        }
      ],
      "source": [
        "# Predict categories\n",
        "y_pred_category_index = category_model.predict(X_random_padded)\n",
        "y_pred_category_label = [category_labels[np.argmax(pred)] for pred in y_pred_category_index]"
      ]
    },
    {
      "cell_type": "code",
      "execution_count": 154,
      "id": "cf33888e",
      "metadata": {
        "id": "cf33888e"
      },
      "outputs": [],
      "source": [
        "random_subset_df['predicted_category'] = y_pred_category_label"
      ]
    },
    {
      "cell_type": "code",
      "execution_count": 155,
      "id": "480ad6ee",
      "metadata": {
        "colab": {
          "base_uri": "https://localhost:8080/"
        },
        "id": "480ad6ee",
        "outputId": "9620621c-a23e-45b6-cdf9-415669be70e9"
      },
      "outputs": [
        {
          "output_type": "stream",
          "name": "stdout",
          "text": [
            "Predictions saved successfully.\n"
          ]
        }
      ],
      "source": [
        "random_subset_df.to_excel('random_subset_predictions.xlsx', index=False)\n",
        "print(\"Predictions saved successfully.\")"
      ]
    },
    {
      "cell_type": "code",
      "execution_count": 156,
      "id": "f1f72eff",
      "metadata": {
        "scrolled": true,
        "colab": {
          "base_uri": "https://localhost:8080/",
          "height": 363
        },
        "id": "f1f72eff",
        "outputId": "ce275d50-9699-48bf-9416-0fae60cbad9f"
      },
      "outputs": [
        {
          "output_type": "execute_result",
          "data": {
            "text/plain": [
              "    UMID                                     cleaned_review sentiment  \\\n",
              "0   AE_1  kirk martin managed capture long romantic week...  Positive   \n",
              "1   AE_2  needed television hanger good extension job in...  Positive   \n",
              "2   AE_3                                  satisfied bracket  Positive   \n",
              "3   AE_4                works well recommend one nook color  Positive   \n",
              "4   AE_5  cord helps two locations plug nook charge sugg...  Positive   \n",
              "5   AE_6  easy mount moves nice tv would order needed an...  Positive   \n",
              "6   AE_7                                          best deal  Positive   \n",
              "7   AE_8                                    sure well spent  Positive   \n",
              "8   AE_9  product good described vizio tv somehow wall m...  Positive   \n",
              "9  AE_10                                        really nice  Positive   \n",
              "\n",
              "  predicted_category  \n",
              "0            General  \n",
              "1            General  \n",
              "2            General  \n",
              "3            General  \n",
              "4            General  \n",
              "5            General  \n",
              "6            General  \n",
              "7            General  \n",
              "8              Leads  \n",
              "9            General  "
            ],
            "text/html": [
              "\n",
              "  <div id=\"df-1f131617-17ab-4820-b153-f90826c2e8ef\" class=\"colab-df-container\">\n",
              "    <div>\n",
              "<style scoped>\n",
              "    .dataframe tbody tr th:only-of-type {\n",
              "        vertical-align: middle;\n",
              "    }\n",
              "\n",
              "    .dataframe tbody tr th {\n",
              "        vertical-align: top;\n",
              "    }\n",
              "\n",
              "    .dataframe thead th {\n",
              "        text-align: right;\n",
              "    }\n",
              "</style>\n",
              "<table border=\"1\" class=\"dataframe\">\n",
              "  <thead>\n",
              "    <tr style=\"text-align: right;\">\n",
              "      <th></th>\n",
              "      <th>UMID</th>\n",
              "      <th>cleaned_review</th>\n",
              "      <th>sentiment</th>\n",
              "      <th>predicted_category</th>\n",
              "    </tr>\n",
              "  </thead>\n",
              "  <tbody>\n",
              "    <tr>\n",
              "      <th>0</th>\n",
              "      <td>AE_1</td>\n",
              "      <td>kirk martin managed capture long romantic week...</td>\n",
              "      <td>Positive</td>\n",
              "      <td>General</td>\n",
              "    </tr>\n",
              "    <tr>\n",
              "      <th>1</th>\n",
              "      <td>AE_2</td>\n",
              "      <td>needed television hanger good extension job in...</td>\n",
              "      <td>Positive</td>\n",
              "      <td>General</td>\n",
              "    </tr>\n",
              "    <tr>\n",
              "      <th>2</th>\n",
              "      <td>AE_3</td>\n",
              "      <td>satisfied bracket</td>\n",
              "      <td>Positive</td>\n",
              "      <td>General</td>\n",
              "    </tr>\n",
              "    <tr>\n",
              "      <th>3</th>\n",
              "      <td>AE_4</td>\n",
              "      <td>works well recommend one nook color</td>\n",
              "      <td>Positive</td>\n",
              "      <td>General</td>\n",
              "    </tr>\n",
              "    <tr>\n",
              "      <th>4</th>\n",
              "      <td>AE_5</td>\n",
              "      <td>cord helps two locations plug nook charge sugg...</td>\n",
              "      <td>Positive</td>\n",
              "      <td>General</td>\n",
              "    </tr>\n",
              "    <tr>\n",
              "      <th>5</th>\n",
              "      <td>AE_6</td>\n",
              "      <td>easy mount moves nice tv would order needed an...</td>\n",
              "      <td>Positive</td>\n",
              "      <td>General</td>\n",
              "    </tr>\n",
              "    <tr>\n",
              "      <th>6</th>\n",
              "      <td>AE_7</td>\n",
              "      <td>best deal</td>\n",
              "      <td>Positive</td>\n",
              "      <td>General</td>\n",
              "    </tr>\n",
              "    <tr>\n",
              "      <th>7</th>\n",
              "      <td>AE_8</td>\n",
              "      <td>sure well spent</td>\n",
              "      <td>Positive</td>\n",
              "      <td>General</td>\n",
              "    </tr>\n",
              "    <tr>\n",
              "      <th>8</th>\n",
              "      <td>AE_9</td>\n",
              "      <td>product good described vizio tv somehow wall m...</td>\n",
              "      <td>Positive</td>\n",
              "      <td>Leads</td>\n",
              "    </tr>\n",
              "    <tr>\n",
              "      <th>9</th>\n",
              "      <td>AE_10</td>\n",
              "      <td>really nice</td>\n",
              "      <td>Positive</td>\n",
              "      <td>General</td>\n",
              "    </tr>\n",
              "  </tbody>\n",
              "</table>\n",
              "</div>\n",
              "    <div class=\"colab-df-buttons\">\n",
              "\n",
              "  <div class=\"colab-df-container\">\n",
              "    <button class=\"colab-df-convert\" onclick=\"convertToInteractive('df-1f131617-17ab-4820-b153-f90826c2e8ef')\"\n",
              "            title=\"Convert this dataframe to an interactive table.\"\n",
              "            style=\"display:none;\">\n",
              "\n",
              "  <svg xmlns=\"http://www.w3.org/2000/svg\" height=\"24px\" viewBox=\"0 -960 960 960\">\n",
              "    <path d=\"M120-120v-720h720v720H120Zm60-500h600v-160H180v160Zm220 220h160v-160H400v160Zm0 220h160v-160H400v160ZM180-400h160v-160H180v160Zm440 0h160v-160H620v160ZM180-180h160v-160H180v160Zm440 0h160v-160H620v160Z\"/>\n",
              "  </svg>\n",
              "    </button>\n",
              "\n",
              "  <style>\n",
              "    .colab-df-container {\n",
              "      display:flex;\n",
              "      gap: 12px;\n",
              "    }\n",
              "\n",
              "    .colab-df-convert {\n",
              "      background-color: #E8F0FE;\n",
              "      border: none;\n",
              "      border-radius: 50%;\n",
              "      cursor: pointer;\n",
              "      display: none;\n",
              "      fill: #1967D2;\n",
              "      height: 32px;\n",
              "      padding: 0 0 0 0;\n",
              "      width: 32px;\n",
              "    }\n",
              "\n",
              "    .colab-df-convert:hover {\n",
              "      background-color: #E2EBFA;\n",
              "      box-shadow: 0px 1px 2px rgba(60, 64, 67, 0.3), 0px 1px 3px 1px rgba(60, 64, 67, 0.15);\n",
              "      fill: #174EA6;\n",
              "    }\n",
              "\n",
              "    .colab-df-buttons div {\n",
              "      margin-bottom: 4px;\n",
              "    }\n",
              "\n",
              "    [theme=dark] .colab-df-convert {\n",
              "      background-color: #3B4455;\n",
              "      fill: #D2E3FC;\n",
              "    }\n",
              "\n",
              "    [theme=dark] .colab-df-convert:hover {\n",
              "      background-color: #434B5C;\n",
              "      box-shadow: 0px 1px 3px 1px rgba(0, 0, 0, 0.15);\n",
              "      filter: drop-shadow(0px 1px 2px rgba(0, 0, 0, 0.3));\n",
              "      fill: #FFFFFF;\n",
              "    }\n",
              "  </style>\n",
              "\n",
              "    <script>\n",
              "      const buttonEl =\n",
              "        document.querySelector('#df-1f131617-17ab-4820-b153-f90826c2e8ef button.colab-df-convert');\n",
              "      buttonEl.style.display =\n",
              "        google.colab.kernel.accessAllowed ? 'block' : 'none';\n",
              "\n",
              "      async function convertToInteractive(key) {\n",
              "        const element = document.querySelector('#df-1f131617-17ab-4820-b153-f90826c2e8ef');\n",
              "        const dataTable =\n",
              "          await google.colab.kernel.invokeFunction('convertToInteractive',\n",
              "                                                    [key], {});\n",
              "        if (!dataTable) return;\n",
              "\n",
              "        const docLinkHtml = 'Like what you see? Visit the ' +\n",
              "          '<a target=\"_blank\" href=https://colab.research.google.com/notebooks/data_table.ipynb>data table notebook</a>'\n",
              "          + ' to learn more about interactive tables.';\n",
              "        element.innerHTML = '';\n",
              "        dataTable['output_type'] = 'display_data';\n",
              "        await google.colab.output.renderOutput(dataTable, element);\n",
              "        const docLink = document.createElement('div');\n",
              "        docLink.innerHTML = docLinkHtml;\n",
              "        element.appendChild(docLink);\n",
              "      }\n",
              "    </script>\n",
              "  </div>\n",
              "\n",
              "\n",
              "<div id=\"df-9cdfa17a-49ef-477a-ba06-6eb4e9750935\">\n",
              "  <button class=\"colab-df-quickchart\" onclick=\"quickchart('df-9cdfa17a-49ef-477a-ba06-6eb4e9750935')\"\n",
              "            title=\"Suggest charts.\"\n",
              "            style=\"display:none;\">\n",
              "\n",
              "<svg xmlns=\"http://www.w3.org/2000/svg\" height=\"24px\"viewBox=\"0 0 24 24\"\n",
              "     width=\"24px\">\n",
              "    <g>\n",
              "        <path d=\"M19 3H5c-1.1 0-2 .9-2 2v14c0 1.1.9 2 2 2h14c1.1 0 2-.9 2-2V5c0-1.1-.9-2-2-2zM9 17H7v-7h2v7zm4 0h-2V7h2v10zm4 0h-2v-4h2v4z\"/>\n",
              "    </g>\n",
              "</svg>\n",
              "  </button>\n",
              "\n",
              "<style>\n",
              "  .colab-df-quickchart {\n",
              "    background-color: #E8F0FE;\n",
              "    border: none;\n",
              "    border-radius: 50%;\n",
              "    cursor: pointer;\n",
              "    display: none;\n",
              "    fill: #1967D2;\n",
              "    height: 32px;\n",
              "    padding: 0 0 0 0;\n",
              "    width: 32px;\n",
              "  }\n",
              "\n",
              "  .colab-df-quickchart:hover {\n",
              "    background-color: #E2EBFA;\n",
              "    box-shadow: 0px 1px 2px rgba(60, 64, 67, 0.3), 0px 1px 3px 1px rgba(60, 64, 67, 0.15);\n",
              "    fill: #174EA6;\n",
              "  }\n",
              "\n",
              "  [theme=dark] .colab-df-quickchart {\n",
              "    background-color: #3B4455;\n",
              "    fill: #D2E3FC;\n",
              "  }\n",
              "\n",
              "  [theme=dark] .colab-df-quickchart:hover {\n",
              "    background-color: #434B5C;\n",
              "    box-shadow: 0px 1px 3px 1px rgba(0, 0, 0, 0.15);\n",
              "    filter: drop-shadow(0px 1px 2px rgba(0, 0, 0, 0.3));\n",
              "    fill: #FFFFFF;\n",
              "  }\n",
              "</style>\n",
              "\n",
              "  <script>\n",
              "    async function quickchart(key) {\n",
              "      const charts = await google.colab.kernel.invokeFunction(\n",
              "          'suggestCharts', [key], {});\n",
              "    }\n",
              "    (() => {\n",
              "      let quickchartButtonEl =\n",
              "        document.querySelector('#df-9cdfa17a-49ef-477a-ba06-6eb4e9750935 button');\n",
              "      quickchartButtonEl.style.display =\n",
              "        google.colab.kernel.accessAllowed ? 'block' : 'none';\n",
              "    })();\n",
              "  </script>\n",
              "</div>\n",
              "    </div>\n",
              "  </div>\n"
            ]
          },
          "metadata": {},
          "execution_count": 156
        }
      ],
      "source": [
        "random_subset_df.head(10)"
      ]
    },
    {
      "cell_type": "code",
      "execution_count": 157,
      "id": "29905345",
      "metadata": {
        "id": "29905345"
      },
      "outputs": [],
      "source": [
        "random_subset_df.to_excel('random_subset.xlsx', index=False)"
      ]
    },
    {
      "cell_type": "code",
      "execution_count": 157,
      "id": "3f456d29",
      "metadata": {
        "id": "3f456d29"
      },
      "outputs": [],
      "source": []
    }
  ],
  "metadata": {
    "kernelspec": {
      "display_name": "Python 3 (ipykernel)",
      "language": "python",
      "name": "python3"
    },
    "language_info": {
      "codemirror_mode": {
        "name": "ipython",
        "version": 3
      },
      "file_extension": ".py",
      "mimetype": "text/x-python",
      "name": "python",
      "nbconvert_exporter": "python",
      "pygments_lexer": "ipython3",
      "version": "3.10.9"
    },
    "colab": {
      "provenance": [],
      "include_colab_link": true
    }
  },
  "nbformat": 4,
  "nbformat_minor": 5
}