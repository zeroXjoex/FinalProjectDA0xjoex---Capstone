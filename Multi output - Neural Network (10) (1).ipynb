{
 "cells": [
  {
   "cell_type": "code",
   "execution_count": 2,
   "id": "b2fda0f9",
   "metadata": {},
   "outputs": [
    {
     "name": "stdout",
     "output_type": "stream",
     "text": [
      "   UMID                                     cleaned_review sentiment  \\\n",
      "0  AE_1  ms files left breathless got educated got mad ...  Positive   \n",
      "1  AE_2                                          fast card  Negative   \n",
      "2  AE_3  heavy dutyeasy installand important easy attac...  Positive   \n",
      "3  AE_4  summer breeze second book series collection ba...  Positive   \n",
      "4  AE_5               outstanding value great product look  Positive   \n",
      "\n",
      "  predicted_category  \n",
      "0               Care  \n",
      "1            General  \n",
      "2              Leads  \n",
      "3            General  \n",
      "4              Leads  \n"
     ]
    }
   ],
   "source": [
    "import pandas as pd\n",
    "import os\n",
    "desktop_path = os.path.expanduser(\"~/Desktop\")\n",
    "file_path = os.path.join(desktop_path, \"random_subset.xlsx\")\n",
    "df = pd.read_excel(file_path)\n",
    "print(df.head())"
   ]
  },
  {
   "cell_type": "code",
   "execution_count": 3,
   "id": "90a8d97a",
   "metadata": {},
   "outputs": [
    {
     "name": "stderr",
     "output_type": "stream",
     "text": [
      "2023-08-22 11:56:14.044949: I tensorflow/tsl/cuda/cudart_stub.cc:28] Could not find cuda drivers on your machine, GPU will not be used.\n",
      "2023-08-22 11:56:17.375859: I tensorflow/tsl/cuda/cudart_stub.cc:28] Could not find cuda drivers on your machine, GPU will not be used.\n",
      "2023-08-22 11:56:17.387331: I tensorflow/core/platform/cpu_feature_guard.cc:182] This TensorFlow binary is optimized to use available CPU instructions in performance-critical operations.\n",
      "To enable the following instructions: AVX2 FMA, in other operations, rebuild TensorFlow with the appropriate compiler flags.\n",
      "2023-08-22 11:56:26.376576: W tensorflow/compiler/tf2tensorrt/utils/py_utils.cc:38] TF-TRT Warning: Could not find TensorRT\n"
     ]
    }
   ],
   "source": [
    "import pandas as pd\n",
    "import os\n",
    "import numpy as np\n",
    "from sklearn.model_selection import train_test_split\n",
    "from tensorflow.keras.preprocessing.text import Tokenizer\n",
    "from tensorflow.keras.preprocessing.sequence import pad_sequences\n",
    "from tensorflow.keras.layers import Input, Embedding, LSTM, Dense\n",
    "from tensorflow.keras.models import Model"
   ]
  },
  {
   "cell_type": "code",
   "execution_count": 5,
   "id": "dc6f0c1b",
   "metadata": {},
   "outputs": [],
   "source": [
    "reviews = df['cleaned_review'].tolist()\n",
    "sentiments = df['sentiment'].tolist()\n",
    "categories = df['predicted_category'].tolist()"
   ]
  },
  {
   "cell_type": "code",
   "execution_count": 6,
   "id": "14c14a03",
   "metadata": {},
   "outputs": [],
   "source": [
    "sentiment_mapping = {'Positive': 0, 'Negative': 1, 'Neutral': 2}\n",
    "category_mapping = {'Care': 0, 'General': 1, 'Leads': 2}"
   ]
  },
  {
   "cell_type": "code",
   "execution_count": 7,
   "id": "0b6f01ae",
   "metadata": {},
   "outputs": [],
   "source": [
    "sentiment_labels = [sentiment_mapping[label] for label in sentiments]\n",
    "category_labels = [category_mapping[label] for label in categories]"
   ]
  },
  {
   "cell_type": "code",
   "execution_count": 9,
   "id": "d24f7819",
   "metadata": {},
   "outputs": [],
   "source": [
    "max_words = 10000  # Choose an appropriate vocabulary size\n",
    "tokenizer = Tokenizer(num_words=max_words, oov_token='<OOV>')\n",
    "tokenizer.fit_on_texts(reviews)\n",
    "sequences = tokenizer.texts_to_sequences(reviews)\n",
    "max_sequence_length = max([len(seq) for seq in sequences])\n",
    "padded_sequences = pad_sequences(sequences, maxlen=max_sequence_length, padding='post')"
   ]
  },
  {
   "cell_type": "code",
   "execution_count": 16,
   "id": "a8af80fd",
   "metadata": {},
   "outputs": [],
   "source": [
    "train_reviews, val_reviews, train_sentiments, val_sentiments, train_categories, val_categories = train_test_split(\n",
    "    padded_sequences, sentiment_labels, category_labels, test_size=0.2, random_state=42\n",
    ")"
   ]
  },
  {
   "cell_type": "code",
   "execution_count": 17,
   "id": "d14efe8e",
   "metadata": {},
   "outputs": [
    {
     "name": "stderr",
     "output_type": "stream",
     "text": [
      "2023-08-22 12:30:46.708200: I tensorflow/core/common_runtime/executor.cc:1197] [/device:CPU:0] (DEBUG INFO) Executor start aborting (this does not indicate an error and you can ignore this message): INVALID_ARGUMENT: You must feed a value for placeholder tensor 'gradients/split_2_grad/concat/split_2/split_dim' with dtype int32\n",
      "\t [[{{node gradients/split_2_grad/concat/split_2/split_dim}}]]\n",
      "2023-08-22 12:30:46.710940: I tensorflow/core/common_runtime/executor.cc:1197] [/device:CPU:0] (DEBUG INFO) Executor start aborting (this does not indicate an error and you can ignore this message): INVALID_ARGUMENT: You must feed a value for placeholder tensor 'gradients/split_grad/concat/split/split_dim' with dtype int32\n",
      "\t [[{{node gradients/split_grad/concat/split/split_dim}}]]\n",
      "2023-08-22 12:30:46.712677: I tensorflow/core/common_runtime/executor.cc:1197] [/device:CPU:0] (DEBUG INFO) Executor start aborting (this does not indicate an error and you can ignore this message): INVALID_ARGUMENT: You must feed a value for placeholder tensor 'gradients/split_1_grad/concat/split_1/split_dim' with dtype int32\n",
      "\t [[{{node gradients/split_1_grad/concat/split_1/split_dim}}]]\n"
     ]
    }
   ],
   "source": [
    "# Define the model\n",
    "input_layer = Input(shape=(max_sequence_length,))\n",
    "embedding_layer = Embedding(input_dim=max_words, output_dim=128)(input_layer)\n",
    "lstm_layer = LSTM(64)(embedding_layer)"
   ]
  },
  {
   "cell_type": "code",
   "execution_count": 18,
   "id": "c5e503af",
   "metadata": {},
   "outputs": [],
   "source": [
    "# Separate output layers for sentiment and category\n",
    "num_sentiments = len(sentiment_mapping)\n",
    "num_categories = len(category_mapping)"
   ]
  },
  {
   "cell_type": "code",
   "execution_count": 19,
   "id": "e637ef78",
   "metadata": {},
   "outputs": [],
   "source": [
    "sentiment_output = Dense(num_sentiments, activation='softmax', name='sentiment')(lstm_layer)\n",
    "category_output = Dense(num_categories, activation='softmax', name='category')(lstm_layer)"
   ]
  },
  {
   "cell_type": "code",
   "execution_count": 20,
   "id": "73527aba",
   "metadata": {},
   "outputs": [],
   "source": [
    "model = Model(inputs=input_layer, outputs=[sentiment_output, category_output])"
   ]
  },
  {
   "cell_type": "code",
   "execution_count": 21,
   "id": "b438ffe4",
   "metadata": {},
   "outputs": [],
   "source": [
    "model.compile(optimizer='adam', loss='sparse_categorical_crossentropy', metrics=['accuracy'])\n"
   ]
  },
  {
   "cell_type": "code",
   "execution_count": 23,
   "id": "dd81e73d",
   "metadata": {},
   "outputs": [],
   "source": [
    "train_sentiments = np.array(train_sentiments)\n",
    "train_categories = np.array(train_categories)\n",
    "val_sentiments = np.array(val_sentiments)\n",
    "val_categories = np.array(val_categories)"
   ]
  },
  {
   "cell_type": "code",
   "execution_count": 24,
   "id": "f950b600",
   "metadata": {},
   "outputs": [
    {
     "name": "stdout",
     "output_type": "stream",
     "text": [
      "Epoch 1/10\n"
     ]
    },
    {
     "name": "stderr",
     "output_type": "stream",
     "text": [
      "2023-08-22 12:34:27.353079: I tensorflow/core/common_runtime/executor.cc:1197] [/device:CPU:0] (DEBUG INFO) Executor start aborting (this does not indicate an error and you can ignore this message): INVALID_ARGUMENT: You must feed a value for placeholder tensor 'gradients/split_2_grad/concat/split_2/split_dim' with dtype int32\n",
      "\t [[{{node gradients/split_2_grad/concat/split_2/split_dim}}]]\n",
      "2023-08-22 12:34:27.355597: I tensorflow/core/common_runtime/executor.cc:1197] [/device:CPU:0] (DEBUG INFO) Executor start aborting (this does not indicate an error and you can ignore this message): INVALID_ARGUMENT: You must feed a value for placeholder tensor 'gradients/split_grad/concat/split/split_dim' with dtype int32\n",
      "\t [[{{node gradients/split_grad/concat/split/split_dim}}]]\n",
      "2023-08-22 12:34:27.358066: I tensorflow/core/common_runtime/executor.cc:1197] [/device:CPU:0] (DEBUG INFO) Executor start aborting (this does not indicate an error and you can ignore this message): INVALID_ARGUMENT: You must feed a value for placeholder tensor 'gradients/split_1_grad/concat/split_1/split_dim' with dtype int32\n",
      "\t [[{{node gradients/split_1_grad/concat/split_1/split_dim}}]]\n",
      "2023-08-22 12:34:28.770134: I tensorflow/core/common_runtime/executor.cc:1197] [/device:CPU:0] (DEBUG INFO) Executor start aborting (this does not indicate an error and you can ignore this message): INVALID_ARGUMENT: You must feed a value for placeholder tensor 'gradients/split_2_grad/concat/split_2/split_dim' with dtype int32\n",
      "\t [[{{node gradients/split_2_grad/concat/split_2/split_dim}}]]\n",
      "2023-08-22 12:34:28.772923: I tensorflow/core/common_runtime/executor.cc:1197] [/device:CPU:0] (DEBUG INFO) Executor start aborting (this does not indicate an error and you can ignore this message): INVALID_ARGUMENT: You must feed a value for placeholder tensor 'gradients/split_grad/concat/split/split_dim' with dtype int32\n",
      "\t [[{{node gradients/split_grad/concat/split/split_dim}}]]\n",
      "2023-08-22 12:34:28.775775: I tensorflow/core/common_runtime/executor.cc:1197] [/device:CPU:0] (DEBUG INFO) Executor start aborting (this does not indicate an error and you can ignore this message): INVALID_ARGUMENT: You must feed a value for placeholder tensor 'gradients/split_1_grad/concat/split_1/split_dim' with dtype int32\n",
      "\t [[{{node gradients/split_1_grad/concat/split_1/split_dim}}]]\n"
     ]
    },
    {
     "name": "stdout",
     "output_type": "stream",
     "text": [
      "3/3 [==============================] - ETA: 0s - loss: 2.1553 - sentiment_loss: 1.0503 - category_loss: 1.1050 - sentiment_accuracy: 0.8250 - category_accuracy: 0.2125"
     ]
    },
    {
     "name": "stderr",
     "output_type": "stream",
     "text": [
      "2023-08-22 12:34:32.922955: I tensorflow/core/common_runtime/executor.cc:1197] [/device:CPU:0] (DEBUG INFO) Executor start aborting (this does not indicate an error and you can ignore this message): INVALID_ARGUMENT: You must feed a value for placeholder tensor 'gradients/split_2_grad/concat/split_2/split_dim' with dtype int32\n",
      "\t [[{{node gradients/split_2_grad/concat/split_2/split_dim}}]]\n",
      "2023-08-22 12:34:32.927587: I tensorflow/core/common_runtime/executor.cc:1197] [/device:CPU:0] (DEBUG INFO) Executor start aborting (this does not indicate an error and you can ignore this message): INVALID_ARGUMENT: You must feed a value for placeholder tensor 'gradients/split_grad/concat/split/split_dim' with dtype int32\n",
      "\t [[{{node gradients/split_grad/concat/split/split_dim}}]]\n",
      "2023-08-22 12:34:32.929590: I tensorflow/core/common_runtime/executor.cc:1197] [/device:CPU:0] (DEBUG INFO) Executor start aborting (this does not indicate an error and you can ignore this message): INVALID_ARGUMENT: You must feed a value for placeholder tensor 'gradients/split_1_grad/concat/split_1/split_dim' with dtype int32\n",
      "\t [[{{node gradients/split_1_grad/concat/split_1/split_dim}}]]\n"
     ]
    },
    {
     "name": "stdout",
     "output_type": "stream",
     "text": [
      "3/3 [==============================] - 7s 688ms/step - loss: 2.1553 - sentiment_loss: 1.0503 - category_loss: 1.1050 - sentiment_accuracy: 0.8250 - category_accuracy: 0.2125 - val_loss: 2.0589 - val_sentiment_loss: 0.9908 - val_category_loss: 1.0681 - val_sentiment_accuracy: 0.8000 - val_category_accuracy: 0.6500\n",
      "Epoch 2/10\n",
      "3/3 [==============================] - 1s 238ms/step - loss: 1.9883 - sentiment_loss: 0.9570 - category_loss: 1.0313 - sentiment_accuracy: 0.8250 - category_accuracy: 0.7625 - val_loss: 1.8952 - val_sentiment_loss: 0.8885 - val_category_loss: 1.0067 - val_sentiment_accuracy: 0.8000 - val_category_accuracy: 0.6500\n",
      "Epoch 3/10\n",
      "3/3 [==============================] - 1s 393ms/step - loss: 1.7839 - sentiment_loss: 0.8444 - category_loss: 0.9396 - sentiment_accuracy: 0.8250 - category_accuracy: 0.7625 - val_loss: 1.6873 - val_sentiment_loss: 0.7572 - val_category_loss: 0.9300 - val_sentiment_accuracy: 0.8000 - val_category_accuracy: 0.6500\n",
      "Epoch 4/10\n",
      "3/3 [==============================] - 1s 355ms/step - loss: 1.5265 - sentiment_loss: 0.7065 - category_loss: 0.8200 - sentiment_accuracy: 0.8250 - category_accuracy: 0.7625 - val_loss: 1.5737 - val_sentiment_loss: 0.6718 - val_category_loss: 0.9019 - val_sentiment_accuracy: 0.8000 - val_category_accuracy: 0.6500\n",
      "Epoch 5/10\n",
      "3/3 [==============================] - 1s 267ms/step - loss: 1.3360 - sentiment_loss: 0.6160 - category_loss: 0.7200 - sentiment_accuracy: 0.8250 - category_accuracy: 0.7625 - val_loss: 1.6588 - val_sentiment_loss: 0.6863 - val_category_loss: 0.9725 - val_sentiment_accuracy: 0.8000 - val_category_accuracy: 0.6500\n",
      "Epoch 6/10\n",
      "3/3 [==============================] - 1s 246ms/step - loss: 1.3397 - sentiment_loss: 0.6101 - category_loss: 0.7296 - sentiment_accuracy: 0.8250 - category_accuracy: 0.7625 - val_loss: 1.5859 - val_sentiment_loss: 0.6283 - val_category_loss: 0.9576 - val_sentiment_accuracy: 0.8000 - val_category_accuracy: 0.6500\n",
      "Epoch 7/10\n",
      "3/3 [==============================] - 1s 321ms/step - loss: 1.2721 - sentiment_loss: 0.5594 - category_loss: 0.7127 - sentiment_accuracy: 0.8250 - category_accuracy: 0.7625 - val_loss: 1.4759 - val_sentiment_loss: 0.5611 - val_category_loss: 0.9148 - val_sentiment_accuracy: 0.8000 - val_category_accuracy: 0.6500\n",
      "Epoch 8/10\n",
      "3/3 [==============================] - 1s 253ms/step - loss: 1.2075 - sentiment_loss: 0.5074 - category_loss: 0.7002 - sentiment_accuracy: 0.8250 - category_accuracy: 0.7625 - val_loss: 1.4184 - val_sentiment_loss: 0.5377 - val_category_loss: 0.8808 - val_sentiment_accuracy: 0.8000 - val_category_accuracy: 0.6500\n",
      "Epoch 9/10\n",
      "3/3 [==============================] - 1s 293ms/step - loss: 1.2064 - sentiment_loss: 0.5025 - category_loss: 0.7039 - sentiment_accuracy: 0.8250 - category_accuracy: 0.7625 - val_loss: 1.3982 - val_sentiment_loss: 0.5309 - val_category_loss: 0.8673 - val_sentiment_accuracy: 0.8000 - val_category_accuracy: 0.6500\n",
      "Epoch 10/10\n",
      "3/3 [==============================] - 1s 259ms/step - loss: 1.2058 - sentiment_loss: 0.4991 - category_loss: 0.7068 - sentiment_accuracy: 0.8250 - category_accuracy: 0.7625 - val_loss: 1.3917 - val_sentiment_loss: 0.5203 - val_category_loss: 0.8714 - val_sentiment_accuracy: 0.8000 - val_category_accuracy: 0.6500\n"
     ]
    },
    {
     "data": {
      "text/plain": [
       "<keras.callbacks.History at 0x7f105446e590>"
      ]
     },
     "execution_count": 24,
     "metadata": {},
     "output_type": "execute_result"
    }
   ],
   "source": [
    "# Train the model\n",
    "model.fit(train_reviews, [train_sentiments, train_categories], epochs=10, batch_size=32,\n",
    "          validation_data=(val_reviews, [val_sentiments, val_categories]))"
   ]
  },
  {
   "cell_type": "code",
   "execution_count": 26,
   "id": "1abe9989",
   "metadata": {},
   "outputs": [
    {
     "name": "stdout",
     "output_type": "stream",
     "text": [
      "Model saved successfully\n"
     ]
    }
   ],
   "source": [
    "# Save the model\n",
    "model.save('multi_output_model.h5')\n",
    "print(\"Model saved successfully\")"
   ]
  },
  {
   "cell_type": "code",
   "execution_count": 28,
   "id": "a1a79b51",
   "metadata": {},
   "outputs": [],
   "source": [
    "test_sentiments = np.array(test_sentiments)\n",
    "test_categories = np.array(test_categories)"
   ]
  },
  {
   "cell_type": "code",
   "execution_count": 29,
   "id": "d5c2637a",
   "metadata": {},
   "outputs": [
    {
     "name": "stdout",
     "output_type": "stream",
     "text": [
      "1/1 [==============================] - 0s 136ms/step - loss: 1.3917 - sentiment_loss: 0.5203 - category_loss: 0.8714 - sentiment_accuracy: 0.8000 - category_accuracy: 0.6500\n",
      "Overall Loss: 1.3917295932769775\n",
      "Sentiment Loss: 0.5203456282615662\n",
      "Category Loss: 0.8713840246200562\n",
      "Sentiment Accuracy: 0.800000011920929\n",
      "Category Accuracy: 0.6499999761581421\n"
     ]
    }
   ],
   "source": [
    "# Evaluate the model\n",
    "loss, sentiment_loss, category_loss, sentiment_accuracy, category_accuracy = model.evaluate(test_reviews, [test_sentiments, test_categories])\n",
    "\n",
    "print(f\"Overall Loss: {loss}\")\n",
    "print(f\"Sentiment Loss: {sentiment_loss}\")\n",
    "print(f\"Category Loss: {category_loss}\")\n",
    "print(f\"Sentiment Accuracy: {sentiment_accuracy}\")\n",
    "print(f\"Category Accuracy: {category_accuracy}\")"
   ]
  },
  {
   "cell_type": "markdown",
   "id": "1a1da4e0",
   "metadata": {},
   "source": [
    "## Validation"
   ]
  },
  {
   "cell_type": "code",
   "execution_count": 30,
   "id": "5ed08bd7",
   "metadata": {},
   "outputs": [
    {
     "name": "stdout",
     "output_type": "stream",
     "text": [
      "                                          reviewText  \\\n",
      "0  This was the first time I read Garcia-Aguilera...   \n",
      "1  As with all of Ms. Garcia-Aguilera's books, I ...   \n",
      "2  I've not read any of Ms Aguilera's works befor...   \n",
      "3  This romance novel is right up there with the ...   \n",
      "4  Carolina Garcia Aguilera has done it again.  S...   \n",
      "\n",
      "                                      cleaned_review  \n",
      "0  first time read garciaaguilera came upon name ...  \n",
      "1  ms garciaaguileras books think must read impos...  \n",
      "2  ive read ms aguileras works finished one hot s...  \n",
      "3  romance novel right rest amazing mystery novel...  \n",
      "4  carolina garcia aguilera done shes written ano...  \n"
     ]
    }
   ],
   "source": [
    "excel_path = '/home/xjoex/Desktop/review_text.xlsx'\n",
    "df_loaded = pd.read_excel(excel_path)\n",
    "print(df_loaded.head())"
   ]
  },
  {
   "cell_type": "code",
   "execution_count": 31,
   "id": "bcf51a84",
   "metadata": {},
   "outputs": [],
   "source": [
    "# Preprocess text data from df_loaded\n",
    "reviews_subset = df_loaded['cleaned_review'].tolist()[:200] \n",
    "sequences_subset = tokenizer.texts_to_sequences(reviews_subset)\n",
    "padded_sequences_subset = pad_sequences(sequences_subset, maxlen=max_sequence_length, padding='post')"
   ]
  },
  {
   "cell_type": "code",
   "execution_count": 32,
   "id": "0118f9c6",
   "metadata": {},
   "outputs": [
    {
     "name": "stderr",
     "output_type": "stream",
     "text": [
      "2023-08-22 13:12:23.940902: I tensorflow/core/common_runtime/executor.cc:1197] [/device:CPU:0] (DEBUG INFO) Executor start aborting (this does not indicate an error and you can ignore this message): INVALID_ARGUMENT: You must feed a value for placeholder tensor 'gradients/split_2_grad/concat/split_2/split_dim' with dtype int32\n",
      "\t [[{{node gradients/split_2_grad/concat/split_2/split_dim}}]]\n",
      "2023-08-22 13:12:23.946537: I tensorflow/core/common_runtime/executor.cc:1197] [/device:CPU:0] (DEBUG INFO) Executor start aborting (this does not indicate an error and you can ignore this message): INVALID_ARGUMENT: You must feed a value for placeholder tensor 'gradients/split_grad/concat/split/split_dim' with dtype int32\n",
      "\t [[{{node gradients/split_grad/concat/split/split_dim}}]]\n",
      "2023-08-22 13:12:23.967318: I tensorflow/core/common_runtime/executor.cc:1197] [/device:CPU:0] (DEBUG INFO) Executor start aborting (this does not indicate an error and you can ignore this message): INVALID_ARGUMENT: You must feed a value for placeholder tensor 'gradients/split_1_grad/concat/split_1/split_dim' with dtype int32\n",
      "\t [[{{node gradients/split_1_grad/concat/split_1/split_dim}}]]\n"
     ]
    },
    {
     "name": "stdout",
     "output_type": "stream",
     "text": [
      "7/7 [==============================] - 11s 158ms/step\n"
     ]
    }
   ],
   "source": [
    "sentiment_probs, category_probs = model.predict(padded_sequences_subset)"
   ]
  },
  {
   "cell_type": "code",
   "execution_count": 33,
   "id": "e8241cd3",
   "metadata": {},
   "outputs": [],
   "source": [
    "# Convert probabilities to labels\n",
    "predicted_sentiments = np.argmax(sentiment_probs, axis=1)\n",
    "predicted_categories = np.argmax(category_probs, axis=1)"
   ]
  },
  {
   "cell_type": "code",
   "execution_count": 34,
   "id": "92607e40",
   "metadata": {},
   "outputs": [],
   "source": [
    "reverse_sentiment_mapping = {v: k for k, v in sentiment_mapping.items()}\n",
    "reverse_category_mapping = {v: k for k, v in category_mapping.items()}"
   ]
  },
  {
   "cell_type": "code",
   "execution_count": 35,
   "id": "9bbe1930",
   "metadata": {},
   "outputs": [],
   "source": [
    "predicted_sentiment_labels = [reverse_sentiment_mapping[sentiment] for sentiment in predicted_sentiments]\n",
    "predicted_category_labels = [reverse_category_mapping[category] for category in predicted_categories]"
   ]
  },
  {
   "cell_type": "code",
   "execution_count": 36,
   "id": "31e7d0c6",
   "metadata": {},
   "outputs": [],
   "source": [
    "predictions_df = pd.DataFrame({\n",
    "    'Review': reviews_subset,\n",
    "    'Predicted_Sentiment': predicted_sentiment_labels,\n",
    "    'Predicted_Category': predicted_category_labels\n",
    "})"
   ]
  },
  {
   "cell_type": "code",
   "execution_count": 43,
   "id": "f3aba8ba",
   "metadata": {},
   "outputs": [
    {
     "data": {
      "text/html": [
       "<div>\n",
       "<style scoped>\n",
       "    .dataframe tbody tr th:only-of-type {\n",
       "        vertical-align: middle;\n",
       "    }\n",
       "\n",
       "    .dataframe tbody tr th {\n",
       "        vertical-align: top;\n",
       "    }\n",
       "\n",
       "    .dataframe thead th {\n",
       "        text-align: right;\n",
       "    }\n",
       "</style>\n",
       "<table border=\"1\" class=\"dataframe\">\n",
       "  <thead>\n",
       "    <tr style=\"text-align: right;\">\n",
       "      <th></th>\n",
       "      <th>Review</th>\n",
       "      <th>Predicted_Sentiment</th>\n",
       "      <th>Predicted_Category</th>\n",
       "    </tr>\n",
       "  </thead>\n",
       "  <tbody>\n",
       "    <tr>\n",
       "      <th>0</th>\n",
       "      <td>first time read garciaaguilera came upon name ...</td>\n",
       "      <td>Positive</td>\n",
       "      <td>General</td>\n",
       "    </tr>\n",
       "    <tr>\n",
       "      <th>1</th>\n",
       "      <td>ms garciaaguileras books think must read impos...</td>\n",
       "      <td>Positive</td>\n",
       "      <td>General</td>\n",
       "    </tr>\n",
       "    <tr>\n",
       "      <th>2</th>\n",
       "      <td>ive read ms aguileras works finished one hot s...</td>\n",
       "      <td>Positive</td>\n",
       "      <td>General</td>\n",
       "    </tr>\n",
       "    <tr>\n",
       "      <th>3</th>\n",
       "      <td>romance novel right rest amazing mystery novel...</td>\n",
       "      <td>Positive</td>\n",
       "      <td>General</td>\n",
       "    </tr>\n",
       "    <tr>\n",
       "      <th>4</th>\n",
       "      <td>carolina garcia aguilera done shes written ano...</td>\n",
       "      <td>Positive</td>\n",
       "      <td>General</td>\n",
       "    </tr>\n",
       "    <tr>\n",
       "      <th>5</th>\n",
       "      <td>write mysteriesbut sure write love story one h...</td>\n",
       "      <td>Positive</td>\n",
       "      <td>General</td>\n",
       "    </tr>\n",
       "    <tr>\n",
       "      <th>6</th>\n",
       "      <td>garciaaguilera written book cant put read love...</td>\n",
       "      <td>Positive</td>\n",
       "      <td>General</td>\n",
       "    </tr>\n",
       "    <tr>\n",
       "      <th>7</th>\n",
       "      <td>timing right good book actually long overdue t...</td>\n",
       "      <td>Positive</td>\n",
       "      <td>General</td>\n",
       "    </tr>\n",
       "    <tr>\n",
       "      <th>8</th>\n",
       "      <td>engaging dark reading book could almost feel t...</td>\n",
       "      <td>Positive</td>\n",
       "      <td>General</td>\n",
       "    </tr>\n",
       "    <tr>\n",
       "      <th>9</th>\n",
       "      <td>set amid backdrop new york citys impervious hi...</td>\n",
       "      <td>Positive</td>\n",
       "      <td>General</td>\n",
       "    </tr>\n",
       "  </tbody>\n",
       "</table>\n",
       "</div>"
      ],
      "text/plain": [
       "                                              Review Predicted_Sentiment  \\\n",
       "0  first time read garciaaguilera came upon name ...            Positive   \n",
       "1  ms garciaaguileras books think must read impos...            Positive   \n",
       "2  ive read ms aguileras works finished one hot s...            Positive   \n",
       "3  romance novel right rest amazing mystery novel...            Positive   \n",
       "4  carolina garcia aguilera done shes written ano...            Positive   \n",
       "5  write mysteriesbut sure write love story one h...            Positive   \n",
       "6  garciaaguilera written book cant put read love...            Positive   \n",
       "7  timing right good book actually long overdue t...            Positive   \n",
       "8  engaging dark reading book could almost feel t...            Positive   \n",
       "9  set amid backdrop new york citys impervious hi...            Positive   \n",
       "\n",
       "  Predicted_Category  \n",
       "0            General  \n",
       "1            General  \n",
       "2            General  \n",
       "3            General  \n",
       "4            General  \n",
       "5            General  \n",
       "6            General  \n",
       "7            General  \n",
       "8            General  \n",
       "9            General  "
      ]
     },
     "execution_count": 43,
     "metadata": {},
     "output_type": "execute_result"
    }
   ],
   "source": [
    "predictions_df.head(10)"
   ]
  },
  {
   "cell_type": "code",
   "execution_count": 45,
   "id": "b7fd7c0a",
   "metadata": {},
   "outputs": [
    {
     "name": "stdout",
     "output_type": "stream",
     "text": [
      "Predictions saved to: /home/xjoex/Desktop/predictions.xlsx\n"
     ]
    }
   ],
   "source": [
    "desktop_path = f\"/home/xjoex/Desktop\"  \n",
    "predictions_excel_filename = \"predictions.xlsx\"\n",
    "predictions_excel_path = f\"{desktop_path}/{predictions_excel_filename}\"\n",
    "\n",
    "predictions_df.to_excel(predictions_excel_path, index=False)\n",
    "\n",
    "print(f\"Predictions saved to: {predictions_excel_path}\")"
   ]
  },
  {
   "cell_type": "code",
   "execution_count": null,
   "id": "45205a36",
   "metadata": {},
   "outputs": [],
   "source": []
  }
 ],
 "metadata": {
  "kernelspec": {
   "display_name": "Python 3 (ipykernel)",
   "language": "python",
   "name": "python3"
  },
  "language_info": {
   "codemirror_mode": {
    "name": "ipython",
    "version": 3
   },
   "file_extension": ".py",
   "mimetype": "text/x-python",
   "name": "python",
   "nbconvert_exporter": "python",
   "pygments_lexer": "ipython3",
   "version": "3.10.9"
  }
 },
 "nbformat": 4,
 "nbformat_minor": 5
}
